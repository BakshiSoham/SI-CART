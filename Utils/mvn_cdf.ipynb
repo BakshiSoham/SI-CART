{
 "cells": [
  {
   "cell_type": "code",
   "execution_count": 1,
   "id": "initial_id",
   "metadata": {
    "collapsed": true,
    "ExecuteTime": {
     "end_time": "2024-06-25T20:48:29.309249Z",
     "start_time": "2024-06-25T20:48:28.544177Z"
    }
   },
   "outputs": [],
   "source": [
    "from scipy.stats import multivariate_normal as mvn\n",
    "import numpy as np"
   ]
  },
  {
   "cell_type": "code",
   "execution_count": 2,
   "outputs": [
    {
     "name": "stdout",
     "output_type": "stream",
     "text": [
      "CDF: -inf\n"
     ]
    },
    {
     "name": "stderr",
     "output_type": "stream",
     "text": [
      "/var/folders/6t/y2p8qwk54f7fnkwds613w0040000gs/T/ipykernel_67695/879366036.py:5: RuntimeWarning: divide by zero encountered in log\n",
      "  print(\"CDF:\", np.log(dist.cdf(np.zeros(1000))))\n"
     ]
    }
   ],
   "source": [
    "mean = np.random.multivariate_normal(mean=np.zeros(1000),\n",
    "                                     cov=np.eye(1000))\n",
    "covariance = np.ones((1000, 1000)) * 0.9 + np.eye(1000)*0.1\n",
    "dist = mvn(mean=mean, cov=covariance)\n",
    "print(\"CDF:\", np.log(dist.cdf(np.zeros(1000))))"
   ],
   "metadata": {
    "collapsed": false,
    "ExecuteTime": {
     "end_time": "2024-06-25T20:48:31.779530Z",
     "start_time": "2024-06-25T20:48:29.310960Z"
    }
   },
   "id": "a32956d1258b19a5"
  },
  {
   "cell_type": "code",
   "execution_count": 3,
   "outputs": [
    {
     "name": "stdout",
     "output_type": "stream",
     "text": [
      "CDF: -18.079302295601607\n"
     ]
    }
   ],
   "source": [
    "mean = np.random.multivariate_normal(mean=np.zeros(2),\n",
    "                                     cov=np.eye(2))\n",
    "covariance = np.ones((1000, 1000)) * 0.9 + np.eye(1000)*0.1\n",
    "dist = mvn(mean=np.zeros(100), \n",
    "           cov=np.ones((100, 100)) * 0.1 + np.eye(100)*0.9)\n",
    "print(\"CDF:\", np.log(dist.cdf(np.zeros(100))))"
   ],
   "metadata": {
    "collapsed": false,
    "ExecuteTime": {
     "end_time": "2024-06-25T20:48:39.613332Z",
     "start_time": "2024-06-25T20:48:39.334758Z"
    }
   },
   "id": "2ed813513e09c52c"
  },
  {
   "cell_type": "code",
   "execution_count": 4,
   "outputs": [
    {
     "data": {
      "text/plain": "np.float64(-69.31471805599453)"
     },
     "execution_count": 4,
     "metadata": {},
     "output_type": "execute_result"
    }
   ],
   "source": [
    "np.log(0.5**100)"
   ],
   "metadata": {
    "collapsed": false,
    "ExecuteTime": {
     "end_time": "2024-06-25T20:48:40.674864Z",
     "start_time": "2024-06-25T20:48:40.669076Z"
    }
   },
   "id": "544f4523e06c0c3e"
  },
  {
   "cell_type": "code",
   "execution_count": null,
   "outputs": [],
   "source": [],
   "metadata": {
    "collapsed": false
   },
   "id": "aee80062c38376ff"
  }
 ],
 "metadata": {
  "kernelspec": {
   "display_name": "Python 3",
   "language": "python",
   "name": "python3"
  },
  "language_info": {
   "codemirror_mode": {
    "name": "ipython",
    "version": 2
   },
   "file_extension": ".py",
   "mimetype": "text/x-python",
   "name": "python",
   "nbconvert_exporter": "python",
   "pygments_lexer": "ipython2",
   "version": "2.7.6"
  }
 },
 "nbformat": 4,
 "nbformat_minor": 5
}
