{
 "cells": [
  {
   "cell_type": "code",
   "execution_count": 12,
   "id": "initial_id",
   "metadata": {
    "collapsed": true,
    "ExecuteTime": {
     "end_time": "2024-06-24T02:20:51.945215Z",
     "start_time": "2024-06-24T02:20:51.941384Z"
    }
   },
   "outputs": [],
   "source": [
    "from scipy.stats import multivariate_normal as mvn\n",
    "import numpy as np"
   ]
  },
  {
   "cell_type": "code",
   "execution_count": 16,
   "outputs": [
    {
     "name": "stdout",
     "output_type": "stream",
     "text": [
      "CDF: 0.00026734600122143865\n"
     ]
    }
   ],
   "source": [
    "mean = np.random.multivariate_normal(mean=np.zeros(100) + 1,\n",
    "                                     cov=np.eye(100))\n",
    "covariance = np.ones((100, 100)) * 0.9 + np.eye(100)*0.1\n",
    "dist = mvn(mean=mean, cov=covariance)\n",
    "print(\"CDF:\", dist.cdf(np.zeros(100)))"
   ],
   "metadata": {
    "collapsed": false,
    "ExecuteTime": {
     "end_time": "2024-06-24T02:22:24.302309Z",
     "start_time": "2024-06-24T02:22:23.686917Z"
    }
   },
   "id": "a32956d1258b19a5"
  },
  {
   "cell_type": "code",
   "execution_count": null,
   "outputs": [],
   "source": [],
   "metadata": {
    "collapsed": false
   },
   "id": "2ed813513e09c52c"
  }
 ],
 "metadata": {
  "kernelspec": {
   "display_name": "Python 3",
   "language": "python",
   "name": "python3"
  },
  "language_info": {
   "codemirror_mode": {
    "name": "ipython",
    "version": 2
   },
   "file_extension": ".py",
   "mimetype": "text/x-python",
   "name": "python",
   "nbconvert_exporter": "python",
   "pygments_lexer": "ipython2",
   "version": "2.7.6"
  }
 },
 "nbformat": 4,
 "nbformat_minor": 5
}
