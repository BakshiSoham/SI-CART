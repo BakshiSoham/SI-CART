{
 "cells": [
  {
   "cell_type": "markdown",
   "source": [
    "# Design Doc for Randomized Selective Inference for CART"
   ],
   "metadata": {
    "collapsed": false
   },
   "id": "18c9a2cf2bf406cd"
  },
  {
   "cell_type": "markdown",
   "source": [
    "Yiling Huang (yilingh@umich.edu)"
   ],
   "metadata": {
    "collapsed": false
   },
   "id": "dc3967652354c984"
  },
  {
   "cell_type": "markdown",
   "source": [
    "## The Solver"
   ],
   "metadata": {
    "collapsed": false
   },
   "id": "c829a72c7c1e01d2"
  },
  {
   "cell_type": "markdown",
   "source": [
    "### The `TreeNode` Class"
   ],
   "metadata": {
    "collapsed": false
   },
   "id": "76e5e0ecc2482f68"
  },
  {
   "cell_type": "code",
   "execution_count": null,
   "outputs": [],
   "source": [
    "class TreeNode:\n",
    "    def __init__(self, feature_index=None, threshold=None, pos=None,\n",
    "                 left=None, right=None, value=None, prev_branch=None,\n",
    "                 prev_node=None, membership=None, depth=0, \n",
    "                 randomization=None, sd_rand=1.):\n",
    "        self.feature_index = feature_index  # Index of the feature to split on\n",
    "        self.threshold = threshold  # Threshold value to split on\n",
    "        self.pos = pos  # Position (the ascending order) of the split value\n",
    "        self.left = left  # Left child node\n",
    "        self.right = right  # Right child node\n",
    "        self.value = value  # Value for leaf nodes (mean of target values)\n",
    "        self.prev_branch = prev_branch  # List of (j, s, e) depicting a previous branch\n",
    "        self.prev_node = prev_node\n",
    "        self.membership = membership\n",
    "        self.depth = depth\n",
    "        self.randomization = randomization\n",
    "        self.sd_rand = sd_rand"
   ],
   "metadata": {
    "collapsed": false
   },
   "id": "6c070fb58a3a3d07"
  },
  {
   "cell_type": "markdown",
   "source": [
    "An instantiation of the class `TreeNode` defines a node within a tree.\n",
    "It takes as parameters the following information:\n",
    "1. `feature_index`: the index (j) of the feature involved in splitting the node\n",
    "2. `threshold`: the threshold of covariate value that decides the splitting rule\n",
    "3. `pos`: the split position (s) of the j-th feature\n",
    "4. `left`: the left node of this node\n",
    "5. `right`: the right node of this node\n",
    "6. `value`: the mean Y of this node \n",
    "7. `prev_branch`: previous branch (a list of (j, s, e) pair) that leads to this node\n",
    "8. `prev_node`: previous node to this node\n",
    "9. `membership`: a $n$-dim indicator vector indicating whether each observation belongs to this node\n",
    "10. `depth`: the depth of the node\n",
    "11. `randomization`: a $(n_{node}-1) \\times p$ matrix recording the realizations of randomized noise in each split position\n",
    "12. `sd_rand`: the sd of randomization"
   ],
   "metadata": {
    "collapsed": false
   },
   "id": "bc6ce2ec909679dc"
  },
  {
   "cell_type": "markdown",
   "source": [
    "### The `RegressionTree` class"
   ],
   "metadata": {
    "collapsed": false
   },
   "id": "2a9b26c6b45e3f12"
  },
  {
   "cell_type": "code",
   "execution_count": null,
   "outputs": [],
   "source": [],
   "metadata": {
    "collapsed": false
   },
   "id": "de87b2a181b6ad61"
  }
 ],
 "metadata": {
  "kernelspec": {
   "display_name": "Python 3",
   "language": "python",
   "name": "python3"
  },
  "language_info": {
   "codemirror_mode": {
    "name": "ipython",
    "version": 2
   },
   "file_extension": ".py",
   "mimetype": "text/x-python",
   "name": "python",
   "nbconvert_exporter": "python",
   "pygments_lexer": "ipython2",
   "version": "2.7.6"
  }
 },
 "nbformat": 4,
 "nbformat_minor": 5
}
