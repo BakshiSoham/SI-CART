{
 "cells": [
  {
   "cell_type": "code",
   "execution_count": 1,
   "id": "initial_id",
   "metadata": {
    "collapsed": true,
    "ExecuteTime": {
     "end_time": "2024-09-03T18:48:17.898994Z",
     "start_time": "2024-09-03T18:48:17.308639Z"
    }
   },
   "outputs": [],
   "source": [
    "import numpy as np\n",
    "from CART import RegressionTree\n",
    "from Utils.plotting import  *"
   ]
  },
  {
   "cell_type": "code",
   "execution_count": 2,
   "outputs": [],
   "source": [
    "n = 50\n",
    "p = 5\n",
    "a = 1\n",
    "b = 1\n",
    "X = np.random.normal(size=(n, p))\n",
    "\n",
    "\n",
    "mu = b * ((X[:, 0] <= 0) * (1 + a * (X[:, 1] > 0) + (X[:, 2] * X[:, 1] <= 0)))\n",
    "sd = 1\n",
    "noise_sd = 1\n",
    "y = mu + np.random.normal(size=(n,), scale=sd)\n",
    "# Create and train the regression tree\n",
    "reg_tree = RegressionTree(min_samples_split=10, max_depth=5)\n",
    "reg_tree.fit(X, y, sd = noise_sd)"
   ],
   "metadata": {
    "collapsed": false,
    "ExecuteTime": {
     "end_time": "2024-09-03T18:48:18.443073Z",
     "start_time": "2024-09-03T18:48:18.422818Z"
    }
   },
   "id": "294d00c0dbcde39c"
  },
  {
   "cell_type": "code",
   "execution_count": 3,
   "outputs": [],
   "source": [
    "pval, dist, contrast, norm_contrast, obs_tar, logW, suff, sel_probs = (\n",
    "    reg_tree.condl_split_inference(node=reg_tree.root, \n",
    "                                   ngrid=10000,\n",
    "                                   ncoarse=200,\n",
    "                                   grid_width=15,\n",
    "                                   reduced_dim=5,\n",
    "                                   sd=sd))"
   ],
   "metadata": {
    "collapsed": false,
    "ExecuteTime": {
     "end_time": "2024-09-03T18:48:20.589776Z",
     "start_time": "2024-09-03T18:48:18.959524Z"
    }
   },
   "id": "85038989968dc4f8"
  },
  {
   "cell_type": "code",
   "execution_count": 4,
   "outputs": [
    {
     "data": {
      "text/plain": "np.float64(0.19181982933987826)"
     },
     "execution_count": 4,
     "metadata": {},
     "output_type": "execute_result"
    }
   ],
   "source": [
    "target = norm_contrast.dot(mu)\n",
    "dist.ccdf(theta=target, x=obs_tar)"
   ],
   "metadata": {
    "collapsed": false,
    "ExecuteTime": {
     "end_time": "2024-09-03T18:48:20.594842Z",
     "start_time": "2024-09-03T18:48:20.590555Z"
    }
   },
   "id": "439f2d7aeb080c72"
  },
  {
   "cell_type": "code",
   "execution_count": 54,
   "outputs": [],
   "source": [
    "def root_inference_sim(n = 50, p = 5, a = 1, b = 1, \n",
    "                       sd_y = 2, noise_sd = 1, start=0, end=100):\n",
    "    pivots = []\n",
    "    for i in range(start, end):\n",
    "        print(i, \"th simulation\")\n",
    "        X = np.random.normal(size=(n, p))\n",
    "\n",
    "        mu = b * ((X[:, 0] <= 0) * (1 + a * (X[:, 1] > 0) + (X[:, 2] * X[:, 1] <= 0)))\n",
    "        y = mu + np.random.normal(size=(n,), scale=sd_y)\n",
    "        # Create and train the regression tree\n",
    "        reg_tree = RegressionTree(min_samples_split=10, max_depth=5)\n",
    "        reg_tree.fit(X, y, sd = noise_sd)\n",
    "        \n",
    "        pval, dist, contrast, norm_contrast, obs_tar, logW, suff, sel_probs = (\n",
    "        reg_tree.condl_split_inference(node=reg_tree.root, \n",
    "                                       ngrid=10000,\n",
    "                                       ncoarse=100,\n",
    "                                       grid_width=15,\n",
    "                                       reduced_dim=3,\n",
    "                                       sd=sd))\n",
    "        \n",
    "        target = norm_contrast.dot(mu)\n",
    "        pivot_i = dist.ccdf(theta=target, x=obs_tar)\n",
    "        pivots.append(pivot_i)\n",
    "    \n",
    "    return pivots"
   ],
   "metadata": {
    "collapsed": false,
    "ExecuteTime": {
     "end_time": "2024-09-03T21:27:43.732380Z",
     "start_time": "2024-09-03T21:27:43.728795Z"
    }
   },
   "id": "e6292885ee43cf7"
  },
  {
   "cell_type": "code",
   "execution_count": 55,
   "outputs": [
    {
     "name": "stdout",
     "output_type": "stream",
     "text": [
      "0 th simulation\n",
      "1 th simulation\n",
      "2 th simulation\n",
      "3 th simulation\n",
      "4 th simulation\n",
      "5 th simulation\n",
      "6 th simulation\n",
      "7 th simulation\n",
      "8 th simulation\n",
      "9 th simulation\n",
      "10 th simulation\n",
      "11 th simulation\n",
      "12 th simulation\n",
      "13 th simulation\n",
      "14 th simulation\n",
      "15 th simulation\n",
      "16 th simulation\n",
      "17 th simulation\n",
      "18 th simulation\n",
      "19 th simulation\n",
      "20 th simulation\n",
      "21 th simulation\n",
      "22 th simulation\n",
      "23 th simulation\n",
      "24 th simulation\n",
      "25 th simulation\n",
      "26 th simulation\n",
      "27 th simulation\n",
      "28 th simulation\n",
      "29 th simulation\n",
      "30 th simulation\n",
      "31 th simulation\n",
      "32 th simulation\n",
      "33 th simulation\n",
      "34 th simulation\n",
      "35 th simulation\n",
      "36 th simulation\n",
      "37 th simulation\n",
      "38 th simulation\n",
      "39 th simulation\n",
      "40 th simulation\n",
      "41 th simulation\n",
      "42 th simulation\n",
      "43 th simulation\n",
      "44 th simulation\n",
      "45 th simulation\n",
      "46 th simulation\n",
      "47 th simulation\n",
      "48 th simulation\n",
      "49 th simulation\n",
      "50 th simulation\n",
      "51 th simulation\n",
      "52 th simulation\n",
      "53 th simulation\n",
      "54 th simulation\n",
      "55 th simulation\n",
      "56 th simulation\n",
      "57 th simulation\n",
      "58 th simulation\n",
      "59 th simulation\n",
      "60 th simulation\n",
      "61 th simulation\n",
      "62 th simulation\n",
      "63 th simulation\n",
      "64 th simulation\n",
      "65 th simulation\n",
      "66 th simulation\n",
      "67 th simulation\n",
      "68 th simulation\n",
      "69 th simulation\n",
      "70 th simulation\n",
      "71 th simulation\n",
      "72 th simulation\n",
      "73 th simulation\n",
      "74 th simulation\n",
      "75 th simulation\n",
      "76 th simulation\n",
      "77 th simulation\n",
      "78 th simulation\n",
      "79 th simulation\n",
      "80 th simulation\n",
      "81 th simulation\n",
      "82 th simulation\n",
      "83 th simulation\n",
      "84 th simulation\n",
      "85 th simulation\n",
      "86 th simulation\n",
      "87 th simulation\n",
      "88 th simulation\n",
      "89 th simulation\n",
      "90 th simulation\n",
      "91 th simulation\n",
      "92 th simulation\n",
      "93 th simulation\n",
      "94 th simulation\n",
      "95 th simulation\n",
      "96 th simulation\n",
      "97 th simulation\n",
      "98 th simulation\n",
      "99 th simulation\n"
     ]
    }
   ],
   "source": [
    "pivots_50 = root_inference_sim(start=0, end=100)"
   ],
   "metadata": {
    "collapsed": false,
    "ExecuteTime": {
     "end_time": "2024-09-03T21:29:46.358530Z",
     "start_time": "2024-09-03T21:27:44.176207Z"
    }
   },
   "id": "870c7c8768407221"
  },
  {
   "cell_type": "code",
   "execution_count": 56,
   "outputs": [
    {
     "data": {
      "text/plain": "(array([14., 13.,  8., 15., 12.,  7.,  8.,  8.,  5., 10.]),\n array([9.29034163e-06, 1.00008361e-01, 2.00007432e-01, 3.00006502e-01,\n        4.00005573e-01, 5.00004643e-01, 6.00003714e-01, 7.00002785e-01,\n        8.00001855e-01, 9.00000926e-01, 9.99999996e-01]),\n <BarContainer object of 10 artists>)"
     },
     "execution_count": 56,
     "metadata": {},
     "output_type": "execute_result"
    },
    {
     "data": {
      "text/plain": "<Figure size 640x480 with 1 Axes>",
      "image/png": "[encoded data removed]"
     },
     "metadata": {},
     "output_type": "display_data"
    }
   ],
   "source": [
    "plt.hist(pivots_50)"
   ],
   "metadata": {
    "collapsed": false,
    "ExecuteTime": {
     "end_time": "2024-09-03T21:29:48.193491Z",
     "start_time": "2024-09-03T21:29:48.134101Z"
    }
   },
   "id": "eb12f3933cc998d6"
  },
  {
   "cell_type": "code",
   "execution_count": 57,
   "outputs": [
    {
     "data": {
      "text/plain": "[np.float64(0.7181597880225121),\n np.float64(0.7538714728578886),\n np.float64(0.1890407335955834),\n np.float64(0.6061890833517152),\n np.float64(0.14133083536347577),\n np.float64(0.3585829480285227),\n np.float64(0.3831309620641362),\n np.float64(0.9179188065401384),\n np.float64(0.4298515405153078),\n np.float64(0.4202671795650394),\n np.float64(0.27921177367004557),\n np.float64(0.5446751765574805),\n np.float64(0.871757575030882),\n np.float64(0.1912525270726545),\n np.float64(0.24469983753097882),\n np.float64(0.360828897782253),\n np.float64(0.11562901774193031),\n np.float64(0.6110871717993991),\n np.float64(0.37590061191744895),\n np.float64(0.4219529639888584),\n np.float64(0.424434475309312),\n np.float64(1.0138999850065465e-05),\n np.float64(0.9771969752410954),\n np.float64(0.5467866979205678),\n np.float64(0.40595686825056015),\n np.float64(0.2902705411936038),\n np.float64(0.422596426044465),\n np.float64(0.16452763402353754),\n np.float64(0.020796089458149484),\n np.float64(0.5672965030200833),\n np.float64(0.008519836841578726),\n np.float64(0.008367934897715604),\n np.float64(0.38716720785361364),\n np.float64(0.26077637290371225),\n np.float64(0.403216058780277),\n np.float64(0.35419417315837565),\n np.float64(0.47652760373954034),\n np.float64(0.9099951473452306),\n np.float64(0.44060646293113026),\n np.float64(0.7649459880136982),\n np.float64(0.6510621156517169),\n np.float64(0.31157962445054616),\n np.float64(0.8421497489663988),\n np.float64(0.14353478954109036),\n np.float64(0.6267932493225463),\n np.float64(0.16802845928098756),\n np.float64(0.40805392154200226),\n np.float64(0.9780815946341332),\n np.float64(0.2415002887808594),\n np.float64(9.290341627139113e-06),\n np.float64(0.9505894715475515),\n np.float64(0.9999999963520619),\n np.float64(0.38948462173788356),\n np.float64(0.3994033224054161),\n np.float64(0.7183003756073724),\n np.float64(0.6018416493427818),\n np.float64(0.5602725026160715),\n np.float64(0.18449657248110618),\n np.float64(0.3850009879674477),\n np.float64(0.8137706812299254),\n np.float64(0.0005617216061728394),\n np.float64(0.6160548743129837),\n np.float64(0.06627230822790205),\n np.float64(0.25356485724631367),\n np.float64(0.004529693053874775),\n np.float64(0.1819678222618014),\n np.float64(0.05763830053114427),\n np.float64(0.531361825211482),\n np.float64(0.10734461730136748),\n np.float64(0.0007367443197557054),\n np.float64(0.23890635273192),\n np.float64(0.9139315918273114),\n np.float64(0.4591947940263041),\n np.float64(0.9527067702185678),\n np.float64(0.30532218984723275),\n np.float64(0.3121224717787102),\n np.float64(0.7693328961012802),\n np.float64(0.34517560387663226),\n np.float64(0.011611793178608972),\n np.float64(0.7531106377648903),\n np.float64(0.32793333554318727),\n np.float64(0.5680211149222792),\n np.float64(0.13849007775252054),\n np.float64(0.7985080311079444),\n np.float64(0.16199823624721615),\n np.float64(0.04066470984276306),\n np.float64(7.982602003961071e-05),\n np.float64(0.9227730142734626),\n np.float64(0.18662203472699154),\n np.float64(0.2660721899432717),\n np.float64(0.41586891159724776),\n np.float64(0.7014142817973634),\n np.float64(0.6039069778131377),\n np.float64(0.8744252182841583),\n np.float64(0.8314994408809341),\n np.float64(0.5157525614528333),\n np.float64(0.0532366527625341),\n np.float64(0.9559213998665672),\n np.float64(0.37962994702418895),\n np.float64(0.6053265043710525)]"
     },
     "execution_count": 57,
     "metadata": {},
     "output_type": "execute_result"
    }
   ],
   "source": [
    "pivots_50"
   ],
   "metadata": {
    "collapsed": false,
    "ExecuteTime": {
     "end_time": "2024-09-03T21:29:54.411423Z",
     "start_time": "2024-09-03T21:29:54.406775Z"
    }
   },
   "id": "5a7b5347f0a72539"
  },
  {
   "cell_type": "code",
   "execution_count": 38,
   "outputs": [],
   "source": [],
   "metadata": {
    "collapsed": false,
    "ExecuteTime": {
     "end_time": "2024-09-03T20:44:17.660623Z",
     "start_time": "2024-09-03T20:44:17.649380Z"
    }
   },
   "id": "b40563f3053a3032"
  },
  {
   "cell_type": "code",
   "execution_count": null,
   "outputs": [],
   "source": [],
   "metadata": {
    "collapsed": false
   },
   "id": "62b3befea8cc4150"
  }
 ],
 "metadata": {
  "kernelspec": {
   "display_name": "Python 3",
   "language": "python",
   "name": "python3"
  },
  "language_info": {
   "codemirror_mode": {
    "name": "ipython",
    "version": 2
   },
   "file_extension": ".py",
   "mimetype": "text/x-python",
   "name": "python",
   "nbconvert_exporter": "python",
   "pygments_lexer": "ipython2",
   "version": "2.7.6"
  }
 },
 "nbformat": 4,
 "nbformat_minor": 5
}
