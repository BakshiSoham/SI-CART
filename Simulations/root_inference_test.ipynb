{
 "cells": [
  {
   "cell_type": "code",
   "execution_count": 3,
   "id": "initial_id",
   "metadata": {
    "collapsed": true,
    "ExecuteTime": {
     "end_time": "2024-09-04T17:20:43.066860Z",
     "start_time": "2024-09-04T17:20:42.313063Z"
    }
   },
   "outputs": [],
   "source": [
    "import numpy as np\n",
    "from CART import RegressionTree\n",
    "from Utils.plotting import  *"
   ]
  },
  {
   "cell_type": "code",
   "execution_count": 8,
   "outputs": [],
   "source": [
    "def root_inference_sim(n = 50, p = 5, a = 1, b = 1, \n",
    "                       sd_y = 1, noise_sd = 1, start=0, end=100):\n",
    "    pivots = []\n",
    "    for i in range(start, end):\n",
    "        print(i, \"th simulation\")\n",
    "        X = np.random.normal(size=(n, p))\n",
    "\n",
    "        mu = b * ((X[:, 0] <= 0) * (1 + a * (X[:, 1] > 0) + (X[:, 2] * X[:, 1] <= 0)))\n",
    "        y = mu + np.random.normal(size=(n,), scale=sd_y)\n",
    "        # Create and train the regression tree\n",
    "        reg_tree = RegressionTree(min_samples_split=10, max_depth=5)\n",
    "        reg_tree.fit(X, y, sd = noise_sd)\n",
    "        \n",
    "        pval, dist, contrast, norm_contrast, obs_tar, logW, suff, sel_probs = (\n",
    "        reg_tree.condl_split_inference(node=reg_tree.root, \n",
    "                                       ngrid=10000,\n",
    "                                       ncoarse=100,\n",
    "                                       grid_width=15,\n",
    "                                       reduced_dim=3,\n",
    "                                       sd=sd_y))\n",
    "        \n",
    "        target = norm_contrast.dot(mu)\n",
    "        pivot_i = dist.ccdf(theta=target, x=obs_tar)\n",
    "        pivots.append(pivot_i)\n",
    "    \n",
    "    return pivots"
   ],
   "metadata": {
    "collapsed": false,
    "ExecuteTime": {
     "end_time": "2024-09-04T17:22:26.531687Z",
     "start_time": "2024-09-04T17:22:26.522065Z"
    }
   },
   "id": "e6292885ee43cf7"
  },
  {
   "cell_type": "code",
   "execution_count": 12,
   "outputs": [
    {
     "name": "stdout",
     "output_type": "stream",
     "text": [
      "0 th simulation\n",
      "1 th simulation\n",
      "2 th simulation\n",
      "3 th simulation\n",
      "4 th simulation\n",
      "5 th simulation\n",
      "6 th simulation\n",
      "7 th simulation\n",
      "8 th simulation\n",
      "9 th simulation\n",
      "10 th simulation\n",
      "11 th simulation\n",
      "12 th simulation\n",
      "13 th simulation\n",
      "14 th simulation\n",
      "15 th simulation\n",
      "16 th simulation\n",
      "17 th simulation\n",
      "18 th simulation\n",
      "19 th simulation\n",
      "20 th simulation\n",
      "21 th simulation\n",
      "22 th simulation\n",
      "23 th simulation\n",
      "24 th simulation\n",
      "25 th simulation\n",
      "26 th simulation\n",
      "27 th simulation\n",
      "28 th simulation\n",
      "29 th simulation\n",
      "30 th simulation\n",
      "31 th simulation\n",
      "32 th simulation\n",
      "33 th simulation\n",
      "34 th simulation\n",
      "35 th simulation\n",
      "36 th simulation\n",
      "37 th simulation\n",
      "38 th simulation\n",
      "39 th simulation\n",
      "40 th simulation\n",
      "41 th simulation\n",
      "42 th simulation\n",
      "43 th simulation\n",
      "44 th simulation\n",
      "45 th simulation\n",
      "46 th simulation\n",
      "47 th simulation\n",
      "48 th simulation\n",
      "49 th simulation\n",
      "50 th simulation\n",
      "51 th simulation\n",
      "52 th simulation\n",
      "53 th simulation\n",
      "54 th simulation\n",
      "55 th simulation\n",
      "56 th simulation\n",
      "57 th simulation\n",
      "58 th simulation\n",
      "59 th simulation\n",
      "60 th simulation\n",
      "61 th simulation\n",
      "62 th simulation\n",
      "63 th simulation\n",
      "64 th simulation\n",
      "65 th simulation\n",
      "66 th simulation\n",
      "67 th simulation\n",
      "68 th simulation\n",
      "69 th simulation\n",
      "70 th simulation\n",
      "71 th simulation\n",
      "72 th simulation\n",
      "73 th simulation\n",
      "74 th simulation\n",
      "75 th simulation\n",
      "76 th simulation\n",
      "77 th simulation\n",
      "78 th simulation\n",
      "79 th simulation\n",
      "80 th simulation\n",
      "81 th simulation\n",
      "82 th simulation\n",
      "83 th simulation\n",
      "84 th simulation\n",
      "85 th simulation\n",
      "86 th simulation\n",
      "87 th simulation\n",
      "88 th simulation\n",
      "89 th simulation\n",
      "90 th simulation\n",
      "91 th simulation\n",
      "92 th simulation\n",
      "93 th simulation\n",
      "94 th simulation\n",
      "95 th simulation\n",
      "96 th simulation\n",
      "97 th simulation\n",
      "98 th simulation\n",
      "99 th simulation\n",
      "100 th simulation\n",
      "101 th simulation\n",
      "102 th simulation\n",
      "103 th simulation\n",
      "104 th simulation\n",
      "105 th simulation\n",
      "106 th simulation\n",
      "107 th simulation\n",
      "108 th simulation\n",
      "109 th simulation\n",
      "110 th simulation\n",
      "111 th simulation\n",
      "112 th simulation\n",
      "113 th simulation\n",
      "114 th simulation\n",
      "115 th simulation\n",
      "116 th simulation\n",
      "117 th simulation\n",
      "118 th simulation\n",
      "119 th simulation\n",
      "120 th simulation\n",
      "121 th simulation\n",
      "122 th simulation\n",
      "123 th simulation\n",
      "124 th simulation\n",
      "125 th simulation\n",
      "126 th simulation\n",
      "127 th simulation\n",
      "128 th simulation\n",
      "129 th simulation\n",
      "130 th simulation\n",
      "131 th simulation\n",
      "132 th simulation\n",
      "133 th simulation\n",
      "134 th simulation\n",
      "135 th simulation\n",
      "136 th simulation\n",
      "137 th simulation\n",
      "138 th simulation\n",
      "139 th simulation\n",
      "140 th simulation\n",
      "141 th simulation\n",
      "142 th simulation\n",
      "143 th simulation\n",
      "144 th simulation\n",
      "145 th simulation\n",
      "146 th simulation\n",
      "147 th simulation\n",
      "148 th simulation\n",
      "149 th simulation\n",
      "150 th simulation\n",
      "151 th simulation\n",
      "152 th simulation\n",
      "153 th simulation\n",
      "154 th simulation\n",
      "155 th simulation\n",
      "156 th simulation\n",
      "157 th simulation\n",
      "158 th simulation\n",
      "159 th simulation\n",
      "160 th simulation\n",
      "161 th simulation\n",
      "162 th simulation\n",
      "163 th simulation\n",
      "164 th simulation\n",
      "165 th simulation\n",
      "166 th simulation\n",
      "167 th simulation\n",
      "168 th simulation\n",
      "169 th simulation\n",
      "170 th simulation\n",
      "171 th simulation\n",
      "172 th simulation\n",
      "173 th simulation\n",
      "174 th simulation\n",
      "175 th simulation\n",
      "176 th simulation\n",
      "177 th simulation\n",
      "178 th simulation\n",
      "179 th simulation\n",
      "180 th simulation\n",
      "181 th simulation\n",
      "182 th simulation\n",
      "183 th simulation\n",
      "184 th simulation\n",
      "185 th simulation\n",
      "186 th simulation\n",
      "187 th simulation\n",
      "188 th simulation\n",
      "189 th simulation\n",
      "190 th simulation\n",
      "191 th simulation\n",
      "192 th simulation\n",
      "193 th simulation\n",
      "194 th simulation\n",
      "195 th simulation\n",
      "196 th simulation\n",
      "197 th simulation\n",
      "198 th simulation\n",
      "199 th simulation\n"
     ]
    }
   ],
   "source": [
    "pivots_50 = root_inference_sim(start=0, end=200)"
   ],
   "metadata": {
    "collapsed": false,
    "ExecuteTime": {
     "end_time": "2024-09-04T17:26:43.714918Z",
     "start_time": "2024-09-04T17:24:02.700759Z"
    }
   },
   "id": "870c7c8768407221"
  },
  {
   "cell_type": "code",
   "execution_count": 13,
   "outputs": [
    {
     "data": {
      "text/plain": "(array([20., 18., 13., 23., 32., 13., 19., 23., 20., 19.]),\n array([8.87293881e-09, 9.88938897e-02, 1.97787771e-01, 2.96681651e-01,\n        3.95575532e-01, 4.94469413e-01, 5.93363294e-01, 6.92257175e-01,\n        7.91151056e-01, 8.90044937e-01, 9.88938818e-01]),\n <BarContainer object of 10 artists>)"
     },
     "execution_count": 13,
     "metadata": {},
     "output_type": "execute_result"
    },
    {
     "data": {
      "text/plain": "<Figure size 640x480 with 1 Axes>",
      "image/png": "[encoded data removed]"
     },
     "metadata": {},
     "output_type": "display_data"
    }
   ],
   "source": [
    "plt.hist(pivots_50)"
   ],
   "metadata": {
    "collapsed": false,
    "ExecuteTime": {
     "end_time": "2024-09-04T17:31:19.190841Z",
     "start_time": "2024-09-04T17:31:19.116556Z"
    }
   },
   "id": "eb12f3933cc998d6"
  },
  {
   "cell_type": "code",
   "execution_count": 14,
   "outputs": [
    {
     "data": {
      "text/plain": "[np.float64(0.6155019716674324),\n np.float64(0.2577695322909847),\n np.float64(0.14888818766524173),\n np.float64(0.4702742090636954),\n np.float64(0.38706756198007647),\n np.float64(0.9554932872496233),\n np.float64(0.13372076615324216),\n np.float64(0.4783429036417592),\n np.float64(0.24630738352571083),\n np.float64(0.14038248545847315),\n np.float64(0.24113685092768172),\n np.float64(0.030225596292228117),\n np.float64(0.7822080959226341),\n np.float64(0.29741454661027106),\n np.float64(0.1145835488081539),\n np.float64(0.02406585329035313),\n np.float64(0.0004219245302598596),\n np.float64(0.7463876639954297),\n np.float64(0.45490602713242273),\n np.float64(0.38026693333034883),\n np.float64(0.6046395984712539),\n np.float64(0.9419385219621903),\n np.float64(0.40687377231012944),\n np.float64(0.007299488910980264),\n np.float64(0.766388347328404),\n np.float64(0.7860156338379704),\n np.float64(0.4896337533622014),\n np.float64(0.7139227943253497),\n np.float64(0.4628994562388192),\n np.float64(0.12726854039282845),\n np.float64(0.3444063151958125),\n np.float64(0.3448239733658663),\n np.float64(0.7246244454337051),\n np.float64(0.444912077983759),\n np.float64(0.03648083530237096),\n np.float64(0.8987574409892295),\n np.float64(0.8574174916232278),\n np.float64(0.34470014092409224),\n np.float64(0.36014233085046693),\n np.float64(0.5330188321567229),\n np.float64(0.6776743532836073),\n np.float64(0.891086610429685),\n np.float64(0.8743488696418917),\n np.float64(0.7421643554381225),\n np.float64(0.36232456197211454),\n np.float64(0.42974370197497647),\n np.float64(0.7578134101056105),\n np.float64(0.46377104396464136),\n np.float64(0.6088387574537413),\n np.float64(0.5462428821695428),\n np.float64(0.46709621888432185),\n np.float64(0.10544132170238245),\n np.float64(0.44035652678680215),\n np.float64(0.0029360185479232943),\n np.float64(0.1582897945242715),\n np.float64(0.6882082514465069),\n np.float64(0.26459414205914283),\n np.float64(0.9313223548042712),\n np.float64(0.4361359364354699),\n np.float64(0.7772930703580583),\n np.float64(0.3265587128244678),\n np.float64(0.47255078979069254),\n np.float64(0.1214083533122381),\n np.float64(0.18472523826891613),\n np.float64(0.6459745783759339),\n np.float64(0.5829013468900746),\n np.float64(0.09063705394855999),\n np.float64(0.7897639033953749),\n np.float64(0.6770971079035194),\n np.float64(0.6146052772787808),\n np.float64(0.1113029388202821),\n np.float64(0.6475393870870911),\n np.float64(0.5949452796800905),\n np.float64(0.8450639396145915),\n np.float64(0.7160245647290691),\n np.float64(0.41055628176668124),\n np.float64(0.1547757442550542),\n np.float64(0.6955929455641442),\n np.float64(0.5776437720173451),\n np.float64(0.25647217727130606),\n np.float64(0.3712496863486432),\n np.float64(0.43810588674559287),\n np.float64(0.8538184517569581),\n np.float64(0.8261447577114768),\n np.float64(0.6536067395649304),\n np.float64(0.4118526406443374),\n np.float64(0.39037190363194924),\n np.float64(0.7271473688548963),\n np.float64(0.23707447650667104),\n np.float64(0.9889388175519586),\n np.float64(0.00336149447832192),\n np.float64(0.4623924486077537),\n np.float64(0.8988202358476647),\n np.float64(0.48606302127037565),\n np.float64(0.4919853728132232),\n np.float64(0.19281676356833863),\n np.float64(0.5562531054308151),\n np.float64(0.48796570969616027),\n np.float64(0.728852144713587),\n np.float64(0.7425270254265256),\n np.float64(0.3163870730430061),\n np.float64(0.2822856263100185),\n np.float64(0.8775017899515062),\n np.float64(0.5448076496155535),\n np.float64(0.9593333127523724),\n np.float64(0.299534251802707),\n np.float64(0.2584858314111425),\n np.float64(0.8047394862535491),\n np.float64(0.5388126218347589),\n np.float64(0.4769840581708945),\n np.float64(0.3855545195433633),\n np.float64(0.23776999611223246),\n np.float64(0.9433794690141292),\n np.float64(0.3360432604923317),\n np.float64(0.47071768699080935),\n np.float64(0.9689813506577851),\n np.float64(0.3673461057494412),\n np.float64(0.7707975528171648),\n np.float64(0.013014466499527486),\n np.float64(0.6243403929960959),\n np.float64(0.646393004089048),\n np.float64(0.9508254983635794),\n np.float64(0.9293823458743882),\n np.float64(0.7404753948160138),\n np.float64(0.550628687006703),\n np.float64(0.8701951046230196),\n np.float64(0.8501687067283161),\n np.float64(0.7321025485661471),\n np.float64(0.8602230580674948),\n np.float64(0.7418808904908873),\n np.float64(0.5998688808695833),\n np.float64(0.9392817023080879),\n np.float64(0.3165684887492725),\n np.float64(0.17242923840824537),\n np.float64(0.3178523973794436),\n np.float64(0.5079046498677018),\n np.float64(0.6026281128544936),\n np.float64(0.8610156416229309),\n np.float64(0.9406569673318901),\n np.float64(0.21864455179329884),\n np.float64(0.3068146061889929),\n np.float64(0.48253581247710525),\n np.float64(0.9085294918285993),\n np.float64(0.501048290171901),\n np.float64(0.4752770467335856),\n np.float64(0.35583331437376453),\n np.float64(0.13542384089729145),\n np.float64(0.7771974857114293),\n np.float64(8.87293881032944e-09),\n np.float64(0.006504849805707301),\n np.float64(0.7251015404476121),\n np.float64(0.450697919793683),\n np.float64(0.9197641098308482),\n np.float64(0.02492882930416235),\n np.float64(0.33858329007596144),\n np.float64(0.6400725604731854),\n np.float64(0.4912951346654154),\n np.float64(0.8239755450518125),\n np.float64(0.48239943367397187),\n np.float64(0.23846977501747907),\n np.float64(0.8264949526861464),\n np.float64(0.44475173531107287),\n np.float64(0.8416414147624975),\n np.float64(0.001906175257588506),\n np.float64(0.033981125350633926),\n np.float64(0.04126310694950146),\n np.float64(0.013819394023586225),\n np.float64(0.6351639360720486),\n np.float64(0.08254964760283486),\n np.float64(0.3134048274742991),\n np.float64(0.5423661557364495),\n np.float64(0.2226168955998541),\n np.float64(0.8796715121631619),\n np.float64(0.15646860171032678),\n np.float64(0.9019468301485162),\n np.float64(0.7555184994877031),\n np.float64(0.501923356431881),\n np.float64(0.8833512446928901),\n np.float64(0.398482198687242),\n np.float64(0.04524222315209889),\n np.float64(0.6100025688202343),\n np.float64(0.38312699533827604),\n np.float64(0.46360025272138355),\n np.float64(0.80831408041468),\n np.float64(0.5405077693961795),\n np.float64(0.6249321823713934),\n np.float64(0.7187447648331006),\n np.float64(0.8332917938039615),\n np.float64(0.8561235922897331),\n np.float64(5.287689286306912e-05),\n np.float64(0.855985997539913),\n np.float64(0.4694039090887326),\n np.float64(0.04170893248420962),\n np.float64(0.9639394984470913),\n np.float64(0.151210099554856),\n np.float64(0.11234318853162026),\n np.float64(0.2955285102613556),\n np.float64(0.9757282538553775),\n np.float64(0.47652014789191066),\n np.float64(0.14446822176586505)]"
     },
     "execution_count": 14,
     "metadata": {},
     "output_type": "execute_result"
    }
   ],
   "source": [
    "pivots_50"
   ],
   "metadata": {
    "collapsed": false,
    "ExecuteTime": {
     "end_time": "2024-09-04T17:31:19.570452Z",
     "start_time": "2024-09-04T17:31:19.564840Z"
    }
   },
   "id": "5a7b5347f0a72539"
  },
  {
   "cell_type": "code",
   "execution_count": 38,
   "outputs": [],
   "source": [],
   "metadata": {
    "collapsed": false,
    "ExecuteTime": {
     "end_time": "2024-09-03T20:44:17.660623Z",
     "start_time": "2024-09-03T20:44:17.649380Z"
    }
   },
   "id": "b40563f3053a3032"
  },
  {
   "cell_type": "code",
   "execution_count": null,
   "outputs": [],
   "source": [],
   "metadata": {
    "collapsed": false
   },
   "id": "62b3befea8cc4150"
  }
 ],
 "metadata": {
  "kernelspec": {
   "display_name": "Python 3",
   "language": "python",
   "name": "python3"
  },
  "language_info": {
   "codemirror_mode": {
    "name": "ipython",
    "version": 2
   },
   "file_extension": ".py",
   "mimetype": "text/x-python",
   "name": "python",
   "nbconvert_exporter": "python",
   "pygments_lexer": "ipython2",
   "version": "2.7.6"
  }
 },
 "nbformat": 4,
 "nbformat_minor": 5
}
