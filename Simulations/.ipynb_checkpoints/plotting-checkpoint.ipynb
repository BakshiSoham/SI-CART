{
 "cells": [
  {
   "cell_type": "code",
   "execution_count": 1,
   "id": "f7237241-b3ca-47d1-855b-ffbc04ea0fb3",
   "metadata": {
    "scrolled": true
   },
   "outputs": [],
   "source": [
    "import joblib\n",
    "import matplotlib.pyplot as plt"
   ]
  },
  {
   "cell_type": "code",
   "execution_count": null,
   "id": "c4b9f555-6853-4345-baa4-152cfbc36f53",
   "metadata": {},
   "outputs": [],
   "source": []
  },
  {
   "cell_type": "code",
   "execution_count": 8,
   "id": "f0c31191-c63c-48f3-8f5a-b3d8d02f52f5",
   "metadata": {},
   "outputs": [],
   "source": [
    "dir_list = [\"root_inference\" + str(i*100) + \"_\" + str(i*100 + 100) + \".pkl\" for i in range(10)]"
   ]
  },
  {
   "cell_type": "code",
   "execution_count": 9,
   "id": "f9d76315-f4c6-4a9c-b4ea-92b8c861bbf9",
   "metadata": {},
   "outputs": [],
   "source": [
    "pivots = []\n",
    "for d in dir_list:\n",
    "    pivots+= (joblib.load(d))"
   ]
  },
  {
   "cell_type": "code",
   "execution_count": 10,
   "id": "7df4e6cb-f6e9-4b08-8fe9-872da8700d4d",
   "metadata": {},
   "outputs": [
    {
     "data": {
      "text/plain": [
       "1000"
      ]
     },
     "execution_count": 10,
     "metadata": {},
     "output_type": "execute_result"
    }
   ],
   "source": [
    "len(pivots)"
   ]
  },
  {
   "cell_type": "code",
   "execution_count": 11,
   "id": "42db64b9-dee4-47bc-afaa-a2f8ab589e48",
   "metadata": {},
   "outputs": [
    {
     "data": {
      "text/plain": [
       "(array([235.,  90.,  60.,  61.,  43.,  63.,  63.,  85.,  77., 223.]),\n",
       " array([2.42801616e-55, 1.00000000e-01, 2.00000000e-01, 3.00000000e-01,\n",
       "        4.00000000e-01, 5.00000000e-01, 6.00000000e-01, 7.00000000e-01,\n",
       "        8.00000000e-01, 9.00000000e-01, 1.00000000e+00]),\n",
       " <BarContainer object of 10 artists>)"
      ]
     },
     "execution_count": 11,
     "metadata": {},
     "output_type": "execute_result"
    },
    {
     "data": {
      "image/png": "[encoded data removed]",
      "text/plain": [
       "<Figure size 640x480 with 1 Axes>"
      ]
     },
     "metadata": {},
     "output_type": "display_data"
    }
   ],
   "source": [
    "plt.hist(pivots)"
   ]
  },
  {
   "cell_type": "code",
   "execution_count": null,
   "id": "91ba129e-5618-4db3-927e-2529af30b608",
   "metadata": {},
   "outputs": [],
   "source": []
  }
 ],
 "metadata": {
  "kernelspec": {
   "display_name": "Python 3 (ipykernel)",
   "language": "python",
   "name": "python3"
  },
  "language_info": {
   "codemirror_mode": {
    "name": "ipython",
    "version": 3
   },
   "file_extension": ".py",
   "mimetype": "text/x-python",
   "name": "python",
   "nbconvert_exporter": "python",
   "pygments_lexer": "ipython3",
   "version": "3.10.9"
  }
 },
 "nbformat": 4,
 "nbformat_minor": 5
}
