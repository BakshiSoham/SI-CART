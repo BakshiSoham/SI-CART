{
 "cells": [
  {
   "cell_type": "code",
   "execution_count": 1,
   "id": "initial_id",
   "metadata": {
    "collapsed": true,
    "ExecuteTime": {
     "end_time": "2024-10-31T02:19:27.351030Z",
     "start_time": "2024-10-31T02:19:25.699673Z"
    }
   },
   "outputs": [],
   "source": [
    "import time\n",
    "\n",
    "import matplotlib.pyplot as plt\n",
    "import numpy as np\n",
    "import pandas as pd\n",
    "\n",
    "from Utils.discrete_family import discrete_family\n",
    "from Utils.barrier_affine import solve_barrier_tree, solve_barrier_tree_nonneg, solve_barrier_tree_box_PGD\n",
    "from CART import RegressionTree\n",
    "from scipy.interpolate import interp1d\n",
    "from scipy.stats import multivariate_normal as mvn\n",
    "from Utils.plotting import  *\n",
    "from Utils.simulation_helpers import *\n",
    "from scipy.stats import norm as ndist\n",
    "\n",
    "# For tree-values\n",
    "import rpy2.robjects.packages as rpackages\n",
    "from rpy2.robjects.vectors import StrVector\n",
    "\n",
    "# Select a CRAN mirror to download from\n",
    "utils = rpackages.importr('utils')\n",
    "utils.chooseCRANmirror(ind=1)  # Select the first mirror\n",
    "\n",
    "# Install 'remotes' if it's not already installed\n",
    "if not rpackages.isinstalled('remotes'):\n",
    "    utils.install_packages(StrVector(('remotes',)))\n",
    "\n",
    "import rpy2.robjects as ro\n",
    "\n",
    "from rpy2.robjects.packages import importr\n",
    "from rpy2.robjects import pandas2ri\n",
    "from rpy2.robjects import numpy2ri\n",
    "%load_ext rpy2.ipython"
   ]
  },
  {
   "cell_type": "code",
   "execution_count": 2,
   "outputs": [],
   "source": [
    "# Activate automatic conversion between pandas and R data frames\n",
    "pandas2ri.activate()\n",
    "\n",
    "# Import R libraries\n",
    "treevalues = importr('treevalues')\n",
    "rpart = importr('rpart')\n",
    "\n",
    "def tree_values_inference(X, y, mu, sd_y, max_depth=5, level=0.1,\n",
    "                          X_test=None):\n",
    "    # Convert the NumPy matrix to an R matrix\n",
    "    X_r = numpy2ri.py2rpy(X)\n",
    "    y_r = numpy2ri.py2rpy(y)\n",
    "    \n",
    "    # Assign the R matrix to a variable in the R environment (optional)\n",
    "    ro.globalenv['X_r'] = X_r\n",
    "    ro.globalenv['y_r'] = y_r\n",
    "    ro.globalenv['p'] = X.shape[1]\n",
    "    \n",
    "    # Construct dataset\n",
    "    ro.r('data <- cbind(y_r, X_r)')\n",
    "    # Set the column names to \"y\", \"x1\", \"x2\", ..., \"x10\"\n",
    "    ro.r('colnames(data) <- c(\"y\", paste0(\"x\", 1:p))')\n",
    "    ro.r('data = data.frame(data)')\n",
    "    \n",
    "    # Define the rpart tree model\n",
    "    tree_cmd = 'bls.tree <- rpart(y ~ ., data=data, model = TRUE, cp=0.00, maxdepth=' + str(max_depth) + ')'\n",
    "    ro.r(tree_cmd)\n",
    "    bls_tree = ro.r('bls.tree')\n",
    "    # Plot the tree values (this will plot directly if you have a plotting backend set up)\n",
    "    #ro.r('treeval.plot(bls.tree, inferenceType=0)')\n",
    "    \n",
    "    #ro.r('print(row.names(bls.tree$frame)[bls.tree$frame$var == \"<leaf>\"])')\n",
    "    ro.r('leaf_idx <- (row.names(bls.tree$frame)[bls.tree$frame$var == \"<leaf>\"])')\n",
    "    leaf_idx = ro.r['leaf_idx']\n",
    "    \n",
    "    # Get node mapping\n",
    "    ro.r('idx_full <- 1:nrow(bls.tree$frame)')\n",
    "    ro.r('mapped_idx <- idx_full[bls.tree$frame$var == \"<leaf>\"]')\n",
    "    \n",
    "    len = []\n",
    "    coverage = []\n",
    "    len_naive = []\n",
    "    coverage_naive = []\n",
    "    \n",
    "    for i,idx in enumerate(leaf_idx):\n",
    "        # Get the branch information for a specific branch in the tree\n",
    "        command = 'branch <- getBranch(bls.tree, ' + str(idx) + ')'\n",
    "        ro.r(command)\n",
    "        # Perform branch inference\n",
    "        ro.r('result <- branchInference(bls.tree, branch, type=\"reg\", alpha = 0.10)')\n",
    "        # Get confidence intervals\n",
    "        confint = ro.r('result$confint')\n",
    "        len.append(confint[1] - confint[0])\n",
    "    \n",
    "        target_cmd = \"contrast <- (bls.tree$where == mapped_idx[\" + str(i+1) + \"])\"\n",
    "        ro.r(target_cmd)\n",
    "        contrast = ro.r('contrast')\n",
    "        contrast = np.array(contrast)\n",
    "        \n",
    "        contrast = np.array(contrast * 1 / np.sum(contrast))\n",
    "        \n",
    "        target = contrast.dot(mu)\n",
    "        coverage.append(target >= confint[0] and target <= confint[1])\n",
    "        \n",
    "        # Naive after tree value\n",
    "        # Confidence intervals\n",
    "        naive_CI = [contrast.dot(y) - \n",
    "                    np.linalg.norm(contrast) * sd_y * ndist.ppf(1 - level / 2),\n",
    "                    contrast.dot(y) + \n",
    "                    np.linalg.norm(contrast) * sd_y * ndist.ppf(1 - level / 2)]\n",
    "        coverage_naive.append((target >= naive_CI[0] and target <= naive_CI[1]))\n",
    "        len_naive.append(naive_CI[1] - naive_CI[0])\n",
    "    \n",
    "    if X_test is not None:\n",
    "        X_test_r = numpy2ri.py2rpy(X_test)\n",
    "        ro.globalenv['X_test_r'] = X_test_r\n",
    "        ro.r('pred <- predict(bls.tree, data = X_test_r)')\n",
    "        pred = ro.r['pred']\n",
    "    else:\n",
    "        pred = None\n",
    "        \n",
    "    return (np.mean(coverage), np.mean(len), \n",
    "            np.mean(coverage_naive), np.mean(len_naive), pred) "
   ],
   "metadata": {
    "collapsed": false,
    "ExecuteTime": {
     "end_time": "2024-10-31T02:19:27.596462Z",
     "start_time": "2024-10-31T02:19:27.358171Z"
    }
   },
   "id": "4cd98f0c2b71ea1a"
  },
  {
   "cell_type": "code",
   "execution_count": 3,
   "outputs": [],
   "source": [
    "def generate_test(mu, sd_y):\n",
    "    n = mu.shape[0]\n",
    "    return mu + np.random.normal(size=(n,), scale=sd_y)"
   ],
   "metadata": {
    "collapsed": false,
    "ExecuteTime": {
     "end_time": "2024-10-31T02:19:27.602300Z",
     "start_time": "2024-10-31T02:19:27.596956Z"
    }
   },
   "id": "97816fc89d968b4b"
  },
  {
   "cell_type": "code",
   "execution_count": 4,
   "outputs": [],
   "source": [
    "n = 100\n",
    "p = 10\n",
    "X = np.random.normal(size=(n, p))\n",
    "a = 1\n",
    "b = 5\n",
    "\n",
    "mu = b * ((X[:, 0] <= 0) * (1 + a * (X[:, 1] > 0) + (X[:, 2] * X[:, 1] <= 0)))\n",
    "sd_y = 1\n",
    "noise_sd = 0.5"
   ],
   "metadata": {
    "collapsed": false,
    "ExecuteTime": {
     "end_time": "2024-10-31T02:19:27.603629Z",
     "start_time": "2024-10-31T02:19:27.600879Z"
    }
   },
   "id": "5d1c10df63cfec09"
  },
  {
   "cell_type": "code",
   "execution_count": 5,
   "outputs": [],
   "source": [
    "X = np.random.normal(size=(n, p))\n",
    "\n",
    "mu = b * ((X[:, 0] <= 0) * (1 + a * (X[:, 1] > 0) + (X[:, 2] * X[:, 1] <= 0)))\n",
    "y = mu + np.random.normal(size=(n,), scale=sd_y)\n",
    "y_test = generate_test(mu, sd_y)"
   ],
   "metadata": {
    "collapsed": false,
    "ExecuteTime": {
     "end_time": "2024-10-31T02:19:27.609038Z",
     "start_time": "2024-10-31T02:19:27.603875Z"
    }
   },
   "id": "7112fd94a20238a3"
  },
  {
   "cell_type": "code",
   "execution_count": 6,
   "outputs": [],
   "source": [
    "reg_tree = RegressionTree(min_samples_split=25, max_depth=3,\n",
    "                              min_proportion=0., min_bucket=10)\n",
    "reg_tree.fit(X, y, sd = 10)"
   ],
   "metadata": {
    "collapsed": false,
    "ExecuteTime": {
     "end_time": "2024-10-31T02:19:27.630660Z",
     "start_time": "2024-10-31T02:19:27.606747Z"
    }
   },
   "id": "dc04898f1d7155b3"
  },
  {
   "cell_type": "code",
   "execution_count": 7,
   "outputs": [],
   "source": [
    "def UV_decomposition(X, y, mu, sd_y, \n",
    "                     max_depth=5, min_prop=0, min_sample=10, min_bucket=5,\n",
    "                     level=0.1, gamma=1,\n",
    "                     X_test=None):\n",
    "    n = X.shape[0]\n",
    "    W = np.random.normal(loc=0, scale=sd_y*np.sqrt(gamma), size=(n,))\n",
    "    U = y + W\n",
    "    V = y - W/gamma\n",
    "    sd_V = sd_y * np.sqrt(1 + 1/gamma)\n",
    "    reg_tree = RegressionTree(min_samples_split=min_sample, max_depth=max_depth,\n",
    "                              min_proportion=min_prop, min_bucket=min_bucket)\n",
    "    reg_tree.fit(X, U, sd = 0)\n",
    "    \n",
    "    coverage = []\n",
    "    lengths = []\n",
    "    \n",
    "    for node in reg_tree.terminal_nodes:\n",
    "        contrast = node.membership\n",
    "        \n",
    "        contrast = np.array(contrast * 1 / np.sum(contrast))\n",
    "        \n",
    "        target = contrast.dot(mu)\n",
    "        \n",
    "        # Naive after tree value\n",
    "        # Confidence intervals\n",
    "        CI = [contrast.dot(V) - \n",
    "              np.linalg.norm(contrast) * sd_V * ndist.ppf(1 - level / 2),\n",
    "              contrast.dot(V) + \n",
    "              np.linalg.norm(contrast) * sd_V * ndist.ppf(1 - level / 2)]\n",
    "        coverage.append((target >= CI[0] and target <= CI[1]))\n",
    "        lengths.append(CI[1] - CI[0])\n",
    "        \n",
    "    if X_test is not None:\n",
    "        pred = reg_tree.predict(X_test)\n",
    "    else:\n",
    "        pred = None\n",
    "        \n",
    "    return coverage, lengths, pred"
   ],
   "metadata": {
    "collapsed": false,
    "ExecuteTime": {
     "end_time": "2024-10-31T02:19:28.371508Z",
     "start_time": "2024-10-31T02:19:28.362297Z"
    }
   },
   "id": "bb7b0376c580939a"
  },
  {
   "cell_type": "code",
   "execution_count": 8,
   "outputs": [],
   "source": [
    "def tree_values_predict(X, y, mu, sd_y, max_depth=5, level=0.1,\n",
    "                        X_test=None):\n",
    "    # Convert the NumPy matrix to an R matrix\n",
    "    X_r = numpy2ri.py2rpy(X)\n",
    "    y_r = numpy2ri.py2rpy(y)\n",
    "    \n",
    "    # Assign the R matrix to a variable in the R environment (optional)\n",
    "    ro.globalenv['X_r'] = X_r\n",
    "    ro.globalenv['y_r'] = y_r\n",
    "    ro.globalenv['p'] = X.shape[1]\n",
    "    \n",
    "    # Construct dataset\n",
    "    ro.r('data <- cbind(y_r, X_r)')\n",
    "    # Set the column names to \"y\", \"x1\", \"x2\", ..., \"x10\"\n",
    "    ro.r('colnames(data) <- c(\"y\", paste0(\"x\", 1:p))')\n",
    "    ro.r('data = data.frame(data)')\n",
    "    \n",
    "    # Define the rpart tree model\n",
    "    tree_cmd = ('bls.tree <- rpart(y ~ ., data=data, model = TRUE, ' + \n",
    "                'control = rpart.control(cp=0.00, minsplit = 25, minbucket = 10, maxdepth=') + str(max_depth) + '))'\n",
    "    ro.r(tree_cmd)\n",
    "    bls_tree = ro.r('bls.tree')\n",
    "    # Plot the tree values (this will plot directly if you have a plotting backend set up)\n",
    "    #ro.r('treeval.plot(bls.tree, inferenceType=0)')\n",
    "    \n",
    "    #ro.r('print(row.names(bls.tree$frame)[bls.tree$frame$var == \"<leaf>\"])')\n",
    "    ro.r('leaf_idx <- (row.names(bls.tree$frame)[bls.tree$frame$var == \"<leaf>\"])')\n",
    "    leaf_idx = ro.r['leaf_idx']\n",
    "    \n",
    "    # Get node mapping\n",
    "    ro.r('idx_full <- 1:nrow(bls.tree$frame)')\n",
    "    ro.r('mapped_idx <- idx_full[bls.tree$frame$var == \"<leaf>\"]')\n",
    "    \n",
    "    terminal_sizes = []\n",
    "    \n",
    "    for i,idx in enumerate(leaf_idx):\n",
    "        target_cmd = \"contrast <- (bls.tree$where == mapped_idx[\" + str(i+1) + \"])\"\n",
    "        ro.r(target_cmd)\n",
    "        contrast = ro.r('contrast')\n",
    "        membership = np.array(contrast)\n",
    "        terminal_sizes.append(membership.sum())\n",
    "    \n",
    "    if X_test is not None:\n",
    "        X_test_r = numpy2ri.py2rpy(X_test)\n",
    "        ro.globalenv['X_test_r'] = X_test_r\n",
    "        ro.r('pred <- predict(bls.tree, data = X_test_r)')\n",
    "        pred = ro.r['pred']\n",
    "    else:\n",
    "        pred = None\n",
    "        \n",
    "    return (pred, terminal_sizes) "
   ],
   "metadata": {
    "collapsed": false,
    "ExecuteTime": {
     "end_time": "2024-10-31T02:19:28.850929Z",
     "start_time": "2024-10-31T02:19:28.843066Z"
    }
   },
   "id": "b1f2c65f805c2aed"
  },
  {
   "cell_type": "code",
   "execution_count": 9,
   "outputs": [],
   "source": [
    "def test_MSE(n = 50, p = 5, a = 0.1, b = 0.1, \n",
    "             sd_y = 1, noise_sd_list = [0.5, 1, 2, 5], \n",
    "             start=0, end=100,\n",
    "             level=0.1):\n",
    "    MSE_dict = {m: [] for m in noise_sd_list + [\"Tree val\", \"UV\"]}\n",
    "    min_terminal_size_dict = {m: [] for m in noise_sd_list + [\"Tree val\"]}\n",
    "    terminal_size_sd_dict = {m: [] for m in noise_sd_list + [\"Tree val\"]}\n",
    "    \n",
    "    coverage_UV = []\n",
    "    len_UV = []\n",
    "    MSE_UV = []\n",
    "    \n",
    "    for i in range(start, end):\n",
    "        print(i, \"th simulation\")\n",
    "        #np.random.seed(i + 48105)\n",
    "        X = np.random.normal(size=(n, p))\n",
    "\n",
    "        mu = b * ((X[:, 0] <= 0) * (1 + a * (X[:, 1] > 0) + (X[:, 2] * X[:, 1] <= 0)))\n",
    "        y = mu + np.random.normal(size=(n,), scale=sd_y)\n",
    "        y_test = generate_test(mu, sd_y)\n",
    "        \n",
    "        for noise_sd in noise_sd_list:\n",
    "            # Create and train the regression tree\n",
    "            reg_tree = RegressionTree(min_samples_split=25, max_depth=3,\n",
    "                                      min_proportion=0, min_bucket=10)\n",
    "            reg_tree.fit(X, y, sd = noise_sd * sd_y)\n",
    "            \n",
    "            pred_test = reg_tree.predict(X)\n",
    "            MSE_test = (np.mean((y_test - pred_test) ** 2))\n",
    "            # Record results\n",
    "            MSE_dict[noise_sd].append(MSE_test)\n",
    "            terminal_sizes = [node.membership.sum() for node in reg_tree.terminal_nodes]\n",
    "            min_terminal_size_dict[noise_sd].append(min(terminal_sizes))\n",
    "            terminal_size_sd_dict[noise_sd].append(np.std(terminal_sizes))\n",
    "        \n",
    "        pred_test_treeval, tree_values_terminal_sizes\\\n",
    "            = tree_values_predict(X, y, mu, sd_y=sd_y, \n",
    "                                  X_test=X, max_depth=3)\n",
    "\n",
    "        MSE_test_treeval = (np.mean((y_test - pred_test_treeval) ** 2))\n",
    "        MSE_dict[\"Tree val\"].append(MSE_test_treeval)\n",
    "        min_terminal_size_dict[\"Tree val\"].append(min(tree_values_terminal_sizes))\n",
    "        terminal_size_sd_dict[\"Tree val\"].append(np.std(tree_values_terminal_sizes))\n",
    "        \n",
    "        coverage, lengths, pred_UV = UV_decomposition(X, y, mu, sd_y, X_test=X,\n",
    "                                                      min_prop=0, max_depth=3, \n",
    "                                                      min_sample=25, min_bucket=10)\n",
    "        coverage_UV.append(np.mean(coverage))\n",
    "        len_UV.append(np.mean(lengths))\n",
    "        MSE_UV.append((np.mean((y_test - pred_UV) ** 2)))\n",
    "        MSE_dict[\"UV\"].append(MSE_UV[-1])\n",
    "        \n",
    "        \n",
    "    print(\"UV coverage:\", np.mean(coverage_UV))\n",
    "    print(\"UV length:\", np.mean(len_UV))\n",
    "    print(\"UV MSE:\", np.mean(MSE_UV))\n",
    "        \n",
    "    return MSE_dict, min_terminal_size_dict, terminal_size_sd_dict"
   ],
   "metadata": {
    "collapsed": false,
    "ExecuteTime": {
     "end_time": "2024-10-31T02:19:29.070554Z",
     "start_time": "2024-10-31T02:19:29.064606Z"
    }
   },
   "id": "bbb0c94497450672"
  },
  {
   "cell_type": "code",
   "execution_count": 43,
   "outputs": [
    {
     "name": "stdout",
     "output_type": "stream",
     "text": [
      "0 th simulation\n",
      "1 th simulation\n",
      "2 th simulation\n",
      "3 th simulation\n",
      "4 th simulation\n",
      "5 th simulation\n",
      "6 th simulation\n",
      "7 th simulation\n",
      "8 th simulation\n",
      "9 th simulation\n",
      "10 th simulation\n",
      "11 th simulation\n",
      "12 th simulation\n",
      "13 th simulation\n",
      "14 th simulation\n",
      "15 th simulation\n",
      "16 th simulation\n",
      "17 th simulation\n",
      "18 th simulation\n",
      "19 th simulation\n",
      "20 th simulation\n",
      "21 th simulation\n",
      "22 th simulation\n",
      "23 th simulation\n",
      "24 th simulation\n",
      "25 th simulation\n",
      "26 th simulation\n",
      "27 th simulation\n",
      "28 th simulation\n",
      "29 th simulation\n",
      "30 th simulation\n",
      "31 th simulation\n",
      "32 th simulation\n",
      "33 th simulation\n",
      "34 th simulation\n",
      "35 th simulation\n",
      "36 th simulation\n",
      "37 th simulation\n",
      "38 th simulation\n",
      "39 th simulation\n",
      "40 th simulation\n",
      "41 th simulation\n",
      "42 th simulation\n",
      "43 th simulation\n",
      "44 th simulation\n",
      "45 th simulation\n",
      "46 th simulation\n",
      "47 th simulation\n",
      "48 th simulation\n",
      "49 th simulation\n",
      "50 th simulation\n",
      "51 th simulation\n",
      "52 th simulation\n",
      "53 th simulation\n",
      "54 th simulation\n",
      "55 th simulation\n",
      "56 th simulation\n",
      "57 th simulation\n",
      "58 th simulation\n",
      "59 th simulation\n",
      "60 th simulation\n",
      "61 th simulation\n",
      "62 th simulation\n",
      "63 th simulation\n",
      "64 th simulation\n",
      "65 th simulation\n",
      "66 th simulation\n",
      "67 th simulation\n",
      "68 th simulation\n",
      "69 th simulation\n",
      "70 th simulation\n",
      "71 th simulation\n",
      "72 th simulation\n",
      "73 th simulation\n",
      "74 th simulation\n",
      "75 th simulation\n",
      "76 th simulation\n",
      "77 th simulation\n",
      "78 th simulation\n",
      "79 th simulation\n",
      "80 th simulation\n",
      "81 th simulation\n",
      "82 th simulation\n",
      "83 th simulation\n",
      "84 th simulation\n",
      "85 th simulation\n",
      "86 th simulation\n",
      "87 th simulation\n",
      "88 th simulation\n",
      "89 th simulation\n",
      "90 th simulation\n",
      "91 th simulation\n",
      "92 th simulation\n",
      "93 th simulation\n",
      "94 th simulation\n",
      "95 th simulation\n",
      "96 th simulation\n",
      "97 th simulation\n",
      "98 th simulation\n",
      "99 th simulation\n",
      "100 th simulation\n",
      "101 th simulation\n",
      "102 th simulation\n",
      "103 th simulation\n",
      "104 th simulation\n",
      "105 th simulation\n",
      "106 th simulation\n",
      "107 th simulation\n",
      "108 th simulation\n",
      "109 th simulation\n",
      "110 th simulation\n",
      "111 th simulation\n",
      "112 th simulation\n",
      "113 th simulation\n",
      "114 th simulation\n",
      "115 th simulation\n",
      "116 th simulation\n",
      "117 th simulation\n",
      "118 th simulation\n",
      "119 th simulation\n",
      "120 th simulation\n",
      "121 th simulation\n",
      "122 th simulation\n",
      "123 th simulation\n",
      "124 th simulation\n",
      "125 th simulation\n",
      "126 th simulation\n",
      "127 th simulation\n",
      "128 th simulation\n",
      "129 th simulation\n",
      "130 th simulation\n",
      "131 th simulation\n",
      "132 th simulation\n",
      "133 th simulation\n",
      "134 th simulation\n",
      "135 th simulation\n",
      "136 th simulation\n",
      "137 th simulation\n",
      "138 th simulation\n",
      "139 th simulation\n",
      "140 th simulation\n",
      "141 th simulation\n",
      "142 th simulation\n",
      "143 th simulation\n",
      "144 th simulation\n",
      "145 th simulation\n",
      "146 th simulation\n",
      "147 th simulation\n",
      "148 th simulation\n",
      "149 th simulation\n",
      "150 th simulation\n",
      "151 th simulation\n",
      "152 th simulation\n",
      "153 th simulation\n",
      "154 th simulation\n",
      "155 th simulation\n",
      "156 th simulation\n",
      "157 th simulation\n",
      "158 th simulation\n",
      "159 th simulation\n",
      "160 th simulation\n",
      "161 th simulation\n",
      "162 th simulation\n",
      "163 th simulation\n",
      "164 th simulation\n",
      "165 th simulation\n",
      "166 th simulation\n",
      "167 th simulation\n",
      "168 th simulation\n",
      "169 th simulation\n",
      "170 th simulation\n",
      "171 th simulation\n",
      "172 th simulation\n",
      "173 th simulation\n",
      "174 th simulation\n",
      "175 th simulation\n",
      "176 th simulation\n",
      "177 th simulation\n",
      "178 th simulation\n",
      "179 th simulation\n",
      "180 th simulation\n",
      "181 th simulation\n",
      "182 th simulation\n",
      "183 th simulation\n",
      "184 th simulation\n",
      "185 th simulation\n",
      "186 th simulation\n",
      "187 th simulation\n",
      "188 th simulation\n",
      "189 th simulation\n",
      "190 th simulation\n",
      "191 th simulation\n",
      "192 th simulation\n",
      "193 th simulation\n",
      "194 th simulation\n",
      "195 th simulation\n",
      "196 th simulation\n",
      "197 th simulation\n",
      "198 th simulation\n",
      "199 th simulation\n",
      "UV coverage: 0.8925\n",
      "UV length: 2.3366323589136444\n",
      "UV MSE: 6.170776332406724\n"
     ]
    }
   ],
   "source": [
    "MSE_dict, min_terminal_size_dict, terminal_size_sd_dict\\\n",
    "    = test_MSE(start=0, end=200, n=100, p=5, sd_y=2, \n",
    "                    noise_sd_list=[1, 2, 5, 10],#[0.5, 1, 2, 5, 10, 20, 50], \n",
    "                    a=1,b=2, level=0.1)"
   ],
   "metadata": {
    "collapsed": false,
    "ExecuteTime": {
     "end_time": "2024-10-31T03:41:04.686145Z",
     "start_time": "2024-10-31T03:40:54.673788Z"
    }
   },
   "id": "54a5f24fde5a07fd"
  },
  {
   "cell_type": "code",
   "execution_count": 44,
   "outputs": [],
   "source": [
    "import seaborn as sns\n",
    "\n",
    "\n",
    "def boxplots(dfs, metrics):\n",
    "    # Set up the subplots: one for each metric\n",
    "    fig, axes = plt.subplots(1, 3, figsize=(15, 6))\n",
    "\n",
    "    # Iterate over the dataframes and create a boxplot for each\n",
    "    for i, (df, metric) in enumerate(zip(dfs, metrics)):\n",
    "        sns.boxplot(data=df, ax=axes[i])\n",
    "        axes[i].set_title(f'Boxplot for {metric}')\n",
    "        axes[i].set_xlabel('Method')\n",
    "        axes[i].set_ylabel('Value')\n",
    "        # Add triangles for the mean values\n",
    "        means = df.mean()  # Calculate mean for each method (column)\n",
    "        print(metric, \":\\n\", means.T)\n",
    "        for j, mean in enumerate(means):\n",
    "            axes[i].plot(j, mean, marker='^', color='red', markersize=10)  # Add a red triangle for the mean\n",
    "        if metric == \"Coverage\":\n",
    "            axes[i].set_ylim(0, 1)\n",
    "        elif metric == \"Length\":\n",
    "            axes[i].set_ylim(0, 100)\n",
    "        elif metric == \"MSE\":\n",
    "            axes[i].set_ylim(0, 50)\n",
    "\n",
    "    # Show the plots\n",
    "    plt.tight_layout()\n",
    "    plt.show()"
   ],
   "metadata": {
    "collapsed": false,
    "ExecuteTime": {
     "end_time": "2024-10-31T03:41:07.982977Z",
     "start_time": "2024-10-31T03:41:07.976927Z"
    }
   },
   "id": "eba9fbec8b25d2e8"
  },
  {
   "cell_type": "code",
   "execution_count": 45,
   "outputs": [
    {
     "name": "stdout",
     "output_type": "stream",
     "text": [
      "MSE :\n",
      " 1           5.090659\n",
      "2           5.137068\n",
      "5           5.553866\n",
      "10          5.827142\n",
      "Tree val    5.187927\n",
      "UV          6.170776\n",
      "dtype: float64\n"
     ]
    },
    {
     "data": {
      "text/plain": "<Figure size 1500x600 with 3 Axes>",
      "image/png": "[encoded data removed]"
     },
     "metadata": {},
     "output_type": "display_data"
    }
   ],
   "source": [
    "boxplots(dfs=[pd.DataFrame(MSE_dict)], \n",
    "         metrics=[\"MSE\"])"
   ],
   "metadata": {
    "collapsed": false,
    "ExecuteTime": {
     "end_time": "2024-10-31T03:41:08.772903Z",
     "start_time": "2024-10-31T03:41:08.560823Z"
    }
   },
   "id": "7360066c12ab9f70"
  },
  {
   "cell_type": "code",
   "execution_count": 32,
   "outputs": [
    {
     "name": "stdout",
     "output_type": "stream",
     "text": [
      "MSE :\n",
      " 1           1.277580\n",
      "2           1.324719\n",
      "5           1.448009\n",
      "10          1.679516\n",
      "Tree val    1.273959\n",
      "UV          1.513702\n",
      "dtype: float64\n",
      "Min Terminal Node Size :\n",
      " 1           11.945\n",
      "2           11.920\n",
      "5           12.105\n",
      "10          12.600\n",
      "Tree val    11.075\n",
      "dtype: float64\n",
      "Terminal Node Size SD :\n",
      " 1           3.994491\n",
      "2           4.120918\n",
      "5           5.019781\n",
      "10          5.901246\n",
      "Tree val    4.709505\n",
      "dtype: float64\n"
     ]
    },
    {
     "data": {
      "text/plain": "<Figure size 1500x600 with 3 Axes>",
      "image/png": "[encoded data removed]"
     },
     "metadata": {},
     "output_type": "display_data"
    }
   ],
   "source": [
    "boxplots(dfs=[pd.DataFrame(MSE_dict), \n",
    "              pd.DataFrame(min_terminal_size_dict),\n",
    "              pd.DataFrame(terminal_size_sd_dict)], \n",
    "         metrics=[\"MSE\", \"Min Terminal Node Size\", \"Terminal Node Size SD\"])"
   ],
   "metadata": {
    "collapsed": false,
    "ExecuteTime": {
     "end_time": "2024-10-31T02:25:53.411922Z",
     "start_time": "2024-10-31T02:25:53.076935Z"
    }
   },
   "id": "1f1fdfc6173d59e3"
  },
  {
   "cell_type": "code",
   "execution_count": 26,
   "outputs": [],
   "source": [
    "df = pd.concat([pd.DataFrame(MSE_dict).mean(),\n",
    "                pd.DataFrame(min_terminal_size_dict).mean(),\n",
    "                pd.DataFrame(terminal_size_sd_dict).mean()], axis=1)"
   ],
   "metadata": {
    "collapsed": false,
    "ExecuteTime": {
     "end_time": "2024-10-31T02:25:05.529577Z",
     "start_time": "2024-10-31T02:25:05.525928Z"
    }
   },
   "id": "a975716cc6802315"
  },
  {
   "cell_type": "code",
   "execution_count": 28,
   "outputs": [],
   "source": [
    "df.columns = [\"MSE\", \"Min Terminal Node Size\", \"Terminal Node Size SD\"]"
   ],
   "metadata": {
    "collapsed": false,
    "ExecuteTime": {
     "end_time": "2024-10-31T02:25:19.940738Z",
     "start_time": "2024-10-31T02:25:19.930235Z"
    }
   },
   "id": "a588d45452a2299"
  },
  {
   "cell_type": "code",
   "execution_count": 29,
   "outputs": [
    {
     "name": "stdout",
     "output_type": "stream",
     "text": [
      "               MSE  Min Terminal Node Size  Terminal Node Size SD\n",
      "1         1.277580                  11.945               3.994491\n",
      "2         1.324719                  11.920               4.120918\n",
      "5         1.448009                  12.105               5.019781\n",
      "10        1.679516                  12.600               5.901246\n",
      "Tree val  1.273959                  11.075               4.709505\n",
      "UV        1.513702                     NaN                    NaN\n"
     ]
    }
   ],
   "source": [
    "print(df)"
   ],
   "metadata": {
    "collapsed": false,
    "ExecuteTime": {
     "end_time": "2024-10-31T02:25:21.442275Z",
     "start_time": "2024-10-31T02:25:21.437792Z"
    }
   },
   "id": "76e0b7865270481"
  },
  {
   "cell_type": "code",
   "execution_count": 133,
   "outputs": [],
   "source": [
    "# TODO: Check documentation of rpart to see what's the default configuration\n",
    "# of tree-value's fitting algorithm"
   ],
   "metadata": {
    "collapsed": false,
    "ExecuteTime": {
     "end_time": "2024-10-27T22:26:29.146927Z",
     "start_time": "2024-10-27T22:26:29.144644Z"
    }
   },
   "id": "a64b95fbee0276c4"
  },
  {
   "cell_type": "code",
   "execution_count": 61,
   "outputs": [
    {
     "data": {
      "text/plain": "np.float64(9.0)"
     },
     "execution_count": 61,
     "metadata": {},
     "output_type": "execute_result"
    }
   ],
   "source": [
    "reg_tree.terminal_nodes[3].membership.sum()"
   ],
   "metadata": {
    "collapsed": false,
    "ExecuteTime": {
     "end_time": "2024-10-28T19:40:03.845545Z",
     "start_time": "2024-10-28T19:40:03.832127Z"
    }
   },
   "id": "27958dd1d633854a"
  },
  {
   "cell_type": "code",
   "execution_count": null,
   "outputs": [],
   "source": [],
   "metadata": {
    "collapsed": false
   },
   "id": "7ed964a18bceb670"
  }
 ],
 "metadata": {
  "kernelspec": {
   "display_name": "Python 3",
   "language": "python",
   "name": "python3"
  },
  "language_info": {
   "codemirror_mode": {
    "name": "ipython",
    "version": 2
   },
   "file_extension": ".py",
   "mimetype": "text/x-python",
   "name": "python",
   "nbconvert_exporter": "python",
   "pygments_lexer": "ipython2",
   "version": "2.7.6"
  }
 },
 "nbformat": 4,
 "nbformat_minor": 5
}
