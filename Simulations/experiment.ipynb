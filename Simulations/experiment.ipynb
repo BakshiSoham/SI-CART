{
 "cells": [
  {
   "cell_type": "code",
   "execution_count": 1,
   "id": "initial_id",
   "metadata": {
    "collapsed": true,
    "ExecuteTime": {
     "end_time": "2024-10-30T01:49:38.855125Z",
     "start_time": "2024-10-30T01:49:36.165986Z"
    }
   },
   "outputs": [],
   "source": [
    "import time\n",
    "\n",
    "import matplotlib.pyplot as plt\n",
    "import numpy as np\n",
    "import pandas as pd\n",
    "\n",
    "from Utils.discrete_family import discrete_family\n",
    "from Utils.barrier_affine import solve_barrier_tree, solve_barrier_tree_nonneg, solve_barrier_tree_box_PGD\n",
    "from CART import RegressionTree\n",
    "from scipy.interpolate import interp1d\n",
    "from scipy.stats import multivariate_normal as mvn\n",
    "from Utils.plotting import  *\n",
    "from Utils.simulation_helpers import *\n",
    "from scipy.stats import norm as ndist\n",
    "\n",
    "# For tree-values\n",
    "import rpy2.robjects.packages as rpackages\n",
    "from rpy2.robjects.vectors import StrVector\n",
    "\n",
    "# Select a CRAN mirror to download from\n",
    "utils = rpackages.importr('utils')\n",
    "utils.chooseCRANmirror(ind=1)  # Select the first mirror\n",
    "\n",
    "# Install 'remotes' if it's not already installed\n",
    "if not rpackages.isinstalled('remotes'):\n",
    "    utils.install_packages(StrVector(('remotes',)))\n",
    "\n",
    "import rpy2.robjects as ro\n",
    "\n",
    "from rpy2.robjects.packages import importr\n",
    "from rpy2.robjects import pandas2ri\n",
    "from rpy2.robjects import numpy2ri\n",
    "%load_ext rpy2.ipython"
   ]
  },
  {
   "cell_type": "code",
   "execution_count": 2,
   "outputs": [],
   "source": [
    "# Activate automatic conversion between pandas and R data frames\n",
    "pandas2ri.activate()\n",
    "\n",
    "# Import R libraries\n",
    "treevalues = importr('treevalues')\n",
    "rpart = importr('rpart')\n",
    "\n",
    "def tree_values_inference(X, y, mu, sd_y, max_depth=5, level=0.1,\n",
    "                          X_test=None):\n",
    "    # Convert the NumPy matrix to an R matrix\n",
    "    X_r = numpy2ri.py2rpy(X)\n",
    "    y_r = numpy2ri.py2rpy(y)\n",
    "    \n",
    "    # Assign the R matrix to a variable in the R environment (optional)\n",
    "    ro.globalenv['X_r'] = X_r\n",
    "    ro.globalenv['y_r'] = y_r\n",
    "    ro.globalenv['p'] = X.shape[1]\n",
    "    \n",
    "    # Construct dataset\n",
    "    ro.r('data <- cbind(y_r, X_r)')\n",
    "    # Set the column names to \"y\", \"x1\", \"x2\", ..., \"x10\"\n",
    "    ro.r('colnames(data) <- c(\"y\", paste0(\"x\", 1:p))')\n",
    "    ro.r('data = data.frame(data)')\n",
    "    \n",
    "    # Define the rpart tree model\n",
    "    tree_cmd = 'bls.tree <- rpart(y ~ ., data=data, model = TRUE, cp=0.00, maxdepth=' + str(max_depth) + ')'\n",
    "    ro.r(tree_cmd)\n",
    "    bls_tree = ro.r('bls.tree')\n",
    "    # Plot the tree values (this will plot directly if you have a plotting backend set up)\n",
    "    #ro.r('treeval.plot(bls.tree, inferenceType=0)')\n",
    "    \n",
    "    #ro.r('print(row.names(bls.tree$frame)[bls.tree$frame$var == \"<leaf>\"])')\n",
    "    ro.r('leaf_idx <- (row.names(bls.tree$frame)[bls.tree$frame$var == \"<leaf>\"])')\n",
    "    leaf_idx = ro.r['leaf_idx']\n",
    "    \n",
    "    # Get node mapping\n",
    "    ro.r('idx_full <- 1:nrow(bls.tree$frame)')\n",
    "    ro.r('mapped_idx <- idx_full[bls.tree$frame$var == \"<leaf>\"]')\n",
    "    \n",
    "    len = []\n",
    "    coverage = []\n",
    "    len_naive = []\n",
    "    coverage_naive = []\n",
    "    \n",
    "    for i,idx in enumerate(leaf_idx):\n",
    "        # Get the branch information for a specific branch in the tree\n",
    "        command = 'branch <- getBranch(bls.tree, ' + str(idx) + ')'\n",
    "        ro.r(command)\n",
    "        # Perform branch inference\n",
    "        ro.r('result <- branchInference(bls.tree, branch, type=\"reg\", alpha = 0.10)')\n",
    "        # Get confidence intervals\n",
    "        confint = ro.r('result$confint')\n",
    "        len.append(confint[1] - confint[0])\n",
    "    \n",
    "        target_cmd = \"contrast <- (bls.tree$where == mapped_idx[\" + str(i+1) + \"])\"\n",
    "        ro.r(target_cmd)\n",
    "        contrast = ro.r('contrast')\n",
    "        contrast = np.array(contrast)\n",
    "        \n",
    "        contrast = np.array(contrast * 1 / np.sum(contrast))\n",
    "        \n",
    "        target = contrast.dot(mu)\n",
    "        coverage.append(target >= confint[0] and target <= confint[1])\n",
    "        \n",
    "        # Naive after tree value\n",
    "        # Confidence intervals\n",
    "        naive_CI = [contrast.dot(y) - \n",
    "                    np.linalg.norm(contrast) * sd_y * ndist.ppf(1 - level / 2),\n",
    "                    contrast.dot(y) + \n",
    "                    np.linalg.norm(contrast) * sd_y * ndist.ppf(1 - level / 2)]\n",
    "        coverage_naive.append((target >= naive_CI[0] and target <= naive_CI[1]))\n",
    "        len_naive.append(naive_CI[1] - naive_CI[0])\n",
    "    \n",
    "    if X_test is not None:\n",
    "        X_test_r = numpy2ri.py2rpy(X_test)\n",
    "        ro.globalenv['X_test_r'] = X_test_r\n",
    "        ro.r('pred <- predict(bls.tree, data = X_test_r)')\n",
    "        pred = ro.r['pred']\n",
    "    else:\n",
    "        pred = None\n",
    "        \n",
    "    return (np.mean(coverage), np.mean(len), \n",
    "            np.mean(coverage_naive), np.mean(len_naive), pred) "
   ],
   "metadata": {
    "collapsed": false,
    "ExecuteTime": {
     "end_time": "2024-10-30T01:49:39.078229Z",
     "start_time": "2024-10-30T01:49:38.855810Z"
    }
   },
   "id": "4cd98f0c2b71ea1a"
  },
  {
   "cell_type": "code",
   "execution_count": 3,
   "outputs": [],
   "source": [
    "def generate_test(mu, sd_y):\n",
    "    n = mu.shape[0]\n",
    "    return mu + np.random.normal(size=(n,), scale=sd_y)"
   ],
   "metadata": {
    "collapsed": false,
    "ExecuteTime": {
     "end_time": "2024-10-30T01:49:39.083184Z",
     "start_time": "2024-10-30T01:49:39.078854Z"
    }
   },
   "id": "97816fc89d968b4b"
  },
  {
   "cell_type": "code",
   "execution_count": 4,
   "outputs": [],
   "source": [
    "import seaborn as sns\n",
    "def boxplots(dfs, metrics):\n",
    "    # Set up the subplots: one for each metric\n",
    "    fig, axes = plt.subplots(1, 3, figsize=(15, 6))\n",
    "    \n",
    "    # Iterate over the dataframes and create a boxplot for each\n",
    "    for i, (df, metric) in enumerate(zip(dfs, metrics)):\n",
    "        sns.boxplot(data=df, ax=axes[i])\n",
    "        axes[i].set_title(f'Boxplot for {metric}')\n",
    "        axes[i].set_xlabel('Method')\n",
    "        axes[i].set_ylabel('Value')\n",
    "        # Add triangles for the mean values\n",
    "        means = df.mean()  # Calculate mean for each method (column)\n",
    "        print(metric,\":\\n\",means.T)\n",
    "        for j, mean in enumerate(means):\n",
    "            axes[i].plot(j, mean, marker='^', color='red', markersize=10)  # Add a red triangle for the mean\n",
    "        if metric == \"Coverage\":\n",
    "            axes[i].set_ylim(0,1)\n",
    "        elif metric == \"Length\":\n",
    "            axes[i].set_ylim(0,100)\n",
    "        elif metric == \"MSE\":\n",
    "            axes[i].set_ylim(0,3)\n",
    "    \n",
    "    # Show the plots\n",
    "    plt.tight_layout()\n",
    "    plt.show()"
   ],
   "metadata": {
    "collapsed": false,
    "ExecuteTime": {
     "end_time": "2024-10-30T01:49:39.089067Z",
     "start_time": "2024-10-30T01:49:39.084137Z"
    }
   },
   "id": "5068cbe9df1c79f2"
  },
  {
   "cell_type": "code",
   "execution_count": 5,
   "outputs": [],
   "source": [
    "n = 100\n",
    "p = 10\n",
    "X = np.random.normal(size=(n, p))\n",
    "a = 1\n",
    "b = 5\n",
    "\n",
    "mu = b * ((X[:, 0] <= 0) * (1 + a * (X[:, 1] > 0) + (X[:, 2] * X[:, 1] <= 0)))\n",
    "sd_y = 1\n",
    "noise_sd = 0.5"
   ],
   "metadata": {
    "collapsed": false,
    "ExecuteTime": {
     "end_time": "2024-10-30T01:49:39.089287Z",
     "start_time": "2024-10-30T01:49:39.086861Z"
    }
   },
   "id": "5d1c10df63cfec09"
  },
  {
   "cell_type": "code",
   "execution_count": 6,
   "outputs": [],
   "source": [
    "X = np.random.normal(size=(n, p))\n",
    "\n",
    "mu = b * ((X[:, 0] <= 0) * (1 + a * (X[:, 1] > 0) + (X[:, 2] * X[:, 1] <= 0)))\n",
    "y = mu + np.random.normal(size=(n,), scale=sd_y)\n",
    "y_test = generate_test(mu, sd_y)"
   ],
   "metadata": {
    "collapsed": false,
    "ExecuteTime": {
     "end_time": "2024-10-30T01:49:39.094025Z",
     "start_time": "2024-10-30T01:49:39.089887Z"
    }
   },
   "id": "7112fd94a20238a3"
  },
  {
   "cell_type": "code",
   "execution_count": 7,
   "outputs": [],
   "source": [
    "def UV_decomposition(X, y, mu, sd_y, \n",
    "                     max_depth=5, min_prop=0, min_sample=10, min_bucket=5,\n",
    "                     level=0.1, gamma=1,\n",
    "                     X_test=None):\n",
    "    n = X.shape[0]\n",
    "    W = np.random.normal(loc=0, scale=sd_y*np.sqrt(gamma), size=(n,))\n",
    "    U = y + W\n",
    "    V = y - W/gamma\n",
    "    sd_V = sd_y * np.sqrt(1 + 1/gamma)\n",
    "    reg_tree = RegressionTree(min_samples_split=min_sample, max_depth=max_depth,\n",
    "                              min_proportion=min_prop, min_bucket=min_bucket)\n",
    "    reg_tree.fit(X, U, sd = 0)\n",
    "    \n",
    "    coverage = []\n",
    "    lengths = []\n",
    "    \n",
    "    for node in reg_tree.terminal_nodes:\n",
    "        contrast = node.membership\n",
    "        \n",
    "        contrast = np.array(contrast * 1 / np.sum(contrast))\n",
    "        \n",
    "        target = contrast.dot(mu)\n",
    "        \n",
    "        # Naive after tree value\n",
    "        # Confidence intervals\n",
    "        CI = [contrast.dot(V) - \n",
    "              np.linalg.norm(contrast) * sd_V * ndist.ppf(1 - level / 2),\n",
    "              contrast.dot(V) + \n",
    "              np.linalg.norm(contrast) * sd_V * ndist.ppf(1 - level / 2)]\n",
    "        coverage.append((target >= CI[0] and target <= CI[1]))\n",
    "        lengths.append(CI[1] - CI[0])\n",
    "        \n",
    "    if X_test is not None:\n",
    "        pred = reg_tree.predict(X_test)\n",
    "    else:\n",
    "        pred = None\n",
    "        \n",
    "    return coverage, lengths, pred"
   ],
   "metadata": {
    "collapsed": false,
    "ExecuteTime": {
     "end_time": "2024-10-30T01:49:39.099250Z",
     "start_time": "2024-10-30T01:49:39.094709Z"
    }
   },
   "id": "bb7b0376c580939a"
  },
  {
   "cell_type": "code",
   "execution_count": 8,
   "outputs": [],
   "source": [
    "def tree_values_predict(X, y, mu, sd_y, max_depth=5, level=0.1,\n",
    "                        X_test=None):\n",
    "    # Convert the NumPy matrix to an R matrix\n",
    "    X_r = numpy2ri.py2rpy(X)\n",
    "    y_r = numpy2ri.py2rpy(y)\n",
    "    \n",
    "    # Assign the R matrix to a variable in the R environment (optional)\n",
    "    ro.globalenv['X_r'] = X_r\n",
    "    ro.globalenv['y_r'] = y_r\n",
    "    ro.globalenv['p'] = X.shape[1]\n",
    "    \n",
    "    # Construct dataset\n",
    "    ro.r('data <- cbind(y_r, X_r)')\n",
    "    # Set the column names to \"y\", \"x1\", \"x2\", ..., \"x10\"\n",
    "    ro.r('colnames(data) <- c(\"y\", paste0(\"x\", 1:p))')\n",
    "    ro.r('data = data.frame(data)')\n",
    "    \n",
    "    # Define the rpart tree model\n",
    "    tree_cmd = ('bls.tree <- rpart(y ~ ., data=data, model = TRUE, ' + \n",
    "                'control = rpart.control(cp=0.00, minsplit = 15, minbucket = 5, maxdepth=') + str(max_depth) + '))'\n",
    "    ro.r(tree_cmd)\n",
    "    bls_tree = ro.r('bls.tree')\n",
    "    # Plot the tree values (this will plot directly if you have a plotting backend set up)\n",
    "    #ro.r('treeval.plot(bls.tree, inferenceType=0)')\n",
    "    \n",
    "    #ro.r('print(row.names(bls.tree$frame)[bls.tree$frame$var == \"<leaf>\"])')\n",
    "    ro.r('leaf_idx <- (row.names(bls.tree$frame)[bls.tree$frame$var == \"<leaf>\"])')\n",
    "    leaf_idx = ro.r['leaf_idx']\n",
    "    \n",
    "    # Get node mapping\n",
    "    ro.r('idx_full <- 1:nrow(bls.tree$frame)')\n",
    "    ro.r('mapped_idx <- idx_full[bls.tree$frame$var == \"<leaf>\"]')\n",
    "    \n",
    "    terminal_sizes = []\n",
    "    \n",
    "    for i,idx in enumerate(leaf_idx):\n",
    "        target_cmd = \"contrast <- (bls.tree$where == mapped_idx[\" + str(i+1) + \"])\"\n",
    "        ro.r(target_cmd)\n",
    "        contrast = ro.r('contrast')\n",
    "        membership = np.array(contrast)\n",
    "        terminal_sizes.append(membership.sum())\n",
    "    \n",
    "    if X_test is not None:\n",
    "        X_test_r = numpy2ri.py2rpy(X_test)\n",
    "        ro.globalenv['X_test_r'] = X_test_r\n",
    "        ro.r('pred <- predict(bls.tree, data = X_test_r)')\n",
    "        pred = ro.r['pred']\n",
    "    else:\n",
    "        pred = None\n",
    "        \n",
    "    return (pred, terminal_sizes) "
   ],
   "metadata": {
    "collapsed": false,
    "ExecuteTime": {
     "end_time": "2024-10-30T01:49:39.102649Z",
     "start_time": "2024-10-30T01:49:39.099565Z"
    }
   },
   "id": "b1f2c65f805c2aed"
  },
  {
   "cell_type": "code",
   "execution_count": 9,
   "outputs": [],
   "source": [
    "def test_MSE(n = 50, p = 5, a = 0.1, b = 0.1, \n",
    "             sd_y = 1, noise_sd_list = [0.5, 1, 2, 5], \n",
    "             start=0, end=100,\n",
    "             level=0.1):\n",
    "    MSE_dict = {m: [] for m in noise_sd_list + [\"Tree val\"]}\n",
    "    min_terminal_size_dict = {m: [] for m in noise_sd_list + [\"Tree val\"]}\n",
    "    terminal_size_sd_dict = {m: [] for m in noise_sd_list + [\"Tree val\"]}\n",
    "    \n",
    "    coverage_UV = []\n",
    "    len_UV = []\n",
    "    MSE_UV = []\n",
    "    \n",
    "    for i in range(start, end):\n",
    "        print(i, \"th simulation\")\n",
    "        #np.random.seed(i + 48105)\n",
    "        X = np.random.normal(size=(n, p))\n",
    "\n",
    "        mu = b * ((X[:, 0] <= 0) * (1 + a * (X[:, 1] > 0) + (X[:, 2] * X[:, 1] <= 0)))\n",
    "        y = mu + np.random.normal(size=(n,), scale=sd_y)\n",
    "        y_test = generate_test(mu, sd_y)\n",
    "        \n",
    "        for noise_sd in noise_sd_list:\n",
    "            # Create and train the regression tree\n",
    "            reg_tree = RegressionTree(min_samples_split=15, max_depth=3,\n",
    "                                      min_proportion=0, min_bucket=5)\n",
    "            reg_tree.fit(X, y, sd = noise_sd * sd_y)\n",
    "            \n",
    "            pred_test = reg_tree.predict(X)\n",
    "            MSE_test = (np.mean((y_test - pred_test) ** 2))\n",
    "            # Record results\n",
    "            MSE_dict[noise_sd].append(MSE_test)\n",
    "            terminal_sizes = [node.membership.sum() for node in reg_tree.terminal_nodes]\n",
    "            min_terminal_size_dict[noise_sd].append(min(terminal_sizes))\n",
    "            terminal_size_sd_dict[noise_sd].append(np.std(terminal_sizes))\n",
    "        \n",
    "        pred_test_treeval, tree_values_terminal_sizes\\\n",
    "            = tree_values_predict(X, y, mu, sd_y=sd_y, \n",
    "                                  X_test=X, max_depth=3)\n",
    "\n",
    "        MSE_test_treeval = (np.mean((y_test - pred_test_treeval) ** 2))\n",
    "        MSE_dict[\"Tree val\"].append(MSE_test_treeval)\n",
    "        min_terminal_size_dict[\"Tree val\"].append(min(tree_values_terminal_sizes))\n",
    "        terminal_size_sd_dict[\"Tree val\"].append(np.std(tree_values_terminal_sizes))\n",
    "        \n",
    "        coverage, lengths, pred_UV = UV_decomposition(X, y, mu, sd_y, X_test=X,\n",
    "                                                      min_prop=0, max_depth=3, \n",
    "                                                      min_sample=15, min_bucket=5)\n",
    "        coverage_UV.append(np.mean(coverage))\n",
    "        len_UV.append(np.mean(lengths))\n",
    "        MSE_UV.append((np.mean((y_test - pred_UV) ** 2)))\n",
    "        \n",
    "    print(\"UV coverage:\", np.mean(coverage_UV))\n",
    "    print(\"UV length:\", np.mean(len_UV))\n",
    "    print(\"UV MSE:\", np.mean(MSE_UV))\n",
    "        \n",
    "    return MSE_dict, min_terminal_size_dict, terminal_size_sd_dict"
   ],
   "metadata": {
    "collapsed": false,
    "ExecuteTime": {
     "end_time": "2024-10-30T01:49:39.108054Z",
     "start_time": "2024-10-30T01:49:39.100764Z"
    }
   },
   "id": "bbb0c94497450672"
  },
  {
   "cell_type": "code",
   "execution_count": 10,
   "outputs": [
    {
     "name": "stdout",
     "output_type": "stream",
     "text": [
      "0 th simulation\n",
      "1 th simulation\n",
      "2 th simulation\n",
      "3 th simulation\n",
      "4 th simulation\n",
      "5 th simulation\n",
      "6 th simulation\n",
      "7 th simulation\n",
      "8 th simulation\n",
      "9 th simulation\n",
      "10 th simulation\n",
      "11 th simulation\n",
      "12 th simulation\n",
      "13 th simulation\n"
     ]
    },
    {
     "ename": "KeyboardInterrupt",
     "evalue": "",
     "output_type": "error",
     "traceback": [
      "\u001B[0;31m---------------------------------------------------------------------------\u001B[0m",
      "\u001B[0;31mKeyboardInterrupt\u001B[0m                         Traceback (most recent call last)",
      "Cell \u001B[0;32mIn[10], line 2\u001B[0m\n\u001B[1;32m      1\u001B[0m MSE_dict, min_terminal_size_dict, terminal_size_sd_dict\\\n\u001B[0;32m----> 2\u001B[0m     \u001B[38;5;241m=\u001B[39m \u001B[43mtest_MSE\u001B[49m\u001B[43m(\u001B[49m\u001B[43mstart\u001B[49m\u001B[38;5;241;43m=\u001B[39;49m\u001B[38;5;241;43m0\u001B[39;49m\u001B[43m,\u001B[49m\u001B[43m \u001B[49m\u001B[43mend\u001B[49m\u001B[38;5;241;43m=\u001B[39;49m\u001B[38;5;241;43m200\u001B[39;49m\u001B[43m,\u001B[49m\u001B[43m \u001B[49m\u001B[43mn\u001B[49m\u001B[38;5;241;43m=\u001B[39;49m\u001B[38;5;241;43m200\u001B[39;49m\u001B[43m,\u001B[49m\u001B[43m \u001B[49m\u001B[43mp\u001B[49m\u001B[38;5;241;43m=\u001B[39;49m\u001B[38;5;241;43m10\u001B[39;49m\u001B[43m,\u001B[49m\u001B[43m \u001B[49m\u001B[43msd_y\u001B[49m\u001B[38;5;241;43m=\u001B[39;49m\u001B[38;5;241;43m3\u001B[39;49m\u001B[43m,\u001B[49m\u001B[43m \u001B[49m\n\u001B[1;32m      3\u001B[0m \u001B[43m                    \u001B[49m\u001B[43mnoise_sd_list\u001B[49m\u001B[38;5;241;43m=\u001B[39;49m\u001B[43m[\u001B[49m\u001B[38;5;241;43m0.5\u001B[39;49m\u001B[43m,\u001B[49m\u001B[43m \u001B[49m\u001B[38;5;241;43m1\u001B[39;49m\u001B[43m,\u001B[49m\u001B[43m \u001B[49m\u001B[38;5;241;43m5\u001B[39;49m\u001B[43m,\u001B[49m\u001B[43m \u001B[49m\u001B[38;5;241;43m10\u001B[39;49m\u001B[43m]\u001B[49m\u001B[43m,\u001B[49m\u001B[38;5;66;43;03m#[0.5, 1, 2, 5, 10, 20, 50], \u001B[39;49;00m\n\u001B[1;32m      4\u001B[0m \u001B[43m                    \u001B[49m\u001B[43ma\u001B[49m\u001B[38;5;241;43m=\u001B[39;49m\u001B[38;5;241;43m1\u001B[39;49m\u001B[43m,\u001B[49m\u001B[43mb\u001B[49m\u001B[38;5;241;43m=\u001B[39;49m\u001B[38;5;241;43m1\u001B[39;49m\u001B[43m,\u001B[49m\u001B[43m \u001B[49m\u001B[43mlevel\u001B[49m\u001B[38;5;241;43m=\u001B[39;49m\u001B[38;5;241;43m0.1\u001B[39;49m\u001B[43m)\u001B[49m\n",
      "Cell \u001B[0;32mIn[9], line 26\u001B[0m, in \u001B[0;36mtest_MSE\u001B[0;34m(n, p, a, b, sd_y, noise_sd_list, start, end, level)\u001B[0m\n\u001B[1;32m     22\u001B[0m \u001B[38;5;28;01mfor\u001B[39;00m noise_sd \u001B[38;5;129;01min\u001B[39;00m noise_sd_list:\n\u001B[1;32m     23\u001B[0m     \u001B[38;5;66;03m# Create and train the regression tree\u001B[39;00m\n\u001B[1;32m     24\u001B[0m     reg_tree \u001B[38;5;241m=\u001B[39m RegressionTree(min_samples_split\u001B[38;5;241m=\u001B[39m\u001B[38;5;241m15\u001B[39m, max_depth\u001B[38;5;241m=\u001B[39m\u001B[38;5;241m3\u001B[39m,\n\u001B[1;32m     25\u001B[0m                               min_proportion\u001B[38;5;241m=\u001B[39m\u001B[38;5;241m0\u001B[39m, min_bucket\u001B[38;5;241m=\u001B[39m\u001B[38;5;241m5\u001B[39m)\n\u001B[0;32m---> 26\u001B[0m     \u001B[43mreg_tree\u001B[49m\u001B[38;5;241;43m.\u001B[39;49m\u001B[43mfit\u001B[49m\u001B[43m(\u001B[49m\u001B[43mX\u001B[49m\u001B[43m,\u001B[49m\u001B[43m \u001B[49m\u001B[43my\u001B[49m\u001B[43m,\u001B[49m\u001B[43m \u001B[49m\u001B[43msd\u001B[49m\u001B[43m \u001B[49m\u001B[38;5;241;43m=\u001B[39;49m\u001B[43m \u001B[49m\u001B[43mnoise_sd\u001B[49m\u001B[43m \u001B[49m\u001B[38;5;241;43m*\u001B[39;49m\u001B[43m \u001B[49m\u001B[43msd_y\u001B[49m\u001B[43m)\u001B[49m\n\u001B[1;32m     28\u001B[0m     pred_test \u001B[38;5;241m=\u001B[39m reg_tree\u001B[38;5;241m.\u001B[39mpredict(X)\n\u001B[1;32m     29\u001B[0m     MSE_test \u001B[38;5;241m=\u001B[39m (np\u001B[38;5;241m.\u001B[39mmean((y_test \u001B[38;5;241m-\u001B[39m pred_test) \u001B[38;5;241m*\u001B[39m\u001B[38;5;241m*\u001B[39m \u001B[38;5;241m2\u001B[39m))\n",
      "File \u001B[0;32m~/Desktop/PhD/SI_Codes/SI-CART/CART.py:42\u001B[0m, in \u001B[0;36mRegressionTree.fit\u001B[0;34m(self, X, y, sd)\u001B[0m\n\u001B[1;32m     40\u001B[0m \u001B[38;5;28mself\u001B[39m\u001B[38;5;241m.\u001B[39my \u001B[38;5;241m=\u001B[39m y\n\u001B[1;32m     41\u001B[0m \u001B[38;5;28mself\u001B[39m\u001B[38;5;241m.\u001B[39mn \u001B[38;5;241m=\u001B[39m X\u001B[38;5;241m.\u001B[39mshape[\u001B[38;5;241m0\u001B[39m]\n\u001B[0;32m---> 42\u001B[0m \u001B[38;5;28mself\u001B[39m\u001B[38;5;241m.\u001B[39mroot \u001B[38;5;241m=\u001B[39m \u001B[38;5;28;43mself\u001B[39;49m\u001B[38;5;241;43m.\u001B[39;49m\u001B[43m_build_tree\u001B[49m\u001B[43m(\u001B[49m\u001B[43mX\u001B[49m\u001B[43m,\u001B[49m\u001B[43m \u001B[49m\u001B[43my\u001B[49m\u001B[43m,\u001B[49m\u001B[43m \u001B[49m\u001B[43msd\u001B[49m\u001B[38;5;241;43m=\u001B[39;49m\u001B[43msd\u001B[49m\u001B[43m)\u001B[49m\n",
      "File \u001B[0;32m~/Desktop/PhD/SI_Codes/SI-CART/CART.py:68\u001B[0m, in \u001B[0;36mRegressionTree._build_tree\u001B[0;34m(self, X, y, depth, membership, prev_branch, sd)\u001B[0m\n\u001B[1;32m     65\u001B[0m     \u001B[38;5;66;03m# print(\"pbc:\", prev_branch)\u001B[39;00m\n\u001B[1;32m     67\u001B[0m \u001B[38;5;28;01mif\u001B[39;00m num_samples \u001B[38;5;241m>\u001B[39m\u001B[38;5;241m=\u001B[39m \u001B[38;5;28mmax\u001B[39m(\u001B[38;5;28mself\u001B[39m\u001B[38;5;241m.\u001B[39mmin_samples_split, \u001B[38;5;241m2\u001B[39m) \u001B[38;5;129;01mand\u001B[39;00m depth \u001B[38;5;241m<\u001B[39m \u001B[38;5;28mself\u001B[39m\u001B[38;5;241m.\u001B[39mmax_depth:\n\u001B[0;32m---> 68\u001B[0m     best_split \u001B[38;5;241m=\u001B[39m \u001B[38;5;28;43mself\u001B[39;49m\u001B[38;5;241;43m.\u001B[39;49m\u001B[43m_get_best_split\u001B[49m\u001B[43m(\u001B[49m\u001B[43mX\u001B[49m\u001B[43m,\u001B[49m\u001B[43m \u001B[49m\u001B[43my\u001B[49m\u001B[43m,\u001B[49m\u001B[43m \u001B[49m\u001B[43mnum_features\u001B[49m\u001B[43m,\u001B[49m\u001B[43m \u001B[49m\u001B[43msd_rand\u001B[49m\u001B[38;5;241;43m=\u001B[39;49m\u001B[43msd\u001B[49m\u001B[43m)\u001B[49m\n\u001B[1;32m     69\u001B[0m     \u001B[38;5;28;01mif\u001B[39;00m \u001B[38;5;124m\"\u001B[39m\u001B[38;5;124mfeature_index\u001B[39m\u001B[38;5;124m\"\u001B[39m \u001B[38;5;129;01mnot\u001B[39;00m \u001B[38;5;129;01min\u001B[39;00m best_split\u001B[38;5;241m.\u001B[39mkeys():\n\u001B[1;32m     70\u001B[0m         \u001B[38;5;28mprint\u001B[39m(best_split)\n",
      "File \u001B[0;32m~/Desktop/PhD/SI_Codes/SI-CART/CART.py:167\u001B[0m, in \u001B[0;36mRegressionTree._get_best_split\u001B[0;34m(self, X, y, num_features, sd_rand)\u001B[0m\n\u001B[1;32m    165\u001B[0m     omega \u001B[38;5;241m=\u001B[39m \u001B[38;5;241m0\u001B[39m\n\u001B[1;32m    166\u001B[0m randomization[i, feature_index] \u001B[38;5;241m=\u001B[39m omega\n\u001B[0;32m--> 167\u001B[0m loss \u001B[38;5;241m=\u001B[39m \u001B[38;5;28;43mself\u001B[39;49m\u001B[38;5;241;43m.\u001B[39;49m\u001B[43m_calculate_loss\u001B[49m\u001B[43m(\u001B[49m\u001B[43my_left\u001B[49m\u001B[43m,\u001B[49m\u001B[43m \u001B[49m\u001B[43my_right\u001B[49m\u001B[43m,\u001B[49m\u001B[43m \u001B[49m\u001B[43momega\u001B[49m\u001B[43m)\u001B[49m\n\u001B[1;32m    168\u001B[0m \u001B[38;5;28;01mif\u001B[39;00m loss \u001B[38;5;241m<\u001B[39m min_loss:\n\u001B[1;32m    169\u001B[0m     \u001B[38;5;66;03m#print(\"entered 2\")\u001B[39;00m\n\u001B[1;32m    170\u001B[0m     best_split[\u001B[38;5;124m\"\u001B[39m\u001B[38;5;124mfeature_index\u001B[39m\u001B[38;5;124m\"\u001B[39m] \u001B[38;5;241m=\u001B[39m feature_index\n",
      "File \u001B[0;32m~/Desktop/PhD/SI_Codes/SI-CART/CART.py:199\u001B[0m, in \u001B[0;36mRegressionTree._calculate_loss\u001B[0;34m(self, y_left, y_right, randomization)\u001B[0m\n\u001B[1;32m    196\u001B[0m n2 \u001B[38;5;241m=\u001B[39m \u001B[38;5;28mlen\u001B[39m(y_right)\n\u001B[1;32m    197\u001B[0m \u001B[38;5;250m\u001B[39m\u001B[38;5;124;03m\"\"\"loss = ((np.var(y_left) * n1 + np.var(y_right) * np.sqrt(n2)) / np.sqrt(n1 + n2)\u001B[39;00m\n\u001B[1;32m    198\u001B[0m \u001B[38;5;124;03m        + randomization)\"\"\"\u001B[39;00m\n\u001B[0;32m--> 199\u001B[0m loss \u001B[38;5;241m=\u001B[39m (\u001B[38;5;241m-\u001B[39m n1 \u001B[38;5;241m*\u001B[39m np\u001B[38;5;241m.\u001B[39mmean(y_left) \u001B[38;5;241m*\u001B[39m\u001B[38;5;241m*\u001B[39m \u001B[38;5;241m2\u001B[39m \u001B[38;5;241m-\u001B[39m n2 \u001B[38;5;241m*\u001B[39m \u001B[43mnp\u001B[49m\u001B[38;5;241;43m.\u001B[39;49m\u001B[43mmean\u001B[49m\u001B[43m(\u001B[49m\u001B[43my_right\u001B[49m\u001B[43m)\u001B[49m \u001B[38;5;241m*\u001B[39m\u001B[38;5;241m*\u001B[39m \u001B[38;5;241m2\u001B[39m\n\u001B[1;32m    200\u001B[0m         \u001B[38;5;241m+\u001B[39m randomization)\n\u001B[1;32m    201\u001B[0m \u001B[38;5;66;03m# Actually need not divide by n1+n2...\u001B[39;00m\n\u001B[1;32m    202\u001B[0m \u001B[38;5;66;03m#print(\"loss:\", loss - randomization)\u001B[39;00m\n\u001B[1;32m    203\u001B[0m \u001B[38;5;66;03m#print(\"randomization:\", randomization)\u001B[39;00m\n\u001B[1;32m    204\u001B[0m \u001B[38;5;28;01mreturn\u001B[39;00m loss\n",
      "File \u001B[0;32m~/Desktop/PhD/SI_Codes/SI-CART/lib/python3.9/site-packages/numpy/_core/fromnumeric.py:3596\u001B[0m, in \u001B[0;36mmean\u001B[0;34m(a, axis, dtype, out, keepdims, where)\u001B[0m\n\u001B[1;32m   3593\u001B[0m     \u001B[38;5;28;01melse\u001B[39;00m:\n\u001B[1;32m   3594\u001B[0m         \u001B[38;5;28;01mreturn\u001B[39;00m mean(axis\u001B[38;5;241m=\u001B[39maxis, dtype\u001B[38;5;241m=\u001B[39mdtype, out\u001B[38;5;241m=\u001B[39mout, \u001B[38;5;241m*\u001B[39m\u001B[38;5;241m*\u001B[39mkwargs)\n\u001B[0;32m-> 3596\u001B[0m \u001B[38;5;28;01mreturn\u001B[39;00m \u001B[43m_methods\u001B[49m\u001B[38;5;241;43m.\u001B[39;49m\u001B[43m_mean\u001B[49m\u001B[43m(\u001B[49m\u001B[43ma\u001B[49m\u001B[43m,\u001B[49m\u001B[43m \u001B[49m\u001B[43maxis\u001B[49m\u001B[38;5;241;43m=\u001B[39;49m\u001B[43maxis\u001B[49m\u001B[43m,\u001B[49m\u001B[43m \u001B[49m\u001B[43mdtype\u001B[49m\u001B[38;5;241;43m=\u001B[39;49m\u001B[43mdtype\u001B[49m\u001B[43m,\u001B[49m\n\u001B[1;32m   3597\u001B[0m \u001B[43m                      \u001B[49m\u001B[43mout\u001B[49m\u001B[38;5;241;43m=\u001B[39;49m\u001B[43mout\u001B[49m\u001B[43m,\u001B[49m\u001B[43m \u001B[49m\u001B[38;5;241;43m*\u001B[39;49m\u001B[38;5;241;43m*\u001B[39;49m\u001B[43mkwargs\u001B[49m\u001B[43m)\u001B[49m\n",
      "File \u001B[0;32m~/Desktop/PhD/SI_Codes/SI-CART/lib/python3.9/site-packages/numpy/_core/_methods.py:127\u001B[0m, in \u001B[0;36m_mean\u001B[0;34m(a, axis, dtype, out, keepdims, where)\u001B[0m\n\u001B[1;32m    124\u001B[0m         dtype \u001B[38;5;241m=\u001B[39m mu\u001B[38;5;241m.\u001B[39mdtype(\u001B[38;5;124m'\u001B[39m\u001B[38;5;124mf4\u001B[39m\u001B[38;5;124m'\u001B[39m)\n\u001B[1;32m    125\u001B[0m         is_float16_result \u001B[38;5;241m=\u001B[39m \u001B[38;5;28;01mTrue\u001B[39;00m\n\u001B[0;32m--> 127\u001B[0m ret \u001B[38;5;241m=\u001B[39m \u001B[43mumr_sum\u001B[49m\u001B[43m(\u001B[49m\u001B[43marr\u001B[49m\u001B[43m,\u001B[49m\u001B[43m \u001B[49m\u001B[43maxis\u001B[49m\u001B[43m,\u001B[49m\u001B[43m \u001B[49m\u001B[43mdtype\u001B[49m\u001B[43m,\u001B[49m\u001B[43m \u001B[49m\u001B[43mout\u001B[49m\u001B[43m,\u001B[49m\u001B[43m \u001B[49m\u001B[43mkeepdims\u001B[49m\u001B[43m,\u001B[49m\u001B[43m \u001B[49m\u001B[43mwhere\u001B[49m\u001B[38;5;241;43m=\u001B[39;49m\u001B[43mwhere\u001B[49m\u001B[43m)\u001B[49m\n\u001B[1;32m    128\u001B[0m \u001B[38;5;28;01mif\u001B[39;00m \u001B[38;5;28misinstance\u001B[39m(ret, mu\u001B[38;5;241m.\u001B[39mndarray):\n\u001B[1;32m    129\u001B[0m     \u001B[38;5;28;01mwith\u001B[39;00m _no_nep50_warning():\n",
      "\u001B[0;31mKeyboardInterrupt\u001B[0m: "
     ]
    }
   ],
   "source": [
    "MSE_dict, min_terminal_size_dict, terminal_size_sd_dict\\\n",
    "    = test_MSE(start=0, end=200, n=200, p=10, sd_y=3, \n",
    "                    noise_sd_list=[0.5, 1, 5, 10],#[0.5, 1, 2, 5, 10, 20, 50], \n",
    "                    a=1,b=1, level=0.1)"
   ],
   "metadata": {
    "collapsed": false,
    "ExecuteTime": {
     "end_time": "2024-10-30T01:49:44.079390Z",
     "start_time": "2024-10-30T01:49:39.109491Z"
    }
   },
   "id": "54a5f24fde5a07fd"
  },
  {
   "cell_type": "code",
   "execution_count": 60,
   "outputs": [
    {
     "name": "stdout",
     "output_type": "stream",
     "text": [
      "MSE :\n",
      " 0.5         11.212429\n",
      "1           11.203970\n",
      "5           10.954146\n",
      "10          10.673095\n",
      "Tree val    11.196518\n",
      "dtype: float64\n",
      "Min Terminal Node Size :\n",
      " 0.5         2.585\n",
      "1           2.430\n",
      "5           2.920\n",
      "10          3.425\n",
      "Tree val    2.525\n",
      "dtype: float64\n",
      "Terminal Node Size SD :\n",
      " 0.5         27.753710\n",
      "1           27.964637\n",
      "5           25.107719\n",
      "10          22.800039\n",
      "Tree val    28.063438\n",
      "dtype: float64\n"
     ]
    },
    {
     "data": {
      "text/plain": "<Figure size 1500x600 with 3 Axes>",
      "image/png": "[encoded data removed]"
     },
     "metadata": {},
     "output_type": "display_data"
    }
   ],
   "source": [
    "boxplots(dfs=[pd.DataFrame(MSE_dict), \n",
    "              pd.DataFrame(min_terminal_size_dict),\n",
    "              pd.DataFrame(terminal_size_sd_dict)], \n",
    "         metrics=[\"MSE\", \"Min Terminal Node Size\", \"Terminal Node Size SD\"])"
   ],
   "metadata": {
    "collapsed": false,
    "ExecuteTime": {
     "end_time": "2024-10-30T00:03:56.765507Z",
     "start_time": "2024-10-30T00:03:56.477234Z"
    }
   },
   "id": "1f1fdfc6173d59e3"
  },
  {
   "cell_type": "code",
   "execution_count": 14,
   "outputs": [],
   "source": [
    "df = pd.concat([pd.DataFrame(MSE_dict).mean(),\n",
    "                pd.DataFrame(min_terminal_size_dict).mean(),\n",
    "                pd.DataFrame(terminal_size_sd_dict).mean()], axis=1)"
   ],
   "metadata": {
    "collapsed": false,
    "ExecuteTime": {
     "end_time": "2024-10-29T19:11:31.258463Z",
     "start_time": "2024-10-29T19:11:31.254634Z"
    }
   },
   "id": "a975716cc6802315"
  },
  {
   "cell_type": "code",
   "execution_count": 15,
   "outputs": [],
   "source": [
    "df.columns = [\"MSE\", \"Min Terminal Node Size\", \"Terminal Node Size SD\"]"
   ],
   "metadata": {
    "collapsed": false,
    "ExecuteTime": {
     "end_time": "2024-10-29T19:11:49.691961Z",
     "start_time": "2024-10-29T19:11:49.689215Z"
    }
   },
   "id": "a588d45452a2299"
  },
  {
   "cell_type": "code",
   "execution_count": 16,
   "outputs": [
    {
     "name": "stdout",
     "output_type": "stream",
     "text": [
      "               MSE  Min Terminal Node Size  Terminal Node Size SD\n",
      "0.5       1.226004                   4.680              20.566696\n",
      "1         1.229484                   5.095              19.509548\n",
      "2         1.209354                   5.050              18.697467\n",
      "5         1.197147                   5.330              17.348051\n",
      "Tree val  1.226276                   4.910              20.343045\n"
     ]
    }
   ],
   "source": [
    "print(df)"
   ],
   "metadata": {
    "collapsed": false,
    "ExecuteTime": {
     "end_time": "2024-10-29T19:11:50.681676Z",
     "start_time": "2024-10-29T19:11:50.674006Z"
    }
   },
   "id": "76e0b7865270481"
  },
  {
   "cell_type": "code",
   "execution_count": 133,
   "outputs": [],
   "source": [
    "# TODO: Check documentation of rpart to see what's the default configuration\n",
    "# of tree-value's fitting algorithm"
   ],
   "metadata": {
    "collapsed": false,
    "ExecuteTime": {
     "end_time": "2024-10-27T22:26:29.146927Z",
     "start_time": "2024-10-27T22:26:29.144644Z"
    }
   },
   "id": "a64b95fbee0276c4"
  },
  {
   "cell_type": "code",
   "execution_count": 61,
   "outputs": [
    {
     "data": {
      "text/plain": "np.float64(9.0)"
     },
     "execution_count": 61,
     "metadata": {},
     "output_type": "execute_result"
    }
   ],
   "source": [
    "reg_tree.terminal_nodes[3].membership.sum()"
   ],
   "metadata": {
    "collapsed": false,
    "ExecuteTime": {
     "end_time": "2024-10-28T19:40:03.845545Z",
     "start_time": "2024-10-28T19:40:03.832127Z"
    }
   },
   "id": "27958dd1d633854a"
  },
  {
   "cell_type": "code",
   "execution_count": null,
   "outputs": [],
   "source": [],
   "metadata": {
    "collapsed": false
   },
   "id": "7ed964a18bceb670"
  }
 ],
 "metadata": {
  "kernelspec": {
   "display_name": "Python 3",
   "language": "python",
   "name": "python3"
  },
  "language_info": {
   "codemirror_mode": {
    "name": "ipython",
    "version": 2
   },
   "file_extension": ".py",
   "mimetype": "text/x-python",
   "name": "python",
   "nbconvert_exporter": "python",
   "pygments_lexer": "ipython2",
   "version": "2.7.6"
  }
 },
 "nbformat": 4,
 "nbformat_minor": 5
}
