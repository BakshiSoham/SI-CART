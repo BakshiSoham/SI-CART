{
 "cells": [
  {
   "cell_type": "code",
   "execution_count": 9,
   "id": "initial_id",
   "metadata": {
    "collapsed": true,
    "ExecuteTime": {
     "end_time": "2024-10-18T01:41:07.565790Z",
     "start_time": "2024-10-18T01:41:07.560145Z"
    }
   },
   "outputs": [],
   "source": [
    "import joblib\n",
    "import matplotlib.pyplot as plt\n",
    "import numpy as np\n",
    "import pandas as pd"
   ]
  },
  {
   "cell_type": "code",
   "execution_count": 2,
   "outputs": [],
   "source": [
    "n_task_per_file = 1\n",
    "n_files = 10\n",
    "base_dir = \"toy_eg_\"\n",
    "files_list = []\n",
    "for i in range(n_files):\n",
    "    dir = base_dir + str(i*n_task_per_file) + \"_\"  + str((i+1)*n_task_per_file) + \".pkl\"\n",
    "    files_list.append(dir)"
   ],
   "metadata": {
    "collapsed": false,
    "ExecuteTime": {
     "end_time": "2024-10-18T01:39:04.190522Z",
     "start_time": "2024-10-18T01:39:04.184925Z"
    }
   },
   "id": "15c24ca328824b39"
  },
  {
   "cell_type": "code",
   "execution_count": 14,
   "outputs": [],
   "source": [
    "coverage_df = pd.DataFrame()\n",
    "length_df = pd.DataFrame()\n",
    "MSE_df = pd.DataFrame()\n",
    "\n",
    "for f_dir in files_list:\n",
    "    coverage_i, length_i, MSE_i = joblib.load(f_dir)\n",
    "    coverage_df = pd.concat([coverage_df, pd.DataFrame(coverage_i)])\n",
    "    length_df = pd.concat([length_df, pd.DataFrame(length_i)])\n",
    "    MSE_df = pd.concat([MSE_df, pd.DataFrame(MSE_i)])"
   ],
   "metadata": {
    "collapsed": false,
    "ExecuteTime": {
     "end_time": "2024-10-18T01:43:40.311673Z",
     "start_time": "2024-10-18T01:43:40.293146Z"
    }
   },
   "id": "44ea9729e9ad0ae7"
  },
  {
   "cell_type": "code",
   "execution_count": 15,
   "outputs": [
    {
     "data": {
      "text/plain": "     0.5      1    2         4  Tree val  Naive\n0  1.000  1.000  1.0  1.000000  1.000000    1.0\n0  1.000  1.000  1.0  0.000000  0.857143    1.0\n0  1.000  1.000  1.0  1.000000  1.000000    1.0\n0  1.000  1.000  1.0  1.000000  1.000000    1.0\n0  1.000  1.000  1.0  0.625000  1.000000    1.0\n0  1.000  1.000  1.0  0.500000  1.000000    1.0\n0  1.000  1.000  1.0  0.750000  1.000000    1.0\n0  1.000  1.000  1.0  0.875000  1.000000    1.0\n0  1.000  1.000  0.0  1.000000  0.714286    1.0\n0  0.875  0.875  1.0  0.857143  0.857143    1.0",
      "text/html": "<div>\n<style scoped>\n    .dataframe tbody tr th:only-of-type {\n        vertical-align: middle;\n    }\n\n    .dataframe tbody tr th {\n        vertical-align: top;\n    }\n\n    .dataframe thead th {\n        text-align: right;\n    }\n</style>\n<table border=\"1\" class=\"dataframe\">\n  <thead>\n    <tr style=\"text-align: right;\">\n      <th></th>\n      <th>0.5</th>\n      <th>1</th>\n      <th>2</th>\n      <th>4</th>\n      <th>Tree val</th>\n      <th>Naive</th>\n    </tr>\n  </thead>\n  <tbody>\n    <tr>\n      <th>0</th>\n      <td>1.000</td>\n      <td>1.000</td>\n      <td>1.0</td>\n      <td>1.000000</td>\n      <td>1.000000</td>\n      <td>1.0</td>\n    </tr>\n    <tr>\n      <th>0</th>\n      <td>1.000</td>\n      <td>1.000</td>\n      <td>1.0</td>\n      <td>0.000000</td>\n      <td>0.857143</td>\n      <td>1.0</td>\n    </tr>\n    <tr>\n      <th>0</th>\n      <td>1.000</td>\n      <td>1.000</td>\n      <td>1.0</td>\n      <td>1.000000</td>\n      <td>1.000000</td>\n      <td>1.0</td>\n    </tr>\n    <tr>\n      <th>0</th>\n      <td>1.000</td>\n      <td>1.000</td>\n      <td>1.0</td>\n      <td>1.000000</td>\n      <td>1.000000</td>\n      <td>1.0</td>\n    </tr>\n    <tr>\n      <th>0</th>\n      <td>1.000</td>\n      <td>1.000</td>\n      <td>1.0</td>\n      <td>0.625000</td>\n      <td>1.000000</td>\n      <td>1.0</td>\n    </tr>\n    <tr>\n      <th>0</th>\n      <td>1.000</td>\n      <td>1.000</td>\n      <td>1.0</td>\n      <td>0.500000</td>\n      <td>1.000000</td>\n      <td>1.0</td>\n    </tr>\n    <tr>\n      <th>0</th>\n      <td>1.000</td>\n      <td>1.000</td>\n      <td>1.0</td>\n      <td>0.750000</td>\n      <td>1.000000</td>\n      <td>1.0</td>\n    </tr>\n    <tr>\n      <th>0</th>\n      <td>1.000</td>\n      <td>1.000</td>\n      <td>1.0</td>\n      <td>0.875000</td>\n      <td>1.000000</td>\n      <td>1.0</td>\n    </tr>\n    <tr>\n      <th>0</th>\n      <td>1.000</td>\n      <td>1.000</td>\n      <td>0.0</td>\n      <td>1.000000</td>\n      <td>0.714286</td>\n      <td>1.0</td>\n    </tr>\n    <tr>\n      <th>0</th>\n      <td>0.875</td>\n      <td>0.875</td>\n      <td>1.0</td>\n      <td>0.857143</td>\n      <td>0.857143</td>\n      <td>1.0</td>\n    </tr>\n  </tbody>\n</table>\n</div>"
     },
     "execution_count": 15,
     "metadata": {},
     "output_type": "execute_result"
    }
   ],
   "source": [
    "coverage_df"
   ],
   "metadata": {
    "collapsed": false,
    "ExecuteTime": {
     "end_time": "2024-10-18T01:43:46.006600Z",
     "start_time": "2024-10-18T01:43:46.003560Z"
    }
   },
   "id": "6d1f1fad39e063ac"
  },
  {
   "cell_type": "code",
   "execution_count": 16,
   "outputs": [
    {
     "data": {
      "text/plain": "          0.5         1         2          4   Tree val     Naive\n0    3.882121  3.868611  3.698944   3.856747   9.323875  2.969490\n0    4.100261  4.053153  2.886294   9.748187  35.679457  2.641601\n0    7.550168  6.868452  5.505902   5.776881  10.301341  2.747489\n0    4.193626  4.106990  4.372931   3.756626   4.311033  2.713348\n0    3.623448  3.956721  8.327254   4.473541   4.026364  2.545088\n0    5.471195  4.202062  7.426554  10.135689   9.778916  2.922670\n0  561.776212  3.980411  3.322490  34.076406   8.303972  2.836030\n0    3.697557  4.999955  3.422815   3.824883   7.527026  2.793989\n0    5.101411  4.017408  7.181287   3.292277  17.419418  2.804867\n0    3.840789  5.838377  4.712252   3.919923  23.191316  2.825336",
      "text/html": "<div>\n<style scoped>\n    .dataframe tbody tr th:only-of-type {\n        vertical-align: middle;\n    }\n\n    .dataframe tbody tr th {\n        vertical-align: top;\n    }\n\n    .dataframe thead th {\n        text-align: right;\n    }\n</style>\n<table border=\"1\" class=\"dataframe\">\n  <thead>\n    <tr style=\"text-align: right;\">\n      <th></th>\n      <th>0.5</th>\n      <th>1</th>\n      <th>2</th>\n      <th>4</th>\n      <th>Tree val</th>\n      <th>Naive</th>\n    </tr>\n  </thead>\n  <tbody>\n    <tr>\n      <th>0</th>\n      <td>3.882121</td>\n      <td>3.868611</td>\n      <td>3.698944</td>\n      <td>3.856747</td>\n      <td>9.323875</td>\n      <td>2.969490</td>\n    </tr>\n    <tr>\n      <th>0</th>\n      <td>4.100261</td>\n      <td>4.053153</td>\n      <td>2.886294</td>\n      <td>9.748187</td>\n      <td>35.679457</td>\n      <td>2.641601</td>\n    </tr>\n    <tr>\n      <th>0</th>\n      <td>7.550168</td>\n      <td>6.868452</td>\n      <td>5.505902</td>\n      <td>5.776881</td>\n      <td>10.301341</td>\n      <td>2.747489</td>\n    </tr>\n    <tr>\n      <th>0</th>\n      <td>4.193626</td>\n      <td>4.106990</td>\n      <td>4.372931</td>\n      <td>3.756626</td>\n      <td>4.311033</td>\n      <td>2.713348</td>\n    </tr>\n    <tr>\n      <th>0</th>\n      <td>3.623448</td>\n      <td>3.956721</td>\n      <td>8.327254</td>\n      <td>4.473541</td>\n      <td>4.026364</td>\n      <td>2.545088</td>\n    </tr>\n    <tr>\n      <th>0</th>\n      <td>5.471195</td>\n      <td>4.202062</td>\n      <td>7.426554</td>\n      <td>10.135689</td>\n      <td>9.778916</td>\n      <td>2.922670</td>\n    </tr>\n    <tr>\n      <th>0</th>\n      <td>561.776212</td>\n      <td>3.980411</td>\n      <td>3.322490</td>\n      <td>34.076406</td>\n      <td>8.303972</td>\n      <td>2.836030</td>\n    </tr>\n    <tr>\n      <th>0</th>\n      <td>3.697557</td>\n      <td>4.999955</td>\n      <td>3.422815</td>\n      <td>3.824883</td>\n      <td>7.527026</td>\n      <td>2.793989</td>\n    </tr>\n    <tr>\n      <th>0</th>\n      <td>5.101411</td>\n      <td>4.017408</td>\n      <td>7.181287</td>\n      <td>3.292277</td>\n      <td>17.419418</td>\n      <td>2.804867</td>\n    </tr>\n    <tr>\n      <th>0</th>\n      <td>3.840789</td>\n      <td>5.838377</td>\n      <td>4.712252</td>\n      <td>3.919923</td>\n      <td>23.191316</td>\n      <td>2.825336</td>\n    </tr>\n  </tbody>\n</table>\n</div>"
     },
     "execution_count": 16,
     "metadata": {},
     "output_type": "execute_result"
    }
   ],
   "source": [
    "length_df"
   ],
   "metadata": {
    "collapsed": false,
    "ExecuteTime": {
     "end_time": "2024-10-18T01:44:13.111667Z",
     "start_time": "2024-10-18T01:44:13.106752Z"
    }
   },
   "id": "d0d1248252b6e9fe"
  },
  {
   "cell_type": "code",
   "execution_count": 17,
   "outputs": [
    {
     "data": {
      "text/plain": "        0.5         1         2         4  Tree val     Naive\n0  1.476998  1.394579  1.527654  1.383172  1.411155  1.411155\n0  1.232420  1.334334  1.420147  1.293367  1.670304  1.670304\n0  1.622761  1.616254  1.605236  1.513530  1.579990  1.579990\n0  1.403274  1.331563  1.432673  1.297875  1.377786  1.377786\n0  0.990692  1.147635  1.057596  1.155539  0.892236  0.892236\n0  1.303342  1.498310  1.599830  1.563947  1.614076  1.614076\n0  1.752421  1.702985  1.773980  1.723966  1.443153  1.443153\n0  1.068633  1.165936  1.226417  1.120528  1.131828  1.131828\n0  1.223312  1.267165  1.287002  1.275147  1.263200  1.263200\n0  1.674736  1.671623  1.675048  1.714451  1.577431  1.577431",
      "text/html": "<div>\n<style scoped>\n    .dataframe tbody tr th:only-of-type {\n        vertical-align: middle;\n    }\n\n    .dataframe tbody tr th {\n        vertical-align: top;\n    }\n\n    .dataframe thead th {\n        text-align: right;\n    }\n</style>\n<table border=\"1\" class=\"dataframe\">\n  <thead>\n    <tr style=\"text-align: right;\">\n      <th></th>\n      <th>0.5</th>\n      <th>1</th>\n      <th>2</th>\n      <th>4</th>\n      <th>Tree val</th>\n      <th>Naive</th>\n    </tr>\n  </thead>\n  <tbody>\n    <tr>\n      <th>0</th>\n      <td>1.476998</td>\n      <td>1.394579</td>\n      <td>1.527654</td>\n      <td>1.383172</td>\n      <td>1.411155</td>\n      <td>1.411155</td>\n    </tr>\n    <tr>\n      <th>0</th>\n      <td>1.232420</td>\n      <td>1.334334</td>\n      <td>1.420147</td>\n      <td>1.293367</td>\n      <td>1.670304</td>\n      <td>1.670304</td>\n    </tr>\n    <tr>\n      <th>0</th>\n      <td>1.622761</td>\n      <td>1.616254</td>\n      <td>1.605236</td>\n      <td>1.513530</td>\n      <td>1.579990</td>\n      <td>1.579990</td>\n    </tr>\n    <tr>\n      <th>0</th>\n      <td>1.403274</td>\n      <td>1.331563</td>\n      <td>1.432673</td>\n      <td>1.297875</td>\n      <td>1.377786</td>\n      <td>1.377786</td>\n    </tr>\n    <tr>\n      <th>0</th>\n      <td>0.990692</td>\n      <td>1.147635</td>\n      <td>1.057596</td>\n      <td>1.155539</td>\n      <td>0.892236</td>\n      <td>0.892236</td>\n    </tr>\n    <tr>\n      <th>0</th>\n      <td>1.303342</td>\n      <td>1.498310</td>\n      <td>1.599830</td>\n      <td>1.563947</td>\n      <td>1.614076</td>\n      <td>1.614076</td>\n    </tr>\n    <tr>\n      <th>0</th>\n      <td>1.752421</td>\n      <td>1.702985</td>\n      <td>1.773980</td>\n      <td>1.723966</td>\n      <td>1.443153</td>\n      <td>1.443153</td>\n    </tr>\n    <tr>\n      <th>0</th>\n      <td>1.068633</td>\n      <td>1.165936</td>\n      <td>1.226417</td>\n      <td>1.120528</td>\n      <td>1.131828</td>\n      <td>1.131828</td>\n    </tr>\n    <tr>\n      <th>0</th>\n      <td>1.223312</td>\n      <td>1.267165</td>\n      <td>1.287002</td>\n      <td>1.275147</td>\n      <td>1.263200</td>\n      <td>1.263200</td>\n    </tr>\n    <tr>\n      <th>0</th>\n      <td>1.674736</td>\n      <td>1.671623</td>\n      <td>1.675048</td>\n      <td>1.714451</td>\n      <td>1.577431</td>\n      <td>1.577431</td>\n    </tr>\n  </tbody>\n</table>\n</div>"
     },
     "execution_count": 17,
     "metadata": {},
     "output_type": "execute_result"
    }
   ],
   "source": [
    "MSE_df"
   ],
   "metadata": {
    "collapsed": false,
    "ExecuteTime": {
     "end_time": "2024-10-18T01:44:36.886822Z",
     "start_time": "2024-10-18T01:44:36.877130Z"
    }
   },
   "id": "1c29233a2057cd3"
  },
  {
   "cell_type": "code",
   "execution_count": null,
   "outputs": [],
   "source": [],
   "metadata": {
    "collapsed": false
   },
   "id": "6b8550a6c1ca31c2"
  }
 ],
 "metadata": {
  "kernelspec": {
   "display_name": "Python 3",
   "language": "python",
   "name": "python3"
  },
  "language_info": {
   "codemirror_mode": {
    "name": "ipython",
    "version": 2
   },
   "file_extension": ".py",
   "mimetype": "text/x-python",
   "name": "python",
   "nbconvert_exporter": "python",
   "pygments_lexer": "ipython2",
   "version": "2.7.6"
  }
 },
 "nbformat": 4,
 "nbformat_minor": 5
}
