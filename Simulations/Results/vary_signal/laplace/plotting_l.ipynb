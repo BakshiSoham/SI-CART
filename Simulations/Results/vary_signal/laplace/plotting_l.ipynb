{
 "cells": [
  {
   "cell_type": "code",
   "execution_count": 4,
   "id": "initial_id",
   "metadata": {
    "collapsed": true,
    "ExecuteTime": {
     "end_time": "2024-11-09T20:03:48.951184Z",
     "start_time": "2024-11-09T20:03:48.936376Z"
    }
   },
   "outputs": [],
   "source": [
    "import joblib\n",
    "import matplotlib.pyplot as plt\n",
    "import numpy as np\n",
    "import pandas as pd\n",
    "import seaborn as sns"
   ]
  },
  {
   "cell_type": "code",
   "execution_count": 5,
   "outputs": [],
   "source": [
    "n_task_per_file = 50\n",
    "n_files = 10\n",
    "base_dir = \"toy_eg_stage1_\"\n",
    "files_list = []\n",
    "for i in range(n_files):\n",
    "    dir = base_dir + str(i*n_task_per_file) + \"_\"  + str((i+1)*n_task_per_file) + \".pkl\"\n",
    "    files_list.append(dir)"
   ],
   "metadata": {
    "collapsed": false,
    "ExecuteTime": {
     "end_time": "2024-11-09T20:03:52.106560Z",
     "start_time": "2024-11-09T20:03:52.094822Z"
    }
   },
   "id": "15c24ca328824b39"
  },
  {
   "cell_type": "code",
   "execution_count": 6,
   "outputs": [],
   "source": [
    "coverage_df = pd.DataFrame()\n",
    "length_df = pd.DataFrame()\n",
    "MSE_df = pd.DataFrame()\n",
    "\n",
    "for f_dir in files_list:\n",
    "    coverage_i, length_i, MSE_i = joblib.load(f_dir)\n",
    "    coverage_df = pd.concat([coverage_df, pd.DataFrame(coverage_i)])\n",
    "    length_df = pd.concat([length_df, pd.DataFrame(length_i)])\n",
    "    MSE_df = pd.concat([MSE_df, pd.DataFrame(MSE_i)])"
   ],
   "metadata": {
    "collapsed": false,
    "ExecuteTime": {
     "end_time": "2024-11-09T20:03:52.362575Z",
     "start_time": "2024-11-09T20:03:52.315578Z"
    }
   },
   "id": "44ea9729e9ad0ae7"
  },
  {
   "cell_type": "code",
   "execution_count": 7,
   "outputs": [
    {
     "data": {
      "text/plain": "    1.0       2.5       5.0      10.0  Tree val     Naive\n0   1.0  1.000000  1.000000  1.000000  0.714286  0.714286\n1   1.0  0.833333  1.000000  1.000000  1.000000  0.500000\n2   0.5  1.000000  1.000000  1.000000  1.000000  0.666667\n3   1.0  0.666667  0.666667  1.000000  1.000000  0.666667\n4   1.0  1.000000  1.000000  1.000000  1.000000  0.500000\n..  ...       ...       ...       ...       ...       ...\n45  1.0  0.833333  0.833333  0.666667  1.000000  0.714286\n46  1.0  1.000000  0.833333  0.500000  0.500000  0.666667\n47  1.0  1.000000  0.833333  1.000000  1.000000  0.500000\n48  1.0  0.833333  1.000000  0.833333  1.000000  0.666667\n49  1.0  0.833333  1.000000  1.000000  1.000000  0.400000\n\n[500 rows x 6 columns]",
      "text/html": "<div>\n<style scoped>\n    .dataframe tbody tr th:only-of-type {\n        vertical-align: middle;\n    }\n\n    .dataframe tbody tr th {\n        vertical-align: top;\n    }\n\n    .dataframe thead th {\n        text-align: right;\n    }\n</style>\n<table border=\"1\" class=\"dataframe\">\n  <thead>\n    <tr style=\"text-align: right;\">\n      <th></th>\n      <th>1.0</th>\n      <th>2.5</th>\n      <th>5.0</th>\n      <th>10.0</th>\n      <th>Tree val</th>\n      <th>Naive</th>\n    </tr>\n  </thead>\n  <tbody>\n    <tr>\n      <th>0</th>\n      <td>1.0</td>\n      <td>1.000000</td>\n      <td>1.000000</td>\n      <td>1.000000</td>\n      <td>0.714286</td>\n      <td>0.714286</td>\n    </tr>\n    <tr>\n      <th>1</th>\n      <td>1.0</td>\n      <td>0.833333</td>\n      <td>1.000000</td>\n      <td>1.000000</td>\n      <td>1.000000</td>\n      <td>0.500000</td>\n    </tr>\n    <tr>\n      <th>2</th>\n      <td>0.5</td>\n      <td>1.000000</td>\n      <td>1.000000</td>\n      <td>1.000000</td>\n      <td>1.000000</td>\n      <td>0.666667</td>\n    </tr>\n    <tr>\n      <th>3</th>\n      <td>1.0</td>\n      <td>0.666667</td>\n      <td>0.666667</td>\n      <td>1.000000</td>\n      <td>1.000000</td>\n      <td>0.666667</td>\n    </tr>\n    <tr>\n      <th>4</th>\n      <td>1.0</td>\n      <td>1.000000</td>\n      <td>1.000000</td>\n      <td>1.000000</td>\n      <td>1.000000</td>\n      <td>0.500000</td>\n    </tr>\n    <tr>\n      <th>...</th>\n      <td>...</td>\n      <td>...</td>\n      <td>...</td>\n      <td>...</td>\n      <td>...</td>\n      <td>...</td>\n    </tr>\n    <tr>\n      <th>45</th>\n      <td>1.0</td>\n      <td>0.833333</td>\n      <td>0.833333</td>\n      <td>0.666667</td>\n      <td>1.000000</td>\n      <td>0.714286</td>\n    </tr>\n    <tr>\n      <th>46</th>\n      <td>1.0</td>\n      <td>1.000000</td>\n      <td>0.833333</td>\n      <td>0.500000</td>\n      <td>0.500000</td>\n      <td>0.666667</td>\n    </tr>\n    <tr>\n      <th>47</th>\n      <td>1.0</td>\n      <td>1.000000</td>\n      <td>0.833333</td>\n      <td>1.000000</td>\n      <td>1.000000</td>\n      <td>0.500000</td>\n    </tr>\n    <tr>\n      <th>48</th>\n      <td>1.0</td>\n      <td>0.833333</td>\n      <td>1.000000</td>\n      <td>0.833333</td>\n      <td>1.000000</td>\n      <td>0.666667</td>\n    </tr>\n    <tr>\n      <th>49</th>\n      <td>1.0</td>\n      <td>0.833333</td>\n      <td>1.000000</td>\n      <td>1.000000</td>\n      <td>1.000000</td>\n      <td>0.400000</td>\n    </tr>\n  </tbody>\n</table>\n<p>500 rows × 6 columns</p>\n</div>"
     },
     "execution_count": 7,
     "metadata": {},
     "output_type": "execute_result"
    }
   ],
   "source": [
    "coverage_df"
   ],
   "metadata": {
    "collapsed": false,
    "ExecuteTime": {
     "end_time": "2024-11-09T20:03:52.707722Z",
     "start_time": "2024-11-09T20:03:52.698588Z"
    }
   },
   "id": "6d1f1fad39e063ac"
  },
  {
   "cell_type": "code",
   "execution_count": 8,
   "outputs": [
    {
     "data": {
      "text/plain": "         1.0        2.5       5.0      10.0    Tree val     Naive\n0   2.101828   1.498957  1.259517  1.177591   61.972947  1.258967\n1   2.080014   1.394050  1.555499  3.332368    4.957987  1.166525\n2   1.588627  22.984794  1.991801  1.407086    3.651723  1.178633\n3   1.940358   1.274430  1.171616  1.215568   18.375717  1.175594\n4   2.099173   1.447830  2.214922  1.226444    9.107409  1.148400\n..       ...        ...       ...       ...         ...       ...\n45  1.906959  18.934057  1.928816  1.222718   22.018867  1.282862\n46  2.226842   4.162180  1.585557  1.405087  374.531061  1.164780\n47  2.114453   1.253282  1.286865  1.194254    6.568403  1.173632\n48  1.839150   1.340730  1.315674  1.190927    5.265956  1.155154\n49  1.922826   2.572326  1.355446  1.467448    4.563839  1.061944\n\n[500 rows x 6 columns]",
      "text/html": "<div>\n<style scoped>\n    .dataframe tbody tr th:only-of-type {\n        vertical-align: middle;\n    }\n\n    .dataframe tbody tr th {\n        vertical-align: top;\n    }\n\n    .dataframe thead th {\n        text-align: right;\n    }\n</style>\n<table border=\"1\" class=\"dataframe\">\n  <thead>\n    <tr style=\"text-align: right;\">\n      <th></th>\n      <th>1.0</th>\n      <th>2.5</th>\n      <th>5.0</th>\n      <th>10.0</th>\n      <th>Tree val</th>\n      <th>Naive</th>\n    </tr>\n  </thead>\n  <tbody>\n    <tr>\n      <th>0</th>\n      <td>2.101828</td>\n      <td>1.498957</td>\n      <td>1.259517</td>\n      <td>1.177591</td>\n      <td>61.972947</td>\n      <td>1.258967</td>\n    </tr>\n    <tr>\n      <th>1</th>\n      <td>2.080014</td>\n      <td>1.394050</td>\n      <td>1.555499</td>\n      <td>3.332368</td>\n      <td>4.957987</td>\n      <td>1.166525</td>\n    </tr>\n    <tr>\n      <th>2</th>\n      <td>1.588627</td>\n      <td>22.984794</td>\n      <td>1.991801</td>\n      <td>1.407086</td>\n      <td>3.651723</td>\n      <td>1.178633</td>\n    </tr>\n    <tr>\n      <th>3</th>\n      <td>1.940358</td>\n      <td>1.274430</td>\n      <td>1.171616</td>\n      <td>1.215568</td>\n      <td>18.375717</td>\n      <td>1.175594</td>\n    </tr>\n    <tr>\n      <th>4</th>\n      <td>2.099173</td>\n      <td>1.447830</td>\n      <td>2.214922</td>\n      <td>1.226444</td>\n      <td>9.107409</td>\n      <td>1.148400</td>\n    </tr>\n    <tr>\n      <th>...</th>\n      <td>...</td>\n      <td>...</td>\n      <td>...</td>\n      <td>...</td>\n      <td>...</td>\n      <td>...</td>\n    </tr>\n    <tr>\n      <th>45</th>\n      <td>1.906959</td>\n      <td>18.934057</td>\n      <td>1.928816</td>\n      <td>1.222718</td>\n      <td>22.018867</td>\n      <td>1.282862</td>\n    </tr>\n    <tr>\n      <th>46</th>\n      <td>2.226842</td>\n      <td>4.162180</td>\n      <td>1.585557</td>\n      <td>1.405087</td>\n      <td>374.531061</td>\n      <td>1.164780</td>\n    </tr>\n    <tr>\n      <th>47</th>\n      <td>2.114453</td>\n      <td>1.253282</td>\n      <td>1.286865</td>\n      <td>1.194254</td>\n      <td>6.568403</td>\n      <td>1.173632</td>\n    </tr>\n    <tr>\n      <th>48</th>\n      <td>1.839150</td>\n      <td>1.340730</td>\n      <td>1.315674</td>\n      <td>1.190927</td>\n      <td>5.265956</td>\n      <td>1.155154</td>\n    </tr>\n    <tr>\n      <th>49</th>\n      <td>1.922826</td>\n      <td>2.572326</td>\n      <td>1.355446</td>\n      <td>1.467448</td>\n      <td>4.563839</td>\n      <td>1.061944</td>\n    </tr>\n  </tbody>\n</table>\n<p>500 rows × 6 columns</p>\n</div>"
     },
     "execution_count": 8,
     "metadata": {},
     "output_type": "execute_result"
    }
   ],
   "source": [
    "length_df"
   ],
   "metadata": {
    "collapsed": false,
    "ExecuteTime": {
     "end_time": "2024-11-09T20:03:52.984372Z",
     "start_time": "2024-11-09T20:03:52.970829Z"
    }
   },
   "id": "d0d1248252b6e9fe"
  },
  {
   "cell_type": "code",
   "execution_count": 9,
   "outputs": [
    {
     "data": {
      "text/plain": "         1.0       2.5       5.0      10.0  Tree val     Naive\n0   4.754626  5.385438  6.062667  5.715567  4.774639  4.774639\n1   5.007723  4.517161  5.284633  5.598432  4.747049  4.747049\n2   5.004523  4.477550  4.936360  5.975434  4.853868  4.853868\n3   6.023852  5.498041  6.179695  6.447653  5.547141  5.547141\n4   3.863381  4.093041  4.473121  4.453665  4.162055  4.162055\n..       ...       ...       ...       ...       ...       ...\n45  4.504989  4.552447  4.692785  5.201841  4.976313  4.976313\n46  4.621166  4.948239  6.182258  5.300265  5.266812  5.266812\n47  4.717608  4.603610  5.317180  5.558006  4.680895  4.680895\n48  3.957127  4.572552  3.898007  5.014722  3.773166  3.773166\n49  4.821871  5.303083  5.674479  5.864454  5.560331  5.560331\n\n[500 rows x 6 columns]",
      "text/html": "<div>\n<style scoped>\n    .dataframe tbody tr th:only-of-type {\n        vertical-align: middle;\n    }\n\n    .dataframe tbody tr th {\n        vertical-align: top;\n    }\n\n    .dataframe thead th {\n        text-align: right;\n    }\n</style>\n<table border=\"1\" class=\"dataframe\">\n  <thead>\n    <tr style=\"text-align: right;\">\n      <th></th>\n      <th>1.0</th>\n      <th>2.5</th>\n      <th>5.0</th>\n      <th>10.0</th>\n      <th>Tree val</th>\n      <th>Naive</th>\n    </tr>\n  </thead>\n  <tbody>\n    <tr>\n      <th>0</th>\n      <td>4.754626</td>\n      <td>5.385438</td>\n      <td>6.062667</td>\n      <td>5.715567</td>\n      <td>4.774639</td>\n      <td>4.774639</td>\n    </tr>\n    <tr>\n      <th>1</th>\n      <td>5.007723</td>\n      <td>4.517161</td>\n      <td>5.284633</td>\n      <td>5.598432</td>\n      <td>4.747049</td>\n      <td>4.747049</td>\n    </tr>\n    <tr>\n      <th>2</th>\n      <td>5.004523</td>\n      <td>4.477550</td>\n      <td>4.936360</td>\n      <td>5.975434</td>\n      <td>4.853868</td>\n      <td>4.853868</td>\n    </tr>\n    <tr>\n      <th>3</th>\n      <td>6.023852</td>\n      <td>5.498041</td>\n      <td>6.179695</td>\n      <td>6.447653</td>\n      <td>5.547141</td>\n      <td>5.547141</td>\n    </tr>\n    <tr>\n      <th>4</th>\n      <td>3.863381</td>\n      <td>4.093041</td>\n      <td>4.473121</td>\n      <td>4.453665</td>\n      <td>4.162055</td>\n      <td>4.162055</td>\n    </tr>\n    <tr>\n      <th>...</th>\n      <td>...</td>\n      <td>...</td>\n      <td>...</td>\n      <td>...</td>\n      <td>...</td>\n      <td>...</td>\n    </tr>\n    <tr>\n      <th>45</th>\n      <td>4.504989</td>\n      <td>4.552447</td>\n      <td>4.692785</td>\n      <td>5.201841</td>\n      <td>4.976313</td>\n      <td>4.976313</td>\n    </tr>\n    <tr>\n      <th>46</th>\n      <td>4.621166</td>\n      <td>4.948239</td>\n      <td>6.182258</td>\n      <td>5.300265</td>\n      <td>5.266812</td>\n      <td>5.266812</td>\n    </tr>\n    <tr>\n      <th>47</th>\n      <td>4.717608</td>\n      <td>4.603610</td>\n      <td>5.317180</td>\n      <td>5.558006</td>\n      <td>4.680895</td>\n      <td>4.680895</td>\n    </tr>\n    <tr>\n      <th>48</th>\n      <td>3.957127</td>\n      <td>4.572552</td>\n      <td>3.898007</td>\n      <td>5.014722</td>\n      <td>3.773166</td>\n      <td>3.773166</td>\n    </tr>\n    <tr>\n      <th>49</th>\n      <td>4.821871</td>\n      <td>5.303083</td>\n      <td>5.674479</td>\n      <td>5.864454</td>\n      <td>5.560331</td>\n      <td>5.560331</td>\n    </tr>\n  </tbody>\n</table>\n<p>500 rows × 6 columns</p>\n</div>"
     },
     "execution_count": 9,
     "metadata": {},
     "output_type": "execute_result"
    }
   ],
   "source": [
    "MSE_df"
   ],
   "metadata": {
    "collapsed": false,
    "ExecuteTime": {
     "end_time": "2024-11-09T20:03:53.361388Z",
     "start_time": "2024-11-09T20:03:53.355687Z"
    }
   },
   "id": "1c29233a2057cd3"
  },
  {
   "cell_type": "code",
   "execution_count": 21,
   "outputs": [],
   "source": [
    "import matplotlib.pyplot as plt\n",
    "import seaborn as sns\n",
    "\n",
    "# Assuming your DataFrame is named df\n",
    "metrics = [\"Coverage Rate\", \"Length\", \"MSE\"]\n",
    "\n",
    "# Set up the figure and axes for subplots\n",
    "fig, axes = plt.subplots(1, 3, figsize=(10, 6), sharey=False)\n",
    "\n",
    "# Iterate over each metric and create a box plot\n",
    "for i, metric in enumerate(metrics):\n",
    "    sns.boxplot(x='SD(Y)', y=metric, hue='Method', data=oper_char_df, ax=axes[i])\n",
    "    axes[i].set_title(f'Box Plot of {metric} by SD and Method')\n",
    "    axes[i].set_xlabel('SD(Y)')\n",
    "    axes[i].set_ylabel(metric if i == 0 else '')  # Only set ylabel on the first plot for clarity\n",
    "    axes[i].legend(title='Method', loc='upper right')\n",
    "    if metric == \"Coverage Rate\":\n",
    "        axes[i].set_ylim(0,1)\n",
    "        axes[i].axhline(y=0.9, linestyle='dotted', color='grey')\n",
    "    elif metric == \"Length\":\n",
    "        axes[i].set_ylim(0,100)\n",
    "    elif metric == \"MSE\":\n",
    "        axes[i].set_ylim(0,200)\n",
    "\n",
    "# Adjust layout and display\n",
    "plt.tight_layout()\n",
    "plt.show()\n",
    "\n"
   ],
   "metadata": {
    "collapsed": false,
    "ExecuteTime": {
     "end_time": "2024-11-09T20:14:39.711571Z",
     "start_time": "2024-11-09T20:14:39.707869Z"
    }
   },
   "id": "6b8550a6c1ca31c2"
  },
  {
   "cell_type": "code",
   "execution_count": 24,
   "outputs": [],
   "source": [
    "# TODO: Case 1 with 1, 5, 10"
   ],
   "metadata": {
    "collapsed": false,
    "ExecuteTime": {
     "end_time": "2024-11-09T20:15:07.063909Z",
     "start_time": "2024-11-09T20:15:07.061224Z"
    }
   },
   "id": "2104c532f1fdbed9"
  },
  {
   "cell_type": "code",
   "execution_count": null,
   "outputs": [],
   "source": [],
   "metadata": {
    "collapsed": false
   },
   "id": "e98c80263459f9de"
  }
 ],
 "metadata": {
  "kernelspec": {
   "display_name": "Python 3",
   "language": "python",
   "name": "python3"
  },
  "language_info": {
   "codemirror_mode": {
    "name": "ipython",
    "version": 2
   },
   "file_extension": ".py",
   "mimetype": "text/x-python",
   "name": "python",
   "nbconvert_exporter": "python",
   "pygments_lexer": "ipython2",
   "version": "2.7.6"
  }
 },
 "nbformat": 4,
 "nbformat_minor": 5
}
