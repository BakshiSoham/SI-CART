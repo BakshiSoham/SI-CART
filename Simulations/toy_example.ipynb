{
 "cells": [
  {
   "cell_type": "code",
   "execution_count": 5,
   "id": "initial_id",
   "metadata": {
    "collapsed": true,
    "ExecuteTime": {
     "end_time": "2024-10-26T15:55:19.630907Z",
     "start_time": "2024-10-26T15:55:17.541411Z"
    }
   },
   "outputs": [],
   "source": [
    "import time\n",
    "\n",
    "import numpy as np\n",
    "import pandas as pd\n",
    "\n",
    "from Utils.discrete_family import discrete_family\n",
    "from Utils.barrier_affine import solve_barrier_tree, solve_barrier_tree_nonneg, solve_barrier_tree_box_PGD\n",
    "from CART import RegressionTree\n",
    "from scipy.interpolate import interp1d\n",
    "from scipy.stats import multivariate_normal as mvn\n",
    "from Utils.plotting import  *\n",
    "from Utils.simulation_helpers import *\n",
    "from scipy.stats import norm as ndist\n",
    "\n",
    "# For tree-values\n",
    "import rpy2.robjects.packages as rpackages\n",
    "from rpy2.robjects.vectors import StrVector\n",
    "\n",
    "# Select a CRAN mirror to download from\n",
    "utils = rpackages.importr('utils')\n",
    "utils.chooseCRANmirror(ind=1)  # Select the first mirror\n",
    "\n",
    "# Install 'remotes' if it's not already installed\n",
    "if not rpackages.isinstalled('remotes'):\n",
    "    utils.install_packages(StrVector(('remotes',)))\n",
    "\n",
    "import rpy2.robjects as ro\n",
    "\n",
    "from rpy2.robjects.packages import importr\n",
    "from rpy2.robjects import pandas2ri\n",
    "from rpy2.robjects import numpy2ri\n",
    "%load_ext rpy2.ipython"
   ]
  },
  {
   "cell_type": "markdown",
   "source": [
    "# Main ideas\n",
    "1. Generate data from the tree-values setting:\n",
    "> We simulate $X \\in \\mathbb{R}^{n \\times p}$ with $n=200, p=10, X_{i j} \\stackrel{i . i . d .}{\\sim} N(0,1)$, and $y \\sim N_n\\left(\\mu, \\sigma^2 I_n\\right)$ with $\\sigma=5$ and $\\mu_i=b \\times\\left[1_{\\left(x_{i, 1} \\leq 0\\right)} \\times\\left\\{1+a 1_{\\left(x_{i, 2}>0\\right)}+1_{\\left(x_{i, 3} \\times x_{i, 2}>0\\right)}\\right\\}\\right]$. \n",
    "2. Fix a maximum depth $max\\_depth$, e.g. $5$.\n",
    "3. Use naive inference, tree-values, and our proposed method to fit the tree.\n",
    "4. Coverage rate comparison: compare the average coverage rate over CIs for terminal nodes in each simulation.\n",
    "5. Average length comparison: compare the average CIs lengths for terminal nodes in each simulation.\n",
    "6. Selection quality comparison: \n",
    "a. generate the same dataset with same $X, \\mu$ but new $\\epsilon$,\n",
    "b. generate new $X, \\mu$, \\epsilon$ using the same parameters,\n",
    "compare the MSE of fitted trees on this test set."
   ],
   "metadata": {
    "collapsed": false
   },
   "id": "a826a2a406801d23"
  },
  {
   "cell_type": "code",
   "execution_count": 6,
   "outputs": [],
   "source": [
    "# Activate automatic conversion between pandas and R data frames\n",
    "pandas2ri.activate()\n",
    "\n",
    "# Import R libraries\n",
    "treevalues = importr('treevalues')\n",
    "rpart = importr('rpart')\n",
    "\n",
    "def tree_values_inference(X, y, mu, sd_y, max_depth=5, level=0.1,\n",
    "                          X_test=None):\n",
    "    # Convert the NumPy matrix to an R matrix\n",
    "    X_r = numpy2ri.py2rpy(X)\n",
    "    y_r = numpy2ri.py2rpy(y)\n",
    "    \n",
    "    # Assign the R matrix to a variable in the R environment (optional)\n",
    "    ro.globalenv['X_r'] = X_r\n",
    "    ro.globalenv['y_r'] = y_r\n",
    "    ro.globalenv['p'] = X.shape[1]\n",
    "    \n",
    "    # Construct dataset\n",
    "    ro.r('data <- cbind(y_r, X_r)')\n",
    "    # Set the column names to \"y\", \"x1\", \"x2\", ..., \"x10\"\n",
    "    ro.r('colnames(data) <- c(\"y\", paste0(\"x\", 1:p))')\n",
    "    ro.r('data = data.frame(data)')\n",
    "    \n",
    "    # Define the rpart tree model\n",
    "    tree_cmd = 'bls.tree <- rpart(y ~ ., data=data, model = TRUE, cp=0.00, maxdepth=' + str(max_depth) + ')'\n",
    "    ro.r(tree_cmd)\n",
    "    bls_tree = ro.r('bls.tree')\n",
    "    # Plot the tree values (this will plot directly if you have a plotting backend set up)\n",
    "    #ro.r('treeval.plot(bls.tree, inferenceType=0)')\n",
    "    \n",
    "    #ro.r('print(row.names(bls.tree$frame)[bls.tree$frame$var == \"<leaf>\"])')\n",
    "    ro.r('leaf_idx <- (row.names(bls.tree$frame)[bls.tree$frame$var == \"<leaf>\"])')\n",
    "    leaf_idx = ro.r['leaf_idx']\n",
    "    \n",
    "    # Get node mapping\n",
    "    ro.r('idx_full <- 1:nrow(bls.tree$frame)')\n",
    "    ro.r('mapped_idx <- idx_full[bls.tree$frame$var == \"<leaf>\"]')\n",
    "    \n",
    "    len = []\n",
    "    coverage = []\n",
    "    len_naive = []\n",
    "    coverage_naive = []\n",
    "    \n",
    "    for i,idx in enumerate(leaf_idx):\n",
    "        # Get the branch information for a specific branch in the tree\n",
    "        command = 'branch <- getBranch(bls.tree, ' + str(idx) + ')'\n",
    "        ro.r(command)\n",
    "        # Perform branch inference\n",
    "        ro.r('result <- branchInference(bls.tree, branch, type=\"reg\", alpha = 0.10)')\n",
    "        # Get confidence intervals\n",
    "        confint = ro.r('result$confint')\n",
    "        len.append(confint[1] - confint[0])\n",
    "    \n",
    "        target_cmd = \"contrast <- (bls.tree$where == mapped_idx[\" + str(i+1) + \"])\"\n",
    "        ro.r(target_cmd)\n",
    "        contrast = ro.r('contrast')\n",
    "        contrast = np.array(contrast)\n",
    "        \n",
    "        contrast = np.array(contrast * 1 / np.sum(contrast))\n",
    "        \n",
    "        target = contrast.dot(mu)\n",
    "        coverage.append(target >= confint[0] and target <= confint[1])\n",
    "        \n",
    "        # Naive after tree value\n",
    "        # Confidence intervals\n",
    "        naive_CI = [contrast.dot(y) - \n",
    "                    np.linalg.norm(contrast) * sd_y * ndist.ppf(1 - level / 2),\n",
    "                    contrast.dot(y) + \n",
    "                    np.linalg.norm(contrast) * sd_y * ndist.ppf(1 - level / 2)]\n",
    "        coverage_naive.append((target >= naive_CI[0] and target <= naive_CI[1]))\n",
    "        len_naive.append(naive_CI[1] - naive_CI[0])\n",
    "    \n",
    "    if X_test is not None:\n",
    "        X_test_r = numpy2ri.py2rpy(X_test)\n",
    "        ro.globalenv['X_test_r'] = X_test_r\n",
    "        ro.r('pred <- predict(bls.tree, data = X_test_r)')\n",
    "        pred = ro.r['pred']\n",
    "    else:\n",
    "        pred = None\n",
    "        \n",
    "    return (np.mean(coverage), np.mean(len), \n",
    "            np.mean(coverage_naive), np.mean(len_naive), pred) "
   ],
   "metadata": {
    "collapsed": false,
    "ExecuteTime": {
     "end_time": "2024-10-26T15:55:20.617222Z",
     "start_time": "2024-10-26T15:55:20.392532Z"
    }
   },
   "id": "4cd98f0c2b71ea1a"
  },
  {
   "cell_type": "code",
   "execution_count": 7,
   "outputs": [],
   "source": [
    "def generate_test(mu, sd_y):\n",
    "    n = mu.shape[0]\n",
    "    return mu + np.random.normal(size=(n,), scale=sd_y)"
   ],
   "metadata": {
    "collapsed": false,
    "ExecuteTime": {
     "end_time": "2024-10-26T15:55:21.092968Z",
     "start_time": "2024-10-26T15:55:21.088591Z"
    }
   },
   "id": "97816fc89d968b4b"
  },
  {
   "cell_type": "code",
   "execution_count": 8,
   "outputs": [],
   "source": [
    "def randomized_inference(reg_tree, sd_y, y, mu, level=0.1):\n",
    "    #print(reg_tree.terminal_nodes)\n",
    "    coverage_i = []\n",
    "    lengths_i = []\n",
    "    \n",
    "    for node in reg_tree.terminal_nodes:\n",
    "        pval, dist, contrast, norm_contrast, obs_tar, logW, suff, sel_probs \\\n",
    "            = (reg_tree.condl_node_inference(node=node, \n",
    "                                             ngrid=10000,\n",
    "                                             ncoarse=30,\n",
    "                                             grid_w_const=3,\n",
    "                                             reduced_dim=1,\n",
    "                                             sd=sd_y,\n",
    "                                             use_cvxpy=True))\n",
    "        target = contrast.dot(mu)\n",
    "        \n",
    "        # This is an interval for\n",
    "        # eta_*'mu = eta'mu / (norm(eta) * sd_y)\n",
    "        selective_CI = (dist.equal_tailed_interval(observed=norm_contrast.dot(y),\n",
    "                                                   alpha=level))\n",
    "        selective_CI = np.array(selective_CI)\n",
    "        selective_CI *= np.linalg.norm(contrast) * sd_y\n",
    "        coverage_i.append((target >= selective_CI[0] and target <= selective_CI[1]))\n",
    "        lengths_i.append(selective_CI[1] - selective_CI[0])\n",
    "        \n",
    "    return coverage_i, lengths_i"
   ],
   "metadata": {
    "collapsed": false,
    "ExecuteTime": {
     "end_time": "2024-10-26T15:55:21.761899Z",
     "start_time": "2024-10-26T15:55:21.758638Z"
    }
   },
   "id": "2971903d7397ed9c"
  },
  {
   "cell_type": "code",
   "execution_count": 9,
   "outputs": [],
   "source": [
    "def terminal_inference_sim(n = 50, p = 5, a = 0.1, b = 0.1, \n",
    "                           sd_y = 1, noise_sd_list = [0.5, 1, 2, 5], \n",
    "                           start=0, end=100,\n",
    "                           level=0.1):\n",
    "    coverage_dict = {m: [] for m in noise_sd_list + [\"Tree val\", \"Naive\"]}\n",
    "    length_dict = {m: [] for m in noise_sd_list + [\"Tree val\", \"Naive\"]}\n",
    "    MSE_dict = {m: [] for m in noise_sd_list + [\"Tree val\", \"Naive\"]}\n",
    "    \n",
    "    for i in range(start, end):\n",
    "        print(i, \"th simulation\")\n",
    "        np.random.seed(i + 48105)\n",
    "        X = np.random.normal(size=(n, p))\n",
    "\n",
    "        mu = b * ((X[:, 0] <= 0) * (1 + a * (X[:, 1] > 0) + (X[:, 2] * X[:, 1] <= 0)))\n",
    "        y = mu + np.random.normal(size=(n,), scale=sd_y)\n",
    "        y_test = generate_test(mu, sd_y)\n",
    "        \n",
    "        for noise_sd in noise_sd_list:\n",
    "            # Create and train the regression tree\n",
    "            reg_tree = RegressionTree(min_samples_split=10, max_depth=3,\n",
    "                                      min_proportion=0.1)\n",
    "            reg_tree.fit(X, y, sd = noise_sd * sd_y)\n",
    "            \n",
    "            coverage_i, lengths_i = randomized_inference(reg_tree=reg_tree, \n",
    "                                                         y=y, sd_y=sd_y, mu=mu, level=level)\n",
    "            pred_test = reg_tree.predict(X)\n",
    "            MSE_test = (np.mean((y_test - pred_test) ** 2))\n",
    "            # Record results\n",
    "            coverage_dict[noise_sd].append(np.mean(coverage_i))\n",
    "            length_dict[noise_sd].append(np.mean(lengths_i))\n",
    "            MSE_dict[noise_sd].append(MSE_test)\n",
    "        \n",
    "        # Tree value & naive inference & prediction\n",
    "        (coverage_treeval, avg_len_treeval, \n",
    "         coverage_treeval_naive, avg_len_treeval_naive,\n",
    "         pred_test_treeval) = tree_values_inference(X, y, mu, sd_y=sd_y, \n",
    "                                                    X_test=X, max_depth=3)\n",
    "\n",
    "        MSE_test_treeval = (np.mean((y_test - pred_test_treeval) ** 2))\n",
    "        coverage_dict[\"Tree val\"].append(coverage_treeval)\n",
    "        length_dict[\"Tree val\"].append(avg_len_treeval)\n",
    "        MSE_dict[\"Tree val\"].append(MSE_test_treeval)\n",
    "        coverage_dict[\"Naive\"].append(coverage_treeval_naive)\n",
    "        length_dict[\"Naive\"].append(avg_len_treeval_naive)\n",
    "        MSE_dict[\"Naive\"].append(MSE_test_treeval)\n",
    "        \n",
    "    return coverage_dict, length_dict, MSE_dict"
   ],
   "metadata": {
    "collapsed": false,
    "ExecuteTime": {
     "end_time": "2024-10-26T15:55:22.374286Z",
     "start_time": "2024-10-26T15:55:22.369377Z"
    }
   },
   "id": "8b715a0214918be8"
  },
  {
   "cell_type": "code",
   "execution_count": 13,
   "outputs": [
    {
     "name": "stdout",
     "output_type": "stream",
     "text": [
      "0 th simulation\n",
      "1 th simulation\n",
      "2 th simulation\n",
      "3 th simulation\n",
      "4 th simulation\n",
      "5 th simulation\n",
      "6 th simulation\n",
      "7 th simulation\n",
      "8 th simulation\n",
      "9 th simulation\n",
      "10 th simulation\n",
      "11 th simulation\n",
      "12 th simulation\n",
      "13 th simulation\n",
      "14 th simulation\n",
      "15 th simulation\n",
      "16 th simulation\n",
      "17 th simulation\n",
      "18 th simulation\n",
      "19 th simulation\n",
      "20 th simulation\n",
      "21 th simulation\n",
      "22 th simulation\n",
      "23 th simulation\n",
      "24 th simulation\n",
      "25 th simulation\n",
      "26 th simulation\n",
      "27 th simulation\n",
      "28 th simulation\n",
      "29 th simulation\n"
     ]
    }
   ],
   "source": [
    "(coverage_dict, length_dict, MSE_dict) \\\n",
    "    = terminal_inference_sim(start=0, end=30, n=100, p=5, sd_y=1, \n",
    "                             noise_sd_list=[5, 10, 20], \n",
    "                             a=1,b=1, level=0.1)"
   ],
   "metadata": {
    "collapsed": false,
    "ExecuteTime": {
     "end_time": "2024-10-26T16:08:39.675186Z",
     "start_time": "2024-10-26T15:58:39.695714Z"
    }
   },
   "id": "84374f89cc216b20"
  },
  {
   "cell_type": "code",
   "execution_count": 14,
   "outputs": [
    {
     "data": {
      "text/plain": "({5: [np.float64(0.875),\n   np.float64(1.0),\n   np.float64(0.7142857142857143),\n   np.float64(0.8571428571428571),\n   np.float64(0.7142857142857143),\n   np.float64(0.875),\n   np.float64(1.0),\n   np.float64(1.0),\n   np.float64(1.0),\n   np.float64(0.875),\n   np.float64(1.0),\n   np.float64(0.75),\n   np.float64(0.8571428571428571),\n   np.float64(1.0),\n   np.float64(0.75),\n   np.float64(1.0),\n   np.float64(0.625),\n   np.float64(1.0),\n   np.float64(1.0),\n   np.float64(1.0),\n   np.float64(0.75),\n   np.float64(1.0),\n   np.float64(1.0),\n   np.float64(1.0),\n   np.float64(0.8333333333333334),\n   np.float64(0.75),\n   np.float64(1.0),\n   np.float64(1.0),\n   np.float64(0.75),\n   np.float64(0.75)],\n  10: [np.float64(1.0),\n   np.float64(0.875),\n   np.float64(0.75),\n   np.float64(0.625),\n   np.float64(0.625),\n   np.float64(0.875),\n   np.float64(0.75),\n   np.float64(1.0),\n   np.float64(0.75),\n   np.float64(0.7142857142857143),\n   np.float64(0.8571428571428571),\n   np.float64(1.0),\n   np.float64(0.625),\n   np.float64(0.875),\n   np.float64(0.875),\n   np.float64(0.75),\n   np.float64(0.875),\n   np.float64(0.875),\n   np.float64(1.0),\n   np.float64(0.75),\n   np.float64(1.0),\n   np.float64(0.625),\n   np.float64(0.875),\n   np.float64(0.875),\n   np.float64(0.8333333333333334),\n   np.float64(0.875),\n   np.float64(0.8571428571428571),\n   np.float64(0.75),\n   np.float64(0.8571428571428571),\n   np.float64(0.875)],\n  20: [np.float64(1.0),\n   np.float64(0.7142857142857143),\n   np.float64(0.875),\n   np.float64(0.5714285714285714),\n   np.float64(0.75),\n   np.float64(1.0),\n   np.float64(1.0),\n   np.float64(0.8571428571428571),\n   np.float64(0.625),\n   np.float64(1.0),\n   np.float64(0.75),\n   np.float64(1.0),\n   np.float64(0.5714285714285714),\n   np.float64(0.75),\n   np.float64(0.875),\n   np.float64(0.75),\n   np.float64(0.5714285714285714),\n   np.float64(1.0),\n   np.float64(1.0),\n   np.float64(0.875),\n   np.float64(0.875),\n   np.float64(0.8571428571428571),\n   np.float64(1.0),\n   np.float64(0.5714285714285714),\n   np.float64(0.875),\n   np.float64(0.8571428571428571),\n   np.float64(0.8571428571428571),\n   np.float64(0.875),\n   np.float64(0.75),\n   np.float64(0.8571428571428571)],\n  'Tree val': [np.float64(0.5),\n   np.float64(1.0),\n   np.float64(1.0),\n   np.float64(1.0),\n   np.float64(1.0),\n   np.float64(1.0),\n   np.float64(1.0),\n   np.float64(0.6666666666666666),\n   np.float64(0.8571428571428571),\n   np.float64(0.5714285714285714),\n   np.float64(1.0),\n   np.float64(1.0),\n   np.float64(1.0),\n   np.float64(1.0),\n   np.float64(1.0),\n   np.float64(1.0),\n   np.float64(0.8333333333333334),\n   np.float64(0.5714285714285714),\n   np.float64(1.0),\n   np.float64(0.75),\n   np.float64(1.0),\n   np.float64(1.0),\n   np.float64(0.6666666666666666),\n   np.float64(0.7142857142857143),\n   np.float64(1.0),\n   np.float64(1.0),\n   np.float64(0.42857142857142855),\n   np.float64(1.0),\n   np.float64(1.0),\n   np.float64(1.0)],\n  'Naive': [np.float64(0.8333333333333334),\n   np.float64(0.7142857142857143),\n   np.float64(0.7142857142857143),\n   np.float64(0.5714285714285714),\n   np.float64(0.6666666666666666),\n   np.float64(0.625),\n   np.float64(0.7142857142857143),\n   np.float64(0.5),\n   np.float64(0.8571428571428571),\n   np.float64(0.5714285714285714),\n   np.float64(0.42857142857142855),\n   np.float64(0.75),\n   np.float64(0.7142857142857143),\n   np.float64(0.6666666666666666),\n   np.float64(0.7142857142857143),\n   np.float64(0.8333333333333334),\n   np.float64(0.5),\n   np.float64(0.5714285714285714),\n   np.float64(0.6666666666666666),\n   np.float64(0.625),\n   np.float64(0.625),\n   np.float64(0.5714285714285714),\n   np.float64(0.6666666666666666),\n   np.float64(0.5714285714285714),\n   np.float64(0.75),\n   np.float64(0.42857142857142855),\n   np.float64(0.42857142857142855),\n   np.float64(0.75),\n   np.float64(0.5),\n   np.float64(0.5714285714285714)]},\n {5: [np.float64(1.642906687970079),\n   np.float64(1.9892107142281636),\n   np.float64(1.9691323672188088),\n   np.float64(1.398247129373237),\n   np.float64(2.322268679298031),\n   np.float64(2.304391797967051),\n   np.float64(2.2530215273371104),\n   np.float64(1.6865020386170717),\n   np.float64(2.8116620047300014),\n   np.float64(1.8234273263880503),\n   np.float64(1.919985808461286),\n   np.float64(1.995572237015119),\n   np.float64(2.0562076543571193),\n   np.float64(2.1777274473234463),\n   np.float64(2.5685712032276666),\n   np.float64(2.1181517203425546),\n   np.float64(2.1723224721039367),\n   np.float64(2.175201902998677),\n   np.float64(2.0875407312228833),\n   np.float64(2.347742977494901),\n   np.float64(2.966274291741936),\n   np.float64(2.4127010883204205),\n   np.float64(2.0868965005163425),\n   np.float64(2.0257471001605047),\n   np.float64(1.8273356054226213),\n   np.float64(2.0008014314146867),\n   np.float64(2.102180606886348),\n   np.float64(1.8692225781405516),\n   np.float64(3.0322453975144468),\n   np.float64(1.954172203722411)],\n  10: [np.float64(1.4457572654260509),\n   np.float64(2.451521456354703),\n   np.float64(1.6111738109926372),\n   np.float64(3.4082305859046285),\n   np.float64(1.3993667574871973),\n   np.float64(1.6253395113727094),\n   np.float64(1.719278468476875),\n   np.float64(3.1716318331829667),\n   np.float64(1.4270122704905843),\n   np.float64(1.2546660533184435),\n   np.float64(1.7581423607183944),\n   np.float64(1.6185750160224313),\n   np.float64(1.3591627471140597),\n   np.float64(1.4159864079950308),\n   np.float64(3.328753212640954),\n   np.float64(1.2851958402663188),\n   np.float64(1.4429173519763836),\n   np.float64(1.5616335337759342),\n   np.float64(1.6590853101005003),\n   np.float64(1.6153878781487383),\n   np.float64(1.4262077408484428),\n   np.float64(1.3558066884134714),\n   np.float64(1.3500171474395868),\n   np.float64(1.6330431650297628),\n   np.float64(1.5478145146109146),\n   np.float64(1.4149326906821704),\n   np.float64(1.346768310399737),\n   np.float64(1.3894053662239596),\n   np.float64(2.0128835267975593),\n   np.float64(1.3766810837384187)],\n  20: [np.float64(1.3444459274453635),\n   np.float64(1.7678747258366125),\n   np.float64(1.2740338823685846),\n   np.float64(1.0589041776715917),\n   np.float64(1.5105943089350875),\n   np.float64(2.0028841613919712),\n   np.float64(3.340230839944773),\n   np.float64(1.4694388401721359),\n   np.float64(2.4239695121002134),\n   np.float64(1.2153079731713707),\n   np.float64(1.3712176653144206),\n   np.float64(1.322992961443293),\n   np.float64(1.0780734091098314),\n   np.float64(14.415157648154493),\n   np.float64(1.423623415572965),\n   np.float64(5.360025019148189),\n   np.float64(1.4898995464313687),\n   np.float64(1.4533291327757687),\n   np.float64(1.2196504649207838),\n   np.float64(8.189174005144688),\n   np.float64(4.171632922783502),\n   np.float64(1.1341022422830715),\n   np.float64(1.5587932462186305),\n   np.float64(1.2217505201654746),\n   np.float64(2.3492815823022606),\n   np.float64(1.2614309035037206),\n   np.float64(1.2338694308099645),\n   np.float64(1.1908271196179843),\n   np.float64(1.2786427666848401),\n   np.float64(3.0930488839917922)],\n  'Tree val': [np.float64(87.5768846528501),\n   np.float64(3.6865956166745875),\n   np.float64(10.84223975775612),\n   np.float64(5.935031313565671),\n   np.float64(7.836974811256511),\n   np.float64(8.36113482769759),\n   np.float64(11.990951664753632),\n   np.float64(20.69108246857079),\n   np.float64(11.698454028147514),\n   np.float64(25.705858427677857),\n   np.float64(4.326679164922321),\n   np.float64(9.010188485637352),\n   np.float64(18.56501854388676),\n   np.float64(3.685295859900967),\n   np.float64(12.790581042453974),\n   np.float64(3.9723066907467692),\n   np.float64(29.12751063035961),\n   np.float64(60.61474277778411),\n   np.float64(4.821286693831545),\n   np.float64(174.24214492081754),\n   np.float64(11.037279275312216),\n   np.float64(8.377090887857502),\n   np.float64(223.03648141493485),\n   np.float64(72.04069860992006),\n   np.float64(7.379390361745296),\n   np.float64(10.852738465893154),\n   np.float64(37.038891563625555),\n   np.float64(3.7906131693136045),\n   np.float64(5.766151296295966),\n   np.float64(18.39506352494726)],\n  'Naive': [np.float64(0.8841346537348667),\n   np.float64(0.8955554874060134),\n   np.float64(0.9419891625172303),\n   np.float64(0.9787239618545025),\n   np.float64(0.8626853562933646),\n   np.float64(0.9456567640424988),\n   np.float64(0.9749380629969263),\n   np.float64(0.8577134197511308),\n   np.float64(0.8863494232908764),\n   np.float64(0.9077566502783422),\n   np.float64(0.98244835229769),\n   np.float64(0.9510825129472615),\n   np.float64(0.9017033154301151),\n   np.float64(0.85108288391013),\n   np.float64(0.9573261628076036),\n   np.float64(0.8766156128426381),\n   np.float64(0.9114902896506288),\n   np.float64(0.9372737663521745),\n   np.float64(0.8400335661820227),\n   np.float64(0.9548931991695672),\n   np.float64(0.9758448690895476),\n   np.float64(0.9102352534253692),\n   np.float64(0.8530649949009158),\n   np.float64(0.9382323396892858),\n   np.float64(0.9703760140257494),\n   np.float64(0.916340891197274),\n   np.float64(0.8902025898730414),\n   np.float64(0.9646860656153806),\n   np.float64(0.8401294493619358),\n   np.float64(0.9038162796448598)]},\n {5: [np.float64(0.9149894541205977),\n   np.float64(1.3233443901820718),\n   np.float64(1.2978269772104307),\n   np.float64(1.9037895928446833),\n   np.float64(1.349364530475789),\n   np.float64(1.4809289288909733),\n   np.float64(1.0665527693343895),\n   np.float64(1.2185860601977447),\n   np.float64(1.1794432011110425),\n   np.float64(1.1217269523490512),\n   np.float64(1.2278980356252966),\n   np.float64(1.103729512909183),\n   np.float64(1.5040337626356723),\n   np.float64(0.988671266963311),\n   np.float64(1.2472717875597399),\n   np.float64(1.4621181246846424),\n   np.float64(1.3657906745667054),\n   np.float64(1.3740986149975905),\n   np.float64(1.150327386949261),\n   np.float64(1.170377782105371),\n   np.float64(1.1994152495260944),\n   np.float64(1.4777975978174311),\n   np.float64(1.4967475491774331),\n   np.float64(0.8674342088376154),\n   np.float64(1.530809454780706),\n   np.float64(1.4006948640290902),\n   np.float64(1.4475692293484712),\n   np.float64(1.5153639965903978),\n   np.float64(1.2770474184634983),\n   np.float64(1.1744383412684476)],\n  10: [np.float64(0.9401017648615815),\n   np.float64(1.3164427351118104),\n   np.float64(1.453108696664757),\n   np.float64(1.7600282456665497),\n   np.float64(1.3603403608502156),\n   np.float64(1.6252493608891603),\n   np.float64(1.0687500487333326),\n   np.float64(1.3588172235116929),\n   np.float64(1.1692458679877629),\n   np.float64(1.4969347422174213),\n   np.float64(1.3739105907996874),\n   np.float64(1.0034661736282118),\n   np.float64(1.2808286633932295),\n   np.float64(1.0198932382787673),\n   np.float64(1.5505915509366557),\n   np.float64(1.5802752402108653),\n   np.float64(1.3560977018944376),\n   np.float64(1.439362075856874),\n   np.float64(1.4848771031457928),\n   np.float64(1.2888403245278892),\n   np.float64(1.3497711418419172),\n   np.float64(1.4060934561465523),\n   np.float64(1.3671390105477905),\n   np.float64(1.011402738814269),\n   np.float64(1.5039028607265272),\n   np.float64(1.3835358044535233),\n   np.float64(1.455478439943024),\n   np.float64(1.6752926580201626),\n   np.float64(1.1813864272363144),\n   np.float64(1.3151793452093807)],\n  20: [np.float64(1.1226299240540485),\n   np.float64(1.513712845691025),\n   np.float64(1.4070266883127962),\n   np.float64(1.746232720410775),\n   np.float64(1.4692516008638763),\n   np.float64(1.6557891059452698),\n   np.float64(1.1490611018903405),\n   np.float64(1.2961954087626077),\n   np.float64(1.1405977739127573),\n   np.float64(1.2559884873576017),\n   np.float64(1.4182875313690206),\n   np.float64(1.2774406688885636),\n   np.float64(1.3802457904271315),\n   np.float64(0.9460167502919485),\n   np.float64(1.4120837467902876),\n   np.float64(1.2952531587047569),\n   np.float64(1.6165754210019068),\n   np.float64(1.1397576390741948),\n   np.float64(1.2389192439235883),\n   np.float64(1.294138938571365),\n   np.float64(1.46950835935744),\n   np.float64(1.4191127858975192),\n   np.float64(1.7127317818334449),\n   np.float64(1.0417401257036984),\n   np.float64(1.4510087250415074),\n   np.float64(1.332061723634225),\n   np.float64(1.6368094311449952),\n   np.float64(1.7632249754954175),\n   np.float64(1.3351537983383384),\n   np.float64(1.1989411501419653)],\n  'Tree val': [np.float64(1.0459568740227787),\n   np.float64(1.246225832784545),\n   np.float64(1.498564777314982),\n   np.float64(1.956787909351832),\n   np.float64(1.5315103893333375),\n   np.float64(1.6197188518602585),\n   np.float64(1.0973385180357733),\n   np.float64(1.5202815541726802),\n   np.float64(1.1496233435432215),\n   np.float64(1.1380694852611812),\n   np.float64(1.417702431964384),\n   np.float64(1.100436330793947),\n   np.float64(1.5862061337168427),\n   np.float64(1.0012930298008553),\n   np.float64(1.3745331853926115),\n   np.float64(1.4572817312337356),\n   np.float64(1.60887252896964),\n   np.float64(1.2081825034127553),\n   np.float64(1.2064041545997375),\n   np.float64(1.3359341817837762),\n   np.float64(1.4538516197783398),\n   np.float64(1.2765735294069416),\n   np.float64(1.5176966388178326),\n   np.float64(0.9187900641985935),\n   np.float64(1.2889948497020964),\n   np.float64(1.2715452770175164),\n   np.float64(1.4691093914271574),\n   np.float64(1.1380033185733258),\n   np.float64(1.3949609865946657),\n   np.float64(1.3220107100101388)],\n  'Naive': [np.float64(1.0459568740227787),\n   np.float64(1.246225832784545),\n   np.float64(1.498564777314982),\n   np.float64(1.956787909351832),\n   np.float64(1.5315103893333375),\n   np.float64(1.6197188518602585),\n   np.float64(1.0973385180357733),\n   np.float64(1.5202815541726802),\n   np.float64(1.1496233435432215),\n   np.float64(1.1380694852611812),\n   np.float64(1.417702431964384),\n   np.float64(1.100436330793947),\n   np.float64(1.5862061337168427),\n   np.float64(1.0012930298008553),\n   np.float64(1.3745331853926115),\n   np.float64(1.4572817312337356),\n   np.float64(1.60887252896964),\n   np.float64(1.2081825034127553),\n   np.float64(1.2064041545997375),\n   np.float64(1.3359341817837762),\n   np.float64(1.4538516197783398),\n   np.float64(1.2765735294069416),\n   np.float64(1.5176966388178326),\n   np.float64(0.9187900641985935),\n   np.float64(1.2889948497020964),\n   np.float64(1.2715452770175164),\n   np.float64(1.4691093914271574),\n   np.float64(1.1380033185733258),\n   np.float64(1.3949609865946657),\n   np.float64(1.3220107100101388)]})"
     },
     "execution_count": 14,
     "metadata": {},
     "output_type": "execute_result"
    }
   ],
   "source": [
    "coverage_dict, length_dict, MSE_dict"
   ],
   "metadata": {
    "collapsed": false,
    "ExecuteTime": {
     "end_time": "2024-10-26T16:10:43.577699Z",
     "start_time": "2024-10-26T16:10:43.573486Z"
    }
   },
   "id": "d49f532402ac942a"
  },
  {
   "cell_type": "code",
   "execution_count": 15,
   "outputs": [],
   "source": [
    "noise_sd_list = [0.5, 1, 2, 5] + [\"Tree val\", \"Naive\"]"
   ],
   "metadata": {
    "collapsed": false,
    "ExecuteTime": {
     "end_time": "2024-10-26T16:10:44.315067Z",
     "start_time": "2024-10-26T16:10:44.310012Z"
    }
   },
   "id": "234165b0eb5b4a02"
  },
  {
   "cell_type": "code",
   "execution_count": 16,
   "outputs": [
    {
     "data": {
      "text/plain": "[0.5, 1, 2, 5, 'Tree val', 'Naive']"
     },
     "execution_count": 16,
     "metadata": {},
     "output_type": "execute_result"
    }
   ],
   "source": [
    "noise_sd_list"
   ],
   "metadata": {
    "collapsed": false,
    "ExecuteTime": {
     "end_time": "2024-10-26T16:10:44.893275Z",
     "start_time": "2024-10-26T16:10:44.886901Z"
    }
   },
   "id": "f5a3cd1adf4fab3e"
  },
  {
   "cell_type": "code",
   "execution_count": 16,
   "outputs": [],
   "source": [],
   "metadata": {
    "collapsed": false,
    "ExecuteTime": {
     "end_time": "2024-10-26T16:10:45.269252Z",
     "start_time": "2024-10-26T16:10:45.263115Z"
    }
   },
   "id": "bce0a5016022c22b"
  },
  {
   "cell_type": "code",
   "execution_count": 19,
   "outputs": [],
   "source": [
    "import seaborn as sns\n",
    "def boxplots(dfs, metrics):\n",
    "    # Set up the subplots: one for each metric\n",
    "    fig, axes = plt.subplots(1, 3, figsize=(15, 6))\n",
    "    \n",
    "    # Iterate over the dataframes and create a boxplot for each\n",
    "    for i, (df, metric) in enumerate(zip(dfs, metrics)):\n",
    "        sns.boxplot(data=df, ax=axes[i])\n",
    "        axes[i].set_title(f'Boxplot for {metric}')\n",
    "        axes[i].set_xlabel('Method')\n",
    "        axes[i].set_ylabel('Value')\n",
    "        # Add triangles for the mean values\n",
    "        means = df.mean()  # Calculate mean for each method (column)\n",
    "        print(metric,\":\\n\",means.T)\n",
    "        for j, mean in enumerate(means):\n",
    "            axes[i].plot(j, mean, marker='^', color='red', markersize=10)  # Add a red triangle for the mean\n",
    "        if metric == \"Coverage\":\n",
    "            axes[i].set_ylim(0,1)\n",
    "        elif metric == \"Length\":\n",
    "            axes[i].set_ylim(0,100)\n",
    "        elif metric == \"MSE\":\n",
    "            axes[i].set_ylim(0,2)\n",
    "    \n",
    "    # Show the plots\n",
    "    plt.tight_layout()\n",
    "    plt.show()"
   ],
   "metadata": {
    "collapsed": false,
    "ExecuteTime": {
     "end_time": "2024-10-26T16:10:55.596068Z",
     "start_time": "2024-10-26T16:10:55.590062Z"
    }
   },
   "id": "5068cbe9df1c79f2"
  },
  {
   "cell_type": "code",
   "execution_count": 20,
   "outputs": [
    {
     "name": "stdout",
     "output_type": "stream",
     "text": [
      "Coverage :\n",
      " 5           0.890873\n",
      "10          0.828968\n",
      "20          0.830357\n",
      "Tree val    0.885317\n",
      "Naive       0.636706\n",
      "dtype: float64\n",
      "Length :\n",
      " 5            2.136579\n",
      "10           1.713746\n",
      "20           2.440807\n",
      "Tree val    30.439845\n",
      "Naive        0.915413\n",
      "dtype: float64\n",
      "MSE :\n",
      " 5           1.294606\n",
      "10          1.352545\n",
      "20          1.371183\n",
      "Tree val    1.338415\n",
      "Naive       1.338415\n",
      "dtype: float64\n"
     ]
    },
    {
     "data": {
      "text/plain": "<Figure size 1500x600 with 3 Axes>",
      "image/png": "[encoded data removed]"
     },
     "metadata": {},
     "output_type": "display_data"
    }
   ],
   "source": [
    "import pandas as pd\n",
    "boxplots(dfs=[pd.DataFrame(coverage_dict), \n",
    "              pd.DataFrame(length_dict), \n",
    "              pd.DataFrame(MSE_dict)], \n",
    "         metrics=[\"Coverage\", \"Length\", \"MSE\"])"
   ],
   "metadata": {
    "collapsed": false,
    "ExecuteTime": {
     "end_time": "2024-10-26T16:10:56.315692Z",
     "start_time": "2024-10-26T16:10:56.064998Z"
    }
   },
   "id": "f6b2b82fc19184ea"
  },
  {
   "cell_type": "code",
   "execution_count": null,
   "outputs": [],
   "source": [],
   "metadata": {
    "collapsed": false
   },
   "id": "5d1c10df63cfec09"
  }
 ],
 "metadata": {
  "kernelspec": {
   "display_name": "Python 3",
   "language": "python",
   "name": "python3"
  },
  "language_info": {
   "codemirror_mode": {
    "name": "ipython",
    "version": 2
   },
   "file_extension": ".py",
   "mimetype": "text/x-python",
   "name": "python",
   "nbconvert_exporter": "python",
   "pygments_lexer": "ipython2",
   "version": "2.7.6"
  }
 },
 "nbformat": 4,
 "nbformat_minor": 5
}
