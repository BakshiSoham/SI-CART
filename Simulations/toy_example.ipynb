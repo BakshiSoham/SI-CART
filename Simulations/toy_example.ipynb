{
 "cells": [
  {
   "cell_type": "code",
   "execution_count": 3,
   "id": "initial_id",
   "metadata": {
    "collapsed": true,
    "ExecuteTime": {
     "end_time": "2024-10-18T01:45:40.063428Z",
     "start_time": "2024-10-18T01:45:38.470589Z"
    }
   },
   "outputs": [
    {
     "name": "stdout",
     "output_type": "stream",
     "text": [
      "The rpy2.ipython extension is already loaded. To reload it, use:\n",
      "  %reload_ext rpy2.ipython\n"
     ]
    }
   ],
   "source": [
    "import time\n",
    "\n",
    "import numpy as np\n",
    "from Utils.discrete_family import discrete_family\n",
    "from Utils.barrier_affine import solve_barrier_tree, solve_barrier_tree_nonneg, solve_barrier_tree_box_PGD\n",
    "from CART import RegressionTree\n",
    "from scipy.interpolate import interp1d\n",
    "from scipy.stats import multivariate_normal as mvn\n",
    "from Utils.plotting import  *\n",
    "from Utils.simulation_helpers import *\n",
    "from scipy.stats import norm as ndist\n",
    "\n",
    "# For tree-values\n",
    "import rpy2.robjects.packages as rpackages\n",
    "from rpy2.robjects.vectors import StrVector\n",
    "\n",
    "# Select a CRAN mirror to download from\n",
    "utils = rpackages.importr('utils')\n",
    "utils.chooseCRANmirror(ind=1)  # Select the first mirror\n",
    "\n",
    "# Install 'remotes' if it's not already installed\n",
    "if not rpackages.isinstalled('remotes'):\n",
    "    utils.install_packages(StrVector(('remotes',)))\n",
    "\n",
    "import rpy2.robjects as ro\n",
    "\n",
    "from rpy2.robjects.packages import importr\n",
    "from rpy2.robjects import pandas2ri\n",
    "from rpy2.robjects import numpy2ri\n",
    "%load_ext rpy2.ipython"
   ]
  },
  {
   "cell_type": "markdown",
   "source": [
    "# Main ideas\n",
    "1. Generate data from the tree-values setting:\n",
    "> We simulate $X \\in \\mathbb{R}^{n \\times p}$ with $n=200, p=10, X_{i j} \\stackrel{i . i . d .}{\\sim} N(0,1)$, and $y \\sim N_n\\left(\\mu, \\sigma^2 I_n\\right)$ with $\\sigma=5$ and $\\mu_i=b \\times\\left[1_{\\left(x_{i, 1} \\leq 0\\right)} \\times\\left\\{1+a 1_{\\left(x_{i, 2}>0\\right)}+1_{\\left(x_{i, 3} \\times x_{i, 2}>0\\right)}\\right\\}\\right]$. \n",
    "2. Fix a maximum depth $max\\_depth$, e.g. $5$.\n",
    "3. Use naive inference, tree-values, and our proposed method to fit the tree.\n",
    "4. Coverage rate comparison: compare the average coverage rate over CIs for terminal nodes in each simulation.\n",
    "5. Average length comparison: compare the average CIs lengths for terminal nodes in each simulation.\n",
    "6. Selection quality comparison: \n",
    "a. generate the same dataset with same $X, \\mu$ but new $\\epsilon$,\n",
    "b. generate new $X, \\mu$, \\epsilon$ using the same parameters,\n",
    "compare the MSE of fitted trees on this test set."
   ],
   "metadata": {
    "collapsed": false
   },
   "id": "a826a2a406801d23"
  },
  {
   "cell_type": "code",
   "execution_count": 4,
   "outputs": [],
   "source": [
    "# Activate automatic conversion between pandas and R data frames\n",
    "pandas2ri.activate()\n",
    "\n",
    "# Import R libraries\n",
    "treevalues = importr('treevalues')\n",
    "rpart = importr('rpart')\n",
    "\n",
    "def tree_values_inference(X, y, mu, sd_y, max_depth=5, level=0.1,\n",
    "                          X_test=None):\n",
    "    # Convert the NumPy matrix to an R matrix\n",
    "    X_r = numpy2ri.py2rpy(X)\n",
    "    y_r = numpy2ri.py2rpy(y)\n",
    "    \n",
    "    # Assign the R matrix to a variable in the R environment (optional)\n",
    "    ro.globalenv['X_r'] = X_r\n",
    "    ro.globalenv['y_r'] = y_r\n",
    "    ro.globalenv['p'] = X.shape[1]\n",
    "    \n",
    "    # Construct dataset\n",
    "    ro.r('data <- cbind(y_r, X_r)')\n",
    "    # Set the column names to \"y\", \"x1\", \"x2\", ..., \"x10\"\n",
    "    ro.r('colnames(data) <- c(\"y\", paste0(\"x\", 1:p))')\n",
    "    ro.r('data = data.frame(data)')\n",
    "    \n",
    "    # Define the rpart tree model\n",
    "    tree_cmd = 'bls.tree <- rpart(y ~ ., data=data, model = TRUE, cp=0.00, maxdepth=' + str(max_depth) + ')'\n",
    "    ro.r(tree_cmd)\n",
    "    bls_tree = ro.r('bls.tree')\n",
    "    # Plot the tree values (this will plot directly if you have a plotting backend set up)\n",
    "    #ro.r('treeval.plot(bls.tree, inferenceType=0)')\n",
    "    \n",
    "    #ro.r('print(row.names(bls.tree$frame)[bls.tree$frame$var == \"<leaf>\"])')\n",
    "    ro.r('leaf_idx <- (row.names(bls.tree$frame)[bls.tree$frame$var == \"<leaf>\"])')\n",
    "    leaf_idx = ro.r['leaf_idx']\n",
    "    \n",
    "    # Get node mapping\n",
    "    ro.r('idx_full <- 1:nrow(bls.tree$frame)')\n",
    "    ro.r('mapped_idx <- idx_full[bls.tree$frame$var == \"<leaf>\"]')\n",
    "    \n",
    "    len = []\n",
    "    coverage = []\n",
    "    len_naive = []\n",
    "    coverage_naive = []\n",
    "    \n",
    "    for i,idx in enumerate(leaf_idx):\n",
    "        # Get the branch information for a specific branch in the tree\n",
    "        command = 'branch <- getBranch(bls.tree, ' + str(idx) + ')'\n",
    "        ro.r(command)\n",
    "        # Perform branch inference\n",
    "        ro.r('result <- branchInference(bls.tree, branch, type=\"reg\", alpha = 0.10)')\n",
    "        # Get confidence intervals\n",
    "        confint = ro.r('result$confint')\n",
    "        len.append(confint[1] - confint[0])\n",
    "    \n",
    "        target_cmd = \"contrast <- (bls.tree$where == mapped_idx[\" + str(i+1) + \"])\"\n",
    "        ro.r(target_cmd)\n",
    "        contrast = ro.r('contrast')\n",
    "        contrast = np.array(contrast)\n",
    "        \n",
    "        contrast = np.array(contrast * 1 / np.sum(contrast))\n",
    "        \n",
    "        target = contrast.dot(mu)\n",
    "        coverage.append(target >= confint[0] and target <= confint[1])\n",
    "        \n",
    "        # Naive after tree value\n",
    "        # Confidence intervals\n",
    "        naive_CI = [contrast.dot(y) - \n",
    "                    np.linalg.norm(contrast) * sd_y * ndist.ppf(1 - level / 2),\n",
    "                    contrast.dot(y) + \n",
    "                    np.linalg.norm(contrast) * sd_y * ndist.ppf(1 - level / 2)]\n",
    "        coverage_naive.append((target >= naive_CI[0] and target <= naive_CI[1]))\n",
    "        len_naive.append(naive_CI[1] - naive_CI[0])\n",
    "    \n",
    "    if X_test is not None:\n",
    "        X_test_r = numpy2ri.py2rpy(X_test)\n",
    "        ro.globalenv['X_test_r'] = X_test_r\n",
    "        ro.r('pred <- predict(bls.tree, data = X_test_r)')\n",
    "        pred = ro.r['pred']\n",
    "    else:\n",
    "        pred = None\n",
    "        \n",
    "    return (np.mean(coverage), np.mean(len), \n",
    "            np.mean(coverage_naive), np.mean(len_naive), pred) "
   ],
   "metadata": {
    "collapsed": false,
    "ExecuteTime": {
     "end_time": "2024-10-18T01:45:41.062984Z",
     "start_time": "2024-10-18T01:45:40.824179Z"
    }
   },
   "id": "4cd98f0c2b71ea1a"
  },
  {
   "cell_type": "code",
   "execution_count": 5,
   "outputs": [],
   "source": [
    "def generate_test(mu, sd_y):\n",
    "    n = mu.shape[0]\n",
    "    return mu + np.random.normal(size=(n,), scale=sd_y)"
   ],
   "metadata": {
    "collapsed": false,
    "ExecuteTime": {
     "end_time": "2024-10-18T01:45:41.223205Z",
     "start_time": "2024-10-18T01:45:41.217613Z"
    }
   },
   "id": "97816fc89d968b4b"
  },
  {
   "cell_type": "code",
   "execution_count": 6,
   "outputs": [],
   "source": [
    "def randomized_inference(reg_tree, sd_y, y, mu, level=0.1):\n",
    "    #print(reg_tree.terminal_nodes)\n",
    "    coverage_i = []\n",
    "    lengths_i = []\n",
    "    \n",
    "    for node in reg_tree.terminal_nodes:\n",
    "        pval, dist, contrast, norm_contrast, obs_tar, logW, suff, sel_probs \\\n",
    "            = (reg_tree.condl_node_inference(node=node, \n",
    "                                             ngrid=10000,\n",
    "                                             ncoarse=200,\n",
    "                                             grid_w_const=1.5,\n",
    "                                             reduced_dim=1,\n",
    "                                             sd=sd_y,\n",
    "                                             use_cvxpy=True))\n",
    "        target = contrast.dot(mu)\n",
    "        \n",
    "        # This is an interval for\n",
    "        # eta_*'mu = eta'mu / (norm(eta) * sd_y)\n",
    "        selective_CI = (dist.equal_tailed_interval(observed=norm_contrast.dot(y),\n",
    "                                                   alpha=level))\n",
    "        selective_CI = np.array(selective_CI)\n",
    "        selective_CI *= np.linalg.norm(contrast) * sd_y\n",
    "        coverage_i.append((target >= selective_CI[0] and target <= selective_CI[1]))\n",
    "        lengths_i.append(selective_CI[1] - selective_CI[0])\n",
    "        \n",
    "    return coverage_i, lengths_i"
   ],
   "metadata": {
    "collapsed": false,
    "ExecuteTime": {
     "end_time": "2024-10-18T01:45:41.711971Z",
     "start_time": "2024-10-18T01:45:41.709983Z"
    }
   },
   "id": "2971903d7397ed9c"
  },
  {
   "cell_type": "code",
   "execution_count": 7,
   "outputs": [],
   "source": [
    "def terminal_inference_sim(n = 50, p = 5, a = 0.1, b = 0.1, \n",
    "                           sd_y = 1, noise_sd_list = [0.5, 1, 2, 5], \n",
    "                           start=0, end=100,\n",
    "                           level=0.1):\n",
    "    coverage_dict = {m: [] for m in noise_sd_list + [\"Tree val\", \"Naive\"]}\n",
    "    length_dict = {m: [] for m in noise_sd_list + [\"Tree val\", \"Naive\"]}\n",
    "    MSE_dict = {m: [] for m in noise_sd_list + [\"Tree val\", \"Naive\"]}\n",
    "    \n",
    "    for i in range(start, end):\n",
    "        print(i, \"th simulation\")\n",
    "        np.random.seed(i + 48105)\n",
    "        X = np.random.normal(size=(n, p))\n",
    "\n",
    "        mu = b * ((X[:, 0] <= 0) * (1 + a * (X[:, 1] > 0) + (X[:, 2] * X[:, 1] <= 0)))\n",
    "        y = mu + np.random.normal(size=(n,), scale=sd_y)\n",
    "        y_test = generate_test(mu, sd_y)\n",
    "        \n",
    "        for noise_sd in noise_sd_list:\n",
    "            # Create and train the regression tree\n",
    "            reg_tree = RegressionTree(min_samples_split=10, max_depth=3,\n",
    "                                      min_proportion=0.1)\n",
    "            reg_tree.fit(X, y, sd = noise_sd * sd_y)\n",
    "            \n",
    "            coverage_i, lengths_i = randomized_inference(reg_tree=reg_tree, \n",
    "                                                         y=y, sd_y=sd_y, mu=mu, level=level)\n",
    "            pred_test = reg_tree.predict(X)\n",
    "            MSE_test = (np.mean((y_test - pred_test) ** 2))\n",
    "            # Record results\n",
    "            coverage_dict[noise_sd].append(np.mean(coverage_i))\n",
    "            length_dict[noise_sd].append(np.mean(lengths_i))\n",
    "            MSE_dict[noise_sd].append(MSE_test)\n",
    "        \n",
    "        # Tree value & naive inference & prediction\n",
    "        (coverage_treeval, avg_len_treeval, \n",
    "         coverage_treeval_naive, avg_len_treeval_naive,\n",
    "         pred_test_treeval) = tree_values_inference(X, y, mu, 3, X_test=X, max_depth=3)\n",
    "\n",
    "        MSE_test_treeval = (np.mean((y_test - pred_test_treeval) ** 2))\n",
    "        coverage_dict[\"Tree val\"].append(coverage_treeval)\n",
    "        length_dict[\"Tree val\"].append(avg_len_treeval)\n",
    "        MSE_dict[\"Tree val\"].append(MSE_test_treeval)\n",
    "        coverage_dict[\"Naive\"].append(coverage_treeval_naive)\n",
    "        length_dict[\"Naive\"].append(avg_len_treeval_naive)\n",
    "        MSE_dict[\"Naive\"].append(MSE_test_treeval)\n",
    "        \n",
    "    return coverage_dict, length_dict, MSE_dict"
   ],
   "metadata": {
    "collapsed": false,
    "ExecuteTime": {
     "end_time": "2024-10-18T01:45:42.088030Z",
     "start_time": "2024-10-18T01:45:42.073354Z"
    }
   },
   "id": "8b715a0214918be8"
  },
  {
   "cell_type": "code",
   "execution_count": 9,
   "outputs": [
    {
     "name": "stdout",
     "output_type": "stream",
     "text": [
      "0 th simulation\n",
      "1 th simulation\n",
      "2 th simulation\n",
      "3 th simulation\n",
      "4 th simulation\n"
     ]
    }
   ],
   "source": [
    "(coverage_dict, length_dict, MSE_dict) \\\n",
    "    = terminal_inference_sim(start=0, end=5, n=50, sd_y=1, noise_sd_list=[0.5, 1], \n",
    "                             a=1,b=1, level=0.1)"
   ],
   "metadata": {
    "collapsed": false,
    "ExecuteTime": {
     "end_time": "2024-10-18T01:50:16.113301Z",
     "start_time": "2024-10-18T01:47:41.086299Z"
    }
   },
   "id": "84374f89cc216b20"
  },
  {
   "cell_type": "code",
   "execution_count": 10,
   "outputs": [
    {
     "data": {
      "text/plain": "({0.5: [np.float64(1.0),\n   np.float64(0.8333333333333334),\n   np.float64(1.0),\n   np.float64(0.8571428571428571),\n   np.float64(1.0)],\n  1: [np.float64(1.0),\n   np.float64(1.0),\n   np.float64(1.0),\n   np.float64(0.8571428571428571),\n   np.float64(1.0)],\n  'Tree val': [np.float64(1.0),\n   np.float64(1.0),\n   np.float64(0.75),\n   np.float64(1.0),\n   np.float64(1.0)],\n  'Naive': [np.float64(0.5),\n   np.float64(0.5),\n   np.float64(0.25),\n   np.float64(0.25),\n   np.float64(0.4)]},\n {0.5: [np.float64(90.83689452040015),\n   np.float64(125.74149804162376),\n   np.float64(42.8361530412838),\n   np.float64(150.94684204209943),\n   np.float64(247.37451939391073)],\n  1: [np.float64(102.6563796029573),\n   np.float64(55.97499486748189),\n   np.float64(51.67793810368926),\n   np.float64(75.93056926570041),\n   np.float64(258.2736888922537)],\n  'Tree val': [np.float64(26.015825722513924),\n   np.float64(8.709016787522842),\n   np.float64(76.60651168458173),\n   np.float64(15.399370550237458),\n   np.float64(29.811309784203864)],\n  'Naive': [np.float64(2.9025987030692573),\n   np.float64(2.8700975888211233),\n   np.float64(3.0785383865883267),\n   np.float64(2.8255441550091747),\n   np.float64(3.221173332466976)]},\n {0.5: [np.float64(34.84127201165996),\n   np.float64(41.4289934550361),\n   np.float64(40.455191791525266),\n   np.float64(41.0132875851497),\n   np.float64(34.39790520508043)],\n  1: [np.float64(34.84127201165996),\n   np.float64(41.28948346651438),\n   np.float64(40.455191791525266),\n   np.float64(41.0132875851497),\n   np.float64(34.39790520508043)],\n  'Tree val': [np.float64(29.62338261298985),\n   np.float64(38.06151433888785),\n   np.float64(40.45519179152527),\n   np.float64(39.25995512793624),\n   np.float64(36.241992697935565)],\n  'Naive': [np.float64(29.62338261298985),\n   np.float64(38.06151433888785),\n   np.float64(40.45519179152527),\n   np.float64(39.25995512793624),\n   np.float64(36.241992697935565)]})"
     },
     "execution_count": 10,
     "metadata": {},
     "output_type": "execute_result"
    }
   ],
   "source": [
    "coverage_dict, length_dict, MSE_dict"
   ],
   "metadata": {
    "collapsed": false,
    "ExecuteTime": {
     "end_time": "2024-10-18T01:50:25.737085Z",
     "start_time": "2024-10-18T01:50:25.733092Z"
    }
   },
   "id": "d49f532402ac942a"
  },
  {
   "cell_type": "code",
   "execution_count": 28,
   "outputs": [],
   "source": [
    "noise_sd_list = [0.5, 1, 2, 5] + [\"Tree val\", \"Naive\"]"
   ],
   "metadata": {
    "collapsed": false,
    "ExecuteTime": {
     "end_time": "2024-10-17T20:42:44.998801Z",
     "start_time": "2024-10-17T20:42:44.982085Z"
    }
   },
   "id": "234165b0eb5b4a02"
  },
  {
   "cell_type": "code",
   "execution_count": 29,
   "outputs": [
    {
     "data": {
      "text/plain": "[0.5, 1, 2, 5, 'Tree val', 'Naive']"
     },
     "execution_count": 29,
     "metadata": {},
     "output_type": "execute_result"
    }
   ],
   "source": [
    "noise_sd_list"
   ],
   "metadata": {
    "collapsed": false,
    "ExecuteTime": {
     "end_time": "2024-10-17T20:42:46.988073Z",
     "start_time": "2024-10-17T20:42:46.960892Z"
    }
   },
   "id": "f5a3cd1adf4fab3e"
  },
  {
   "cell_type": "code",
   "execution_count": null,
   "outputs": [],
   "source": [],
   "metadata": {
    "collapsed": false
   },
   "id": "bce0a5016022c22b"
  }
 ],
 "metadata": {
  "kernelspec": {
   "display_name": "Python 3",
   "language": "python",
   "name": "python3"
  },
  "language_info": {
   "codemirror_mode": {
    "name": "ipython",
    "version": 2
   },
   "file_extension": ".py",
   "mimetype": "text/x-python",
   "name": "python",
   "nbconvert_exporter": "python",
   "pygments_lexer": "ipython2",
   "version": "2.7.6"
  }
 },
 "nbformat": 4,
 "nbformat_minor": 5
}
