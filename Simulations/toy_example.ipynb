{
 "cells": [
  {
   "cell_type": "code",
   "execution_count": 1,
   "id": "initial_id",
   "metadata": {
    "collapsed": true,
    "ExecuteTime": {
     "end_time": "2024-10-25T18:26:52.884080Z",
     "start_time": "2024-10-25T18:26:51.332393Z"
    }
   },
   "outputs": [],
   "source": [
    "import time\n",
    "\n",
    "import numpy as np\n",
    "import pandas as pd\n",
    "\n",
    "from Utils.discrete_family import discrete_family\n",
    "from Utils.barrier_affine import solve_barrier_tree, solve_barrier_tree_nonneg, solve_barrier_tree_box_PGD\n",
    "from CART import RegressionTree\n",
    "from scipy.interpolate import interp1d\n",
    "from scipy.stats import multivariate_normal as mvn\n",
    "from Utils.plotting import  *\n",
    "from Utils.simulation_helpers import *\n",
    "from scipy.stats import norm as ndist\n",
    "\n",
    "# For tree-values\n",
    "import rpy2.robjects.packages as rpackages\n",
    "from rpy2.robjects.vectors import StrVector\n",
    "\n",
    "# Select a CRAN mirror to download from\n",
    "utils = rpackages.importr('utils')\n",
    "utils.chooseCRANmirror(ind=1)  # Select the first mirror\n",
    "\n",
    "# Install 'remotes' if it's not already installed\n",
    "if not rpackages.isinstalled('remotes'):\n",
    "    utils.install_packages(StrVector(('remotes',)))\n",
    "\n",
    "import rpy2.robjects as ro\n",
    "\n",
    "from rpy2.robjects.packages import importr\n",
    "from rpy2.robjects import pandas2ri\n",
    "from rpy2.robjects import numpy2ri\n",
    "%load_ext rpy2.ipython"
   ]
  },
  {
   "cell_type": "markdown",
   "source": [
    "# Main ideas\n",
    "1. Generate data from the tree-values setting:\n",
    "> We simulate $X \\in \\mathbb{R}^{n \\times p}$ with $n=200, p=10, X_{i j} \\stackrel{i . i . d .}{\\sim} N(0,1)$, and $y \\sim N_n\\left(\\mu, \\sigma^2 I_n\\right)$ with $\\sigma=5$ and $\\mu_i=b \\times\\left[1_{\\left(x_{i, 1} \\leq 0\\right)} \\times\\left\\{1+a 1_{\\left(x_{i, 2}>0\\right)}+1_{\\left(x_{i, 3} \\times x_{i, 2}>0\\right)}\\right\\}\\right]$. \n",
    "2. Fix a maximum depth $max\\_depth$, e.g. $5$.\n",
    "3. Use naive inference, tree-values, and our proposed method to fit the tree.\n",
    "4. Coverage rate comparison: compare the average coverage rate over CIs for terminal nodes in each simulation.\n",
    "5. Average length comparison: compare the average CIs lengths for terminal nodes in each simulation.\n",
    "6. Selection quality comparison: \n",
    "a. generate the same dataset with same $X, \\mu$ but new $\\epsilon$,\n",
    "b. generate new $X, \\mu$, \\epsilon$ using the same parameters,\n",
    "compare the MSE of fitted trees on this test set."
   ],
   "metadata": {
    "collapsed": false
   },
   "id": "a826a2a406801d23"
  },
  {
   "cell_type": "code",
   "execution_count": 2,
   "outputs": [],
   "source": [
    "# Activate automatic conversion between pandas and R data frames\n",
    "pandas2ri.activate()\n",
    "\n",
    "# Import R libraries\n",
    "treevalues = importr('treevalues')\n",
    "rpart = importr('rpart')\n",
    "\n",
    "def tree_values_inference(X, y, mu, sd_y, max_depth=5, level=0.1,\n",
    "                          X_test=None):\n",
    "    # Convert the NumPy matrix to an R matrix\n",
    "    X_r = numpy2ri.py2rpy(X)\n",
    "    y_r = numpy2ri.py2rpy(y)\n",
    "    \n",
    "    # Assign the R matrix to a variable in the R environment (optional)\n",
    "    ro.globalenv['X_r'] = X_r\n",
    "    ro.globalenv['y_r'] = y_r\n",
    "    ro.globalenv['p'] = X.shape[1]\n",
    "    \n",
    "    # Construct dataset\n",
    "    ro.r('data <- cbind(y_r, X_r)')\n",
    "    # Set the column names to \"y\", \"x1\", \"x2\", ..., \"x10\"\n",
    "    ro.r('colnames(data) <- c(\"y\", paste0(\"x\", 1:p))')\n",
    "    ro.r('data = data.frame(data)')\n",
    "    \n",
    "    # Define the rpart tree model\n",
    "    tree_cmd = 'bls.tree <- rpart(y ~ ., data=data, model = TRUE, cp=0.00, maxdepth=' + str(max_depth) + ')'\n",
    "    ro.r(tree_cmd)\n",
    "    bls_tree = ro.r('bls.tree')\n",
    "    # Plot the tree values (this will plot directly if you have a plotting backend set up)\n",
    "    #ro.r('treeval.plot(bls.tree, inferenceType=0)')\n",
    "    \n",
    "    #ro.r('print(row.names(bls.tree$frame)[bls.tree$frame$var == \"<leaf>\"])')\n",
    "    ro.r('leaf_idx <- (row.names(bls.tree$frame)[bls.tree$frame$var == \"<leaf>\"])')\n",
    "    leaf_idx = ro.r['leaf_idx']\n",
    "    \n",
    "    # Get node mapping\n",
    "    ro.r('idx_full <- 1:nrow(bls.tree$frame)')\n",
    "    ro.r('mapped_idx <- idx_full[bls.tree$frame$var == \"<leaf>\"]')\n",
    "    \n",
    "    len = []\n",
    "    coverage = []\n",
    "    len_naive = []\n",
    "    coverage_naive = []\n",
    "    \n",
    "    for i,idx in enumerate(leaf_idx):\n",
    "        # Get the branch information for a specific branch in the tree\n",
    "        command = 'branch <- getBranch(bls.tree, ' + str(idx) + ')'\n",
    "        ro.r(command)\n",
    "        # Perform branch inference\n",
    "        ro.r('result <- branchInference(bls.tree, branch, type=\"reg\", alpha = 0.10)')\n",
    "        # Get confidence intervals\n",
    "        confint = ro.r('result$confint')\n",
    "        len.append(confint[1] - confint[0])\n",
    "    \n",
    "        target_cmd = \"contrast <- (bls.tree$where == mapped_idx[\" + str(i+1) + \"])\"\n",
    "        ro.r(target_cmd)\n",
    "        contrast = ro.r('contrast')\n",
    "        contrast = np.array(contrast)\n",
    "        \n",
    "        contrast = np.array(contrast * 1 / np.sum(contrast))\n",
    "        \n",
    "        target = contrast.dot(mu)\n",
    "        coverage.append(target >= confint[0] and target <= confint[1])\n",
    "        \n",
    "        # Naive after tree value\n",
    "        # Confidence intervals\n",
    "        naive_CI = [contrast.dot(y) - \n",
    "                    np.linalg.norm(contrast) * sd_y * ndist.ppf(1 - level / 2),\n",
    "                    contrast.dot(y) + \n",
    "                    np.linalg.norm(contrast) * sd_y * ndist.ppf(1 - level / 2)]\n",
    "        coverage_naive.append((target >= naive_CI[0] and target <= naive_CI[1]))\n",
    "        len_naive.append(naive_CI[1] - naive_CI[0])\n",
    "    \n",
    "    if X_test is not None:\n",
    "        X_test_r = numpy2ri.py2rpy(X_test)\n",
    "        ro.globalenv['X_test_r'] = X_test_r\n",
    "        ro.r('pred <- predict(bls.tree, data = X_test_r)')\n",
    "        pred = ro.r['pred']\n",
    "    else:\n",
    "        pred = None\n",
    "        \n",
    "    return (np.mean(coverage), np.mean(len), \n",
    "            np.mean(coverage_naive), np.mean(len_naive), pred) "
   ],
   "metadata": {
    "collapsed": false,
    "ExecuteTime": {
     "end_time": "2024-10-25T18:26:54.221797Z",
     "start_time": "2024-10-25T18:26:54.000475Z"
    }
   },
   "id": "4cd98f0c2b71ea1a"
  },
  {
   "cell_type": "code",
   "execution_count": 3,
   "outputs": [],
   "source": [
    "def generate_test(mu, sd_y):\n",
    "    n = mu.shape[0]\n",
    "    return mu + np.random.normal(size=(n,), scale=sd_y)"
   ],
   "metadata": {
    "collapsed": false,
    "ExecuteTime": {
     "end_time": "2024-10-25T18:26:55.357574Z",
     "start_time": "2024-10-25T18:26:55.338672Z"
    }
   },
   "id": "97816fc89d968b4b"
  },
  {
   "cell_type": "code",
   "execution_count": 4,
   "outputs": [],
   "source": [
    "def randomized_inference(reg_tree, sd_y, y, mu, level=0.1):\n",
    "    #print(reg_tree.terminal_nodes)\n",
    "    coverage_i = []\n",
    "    lengths_i = []\n",
    "    \n",
    "    for node in reg_tree.terminal_nodes:\n",
    "        pval, dist, contrast, norm_contrast, obs_tar, logW, suff, sel_probs \\\n",
    "            = (reg_tree.condl_node_inference(node=node, \n",
    "                                             ngrid=10000,\n",
    "                                             ncoarse=30,\n",
    "                                             grid_w_const=3,\n",
    "                                             reduced_dim=1,\n",
    "                                             sd=sd_y,\n",
    "                                             use_cvxpy=True))\n",
    "        target = contrast.dot(mu)\n",
    "        \n",
    "        # This is an interval for\n",
    "        # eta_*'mu = eta'mu / (norm(eta) * sd_y)\n",
    "        selective_CI = (dist.equal_tailed_interval(observed=norm_contrast.dot(y),\n",
    "                                                   alpha=level))\n",
    "        selective_CI = np.array(selective_CI)\n",
    "        selective_CI *= np.linalg.norm(contrast) * sd_y\n",
    "        coverage_i.append((target >= selective_CI[0] and target <= selective_CI[1]))\n",
    "        lengths_i.append(selective_CI[1] - selective_CI[0])\n",
    "        \n",
    "    return coverage_i, lengths_i"
   ],
   "metadata": {
    "collapsed": false,
    "ExecuteTime": {
     "end_time": "2024-10-25T18:26:57.781710Z",
     "start_time": "2024-10-25T18:26:57.763596Z"
    }
   },
   "id": "2971903d7397ed9c"
  },
  {
   "cell_type": "code",
   "execution_count": 7,
   "outputs": [],
   "source": [
    "def terminal_inference_sim(n = 50, p = 5, a = 0.1, b = 0.1, \n",
    "                           sd_y = 1, noise_sd_list = [0.5, 1, 2, 5], \n",
    "                           start=0, end=100,\n",
    "                           level=0.1):\n",
    "    coverage_dict = {m: [] for m in noise_sd_list + [\"Tree val\", \"Naive\"]}\n",
    "    length_dict = {m: [] for m in noise_sd_list + [\"Tree val\", \"Naive\"]}\n",
    "    MSE_dict = {m: [] for m in noise_sd_list + [\"Tree val\", \"Naive\"]}\n",
    "    \n",
    "    for i in range(start, end):\n",
    "        print(i, \"th simulation\")\n",
    "        np.random.seed(i + 48105)\n",
    "        X = np.random.normal(size=(n, p))\n",
    "\n",
    "        mu = b * ((X[:, 0] <= 0) * (1 + a * (X[:, 1] > 0) + (X[:, 2] * X[:, 1] <= 0)))\n",
    "        y = mu + np.random.normal(size=(n,), scale=sd_y)\n",
    "        y_test = generate_test(mu, sd_y)\n",
    "        \n",
    "        for noise_sd in noise_sd_list:\n",
    "            # Create and train the regression tree\n",
    "            reg_tree = RegressionTree(min_samples_split=10, max_depth=3,\n",
    "                                      min_proportion=0.1)\n",
    "            reg_tree.fit(X, y, sd = noise_sd * sd_y)\n",
    "            \n",
    "            coverage_i, lengths_i = randomized_inference(reg_tree=reg_tree, \n",
    "                                                         y=y, sd_y=sd_y, mu=mu, level=level)\n",
    "            pred_test = reg_tree.predict(X)\n",
    "            MSE_test = (np.mean((y_test - pred_test) ** 2))\n",
    "            # Record results\n",
    "            coverage_dict[noise_sd].append(np.mean(coverage_i))\n",
    "            length_dict[noise_sd].append(np.mean(lengths_i))\n",
    "            MSE_dict[noise_sd].append(MSE_test)\n",
    "        \n",
    "        # Tree value & naive inference & prediction\n",
    "        (coverage_treeval, avg_len_treeval, \n",
    "         coverage_treeval_naive, avg_len_treeval_naive,\n",
    "         pred_test_treeval) = tree_values_inference(X, y, mu, sd_y=sd_y, \n",
    "                                                    X_test=X, max_depth=3)\n",
    "\n",
    "        MSE_test_treeval = (np.mean((y_test - pred_test_treeval) ** 2))\n",
    "        coverage_dict[\"Tree val\"].append(coverage_treeval)\n",
    "        length_dict[\"Tree val\"].append(avg_len_treeval)\n",
    "        MSE_dict[\"Tree val\"].append(MSE_test_treeval)\n",
    "        coverage_dict[\"Naive\"].append(coverage_treeval_naive)\n",
    "        length_dict[\"Naive\"].append(avg_len_treeval_naive)\n",
    "        MSE_dict[\"Naive\"].append(MSE_test_treeval)\n",
    "        \n",
    "    return coverage_dict, length_dict, MSE_dict"
   ],
   "metadata": {
    "collapsed": false,
    "ExecuteTime": {
     "end_time": "2024-10-25T18:27:11.619117Z",
     "start_time": "2024-10-25T18:27:11.613566Z"
    }
   },
   "id": "8b715a0214918be8"
  },
  {
   "cell_type": "code",
   "execution_count": 8,
   "outputs": [
    {
     "name": "stdout",
     "output_type": "stream",
     "text": [
      "0 th simulation\n",
      "1 th simulation\n",
      "2 th simulation\n",
      "3 th simulation\n",
      "4 th simulation\n",
      "5 th simulation\n",
      "6 th simulation\n",
      "7 th simulation\n",
      "8 th simulation\n",
      "9 th simulation\n",
      "10 th simulation\n",
      "11 th simulation\n",
      "12 th simulation\n",
      "13 th simulation\n",
      "14 th simulation\n",
      "15 th simulation\n",
      "16 th simulation\n",
      "17 th simulation\n",
      "18 th simulation\n",
      "19 th simulation\n",
      "20 th simulation\n",
      "21 th simulation\n",
      "22 th simulation\n",
      "23 th simulation\n",
      "24 th simulation\n",
      "25 th simulation\n",
      "26 th simulation\n",
      "27 th simulation\n",
      "28 th simulation\n",
      "29 th simulation\n",
      "30 th simulation\n",
      "31 th simulation\n",
      "32 th simulation\n"
     ]
    },
    {
     "name": "stderr",
     "output_type": "stream",
     "text": [
      "/Users/yilingh/Desktop/PhD/SI_Codes/SI-CART/Utils/discrete_family.py:148: RuntimeWarning: overflow encountered in exp\n",
      "  self._partition *= np.exp(_largest)\n"
     ]
    },
    {
     "name": "stdout",
     "output_type": "stream",
     "text": [
      "33 th simulation\n",
      "34 th simulation\n",
      "35 th simulation\n",
      "36 th simulation\n",
      "37 th simulation\n",
      "38 th simulation\n",
      "39 th simulation\n",
      "40 th simulation\n",
      "41 th simulation\n",
      "42 th simulation\n",
      "43 th simulation\n",
      "44 th simulation\n",
      "45 th simulation\n",
      "46 th simulation\n",
      "47 th simulation\n",
      "48 th simulation\n",
      "49 th simulation\n"
     ]
    }
   ],
   "source": [
    "(coverage_dict, length_dict, MSE_dict) \\\n",
    "    = terminal_inference_sim(start=0, end=50, n=50, p=5, sd_y=5, \n",
    "                             noise_sd_list=[0.1, 0.5], \n",
    "                             a=1,b=1, level=0.1)"
   ],
   "metadata": {
    "collapsed": false,
    "ExecuteTime": {
     "end_time": "2024-10-25T18:33:00.994890Z",
     "start_time": "2024-10-25T18:27:12.744259Z"
    }
   },
   "id": "84374f89cc216b20"
  },
  {
   "cell_type": "code",
   "execution_count": 9,
   "outputs": [
    {
     "data": {
      "text/plain": "({0.1: [np.float64(0.42857142857142855),\n   np.float64(0.8333333333333334),\n   np.float64(0.5),\n   np.float64(0.8571428571428571),\n   np.float64(0.8333333333333334),\n   np.float64(1.0),\n   np.float64(0.8333333333333334),\n   np.float64(0.8333333333333334),\n   np.float64(1.0),\n   np.float64(1.0),\n   np.float64(0.5),\n   np.float64(0.8),\n   np.float64(0.8),\n   np.float64(1.0),\n   np.float64(0.7142857142857143),\n   np.float64(1.0),\n   np.float64(1.0),\n   np.float64(0.6666666666666666),\n   np.float64(0.6),\n   np.float64(1.0),\n   np.float64(1.0),\n   np.float64(0.6),\n   np.float64(0.75),\n   np.float64(1.0),\n   np.float64(1.0),\n   np.float64(0.2),\n   np.float64(1.0),\n   np.float64(0.8333333333333334),\n   np.float64(0.6666666666666666),\n   np.float64(1.0),\n   np.float64(0.8333333333333334),\n   np.float64(0.5714285714285714),\n   np.float64(0.2),\n   np.float64(1.0),\n   np.float64(1.0),\n   np.float64(0.6),\n   np.float64(0.8333333333333334),\n   np.float64(0.8),\n   np.float64(1.0),\n   np.float64(0.5714285714285714),\n   np.float64(0.5),\n   np.float64(0.8),\n   np.float64(0.8333333333333334),\n   np.float64(1.0),\n   np.float64(0.8333333333333334),\n   np.float64(0.6666666666666666),\n   np.float64(1.0),\n   np.float64(1.0),\n   np.float64(1.0),\n   np.float64(0.8333333333333334)],\n  0.5: [np.float64(1.0),\n   np.float64(1.0),\n   np.float64(1.0),\n   np.float64(0.8571428571428571),\n   np.float64(1.0),\n   np.float64(0.8333333333333334),\n   np.float64(0.7142857142857143),\n   np.float64(0.8333333333333334),\n   np.float64(1.0),\n   np.float64(0.6666666666666666),\n   np.float64(0.8333333333333334),\n   np.float64(1.0),\n   np.float64(1.0),\n   np.float64(1.0),\n   np.float64(1.0),\n   np.float64(1.0),\n   np.float64(0.75),\n   np.float64(0.8571428571428571),\n   np.float64(1.0),\n   np.float64(0.8),\n   np.float64(0.8571428571428571),\n   np.float64(1.0),\n   np.float64(1.0),\n   np.float64(1.0),\n   np.float64(0.75),\n   np.float64(0.8571428571428571),\n   np.float64(1.0),\n   np.float64(1.0),\n   np.float64(1.0),\n   np.float64(1.0),\n   np.float64(0.8333333333333334),\n   np.float64(0.7142857142857143),\n   np.float64(1.0),\n   np.float64(0.75),\n   np.float64(1.0),\n   np.float64(1.0),\n   np.float64(1.0),\n   np.float64(0.8),\n   np.float64(1.0),\n   np.float64(1.0),\n   np.float64(1.0),\n   np.float64(1.0),\n   np.float64(0.8333333333333334),\n   np.float64(0.7142857142857143),\n   np.float64(0.6666666666666666),\n   np.float64(1.0),\n   np.float64(0.8333333333333334),\n   np.float64(1.0),\n   np.float64(1.0),\n   np.float64(0.6666666666666666)],\n  'Tree val': [np.float64(1.0),\n   np.float64(1.0),\n   np.float64(0.75),\n   np.float64(1.0),\n   np.float64(1.0),\n   np.float64(1.0),\n   np.float64(1.0),\n   np.float64(1.0),\n   np.float64(1.0),\n   np.float64(1.0),\n   np.float64(1.0),\n   np.float64(0.25),\n   np.float64(1.0),\n   np.float64(1.0),\n   np.float64(1.0),\n   np.float64(1.0),\n   np.float64(1.0),\n   np.float64(1.0),\n   np.float64(1.0),\n   np.float64(1.0),\n   np.float64(1.0),\n   np.float64(1.0),\n   np.float64(1.0),\n   np.float64(1.0),\n   np.float64(1.0),\n   np.float64(1.0),\n   np.float64(1.0),\n   np.float64(1.0),\n   np.float64(0.8),\n   np.float64(1.0),\n   np.float64(1.0),\n   np.float64(1.0),\n   np.float64(1.0),\n   np.float64(0.5),\n   np.float64(1.0),\n   np.float64(1.0),\n   np.float64(1.0),\n   np.float64(0.75),\n   np.float64(1.0),\n   np.float64(1.0),\n   np.float64(1.0),\n   np.float64(1.0),\n   np.float64(1.0),\n   np.float64(1.0),\n   np.float64(1.0),\n   np.float64(1.0),\n   np.float64(1.0),\n   np.float64(1.0),\n   np.float64(1.0),\n   np.float64(1.0)],\n  'Naive': [np.float64(0.5),\n   np.float64(0.75),\n   np.float64(0.25),\n   np.float64(0.5),\n   np.float64(0.6),\n   np.float64(0.5),\n   np.float64(0.75),\n   np.float64(0.5),\n   np.float64(0.25),\n   np.float64(0.5),\n   np.float64(0.25),\n   np.float64(0.5),\n   np.float64(0.5),\n   np.float64(0.75),\n   np.float64(0.3333333333333333),\n   np.float64(0.75),\n   np.float64(0.25),\n   np.float64(0.25),\n   np.float64(0.75),\n   np.float64(0.5),\n   np.float64(0.6666666666666666),\n   np.float64(0.5),\n   np.float64(0.5),\n   np.float64(0.5),\n   np.float64(0.5),\n   np.float64(0.0),\n   np.float64(0.5),\n   np.float64(0.25),\n   np.float64(0.4),\n   np.float64(0.5),\n   np.float64(0.3333333333333333),\n   np.float64(0.75),\n   np.float64(0.25),\n   np.float64(0.25),\n   np.float64(0.5),\n   np.float64(0.5),\n   np.float64(0.5),\n   np.float64(0.5),\n   np.float64(0.25),\n   np.float64(0.5),\n   np.float64(0.8),\n   np.float64(0.5),\n   np.float64(0.5),\n   np.float64(0.5),\n   np.float64(0.4),\n   np.float64(0.5),\n   np.float64(0.5),\n   np.float64(0.75),\n   np.float64(0.5),\n   np.float64(0.25)]},\n {0.1: [np.float64(74.02042908075089),\n   np.float64(54.40645174248136),\n   np.float64(31.269512361596757),\n   np.float64(75.75477407500459),\n   np.float64(115.1779984277823),\n   np.float64(50.39934051009442),\n   np.float64(45.12604361012418),\n   np.float64(87.52410406964184),\n   np.float64(82.16560028280817),\n   np.float64(58.77681100481711),\n   np.float64(63.6609962219325),\n   np.float64(46.422581486883196),\n   np.float64(74.77840666260616),\n   np.float64(54.56457504441696),\n   np.float64(117.21632394345504),\n   np.float64(55.13316010373763),\n   np.float64(38.170534039205045),\n   np.float64(95.50236764617085),\n   np.float64(26.270813558730122),\n   np.float64(31.954878333119076),\n   np.float64(58.62245767572527),\n   np.float64(44.610785413030946),\n   np.float64(85.88529113688288),\n   np.float64(28.213774945252986),\n   np.float64(17.473366106925937),\n   np.float64(135.32683368567194),\n   np.float64(42.037538131792886),\n   np.float64(118.31405968470035),\n   np.float64(72.18738437248463),\n   np.float64(48.503117456735396),\n   np.float64(267.8685356063249),\n   np.float64(64.45526945887359),\n   np.float64(96.99917667692515),\n   np.float64(35.41776393970386),\n   np.float64(102.25316809083454),\n   np.float64(88.35884632542017),\n   np.float64(65.95360788576926),\n   np.float64(47.965096959601325),\n   np.float64(80.70332088943523),\n   np.float64(74.60273303381427),\n   np.float64(78.71083203510129),\n   np.float64(70.44558000152108),\n   np.float64(64.5901968976646),\n   np.float64(83.04223891146641),\n   np.float64(77.10644475013713),\n   np.float64(61.47139132020388),\n   np.float64(48.1298035304309),\n   np.float64(65.1506644962213),\n   np.float64(45.885071933945234),\n   np.float64(115.1149241142546)],\n  0.5: [np.float64(19.375000919503595),\n   np.float64(18.418918569019755),\n   np.float64(9.894108093281673),\n   np.float64(24.040949420017),\n   np.float64(49.789441160320955),\n   np.float64(15.724275763880266),\n   np.float64(17.535496828368405),\n   np.float64(23.52392129236448),\n   np.float64(18.718762269926014),\n   np.float64(18.08859493056848),\n   np.float64(18.788383960994334),\n   np.float64(34.36524628295884),\n   np.float64(17.947879610311695),\n   np.float64(24.09060841535717),\n   np.float64(24.22246761687716),\n   np.float64(20.348004902072038),\n   np.float64(11.064477309224213),\n   np.float64(31.995614878582177),\n   np.float64(15.309130215867274),\n   np.float64(19.961428120426426),\n   np.float64(20.224317769631565),\n   np.float64(17.552897092363715),\n   np.float64(32.31549741877334),\n   np.float64(15.691638705127076),\n   np.float64(17.44396967576125),\n   np.float64(37.89170009338047),\n   np.float64(27.949408520472513),\n   np.float64(25.003058331519764),\n   np.float64(20.023775508092278),\n   np.float64(20.34795038486372),\n   np.float64(24.64833084610456),\n   np.float64(20.620415766753734),\n   np.float64(19.930456054937537),\n   np.float64(13.683233423712604),\n   np.float64(24.33651954954979),\n   np.float64(31.29119846783877),\n   np.float64(60.38956163762034),\n   np.float64(15.195712050097555),\n   np.float64(20.263778935967323),\n   np.float64(28.56970051820186),\n   np.float64(16.709799103798044),\n   np.float64(18.33740256154323),\n   np.float64(22.453274583249325),\n   np.float64(23.925253654884973),\n   np.float64(16.813956776286453),\n   np.float64(17.670255635152376),\n   np.float64(23.319555841376612),\n   np.float64(20.056616137032602),\n   np.float64(23.879495558686084),\n   np.float64(33.14203525691931)],\n  'Tree val': [np.float64(26.015825722513924),\n   np.float64(8.709016787522842),\n   np.float64(76.60651168458173),\n   np.float64(15.399370550237458),\n   np.float64(29.811309784203864),\n   np.float64(14.968179681877425),\n   np.float64(39.118345554446435),\n   np.float64(27.52743734862411),\n   np.float64(18.511014791487042),\n   np.float64(13.289575421945226),\n   np.float64(22.132438090680544),\n   np.float64(103.77298913449941),\n   np.float64(11.077014264344832),\n   np.float64(17.599286504329335),\n   np.float64(12.396863496888935),\n   np.float64(13.170046839287641),\n   np.float64(105.98386258207304),\n   np.float64(20.04415932792117),\n   np.float64(14.64286509535149),\n   np.float64(20.593417207167004),\n   np.float64(13.101179187815648),\n   np.float64(32.271368456468686),\n   np.float64(16.700024838914082),\n   np.float64(15.69160839411939),\n   np.float64(18.816605964400395),\n   np.float64(96.60814413725983),\n   np.float64(11.242987385132652),\n   np.float64(78.68452557327942),\n   np.float64(38.217344906794395),\n   np.float64(12.05570646443485),\n   np.float64(11.826527058120812),\n   np.float64(19.5645912900485),\n   np.float64(65.50914326952716),\n   np.float64(378.1140342315798),\n   np.float64(30.009138393164505),\n   np.float64(14.161349657518219),\n   np.float64(9.474815852144454),\n   np.float64(28.199932689697068),\n   np.float64(18.576501159249457),\n   np.float64(15.285764183493864),\n   np.float64(51.82565900705746),\n   np.float64(17.187693637545184),\n   np.float64(24.863320997335112),\n   np.float64(16.935030926330462),\n   np.float64(56.34739616574035),\n   np.float64(21.657603230842227),\n   np.float64(102.62300327363113),\n   np.float64(33.18921036880249),\n   np.float64(14.531205902321139),\n   np.float64(43.24600707363228)],\n  'Naive': [np.float64(4.83766450511543),\n   np.float64(4.783495981368539),\n   np.float64(5.130897310980544),\n   np.float64(4.709240258348624),\n   np.float64(5.368622220778292),\n   np.float64(4.666440771909547),\n   np.float64(4.783985265958979),\n   np.float64(4.825311753467306),\n   np.float64(4.72631651504972),\n   np.float64(4.849942820998291),\n   np.float64(4.8970138680087985),\n   np.float64(5.087340451138068),\n   np.float64(5.084205158113606),\n   np.float64(4.749320407898203),\n   np.float64(4.070837782149441),\n   np.float64(4.824173124049489),\n   np.float64(5.339460406396024),\n   np.float64(4.793809754113459),\n   np.float64(5.215307981593407),\n   np.float64(4.988732725800866),\n   np.float64(4.0984631534081215),\n   np.float64(4.900667643557046),\n   np.float64(4.702546197278474),\n   np.float64(5.012421750681461),\n   np.float64(5.02224623883594),\n   np.float64(4.908982373812115),\n   np.float64(5.185266724073176),\n   np.float64(4.88559930082818),\n   np.float64(5.4650048488356715),\n   np.float64(4.853183114412986),\n   np.float64(4.033741771226535),\n   np.float64(4.661357432858479),\n   np.float64(4.971176556063785),\n   np.float64(5.118090110781595),\n   np.float64(4.88559930082818),\n   np.float64(4.860801897882334),\n   np.float64(4.757052089480804),\n   np.float64(4.800510168539326),\n   np.float64(4.821788947362458),\n   np.float64(4.748406220836855),\n   np.float64(5.4650048488356715),\n   np.float64(4.922224753088197),\n   np.float64(4.877984699340967),\n   np.float64(4.666440771909546),\n   np.float64(5.340726308473341),\n   np.float64(4.922224753088196),\n   np.float64(5.067570842679723),\n   np.float64(4.790067077858117),\n   np.float64(4.849942820998292),\n   np.float64(4.939023631332348)]},\n {0.1: [np.float64(36.47240224651754),\n   np.float64(46.37065065555941),\n   np.float64(40.455191791525266),\n   np.float64(41.0132875851497),\n   np.float64(34.39790520508043),\n   np.float64(30.234984157139603),\n   np.float64(42.16747549296856),\n   np.float64(44.663054268354905),\n   np.float64(39.12616562100387),\n   np.float64(34.83576206270004),\n   np.float64(38.47336546764304),\n   np.float64(36.052874786028426),\n   np.float64(39.26351861261694),\n   np.float64(25.406799436229768),\n   np.float64(43.22684019567264),\n   np.float64(32.29600333626236),\n   np.float64(33.848422013083),\n   np.float64(30.426088332316905),\n   np.float64(33.81881202166569),\n   np.float64(29.290444456018296),\n   np.float64(46.15162403816025),\n   np.float64(31.18802235349728),\n   np.float64(45.84102903172966),\n   np.float64(40.759137577363234),\n   np.float64(34.65301627000615),\n   np.float64(26.137307271709815),\n   np.float64(32.975155555849526),\n   np.float64(40.61577009528886),\n   np.float64(34.530180977885855),\n   np.float64(37.789428729788476),\n   np.float64(50.041513526006156),\n   np.float64(43.446354591731186),\n   np.float64(31.693581126538387),\n   np.float64(43.12133847573201),\n   np.float64(35.18644060048591),\n   np.float64(28.799343941158522),\n   np.float64(36.056009031219034),\n   np.float64(21.4344465765804),\n   np.float64(35.331615065730915),\n   np.float64(33.01742579148032),\n   np.float64(36.67034085595062),\n   np.float64(35.00015384883781),\n   np.float64(55.79268452860976),\n   np.float64(34.98797265285546),\n   np.float64(48.36162719132208),\n   np.float64(40.55299199821874),\n   np.float64(45.34140420913982),\n   np.float64(39.19701608701265),\n   np.float64(29.699132001395668),\n   np.float64(45.381297196841544)],\n  0.5: [np.float64(32.38354500993248),\n   np.float64(42.34333540070657),\n   np.float64(40.455191791525266),\n   np.float64(40.44386594909517),\n   np.float64(34.32461766296971),\n   np.float64(30.469886758792576),\n   np.float64(43.150149318510614),\n   np.float64(39.139015158081186),\n   np.float64(39.45741540237745),\n   np.float64(35.16387987795702),\n   np.float64(36.64205116857188),\n   np.float64(35.367999797392216),\n   np.float64(38.51655082646248),\n   np.float64(25.406799436229768),\n   np.float64(40.48139491557217),\n   np.float64(31.119692782843376),\n   np.float64(29.214637691660446),\n   np.float64(29.446388760107375),\n   np.float64(31.30744846775839),\n   np.float64(29.290444456018296),\n   np.float64(46.60154161744468),\n   np.float64(23.761370295877004),\n   np.float64(44.75689466090962),\n   np.float64(37.35576850772303),\n   np.float64(36.3034139179121),\n   np.float64(24.582521535657293),\n   np.float64(30.067708196118723),\n   np.float64(40.32987382202601),\n   np.float64(34.55272021002498),\n   np.float64(38.770713663804514),\n   np.float64(42.300007098907834),\n   np.float64(42.56240721331462),\n   np.float64(31.76938217249912),\n   np.float64(43.12133847573201),\n   np.float64(34.99004813610959),\n   np.float64(26.150166116190317),\n   np.float64(38.028105427317854),\n   np.float64(21.4344465765804),\n   np.float64(39.39496294112354),\n   np.float64(31.45688566682187),\n   np.float64(36.08782691113584),\n   np.float64(34.74373186320801),\n   np.float64(51.88965717527316),\n   np.float64(32.42082015554557),\n   np.float64(50.71158174997845),\n   np.float64(35.72922804106629),\n   np.float64(42.42217860287847),\n   np.float64(38.959914539174775),\n   np.float64(32.65989798638647),\n   np.float64(43.75486118211395)],\n  'Tree val': [np.float64(29.62338261298985),\n   np.float64(38.06151433888785),\n   np.float64(40.45519179152527),\n   np.float64(39.25995512793624),\n   np.float64(36.241992697935565),\n   np.float64(27.66597626128014),\n   np.float64(30.29120774927089),\n   np.float64(39.540728686037866),\n   np.float64(39.57841429537678),\n   np.float64(31.953636141456855),\n   np.float64(32.61513762456525),\n   np.float64(36.23325052381315),\n   np.float64(34.23998867216775),\n   np.float64(21.658052712025796),\n   np.float64(35.576842458643995),\n   np.float64(32.230097776336564),\n   np.float64(33.84842201308301),\n   np.float64(30.934193943484523),\n   np.float64(26.843801074376426),\n   np.float64(30.97979119429869),\n   np.float64(36.180133362000056),\n   np.float64(26.339872454331793),\n   np.float64(33.70858927996839),\n   np.float64(35.1987299080354),\n   np.float64(31.581942913329623),\n   np.float64(31.238928284637144),\n   np.float64(32.975155555849526),\n   np.float64(37.68923516747262),\n   np.float64(29.199609727230072),\n   np.float64(33.82128348991537),\n   np.float64(36.880308672075024),\n   np.float64(32.61983623763652),\n   np.float64(30.76187627937526),\n   np.float64(43.12133847573201),\n   np.float64(29.50812497056653),\n   np.float64(24.638743649733623),\n   np.float64(36.56647116240014),\n   np.float64(20.044251594572962),\n   np.float64(35.84612104009866),\n   np.float64(23.130139702142245),\n   np.float64(31.76487632296346),\n   np.float64(36.12116562713371),\n   np.float64(52.05405584800437),\n   np.float64(30.37275797758299),\n   np.float64(46.82469420452127),\n   np.float64(34.20171158455002),\n   np.float64(37.5035068372096),\n   np.float64(32.67983926795389),\n   np.float64(28.717631120964207),\n   np.float64(40.16162893762317)],\n  'Naive': [np.float64(29.62338261298985),\n   np.float64(38.06151433888785),\n   np.float64(40.45519179152527),\n   np.float64(39.25995512793624),\n   np.float64(36.241992697935565),\n   np.float64(27.66597626128014),\n   np.float64(30.29120774927089),\n   np.float64(39.540728686037866),\n   np.float64(39.57841429537678),\n   np.float64(31.953636141456855),\n   np.float64(32.61513762456525),\n   np.float64(36.23325052381315),\n   np.float64(34.23998867216775),\n   np.float64(21.658052712025796),\n   np.float64(35.576842458643995),\n   np.float64(32.230097776336564),\n   np.float64(33.84842201308301),\n   np.float64(30.934193943484523),\n   np.float64(26.843801074376426),\n   np.float64(30.97979119429869),\n   np.float64(36.180133362000056),\n   np.float64(26.339872454331793),\n   np.float64(33.70858927996839),\n   np.float64(35.1987299080354),\n   np.float64(31.581942913329623),\n   np.float64(31.238928284637144),\n   np.float64(32.975155555849526),\n   np.float64(37.68923516747262),\n   np.float64(29.199609727230072),\n   np.float64(33.82128348991537),\n   np.float64(36.880308672075024),\n   np.float64(32.61983623763652),\n   np.float64(30.76187627937526),\n   np.float64(43.12133847573201),\n   np.float64(29.50812497056653),\n   np.float64(24.638743649733623),\n   np.float64(36.56647116240014),\n   np.float64(20.044251594572962),\n   np.float64(35.84612104009866),\n   np.float64(23.130139702142245),\n   np.float64(31.76487632296346),\n   np.float64(36.12116562713371),\n   np.float64(52.05405584800437),\n   np.float64(30.37275797758299),\n   np.float64(46.82469420452127),\n   np.float64(34.20171158455002),\n   np.float64(37.5035068372096),\n   np.float64(32.67983926795389),\n   np.float64(28.717631120964207),\n   np.float64(40.16162893762317)]})"
     },
     "execution_count": 9,
     "metadata": {},
     "output_type": "execute_result"
    }
   ],
   "source": [
    "coverage_dict, length_dict, MSE_dict"
   ],
   "metadata": {
    "collapsed": false,
    "ExecuteTime": {
     "end_time": "2024-10-25T18:33:11.515582Z",
     "start_time": "2024-10-25T18:33:11.510076Z"
    }
   },
   "id": "d49f532402ac942a"
  },
  {
   "cell_type": "code",
   "execution_count": 10,
   "outputs": [],
   "source": [
    "noise_sd_list = [0.5, 1, 2, 5] + [\"Tree val\", \"Naive\"]"
   ],
   "metadata": {
    "collapsed": false,
    "ExecuteTime": {
     "end_time": "2024-10-25T18:33:12.145240Z",
     "start_time": "2024-10-25T18:33:12.142373Z"
    }
   },
   "id": "234165b0eb5b4a02"
  },
  {
   "cell_type": "code",
   "execution_count": 11,
   "outputs": [
    {
     "data": {
      "text/plain": "[0.5, 1, 2, 5, 'Tree val', 'Naive']"
     },
     "execution_count": 11,
     "metadata": {},
     "output_type": "execute_result"
    }
   ],
   "source": [
    "noise_sd_list"
   ],
   "metadata": {
    "collapsed": false,
    "ExecuteTime": {
     "end_time": "2024-10-25T18:33:12.703071Z",
     "start_time": "2024-10-25T18:33:12.695911Z"
    }
   },
   "id": "f5a3cd1adf4fab3e"
  },
  {
   "cell_type": "code",
   "execution_count": 11,
   "outputs": [],
   "source": [],
   "metadata": {
    "collapsed": false,
    "ExecuteTime": {
     "end_time": "2024-10-25T18:33:13.307767Z",
     "start_time": "2024-10-25T18:33:13.304905Z"
    }
   },
   "id": "bce0a5016022c22b"
  },
  {
   "cell_type": "code",
   "execution_count": 12,
   "outputs": [],
   "source": [
    "import seaborn as sns\n",
    "def boxplots(dfs, metrics):\n",
    "    # Set up the subplots: one for each metric\n",
    "    fig, axes = plt.subplots(1, 3, figsize=(15, 6))\n",
    "    \n",
    "    # Iterate over the dataframes and create a boxplot for each\n",
    "    for i, (df, metric) in enumerate(zip(dfs, metrics)):\n",
    "        sns.boxplot(data=df, ax=axes[i])\n",
    "        axes[i].set_title(f'Boxplot for {metric}')\n",
    "        axes[i].set_xlabel('Method')\n",
    "        axes[i].set_ylabel('Value')\n",
    "        # Add triangles for the mean values\n",
    "        means = df.mean()  # Calculate mean for each method (column)\n",
    "        print(metric,\":\\n\",means.T)\n",
    "        for j, mean in enumerate(means):\n",
    "            axes[i].plot(j, mean, marker='^', color='red', markersize=10)  # Add a red triangle for the mean\n",
    "        if metric == \"Coverage\":\n",
    "            axes[i].set_ylim(0,1)\n",
    "        elif metric == \"Length\":\n",
    "            axes[i].set_ylim(0,100)\n",
    "        elif metric == \"MSE\":\n",
    "            axes[i].set_ylim(0,50)\n",
    "    \n",
    "    # Show the plots\n",
    "    plt.tight_layout()\n",
    "    plt.show()"
   ],
   "metadata": {
    "collapsed": false,
    "ExecuteTime": {
     "end_time": "2024-10-25T18:33:13.584717Z",
     "start_time": "2024-10-25T18:33:13.564582Z"
    }
   },
   "id": "5068cbe9df1c79f2"
  },
  {
   "cell_type": "code",
   "execution_count": 14,
   "outputs": [
    {
     "name": "stdout",
     "output_type": "stream",
     "text": [
      "Coverage :\n",
      " 0.1         0.802524\n",
      "0.5         0.908429\n",
      "Tree val    0.961000\n",
      "Naive       0.475667\n",
      "dtype: float64\n",
      "Length :\n",
      " 0.1         71.273900\n",
      "0.5         22.857670\n",
      "Tree val    38.357739\n",
      "Naive        4.885325\n",
      "dtype: float64\n",
      "MSE :\n",
      " 0.1         37.431868\n",
      "0.5         36.235886\n",
      "Tree val    33.585683\n",
      "Naive       33.585683\n",
      "dtype: float64\n"
     ]
    },
    {
     "data": {
      "text/plain": "<Figure size 1500x600 with 3 Axes>",
      "image/png": "[encoded data removed]"
     },
     "metadata": {},
     "output_type": "display_data"
    }
   ],
   "source": [
    "import pandas as pd\n",
    "boxplots(dfs=[pd.DataFrame(coverage_dict), \n",
    "              pd.DataFrame(length_dict), \n",
    "              pd.DataFrame(MSE_dict)], \n",
    "         metrics=[\"Coverage\", \"Length\", \"MSE\"])"
   ],
   "metadata": {
    "collapsed": false,
    "ExecuteTime": {
     "end_time": "2024-10-25T18:33:39.439460Z",
     "start_time": "2024-10-25T18:33:39.197914Z"
    }
   },
   "id": "f6b2b82fc19184ea"
  },
  {
   "cell_type": "code",
   "execution_count": null,
   "outputs": [],
   "source": [],
   "metadata": {
    "collapsed": false
   },
   "id": "5d1c10df63cfec09"
  }
 ],
 "metadata": {
  "kernelspec": {
   "display_name": "Python 3",
   "language": "python",
   "name": "python3"
  },
  "language_info": {
   "codemirror_mode": {
    "name": "ipython",
    "version": 2
   },
   "file_extension": ".py",
   "mimetype": "text/x-python",
   "name": "python",
   "nbconvert_exporter": "python",
   "pygments_lexer": "ipython2",
   "version": "2.7.6"
  }
 },
 "nbformat": 4,
 "nbformat_minor": 5
}
