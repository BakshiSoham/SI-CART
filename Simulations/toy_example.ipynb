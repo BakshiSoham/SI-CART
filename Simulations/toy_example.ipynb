{
 "cells": [
  {
   "cell_type": "code",
   "execution_count": 1,
   "id": "initial_id",
   "metadata": {
    "collapsed": true,
    "ExecuteTime": {
     "end_time": "2024-10-25T18:26:52.884080Z",
     "start_time": "2024-10-25T18:26:51.332393Z"
    }
   },
   "outputs": [],
   "source": [
    "import time\n",
    "\n",
    "import numpy as np\n",
    "import pandas as pd\n",
    "\n",
    "from Utils.discrete_family import discrete_family\n",
    "from Utils.barrier_affine import solve_barrier_tree, solve_barrier_tree_nonneg, solve_barrier_tree_box_PGD\n",
    "from CART import RegressionTree\n",
    "from scipy.interpolate import interp1d\n",
    "from scipy.stats import multivariate_normal as mvn\n",
    "from Utils.plotting import  *\n",
    "from Utils.simulation_helpers import *\n",
    "from scipy.stats import norm as ndist\n",
    "\n",
    "# For tree-values\n",
    "import rpy2.robjects.packages as rpackages\n",
    "from rpy2.robjects.vectors import StrVector\n",
    "\n",
    "# Select a CRAN mirror to download from\n",
    "utils = rpackages.importr('utils')\n",
    "utils.chooseCRANmirror(ind=1)  # Select the first mirror\n",
    "\n",
    "# Install 'remotes' if it's not already installed\n",
    "if not rpackages.isinstalled('remotes'):\n",
    "    utils.install_packages(StrVector(('remotes',)))\n",
    "\n",
    "import rpy2.robjects as ro\n",
    "\n",
    "from rpy2.robjects.packages import importr\n",
    "from rpy2.robjects import pandas2ri\n",
    "from rpy2.robjects import numpy2ri\n",
    "%load_ext rpy2.ipython"
   ]
  },
  {
   "cell_type": "markdown",
   "source": [
    "# Main ideas\n",
    "1. Generate data from the tree-values setting:\n",
    "> We simulate $X \\in \\mathbb{R}^{n \\times p}$ with $n=200, p=10, X_{i j} \\stackrel{i . i . d .}{\\sim} N(0,1)$, and $y \\sim N_n\\left(\\mu, \\sigma^2 I_n\\right)$ with $\\sigma=5$ and $\\mu_i=b \\times\\left[1_{\\left(x_{i, 1} \\leq 0\\right)} \\times\\left\\{1+a 1_{\\left(x_{i, 2}>0\\right)}+1_{\\left(x_{i, 3} \\times x_{i, 2}>0\\right)}\\right\\}\\right]$. \n",
    "2. Fix a maximum depth $max\\_depth$, e.g. $5$.\n",
    "3. Use naive inference, tree-values, and our proposed method to fit the tree.\n",
    "4. Coverage rate comparison: compare the average coverage rate over CIs for terminal nodes in each simulation.\n",
    "5. Average length comparison: compare the average CIs lengths for terminal nodes in each simulation.\n",
    "6. Selection quality comparison: \n",
    "a. generate the same dataset with same $X, \\mu$ but new $\\epsilon$,\n",
    "b. generate new $X, \\mu$, \\epsilon$ using the same parameters,\n",
    "compare the MSE of fitted trees on this test set."
   ],
   "metadata": {
    "collapsed": false
   },
   "id": "a826a2a406801d23"
  },
  {
   "cell_type": "code",
   "execution_count": 2,
   "outputs": [],
   "source": [
    "# Activate automatic conversion between pandas and R data frames\n",
    "pandas2ri.activate()\n",
    "\n",
    "# Import R libraries\n",
    "treevalues = importr('treevalues')\n",
    "rpart = importr('rpart')\n",
    "\n",
    "def tree_values_inference(X, y, mu, sd_y, max_depth=5, level=0.1,\n",
    "                          X_test=None):\n",
    "    # Convert the NumPy matrix to an R matrix\n",
    "    X_r = numpy2ri.py2rpy(X)\n",
    "    y_r = numpy2ri.py2rpy(y)\n",
    "    \n",
    "    # Assign the R matrix to a variable in the R environment (optional)\n",
    "    ro.globalenv['X_r'] = X_r\n",
    "    ro.globalenv['y_r'] = y_r\n",
    "    ro.globalenv['p'] = X.shape[1]\n",
    "    \n",
    "    # Construct dataset\n",
    "    ro.r('data <- cbind(y_r, X_r)')\n",
    "    # Set the column names to \"y\", \"x1\", \"x2\", ..., \"x10\"\n",
    "    ro.r('colnames(data) <- c(\"y\", paste0(\"x\", 1:p))')\n",
    "    ro.r('data = data.frame(data)')\n",
    "    \n",
    "    # Define the rpart tree model\n",
    "    tree_cmd = 'bls.tree <- rpart(y ~ ., data=data, model = TRUE, cp=0.00, maxdepth=' + str(max_depth) + ')'\n",
    "    ro.r(tree_cmd)\n",
    "    bls_tree = ro.r('bls.tree')\n",
    "    # Plot the tree values (this will plot directly if you have a plotting backend set up)\n",
    "    #ro.r('treeval.plot(bls.tree, inferenceType=0)')\n",
    "    \n",
    "    #ro.r('print(row.names(bls.tree$frame)[bls.tree$frame$var == \"<leaf>\"])')\n",
    "    ro.r('leaf_idx <- (row.names(bls.tree$frame)[bls.tree$frame$var == \"<leaf>\"])')\n",
    "    leaf_idx = ro.r['leaf_idx']\n",
    "    \n",
    "    # Get node mapping\n",
    "    ro.r('idx_full <- 1:nrow(bls.tree$frame)')\n",
    "    ro.r('mapped_idx <- idx_full[bls.tree$frame$var == \"<leaf>\"]')\n",
    "    \n",
    "    len = []\n",
    "    coverage = []\n",
    "    len_naive = []\n",
    "    coverage_naive = []\n",
    "    \n",
    "    for i,idx in enumerate(leaf_idx):\n",
    "        # Get the branch information for a specific branch in the tree\n",
    "        command = 'branch <- getBranch(bls.tree, ' + str(idx) + ')'\n",
    "        ro.r(command)\n",
    "        # Perform branch inference\n",
    "        ro.r('result <- branchInference(bls.tree, branch, type=\"reg\", alpha = 0.10)')\n",
    "        # Get confidence intervals\n",
    "        confint = ro.r('result$confint')\n",
    "        len.append(confint[1] - confint[0])\n",
    "    \n",
    "        target_cmd = \"contrast <- (bls.tree$where == mapped_idx[\" + str(i+1) + \"])\"\n",
    "        ro.r(target_cmd)\n",
    "        contrast = ro.r('contrast')\n",
    "        contrast = np.array(contrast)\n",
    "        \n",
    "        contrast = np.array(contrast * 1 / np.sum(contrast))\n",
    "        \n",
    "        target = contrast.dot(mu)\n",
    "        coverage.append(target >= confint[0] and target <= confint[1])\n",
    "        \n",
    "        # Naive after tree value\n",
    "        # Confidence intervals\n",
    "        naive_CI = [contrast.dot(y) - \n",
    "                    np.linalg.norm(contrast) * sd_y * ndist.ppf(1 - level / 2),\n",
    "                    contrast.dot(y) + \n",
    "                    np.linalg.norm(contrast) * sd_y * ndist.ppf(1 - level / 2)]\n",
    "        coverage_naive.append((target >= naive_CI[0] and target <= naive_CI[1]))\n",
    "        len_naive.append(naive_CI[1] - naive_CI[0])\n",
    "    \n",
    "    if X_test is not None:\n",
    "        X_test_r = numpy2ri.py2rpy(X_test)\n",
    "        ro.globalenv['X_test_r'] = X_test_r\n",
    "        ro.r('pred <- predict(bls.tree, data = X_test_r)')\n",
    "        pred = ro.r['pred']\n",
    "    else:\n",
    "        pred = None\n",
    "        \n",
    "    return (np.mean(coverage), np.mean(len), \n",
    "            np.mean(coverage_naive), np.mean(len_naive), pred) "
   ],
   "metadata": {
    "collapsed": false,
    "ExecuteTime": {
     "end_time": "2024-10-25T18:26:54.221797Z",
     "start_time": "2024-10-25T18:26:54.000475Z"
    }
   },
   "id": "4cd98f0c2b71ea1a"
  },
  {
   "cell_type": "code",
   "execution_count": 3,
   "outputs": [],
   "source": [
    "def generate_test(mu, sd_y):\n",
    "    n = mu.shape[0]\n",
    "    return mu + np.random.normal(size=(n,), scale=sd_y)"
   ],
   "metadata": {
    "collapsed": false,
    "ExecuteTime": {
     "end_time": "2024-10-25T18:26:55.357574Z",
     "start_time": "2024-10-25T18:26:55.338672Z"
    }
   },
   "id": "97816fc89d968b4b"
  },
  {
   "cell_type": "code",
   "execution_count": 4,
   "outputs": [],
   "source": [
    "def randomized_inference(reg_tree, sd_y, y, mu, level=0.1):\n",
    "    #print(reg_tree.terminal_nodes)\n",
    "    coverage_i = []\n",
    "    lengths_i = []\n",
    "    \n",
    "    for node in reg_tree.terminal_nodes:\n",
    "        pval, dist, contrast, norm_contrast, obs_tar, logW, suff, sel_probs \\\n",
    "            = (reg_tree.condl_node_inference(node=node, \n",
    "                                             ngrid=10000,\n",
    "                                             ncoarse=30,\n",
    "                                             grid_w_const=3,\n",
    "                                             reduced_dim=1,\n",
    "                                             sd=sd_y,\n",
    "                                             use_cvxpy=True))\n",
    "        target = contrast.dot(mu)\n",
    "        \n",
    "        # This is an interval for\n",
    "        # eta_*'mu = eta'mu / (norm(eta) * sd_y)\n",
    "        selective_CI = (dist.equal_tailed_interval(observed=norm_contrast.dot(y),\n",
    "                                                   alpha=level))\n",
    "        selective_CI = np.array(selective_CI)\n",
    "        selective_CI *= np.linalg.norm(contrast) * sd_y\n",
    "        coverage_i.append((target >= selective_CI[0] and target <= selective_CI[1]))\n",
    "        lengths_i.append(selective_CI[1] - selective_CI[0])\n",
    "        \n",
    "    return coverage_i, lengths_i"
   ],
   "metadata": {
    "collapsed": false,
    "ExecuteTime": {
     "end_time": "2024-10-25T18:26:57.781710Z",
     "start_time": "2024-10-25T18:26:57.763596Z"
    }
   },
   "id": "2971903d7397ed9c"
  },
  {
   "cell_type": "code",
   "execution_count": 7,
   "outputs": [],
   "source": [
    "def terminal_inference_sim(n = 50, p = 5, a = 0.1, b = 0.1, \n",
    "                           sd_y = 1, noise_sd_list = [0.5, 1, 2, 5], \n",
    "                           start=0, end=100,\n",
    "                           level=0.1):\n",
    "    coverage_dict = {m: [] for m in noise_sd_list + [\"Tree val\", \"Naive\"]}\n",
    "    length_dict = {m: [] for m in noise_sd_list + [\"Tree val\", \"Naive\"]}\n",
    "    MSE_dict = {m: [] for m in noise_sd_list + [\"Tree val\", \"Naive\"]}\n",
    "    \n",
    "    for i in range(start, end):\n",
    "        print(i, \"th simulation\")\n",
    "        np.random.seed(i + 48105)\n",
    "        X = np.random.normal(size=(n, p))\n",
    "\n",
    "        mu = b * ((X[:, 0] <= 0) * (1 + a * (X[:, 1] > 0) + (X[:, 2] * X[:, 1] <= 0)))\n",
    "        y = mu + np.random.normal(size=(n,), scale=sd_y)\n",
    "        y_test = generate_test(mu, sd_y)\n",
    "        \n",
    "        for noise_sd in noise_sd_list:\n",
    "            # Create and train the regression tree\n",
    "            reg_tree = RegressionTree(min_samples_split=10, max_depth=3,\n",
    "                                      min_proportion=0.1)\n",
    "            reg_tree.fit(X, y, sd = noise_sd * sd_y)\n",
    "            \n",
    "            coverage_i, lengths_i = randomized_inference(reg_tree=reg_tree, \n",
    "                                                         y=y, sd_y=sd_y, mu=mu, level=level)\n",
    "            pred_test = reg_tree.predict(X)\n",
    "            MSE_test = (np.mean((y_test - pred_test) ** 2))\n",
    "            # Record results\n",
    "            coverage_dict[noise_sd].append(np.mean(coverage_i))\n",
    "            length_dict[noise_sd].append(np.mean(lengths_i))\n",
    "            MSE_dict[noise_sd].append(MSE_test)\n",
    "        \n",
    "        # Tree value & naive inference & prediction\n",
    "        (coverage_treeval, avg_len_treeval, \n",
    "         coverage_treeval_naive, avg_len_treeval_naive,\n",
    "         pred_test_treeval) = tree_values_inference(X, y, mu, sd_y=sd_y, \n",
    "                                                    X_test=X, max_depth=3)\n",
    "\n",
    "        MSE_test_treeval = (np.mean((y_test - pred_test_treeval) ** 2))\n",
    "        coverage_dict[\"Tree val\"].append(coverage_treeval)\n",
    "        length_dict[\"Tree val\"].append(avg_len_treeval)\n",
    "        MSE_dict[\"Tree val\"].append(MSE_test_treeval)\n",
    "        coverage_dict[\"Naive\"].append(coverage_treeval_naive)\n",
    "        length_dict[\"Naive\"].append(avg_len_treeval_naive)\n",
    "        MSE_dict[\"Naive\"].append(MSE_test_treeval)\n",
    "        \n",
    "    return coverage_dict, length_dict, MSE_dict"
   ],
   "metadata": {
    "collapsed": false,
    "ExecuteTime": {
     "end_time": "2024-10-25T18:27:11.619117Z",
     "start_time": "2024-10-25T18:27:11.613566Z"
    }
   },
   "id": "8b715a0214918be8"
  },
  {
   "cell_type": "code",
   "execution_count": 16,
   "outputs": [
    {
     "name": "stdout",
     "output_type": "stream",
     "text": [
      "0 th simulation\n",
      "1 th simulation\n",
      "2 th simulation\n",
      "3 th simulation\n",
      "4 th simulation\n",
      "5 th simulation\n",
      "6 th simulation\n",
      "7 th simulation\n",
      "8 th simulation\n",
      "9 th simulation\n",
      "10 th simulation\n",
      "11 th simulation\n",
      "12 th simulation\n",
      "13 th simulation\n",
      "14 th simulation\n",
      "15 th simulation\n",
      "16 th simulation\n",
      "17 th simulation\n",
      "18 th simulation\n",
      "19 th simulation\n",
      "20 th simulation\n",
      "21 th simulation\n",
      "22 th simulation\n",
      "23 th simulation\n",
      "24 th simulation\n",
      "25 th simulation\n",
      "26 th simulation\n",
      "27 th simulation\n",
      "28 th simulation\n",
      "29 th simulation\n"
     ]
    }
   ],
   "source": [
    "(coverage_dict, length_dict, MSE_dict) \\\n",
    "    = terminal_inference_sim(start=0, end=30, n=50, p=5, sd_y=5, \n",
    "                             noise_sd_list=[0.1, 0.45, 0.8], \n",
    "                             a=1,b=1, level=0.1)"
   ],
   "metadata": {
    "collapsed": false,
    "ExecuteTime": {
     "end_time": "2024-10-25T18:48:55.853426Z",
     "start_time": "2024-10-25T18:44:09.459094Z"
    }
   },
   "id": "84374f89cc216b20"
  },
  {
   "cell_type": "code",
   "execution_count": 17,
   "outputs": [
    {
     "data": {
      "text/plain": "({0.1: [np.float64(0.42857142857142855),\n   np.float64(0.8333333333333334),\n   np.float64(0.5),\n   np.float64(0.8571428571428571),\n   np.float64(0.8333333333333334),\n   np.float64(1.0),\n   np.float64(0.8333333333333334),\n   np.float64(0.8333333333333334),\n   np.float64(1.0),\n   np.float64(1.0),\n   np.float64(0.5),\n   np.float64(0.8),\n   np.float64(0.8),\n   np.float64(1.0),\n   np.float64(0.7142857142857143),\n   np.float64(1.0),\n   np.float64(1.0),\n   np.float64(0.6666666666666666),\n   np.float64(0.6),\n   np.float64(1.0),\n   np.float64(1.0),\n   np.float64(0.6),\n   np.float64(0.75),\n   np.float64(1.0),\n   np.float64(1.0),\n   np.float64(0.2),\n   np.float64(1.0),\n   np.float64(0.8333333333333334),\n   np.float64(0.6666666666666666),\n   np.float64(1.0)],\n  0.45: [np.float64(1.0),\n   np.float64(0.8333333333333334),\n   np.float64(1.0),\n   np.float64(0.8571428571428571),\n   np.float64(1.0),\n   np.float64(0.8333333333333334),\n   np.float64(0.7142857142857143),\n   np.float64(0.8333333333333334),\n   np.float64(1.0),\n   np.float64(0.8333333333333334),\n   np.float64(0.8333333333333334),\n   np.float64(1.0),\n   np.float64(1.0),\n   np.float64(1.0),\n   np.float64(1.0),\n   np.float64(1.0),\n   np.float64(0.75),\n   np.float64(0.8571428571428571),\n   np.float64(1.0),\n   np.float64(0.8),\n   np.float64(0.8571428571428571),\n   np.float64(1.0),\n   np.float64(1.0),\n   np.float64(1.0),\n   np.float64(0.75),\n   np.float64(0.8571428571428571),\n   np.float64(1.0),\n   np.float64(1.0),\n   np.float64(0.8333333333333334),\n   np.float64(1.0)],\n  0.8: [np.float64(0.8333333333333334),\n   np.float64(0.8333333333333334),\n   np.float64(1.0),\n   np.float64(0.8571428571428571),\n   np.float64(1.0),\n   np.float64(0.8),\n   np.float64(0.8333333333333334),\n   np.float64(1.0),\n   np.float64(1.0),\n   np.float64(1.0),\n   np.float64(0.75),\n   np.float64(0.8),\n   np.float64(0.6),\n   np.float64(0.6666666666666666),\n   np.float64(0.8333333333333334),\n   np.float64(0.8333333333333334),\n   np.float64(0.75),\n   np.float64(0.8333333333333334),\n   np.float64(1.0),\n   np.float64(1.0),\n   np.float64(1.0),\n   np.float64(1.0),\n   np.float64(1.0),\n   np.float64(1.0),\n   np.float64(1.0),\n   np.float64(0.8),\n   np.float64(1.0),\n   np.float64(1.0),\n   np.float64(0.6666666666666666),\n   np.float64(1.0)],\n  'Tree val': [np.float64(1.0),\n   np.float64(1.0),\n   np.float64(0.75),\n   np.float64(1.0),\n   np.float64(1.0),\n   np.float64(1.0),\n   np.float64(1.0),\n   np.float64(1.0),\n   np.float64(1.0),\n   np.float64(1.0),\n   np.float64(1.0),\n   np.float64(0.25),\n   np.float64(1.0),\n   np.float64(1.0),\n   np.float64(1.0),\n   np.float64(1.0),\n   np.float64(1.0),\n   np.float64(1.0),\n   np.float64(1.0),\n   np.float64(1.0),\n   np.float64(1.0),\n   np.float64(1.0),\n   np.float64(1.0),\n   np.float64(1.0),\n   np.float64(1.0),\n   np.float64(1.0),\n   np.float64(1.0),\n   np.float64(1.0),\n   np.float64(0.8),\n   np.float64(1.0)],\n  'Naive': [np.float64(0.5),\n   np.float64(0.75),\n   np.float64(0.25),\n   np.float64(0.5),\n   np.float64(0.6),\n   np.float64(0.5),\n   np.float64(0.75),\n   np.float64(0.5),\n   np.float64(0.25),\n   np.float64(0.5),\n   np.float64(0.25),\n   np.float64(0.5),\n   np.float64(0.5),\n   np.float64(0.75),\n   np.float64(0.3333333333333333),\n   np.float64(0.75),\n   np.float64(0.25),\n   np.float64(0.25),\n   np.float64(0.75),\n   np.float64(0.5),\n   np.float64(0.6666666666666666),\n   np.float64(0.5),\n   np.float64(0.5),\n   np.float64(0.5),\n   np.float64(0.5),\n   np.float64(0.0),\n   np.float64(0.5),\n   np.float64(0.25),\n   np.float64(0.4),\n   np.float64(0.5)]},\n {0.1: [np.float64(74.02042908075089),\n   np.float64(54.40645174248136),\n   np.float64(31.269512361596757),\n   np.float64(75.75477407500459),\n   np.float64(115.1779984277823),\n   np.float64(50.39934051009442),\n   np.float64(45.12604361012418),\n   np.float64(87.52410406964184),\n   np.float64(82.16560028280817),\n   np.float64(58.77681100481711),\n   np.float64(63.6609962219325),\n   np.float64(46.422581486883196),\n   np.float64(74.77840666260616),\n   np.float64(54.56457504441696),\n   np.float64(117.21632394345504),\n   np.float64(55.13316010373763),\n   np.float64(38.170534039205045),\n   np.float64(95.50236764617085),\n   np.float64(26.270813558730122),\n   np.float64(31.954878333119076),\n   np.float64(58.62245767572527),\n   np.float64(44.610785413030946),\n   np.float64(85.88529113688288),\n   np.float64(28.213774945252986),\n   np.float64(17.473366106925937),\n   np.float64(135.32683368567194),\n   np.float64(42.037538131792886),\n   np.float64(118.31405968470035),\n   np.float64(72.18738437248463),\n   np.float64(48.503117456735396)],\n  0.45: [np.float64(28.35821724221836),\n   np.float64(20.005256257120326),\n   np.float64(10.261295637894015),\n   np.float64(24.354291972572863),\n   np.float64(54.34279198203078),\n   np.float64(16.520278171312395),\n   np.float64(18.66920404726096),\n   np.float64(25.63315487579668),\n   np.float64(20.35211001372358),\n   np.float64(144.66485114220364),\n   np.float64(20.684778879460744),\n   np.float64(35.11772772989099),\n   np.float64(19.34038932811622),\n   np.float64(25.116019259752605),\n   np.float64(26.244902078889304),\n   np.float64(21.90443201636029),\n   np.float64(11.842229727298072),\n   np.float64(34.33866049251303),\n   np.float64(15.863764718429746),\n   np.float64(21.042927720445952),\n   np.float64(21.936897364788535),\n   np.float64(18.67737412816642),\n   np.float64(34.7840994939887),\n   np.float64(17.35288755144968),\n   np.float64(19.03957447719092),\n   np.float64(40.3272970964274),\n   np.float64(30.401725046380662),\n   np.float64(27.356506540486308),\n   np.float64(25.830339554188253),\n   np.float64(21.97753360261447)],\n  0.8: [np.float64(12.514059852581676),\n   np.float64(12.122954117000319),\n   np.float64(11.071809161602305),\n   np.float64(150.10389199446794),\n   np.float64(15.526678285531869),\n   np.float64(11.139658329351061),\n   np.float64(16.18564802084997),\n   np.float64(18.24982725280699),\n   np.float64(16.845187979418075),\n   np.float64(14.305529826113347),\n   np.float64(8.92653073231019),\n   np.float64(33.12698145748924),\n   np.float64(18.15966224675816),\n   np.float64(19.475466902372773),\n   np.float64(27.224717441401253),\n   np.float64(14.039394944635305),\n   np.float64(8.08636617687888),\n   np.float64(13.196794364496192),\n   np.float64(13.11446920071423),\n   np.float64(12.89631005518757),\n   np.float64(127.65616566812527),\n   np.float64(13.749667977186665),\n   np.float64(15.855342461284229),\n   np.float64(12.046835907372513),\n   np.float64(10.705082604658404),\n   np.float64(15.148584550962635),\n   np.float64(9.775216033662105),\n   np.float64(14.410173817660437),\n   np.float64(11.13993586336167),\n   np.float64(14.696793516955049)],\n  'Tree val': [np.float64(26.015825722513924),\n   np.float64(8.709016787522842),\n   np.float64(76.60651168458173),\n   np.float64(15.399370550237458),\n   np.float64(29.811309784203864),\n   np.float64(14.968179681877425),\n   np.float64(39.118345554446435),\n   np.float64(27.52743734862411),\n   np.float64(18.511014791487042),\n   np.float64(13.289575421945226),\n   np.float64(22.132438090680544),\n   np.float64(103.77298913449941),\n   np.float64(11.077014264344832),\n   np.float64(17.599286504329335),\n   np.float64(12.396863496888935),\n   np.float64(13.170046839287641),\n   np.float64(105.98386258207304),\n   np.float64(20.04415932792117),\n   np.float64(14.64286509535149),\n   np.float64(20.593417207167004),\n   np.float64(13.101179187815648),\n   np.float64(32.271368456468686),\n   np.float64(16.700024838914082),\n   np.float64(15.69160839411939),\n   np.float64(18.816605964400395),\n   np.float64(96.60814413725983),\n   np.float64(11.242987385132652),\n   np.float64(78.68452557327942),\n   np.float64(38.217344906794395),\n   np.float64(12.05570646443485)],\n  'Naive': [np.float64(4.83766450511543),\n   np.float64(4.783495981368539),\n   np.float64(5.130897310980544),\n   np.float64(4.709240258348624),\n   np.float64(5.368622220778292),\n   np.float64(4.666440771909547),\n   np.float64(4.783985265958979),\n   np.float64(4.825311753467306),\n   np.float64(4.72631651504972),\n   np.float64(4.849942820998291),\n   np.float64(4.8970138680087985),\n   np.float64(5.087340451138068),\n   np.float64(5.084205158113606),\n   np.float64(4.749320407898203),\n   np.float64(4.070837782149441),\n   np.float64(4.824173124049489),\n   np.float64(5.339460406396024),\n   np.float64(4.793809754113459),\n   np.float64(5.215307981593407),\n   np.float64(4.988732725800866),\n   np.float64(4.0984631534081215),\n   np.float64(4.900667643557046),\n   np.float64(4.702546197278474),\n   np.float64(5.012421750681461),\n   np.float64(5.02224623883594),\n   np.float64(4.908982373812115),\n   np.float64(5.185266724073176),\n   np.float64(4.88559930082818),\n   np.float64(5.4650048488356715),\n   np.float64(4.853183114412986)]},\n {0.1: [np.float64(36.47240224651754),\n   np.float64(46.37065065555941),\n   np.float64(40.455191791525266),\n   np.float64(41.0132875851497),\n   np.float64(34.39790520508043),\n   np.float64(30.234984157139603),\n   np.float64(42.16747549296856),\n   np.float64(44.663054268354905),\n   np.float64(39.12616562100387),\n   np.float64(34.83576206270004),\n   np.float64(38.47336546764304),\n   np.float64(36.052874786028426),\n   np.float64(39.26351861261694),\n   np.float64(25.406799436229768),\n   np.float64(43.22684019567264),\n   np.float64(32.29600333626236),\n   np.float64(33.848422013083),\n   np.float64(30.426088332316905),\n   np.float64(33.81881202166569),\n   np.float64(29.290444456018296),\n   np.float64(46.15162403816025),\n   np.float64(31.18802235349728),\n   np.float64(45.84102903172966),\n   np.float64(40.759137577363234),\n   np.float64(34.65301627000615),\n   np.float64(26.137307271709815),\n   np.float64(32.975155555849526),\n   np.float64(40.61577009528886),\n   np.float64(34.530180977885855),\n   np.float64(37.789428729788476)],\n  0.45: [np.float64(32.38354500993248),\n   np.float64(41.20867639357182),\n   np.float64(40.455191791525266),\n   np.float64(40.44386594909517),\n   np.float64(34.32461766296971),\n   np.float64(30.469886758792576),\n   np.float64(43.150149318510614),\n   np.float64(39.139015158081186),\n   np.float64(39.45741540237745),\n   np.float64(35.47927377467303),\n   np.float64(36.64205116857188),\n   np.float64(35.367999797392216),\n   np.float64(38.51655082646248),\n   np.float64(25.406799436229768),\n   np.float64(40.48139491557217),\n   np.float64(31.119692782843376),\n   np.float64(29.214637691660446),\n   np.float64(29.446388760107375),\n   np.float64(31.30744846775839),\n   np.float64(29.290444456018296),\n   np.float64(46.60154161744468),\n   np.float64(23.761370295877004),\n   np.float64(44.948352663073166),\n   np.float64(37.35576850772303),\n   np.float64(36.3034139179121),\n   np.float64(24.582521535657293),\n   np.float64(30.067708196118723),\n   np.float64(40.32987382202601),\n   np.float64(34.55272021002498),\n   np.float64(38.770713663804514)],\n  0.8: [np.float64(31.217447156415478),\n   np.float64(40.005164121944574),\n   np.float64(35.787645907034914),\n   np.float64(38.92113773001389),\n   np.float64(30.745712002774564),\n   np.float64(24.525011857357516),\n   np.float64(43.414542395100455),\n   np.float64(44.71101187214945),\n   np.float64(40.640450805081514),\n   np.float64(32.46423143569079),\n   np.float64(35.29979160247325),\n   np.float64(35.71732046825674),\n   np.float64(38.34299710417015),\n   np.float64(23.426717077661316),\n   np.float64(37.51143422599789),\n   np.float64(34.19617666358793),\n   np.float64(32.908899073366314),\n   np.float64(30.58979987589363),\n   np.float64(32.605569705766946),\n   np.float64(28.982195381154355),\n   np.float64(33.82397410720544),\n   np.float64(23.727916349087938),\n   np.float64(45.75391679422459),\n   np.float64(37.833105540358154),\n   np.float64(33.790895850038844),\n   np.float64(29.53509758864426),\n   np.float64(31.2584075607769),\n   np.float64(41.89646636275347),\n   np.float64(32.94860029535298),\n   np.float64(32.88732736678093)],\n  'Tree val': [np.float64(29.62338261298985),\n   np.float64(38.06151433888785),\n   np.float64(40.45519179152527),\n   np.float64(39.25995512793624),\n   np.float64(36.241992697935565),\n   np.float64(27.66597626128014),\n   np.float64(30.29120774927089),\n   np.float64(39.540728686037866),\n   np.float64(39.57841429537678),\n   np.float64(31.953636141456855),\n   np.float64(32.61513762456525),\n   np.float64(36.23325052381315),\n   np.float64(34.23998867216775),\n   np.float64(21.658052712025796),\n   np.float64(35.576842458643995),\n   np.float64(32.230097776336564),\n   np.float64(33.84842201308301),\n   np.float64(30.934193943484523),\n   np.float64(26.843801074376426),\n   np.float64(30.97979119429869),\n   np.float64(36.180133362000056),\n   np.float64(26.339872454331793),\n   np.float64(33.70858927996839),\n   np.float64(35.1987299080354),\n   np.float64(31.581942913329623),\n   np.float64(31.238928284637144),\n   np.float64(32.975155555849526),\n   np.float64(37.68923516747262),\n   np.float64(29.199609727230072),\n   np.float64(33.82128348991537)],\n  'Naive': [np.float64(29.62338261298985),\n   np.float64(38.06151433888785),\n   np.float64(40.45519179152527),\n   np.float64(39.25995512793624),\n   np.float64(36.241992697935565),\n   np.float64(27.66597626128014),\n   np.float64(30.29120774927089),\n   np.float64(39.540728686037866),\n   np.float64(39.57841429537678),\n   np.float64(31.953636141456855),\n   np.float64(32.61513762456525),\n   np.float64(36.23325052381315),\n   np.float64(34.23998867216775),\n   np.float64(21.658052712025796),\n   np.float64(35.576842458643995),\n   np.float64(32.230097776336564),\n   np.float64(33.84842201308301),\n   np.float64(30.934193943484523),\n   np.float64(26.843801074376426),\n   np.float64(30.97979119429869),\n   np.float64(36.180133362000056),\n   np.float64(26.339872454331793),\n   np.float64(33.70858927996839),\n   np.float64(35.1987299080354),\n   np.float64(31.581942913329623),\n   np.float64(31.238928284637144),\n   np.float64(32.975155555849526),\n   np.float64(37.68923516747262),\n   np.float64(29.199609727230072),\n   np.float64(33.82128348991537)]})"
     },
     "execution_count": 17,
     "metadata": {},
     "output_type": "execute_result"
    }
   ],
   "source": [
    "coverage_dict, length_dict, MSE_dict"
   ],
   "metadata": {
    "collapsed": false,
    "ExecuteTime": {
     "end_time": "2024-10-25T18:48:56.428447Z",
     "start_time": "2024-10-25T18:48:56.423116Z"
    }
   },
   "id": "d49f532402ac942a"
  },
  {
   "cell_type": "code",
   "execution_count": 18,
   "outputs": [],
   "source": [
    "noise_sd_list = [0.5, 1, 2, 5] + [\"Tree val\", \"Naive\"]"
   ],
   "metadata": {
    "collapsed": false,
    "ExecuteTime": {
     "end_time": "2024-10-25T18:48:57.155139Z",
     "start_time": "2024-10-25T18:48:57.146301Z"
    }
   },
   "id": "234165b0eb5b4a02"
  },
  {
   "cell_type": "code",
   "execution_count": 19,
   "outputs": [
    {
     "data": {
      "text/plain": "[0.5, 1, 2, 5, 'Tree val', 'Naive']"
     },
     "execution_count": 19,
     "metadata": {},
     "output_type": "execute_result"
    }
   ],
   "source": [
    "noise_sd_list"
   ],
   "metadata": {
    "collapsed": false,
    "ExecuteTime": {
     "end_time": "2024-10-25T18:48:57.530792Z",
     "start_time": "2024-10-25T18:48:57.527937Z"
    }
   },
   "id": "f5a3cd1adf4fab3e"
  },
  {
   "cell_type": "code",
   "execution_count": 19,
   "outputs": [],
   "source": [],
   "metadata": {
    "collapsed": false,
    "ExecuteTime": {
     "end_time": "2024-10-25T18:48:58.076810Z",
     "start_time": "2024-10-25T18:48:58.073571Z"
    }
   },
   "id": "bce0a5016022c22b"
  },
  {
   "cell_type": "code",
   "execution_count": 20,
   "outputs": [],
   "source": [
    "import seaborn as sns\n",
    "def boxplots(dfs, metrics):\n",
    "    # Set up the subplots: one for each metric\n",
    "    fig, axes = plt.subplots(1, 3, figsize=(15, 6))\n",
    "    \n",
    "    # Iterate over the dataframes and create a boxplot for each\n",
    "    for i, (df, metric) in enumerate(zip(dfs, metrics)):\n",
    "        sns.boxplot(data=df, ax=axes[i])\n",
    "        axes[i].set_title(f'Boxplot for {metric}')\n",
    "        axes[i].set_xlabel('Method')\n",
    "        axes[i].set_ylabel('Value')\n",
    "        # Add triangles for the mean values\n",
    "        means = df.mean()  # Calculate mean for each method (column)\n",
    "        print(metric,\":\\n\",means.T)\n",
    "        for j, mean in enumerate(means):\n",
    "            axes[i].plot(j, mean, marker='^', color='red', markersize=10)  # Add a red triangle for the mean\n",
    "        if metric == \"Coverage\":\n",
    "            axes[i].set_ylim(0,1)\n",
    "        elif metric == \"Length\":\n",
    "            axes[i].set_ylim(0,100)\n",
    "        elif metric == \"MSE\":\n",
    "            axes[i].set_ylim(0,50)\n",
    "    \n",
    "    # Show the plots\n",
    "    plt.tight_layout()\n",
    "    plt.show()"
   ],
   "metadata": {
    "collapsed": false,
    "ExecuteTime": {
     "end_time": "2024-10-25T18:48:58.321379Z",
     "start_time": "2024-10-25T18:48:58.314145Z"
    }
   },
   "id": "5068cbe9df1c79f2"
  },
  {
   "cell_type": "code",
   "execution_count": 21,
   "outputs": [
    {
     "name": "stdout",
     "output_type": "stream",
     "text": [
      "Coverage :\n",
      " 0.1         0.808333\n",
      "0.45        0.914762\n",
      "0.8         0.889683\n",
      "Tree val    0.960000\n",
      "Naive       0.475000\n",
      "dtype: float64\n",
      "Length :\n",
      " 0.1         64.315677\n",
      "0.45        28.411384\n",
      "0.8         23.049858\n",
      "Tree val    31.491968\n",
      "Naive        4.892217\n",
      "dtype: float64\n",
      "MSE :\n",
      " 0.1         36.749357\n",
      "0.45        35.352634\n",
      "0.8         34.515632\n",
      "Tree val    33.192169\n",
      "Naive       33.192169\n",
      "dtype: float64\n"
     ]
    },
    {
     "data": {
      "text/plain": "<Figure size 1500x600 with 3 Axes>",
      "image/png": "[encoded data removed]"
     },
     "metadata": {},
     "output_type": "display_data"
    }
   ],
   "source": [
    "import pandas as pd\n",
    "boxplots(dfs=[pd.DataFrame(coverage_dict), \n",
    "              pd.DataFrame(length_dict), \n",
    "              pd.DataFrame(MSE_dict)], \n",
    "         metrics=[\"Coverage\", \"Length\", \"MSE\"])"
   ],
   "metadata": {
    "collapsed": false,
    "ExecuteTime": {
     "end_time": "2024-10-25T18:48:58.880976Z",
     "start_time": "2024-10-25T18:48:58.656237Z"
    }
   },
   "id": "f6b2b82fc19184ea"
  },
  {
   "cell_type": "code",
   "execution_count": null,
   "outputs": [],
   "source": [],
   "metadata": {
    "collapsed": false
   },
   "id": "5d1c10df63cfec09"
  }
 ],
 "metadata": {
  "kernelspec": {
   "display_name": "Python 3",
   "language": "python",
   "name": "python3"
  },
  "language_info": {
   "codemirror_mode": {
    "name": "ipython",
    "version": 2
   },
   "file_extension": ".py",
   "mimetype": "text/x-python",
   "name": "python",
   "nbconvert_exporter": "python",
   "pygments_lexer": "ipython2",
   "version": "2.7.6"
  }
 },
 "nbformat": 4,
 "nbformat_minor": 5
}
