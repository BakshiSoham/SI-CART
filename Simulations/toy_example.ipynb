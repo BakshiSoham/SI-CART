{
 "cells": [
  {
   "cell_type": "code",
   "execution_count": 1,
   "id": "initial_id",
   "metadata": {
    "collapsed": true,
    "ExecuteTime": {
     "end_time": "2024-10-24T22:29:09.081908Z",
     "start_time": "2024-10-24T22:29:06.958963Z"
    }
   },
   "outputs": [],
   "source": [
    "import time\n",
    "\n",
    "import numpy as np\n",
    "import pandas as pd\n",
    "\n",
    "from Utils.discrete_family import discrete_family\n",
    "from Utils.barrier_affine import solve_barrier_tree, solve_barrier_tree_nonneg, solve_barrier_tree_box_PGD\n",
    "from CART import RegressionTree\n",
    "from scipy.interpolate import interp1d\n",
    "from scipy.stats import multivariate_normal as mvn\n",
    "from Utils.plotting import  *\n",
    "from Utils.simulation_helpers import *\n",
    "from scipy.stats import norm as ndist\n",
    "\n",
    "# For tree-values\n",
    "import rpy2.robjects.packages as rpackages\n",
    "from rpy2.robjects.vectors import StrVector\n",
    "\n",
    "# Select a CRAN mirror to download from\n",
    "utils = rpackages.importr('utils')\n",
    "utils.chooseCRANmirror(ind=1)  # Select the first mirror\n",
    "\n",
    "# Install 'remotes' if it's not already installed\n",
    "if not rpackages.isinstalled('remotes'):\n",
    "    utils.install_packages(StrVector(('remotes',)))\n",
    "\n",
    "import rpy2.robjects as ro\n",
    "\n",
    "from rpy2.robjects.packages import importr\n",
    "from rpy2.robjects import pandas2ri\n",
    "from rpy2.robjects import numpy2ri\n",
    "%load_ext rpy2.ipython"
   ]
  },
  {
   "cell_type": "markdown",
   "source": [
    "# Main ideas\n",
    "1. Generate data from the tree-values setting:\n",
    "> We simulate $X \\in \\mathbb{R}^{n \\times p}$ with $n=200, p=10, X_{i j} \\stackrel{i . i . d .}{\\sim} N(0,1)$, and $y \\sim N_n\\left(\\mu, \\sigma^2 I_n\\right)$ with $\\sigma=5$ and $\\mu_i=b \\times\\left[1_{\\left(x_{i, 1} \\leq 0\\right)} \\times\\left\\{1+a 1_{\\left(x_{i, 2}>0\\right)}+1_{\\left(x_{i, 3} \\times x_{i, 2}>0\\right)}\\right\\}\\right]$. \n",
    "2. Fix a maximum depth $max\\_depth$, e.g. $5$.\n",
    "3. Use naive inference, tree-values, and our proposed method to fit the tree.\n",
    "4. Coverage rate comparison: compare the average coverage rate over CIs for terminal nodes in each simulation.\n",
    "5. Average length comparison: compare the average CIs lengths for terminal nodes in each simulation.\n",
    "6. Selection quality comparison: \n",
    "a. generate the same dataset with same $X, \\mu$ but new $\\epsilon$,\n",
    "b. generate new $X, \\mu$, \\epsilon$ using the same parameters,\n",
    "compare the MSE of fitted trees on this test set."
   ],
   "metadata": {
    "collapsed": false
   },
   "id": "a826a2a406801d23"
  },
  {
   "cell_type": "code",
   "execution_count": 2,
   "outputs": [],
   "source": [
    "# Activate automatic conversion between pandas and R data frames\n",
    "pandas2ri.activate()\n",
    "\n",
    "# Import R libraries\n",
    "treevalues = importr('treevalues')\n",
    "rpart = importr('rpart')\n",
    "\n",
    "def tree_values_inference(X, y, mu, sd_y, max_depth=5, level=0.1,\n",
    "                          X_test=None):\n",
    "    # Convert the NumPy matrix to an R matrix\n",
    "    X_r = numpy2ri.py2rpy(X)\n",
    "    y_r = numpy2ri.py2rpy(y)\n",
    "    \n",
    "    # Assign the R matrix to a variable in the R environment (optional)\n",
    "    ro.globalenv['X_r'] = X_r\n",
    "    ro.globalenv['y_r'] = y_r\n",
    "    ro.globalenv['p'] = X.shape[1]\n",
    "    \n",
    "    # Construct dataset\n",
    "    ro.r('data <- cbind(y_r, X_r)')\n",
    "    # Set the column names to \"y\", \"x1\", \"x2\", ..., \"x10\"\n",
    "    ro.r('colnames(data) <- c(\"y\", paste0(\"x\", 1:p))')\n",
    "    ro.r('data = data.frame(data)')\n",
    "    \n",
    "    # Define the rpart tree model\n",
    "    tree_cmd = 'bls.tree <- rpart(y ~ ., data=data, model = TRUE, cp=0.00, maxdepth=' + str(max_depth) + ')'\n",
    "    ro.r(tree_cmd)\n",
    "    bls_tree = ro.r('bls.tree')\n",
    "    # Plot the tree values (this will plot directly if you have a plotting backend set up)\n",
    "    #ro.r('treeval.plot(bls.tree, inferenceType=0)')\n",
    "    \n",
    "    #ro.r('print(row.names(bls.tree$frame)[bls.tree$frame$var == \"<leaf>\"])')\n",
    "    ro.r('leaf_idx <- (row.names(bls.tree$frame)[bls.tree$frame$var == \"<leaf>\"])')\n",
    "    leaf_idx = ro.r['leaf_idx']\n",
    "    \n",
    "    # Get node mapping\n",
    "    ro.r('idx_full <- 1:nrow(bls.tree$frame)')\n",
    "    ro.r('mapped_idx <- idx_full[bls.tree$frame$var == \"<leaf>\"]')\n",
    "    \n",
    "    len = []\n",
    "    coverage = []\n",
    "    len_naive = []\n",
    "    coverage_naive = []\n",
    "    \n",
    "    for i,idx in enumerate(leaf_idx):\n",
    "        # Get the branch information for a specific branch in the tree\n",
    "        command = 'branch <- getBranch(bls.tree, ' + str(idx) + ')'\n",
    "        ro.r(command)\n",
    "        # Perform branch inference\n",
    "        ro.r('result <- branchInference(bls.tree, branch, type=\"reg\", alpha = 0.10)')\n",
    "        # Get confidence intervals\n",
    "        confint = ro.r('result$confint')\n",
    "        len.append(confint[1] - confint[0])\n",
    "    \n",
    "        target_cmd = \"contrast <- (bls.tree$where == mapped_idx[\" + str(i+1) + \"])\"\n",
    "        ro.r(target_cmd)\n",
    "        contrast = ro.r('contrast')\n",
    "        contrast = np.array(contrast)\n",
    "        \n",
    "        contrast = np.array(contrast * 1 / np.sum(contrast))\n",
    "        \n",
    "        target = contrast.dot(mu)\n",
    "        coverage.append(target >= confint[0] and target <= confint[1])\n",
    "        \n",
    "        # Naive after tree value\n",
    "        # Confidence intervals\n",
    "        naive_CI = [contrast.dot(y) - \n",
    "                    np.linalg.norm(contrast) * sd_y * ndist.ppf(1 - level / 2),\n",
    "                    contrast.dot(y) + \n",
    "                    np.linalg.norm(contrast) * sd_y * ndist.ppf(1 - level / 2)]\n",
    "        coverage_naive.append((target >= naive_CI[0] and target <= naive_CI[1]))\n",
    "        len_naive.append(naive_CI[1] - naive_CI[0])\n",
    "    \n",
    "    if X_test is not None:\n",
    "        X_test_r = numpy2ri.py2rpy(X_test)\n",
    "        ro.globalenv['X_test_r'] = X_test_r\n",
    "        ro.r('pred <- predict(bls.tree, data = X_test_r)')\n",
    "        pred = ro.r['pred']\n",
    "    else:\n",
    "        pred = None\n",
    "        \n",
    "    return (np.mean(coverage), np.mean(len), \n",
    "            np.mean(coverage_naive), np.mean(len_naive), pred) "
   ],
   "metadata": {
    "collapsed": false,
    "ExecuteTime": {
     "end_time": "2024-10-24T22:29:10.531396Z",
     "start_time": "2024-10-24T22:29:10.235599Z"
    }
   },
   "id": "4cd98f0c2b71ea1a"
  },
  {
   "cell_type": "code",
   "execution_count": 3,
   "outputs": [],
   "source": [
    "def generate_test(mu, sd_y):\n",
    "    n = mu.shape[0]\n",
    "    return mu + np.random.normal(size=(n,), scale=sd_y)"
   ],
   "metadata": {
    "collapsed": false,
    "ExecuteTime": {
     "end_time": "2024-10-24T22:29:11.216016Z",
     "start_time": "2024-10-24T22:29:11.213337Z"
    }
   },
   "id": "97816fc89d968b4b"
  },
  {
   "cell_type": "code",
   "execution_count": 6,
   "outputs": [],
   "source": [
    "def randomized_inference(reg_tree, sd_y, y, mu, level=0.1):\n",
    "    #print(reg_tree.terminal_nodes)\n",
    "    coverage_i = []\n",
    "    lengths_i = []\n",
    "    \n",
    "    for node in reg_tree.terminal_nodes:\n",
    "        pval, dist, contrast, norm_contrast, obs_tar, logW, suff, sel_probs \\\n",
    "            = (reg_tree.condl_node_inference(node=node, \n",
    "                                             ngrid=10000,\n",
    "                                             ncoarse=200,\n",
    "                                             grid_w_const=3,\n",
    "                                             reduced_dim=1,\n",
    "                                             sd=sd_y,\n",
    "                                             use_cvxpy=True))\n",
    "        target = contrast.dot(mu)\n",
    "        \n",
    "        # This is an interval for\n",
    "        # eta_*'mu = eta'mu / (norm(eta) * sd_y)\n",
    "        selective_CI = (dist.equal_tailed_interval(observed=norm_contrast.dot(y),\n",
    "                                                   alpha=level))\n",
    "        selective_CI = np.array(selective_CI)\n",
    "        selective_CI *= np.linalg.norm(contrast) * sd_y\n",
    "        coverage_i.append((target >= selective_CI[0] and target <= selective_CI[1]))\n",
    "        lengths_i.append(selective_CI[1] - selective_CI[0])\n",
    "        \n",
    "    return coverage_i, lengths_i"
   ],
   "metadata": {
    "collapsed": false,
    "ExecuteTime": {
     "end_time": "2024-10-24T22:29:28.377607Z",
     "start_time": "2024-10-24T22:29:28.367662Z"
    }
   },
   "id": "2971903d7397ed9c"
  },
  {
   "cell_type": "code",
   "execution_count": 26,
   "outputs": [],
   "source": [
    "def terminal_inference_sim(n = 50, p = 5, a = 0.1, b = 0.1, \n",
    "                           sd_y = 1, noise_sd_list = [0.5, 1, 2, 5], \n",
    "                           start=0, end=100,\n",
    "                           level=0.1):\n",
    "    coverage_dict = {m: [] for m in noise_sd_list + [\"Tree val\", \"Naive\"]}\n",
    "    length_dict = {m: [] for m in noise_sd_list + [\"Tree val\", \"Naive\"]}\n",
    "    MSE_dict = {m: [] for m in noise_sd_list + [\"Tree val\", \"Naive\"]}\n",
    "    \n",
    "    for i in range(start, end):\n",
    "        print(i, \"th simulation\")\n",
    "        np.random.seed(i + 48105)\n",
    "        X = np.random.normal(size=(n, p))\n",
    "\n",
    "        mu = b * ((X[:, 0] <= 0) * (1 + a * (X[:, 1] > 0) + (X[:, 2] * X[:, 1] <= 0)))\n",
    "        y = mu + np.random.normal(size=(n,), scale=sd_y)\n",
    "        y_test = generate_test(mu, sd_y)\n",
    "        \n",
    "        for noise_sd in noise_sd_list:\n",
    "            # Create and train the regression tree\n",
    "            reg_tree = RegressionTree(min_samples_split=10, max_depth=3,\n",
    "                                      min_proportion=0.1)\n",
    "            reg_tree.fit(X, y, sd = noise_sd * sd_y)\n",
    "            \n",
    "            coverage_i, lengths_i = randomized_inference(reg_tree=reg_tree, \n",
    "                                                         y=y, sd_y=sd_y, mu=mu, level=level)\n",
    "            pred_test = reg_tree.predict(X)\n",
    "            MSE_test = (np.mean((y_test - pred_test) ** 2))\n",
    "            # Record results\n",
    "            coverage_dict[noise_sd].append(np.mean(coverage_i))\n",
    "            length_dict[noise_sd].append(np.mean(lengths_i))\n",
    "            MSE_dict[noise_sd].append(MSE_test)\n",
    "        \n",
    "        # Tree value & naive inference & prediction\n",
    "        (coverage_treeval, avg_len_treeval, \n",
    "         coverage_treeval_naive, avg_len_treeval_naive,\n",
    "         pred_test_treeval) = tree_values_inference(X, y, mu, sd_y=sd_y, \n",
    "                                                    X_test=X, max_depth=2)\n",
    "\n",
    "        MSE_test_treeval = (np.mean((y_test - pred_test_treeval) ** 2))\n",
    "        coverage_dict[\"Tree val\"].append(coverage_treeval)\n",
    "        length_dict[\"Tree val\"].append(avg_len_treeval)\n",
    "        MSE_dict[\"Tree val\"].append(MSE_test_treeval)\n",
    "        coverage_dict[\"Naive\"].append(coverage_treeval_naive)\n",
    "        length_dict[\"Naive\"].append(avg_len_treeval_naive)\n",
    "        MSE_dict[\"Naive\"].append(MSE_test_treeval)\n",
    "        \n",
    "    return coverage_dict, length_dict, MSE_dict"
   ],
   "metadata": {
    "collapsed": false,
    "ExecuteTime": {
     "end_time": "2024-10-24T23:53:25.583150Z",
     "start_time": "2024-10-24T23:53:25.580440Z"
    }
   },
   "id": "8b715a0214918be8"
  },
  {
   "cell_type": "code",
   "execution_count": 27,
   "outputs": [
    {
     "name": "stdout",
     "output_type": "stream",
     "text": [
      "0 th simulation\n",
      "1 th simulation\n",
      "2 th simulation\n",
      "3 th simulation\n",
      "4 th simulation\n",
      "5 th simulation\n",
      "6 th simulation\n",
      "7 th simulation\n",
      "8 th simulation\n",
      "9 th simulation\n",
      "10 th simulation\n",
      "11 th simulation\n",
      "12 th simulation\n",
      "13 th simulation\n",
      "14 th simulation\n",
      "15 th simulation\n",
      "16 th simulation\n",
      "17 th simulation\n",
      "18 th simulation\n",
      "19 th simulation\n",
      "20 th simulation\n",
      "21 th simulation\n",
      "22 th simulation\n",
      "23 th simulation\n",
      "24 th simulation\n",
      "25 th simulation\n",
      "26 th simulation\n",
      "27 th simulation\n",
      "28 th simulation\n",
      "29 th simulation\n",
      "30 th simulation\n",
      "31 th simulation\n",
      "32 th simulation\n",
      "33 th simulation\n",
      "34 th simulation\n",
      "35 th simulation\n",
      "36 th simulation\n",
      "37 th simulation\n",
      "38 th simulation\n",
      "39 th simulation\n",
      "40 th simulation\n",
      "41 th simulation\n",
      "42 th simulation\n",
      "43 th simulation\n",
      "44 th simulation\n",
      "45 th simulation\n",
      "46 th simulation\n",
      "47 th simulation\n",
      "48 th simulation\n",
      "49 th simulation\n"
     ]
    }
   ],
   "source": [
    "(coverage_dict, length_dict, MSE_dict) \\\n",
    "    = terminal_inference_sim(start=0, end=50, n=100, sd_y=5, noise_sd_list=[0.5, 1], \n",
    "                             a=1,b=1, level=0.1)"
   ],
   "metadata": {
    "collapsed": false,
    "ExecuteTime": {
     "end_time": "2024-10-25T00:43:01.136579Z",
     "start_time": "2024-10-24T23:53:27.546786Z"
    }
   },
   "id": "84374f89cc216b20"
  },
  {
   "cell_type": "code",
   "execution_count": 28,
   "outputs": [
    {
     "data": {
      "text/plain": "({0.5: [np.float64(1.0),\n   np.float64(0.8333333333333334),\n   np.float64(1.0),\n   np.float64(1.0),\n   np.float64(1.0),\n   np.float64(1.0),\n   np.float64(1.0),\n   np.float64(1.0),\n   np.float64(1.0),\n   np.float64(1.0),\n   np.float64(1.0),\n   np.float64(1.0),\n   np.float64(0.7142857142857143),\n   np.float64(1.0),\n   np.float64(1.0),\n   np.float64(1.0),\n   np.float64(1.0),\n   np.float64(1.0),\n   np.float64(1.0),\n   np.float64(1.0),\n   np.float64(1.0),\n   np.float64(1.0),\n   np.float64(1.0),\n   np.float64(1.0),\n   np.float64(0.8333333333333334),\n   np.float64(0.8571428571428571),\n   np.float64(1.0),\n   np.float64(1.0),\n   np.float64(1.0),\n   np.float64(1.0),\n   np.float64(1.0),\n   np.float64(0.8333333333333334),\n   np.float64(1.0),\n   np.float64(1.0),\n   np.float64(0.875),\n   np.float64(1.0),\n   np.float64(0.875),\n   np.float64(0.625),\n   np.float64(1.0),\n   np.float64(1.0),\n   np.float64(1.0),\n   np.float64(1.0),\n   np.float64(1.0),\n   np.float64(1.0),\n   np.float64(1.0),\n   np.float64(1.0),\n   np.float64(1.0),\n   np.float64(1.0),\n   np.float64(1.0),\n   np.float64(1.0)],\n  1: [np.float64(1.0),\n   np.float64(0.6666666666666666),\n   np.float64(1.0),\n   np.float64(0.75),\n   np.float64(0.8571428571428571),\n   np.float64(0.875),\n   np.float64(1.0),\n   np.float64(1.0),\n   np.float64(0.625),\n   np.float64(0.7142857142857143),\n   np.float64(1.0),\n   np.float64(1.0),\n   np.float64(1.0),\n   np.float64(1.0),\n   np.float64(1.0),\n   np.float64(1.0),\n   np.float64(1.0),\n   np.float64(1.0),\n   np.float64(1.0),\n   np.float64(0.875),\n   np.float64(1.0),\n   np.float64(1.0),\n   np.float64(1.0),\n   np.float64(1.0),\n   np.float64(1.0),\n   np.float64(0.8571428571428571),\n   np.float64(1.0),\n   np.float64(1.0),\n   np.float64(1.0),\n   np.float64(0.8571428571428571),\n   np.float64(1.0),\n   np.float64(1.0),\n   np.float64(1.0),\n   np.float64(1.0),\n   np.float64(0.875),\n   np.float64(1.0),\n   np.float64(0.75),\n   np.float64(1.0),\n   np.float64(1.0),\n   np.float64(1.0),\n   np.float64(1.0),\n   np.float64(1.0),\n   np.float64(1.0),\n   np.float64(1.0),\n   np.float64(0.8333333333333334),\n   np.float64(0.8333333333333334),\n   np.float64(1.0),\n   np.float64(1.0),\n   np.float64(0.875),\n   np.float64(1.0)],\n  'Tree val': [np.float64(1.0),\n   np.float64(0.6666666666666666),\n   np.float64(1.0),\n   np.float64(1.0),\n   np.float64(1.0),\n   np.float64(1.0),\n   np.float64(1.0),\n   np.float64(0.5),\n   np.float64(0.75),\n   np.float64(0.75),\n   np.float64(0.6666666666666666),\n   np.float64(1.0),\n   np.float64(1.0),\n   np.float64(1.0),\n   np.float64(1.0),\n   np.float64(1.0),\n   np.float64(1.0),\n   np.float64(1.0),\n   np.float64(1.0),\n   np.float64(1.0),\n   np.float64(1.0),\n   np.float64(1.0),\n   np.float64(1.0),\n   np.float64(0.75),\n   np.float64(1.0),\n   np.float64(1.0),\n   np.float64(0.3333333333333333),\n   np.float64(1.0),\n   np.float64(1.0),\n   np.float64(1.0),\n   np.float64(1.0),\n   np.float64(1.0),\n   np.float64(1.0),\n   np.float64(1.0),\n   np.float64(1.0),\n   np.float64(1.0),\n   np.float64(0.75),\n   np.float64(1.0),\n   np.float64(1.0),\n   np.float64(1.0),\n   np.float64(0.75),\n   np.float64(1.0),\n   np.float64(1.0),\n   np.float64(0.6666666666666666),\n   np.float64(1.0),\n   np.float64(1.0),\n   np.float64(0.75),\n   np.float64(1.0),\n   np.float64(1.0),\n   np.float64(1.0)],\n  'Naive': [np.float64(0.75),\n   np.float64(0.3333333333333333),\n   np.float64(0.75),\n   np.float64(0.3333333333333333),\n   np.float64(0.75),\n   np.float64(0.6666666666666666),\n   np.float64(0.6666666666666666),\n   np.float64(0.25),\n   np.float64(0.25),\n   np.float64(0.25),\n   np.float64(0.0),\n   np.float64(0.5),\n   np.float64(0.0),\n   np.float64(0.3333333333333333),\n   np.float64(0.3333333333333333),\n   np.float64(0.5),\n   np.float64(0.3333333333333333),\n   np.float64(0.5),\n   np.float64(0.5),\n   np.float64(0.5),\n   np.float64(0.75),\n   np.float64(0.3333333333333333),\n   np.float64(0.25),\n   np.float64(0.75),\n   np.float64(0.3333333333333333),\n   np.float64(0.6666666666666666),\n   np.float64(0.3333333333333333),\n   np.float64(0.3333333333333333),\n   np.float64(0.25),\n   np.float64(0.5),\n   np.float64(0.25),\n   np.float64(0.0),\n   np.float64(0.6666666666666666),\n   np.float64(0.5),\n   np.float64(0.5),\n   np.float64(0.5),\n   np.float64(0.25),\n   np.float64(0.5),\n   np.float64(0.5),\n   np.float64(0.3333333333333333),\n   np.float64(0.5),\n   np.float64(0.5),\n   np.float64(0.5),\n   np.float64(0.3333333333333333),\n   np.float64(0.6666666666666666),\n   np.float64(0.6666666666666666),\n   np.float64(0.75),\n   np.float64(0.0),\n   np.float64(0.5),\n   np.float64(0.25)]},\n {0.5: [np.float64(40.49632640218631),\n   np.float64(19.576680834900742),\n   np.float64(76.41086667755874),\n   np.float64(117.64684890211272),\n   np.float64(39.3469300335313),\n   np.float64(51.37782357493593),\n   np.float64(74.1315081159577),\n   np.float64(74.90609681615908),\n   np.float64(57.52982272039434),\n   np.float64(63.29404177712608),\n   np.float64(49.69778972931437),\n   np.float64(94.8996973176338),\n   np.float64(83.23749017011019),\n   np.float64(67.78848082437352),\n   np.float64(51.283289657366495),\n   np.float64(44.44946748001697),\n   np.float64(84.45305067322259),\n   np.float64(60.28802418574155),\n   np.float64(62.54376841094853),\n   np.float64(83.74766843417234),\n   np.float64(45.27698345828553),\n   np.float64(92.42008005169812),\n   np.float64(29.09938387309334),\n   np.float64(90.76131091023673),\n   np.float64(75.66477123396146),\n   np.float64(42.77254410949131),\n   np.float64(93.73555394778442),\n   np.float64(40.54904690924339),\n   np.float64(81.21575188668999),\n   np.float64(60.66181147531576),\n   np.float64(87.00822375963854),\n   np.float64(93.76626258136507),\n   np.float64(47.728736314717715),\n   np.float64(63.03510040383371),\n   np.float64(89.57637598567206),\n   np.float64(35.787413621139095),\n   np.float64(67.99115819731294),\n   np.float64(69.68697904730104),\n   np.float64(23.881605893832646),\n   np.float64(55.92756351294128),\n   np.float64(58.44801601854093),\n   np.float64(44.978370116935174),\n   np.float64(98.92016409221551),\n   np.float64(48.03455767346963),\n   np.float64(45.06101028181077),\n   np.float64(33.572212753095464),\n   np.float64(59.58384723187645),\n   np.float64(63.70407425460659),\n   np.float64(74.48542197254258),\n   np.float64(77.18085146696255)],\n  1: [np.float64(30.362919782007474),\n   np.float64(37.471855017104154),\n   np.float64(42.0048119460098),\n   np.float64(59.00543413604201),\n   np.float64(41.55076440022172),\n   np.float64(36.14971726789189),\n   np.float64(69.03913676191445),\n   np.float64(46.742739430738006),\n   np.float64(39.102739476646235),\n   np.float64(51.48334215524817),\n   np.float64(61.694897592271744),\n   np.float64(35.23042000729944),\n   np.float64(39.525349550336486),\n   np.float64(49.37971328269161),\n   np.float64(38.47001896793817),\n   np.float64(37.77867397149525),\n   np.float64(45.19389787313046),\n   np.float64(44.22708232176637),\n   np.float64(44.069754201260444),\n   np.float64(44.62256613244246),\n   np.float64(29.70250641913217),\n   np.float64(60.885032621350966),\n   np.float64(36.25472069684205),\n   np.float64(36.58941139538921),\n   np.float64(78.25681066992829),\n   np.float64(30.893111111609905),\n   np.float64(57.20068705456208),\n   np.float64(33.62804926244708),\n   np.float64(38.30987411150776),\n   np.float64(46.87124616884993),\n   np.float64(40.365559235789),\n   np.float64(61.60669810477708),\n   np.float64(34.550592660151786),\n   np.float64(32.345071686236786),\n   np.float64(68.08582982359695),\n   np.float64(28.07489729321154),\n   np.float64(56.92457398451343),\n   np.float64(39.11653630121006),\n   np.float64(20.308643711543482),\n   np.float64(42.954455204267724),\n   np.float64(54.562469361825116),\n   np.float64(40.22291844707646),\n   np.float64(52.491210077397646),\n   np.float64(39.57145622536815),\n   np.float64(28.696690878544103),\n   np.float64(34.23841028137141),\n   np.float64(44.87243624986694),\n   np.float64(46.63062215490632),\n   np.float64(43.594642659012536),\n   np.float64(74.83497936003513)],\n  'Tree val': [np.float64(23.116894064928495),\n   np.float64(136.4840373938882),\n   np.float64(23.603416615574005),\n   np.float64(11.08424095582592),\n   np.float64(8.504490952807965),\n   np.float64(22.73805906816473),\n   np.float64(12.860730881225246),\n   np.float64(6.98888661577306),\n   np.float64(4.569867057169281),\n   np.float64(32.79410963017942),\n   np.float64(7.801196595788593),\n   np.float64(12.696735361544606),\n   np.float64(11.92960201774128),\n   np.float64(8.3075323367286),\n   np.float64(119.8473586967782),\n   np.float64(11.08258151083136),\n   np.float64(28.21837379798779),\n   np.float64(7.241251054783138),\n   np.float64(13.771500781437704),\n   np.float64(10.16718171543339),\n   np.float64(38.384595942563706),\n   np.float64(66.50109436445995),\n   np.float64(7.019225876668766),\n   np.float64(10.306784583318844),\n   np.float64(12.986525239635894),\n   np.float64(21.6665027932186),\n   np.float64(57.57836984175882),\n   np.float64(16.121163358680665),\n   np.float64(11.907890728013093),\n   np.float64(22.996275483489413),\n   np.float64(9.462684835400568),\n   np.float64(19.629524127424506),\n   np.float64(10.110003349328965),\n   np.float64(7.30649883937351),\n   np.float64(26.71128719079867),\n   np.float64(7.276054283294444),\n   np.float64(9.853373091625285),\n   np.float64(12.26733628277859),\n   np.float64(13.316188926490186),\n   np.float64(13.500498590003298),\n   np.float64(23.991330013488895),\n   np.float64(10.71791006929933),\n   np.float64(24.792927840752533),\n   np.float64(18.767345392650245),\n   np.float64(12.261336271748208),\n   np.float64(14.365886106516522),\n   np.float64(10.212293701081945),\n   np.float64(19.289344586781016),\n   np.float64(29.607892116257215),\n   np.float64(8.997745267084161)],\n  'Naive': [np.float64(3.9582927696359045),\n   np.float64(3.7316256773333216),\n   np.float64(3.914593843327743),\n   np.float64(4.605497454319987),\n   np.float64(4.077362766229138),\n   np.float64(3.753390954220151),\n   np.float64(4.06786036181671),\n   np.float64(4.099297771377038),\n   np.float64(3.5431771350991976),\n   np.float64(3.881050224287433),\n   np.float64(3.542073110139043),\n   np.float64(3.423229025386726),\n   np.float64(3.2639275827822476),\n   np.float64(3.68047743648263),\n   np.float64(3.969092852552324),\n   np.float64(4.083146510436407),\n   np.float64(3.901368387346281),\n   np.float64(3.8035411470694385),\n   np.float64(3.7275983885657764),\n   np.float64(3.499080185537353),\n   np.float64(3.78174636326108),\n   np.float64(4.108795377320498),\n   np.float64(3.863862763122014),\n   np.float64(4.092222782907251),\n   np.float64(3.3402570133909752),\n   np.float64(3.443411393351951),\n   np.float64(3.302167678184006),\n   np.float64(3.414489455995998),\n   np.float64(3.3669998874652176),\n   np.float64(3.8091957113165433),\n   np.float64(4.432794795432152),\n   np.float64(3.802733314933313),\n   np.float64(3.6067251434131578),\n   np.float64(3.4460830900321446),\n   np.float64(3.3669998874652176),\n   np.float64(3.7087743466341547),\n   np.float64(3.4374902248232497),\n   np.float64(3.9775169178076295),\n   np.float64(3.525087973330244),\n   np.float64(3.473655318973389),\n   np.float64(3.8093597133416313),\n   np.float64(3.9078187712634866),\n   np.float64(4.031615510734851),\n   np.float64(3.9013683873462814),\n   np.float64(3.2579399101808257),\n   np.float64(3.7010624833891845),\n   np.float64(3.5550420539769494),\n   np.float64(3.696399453133702),\n   np.float64(4.286482297882686),\n   np.float64(3.847107378596171)]},\n {0.5: [np.float64(30.876570903011427),\n   np.float64(38.01461520124362),\n   np.float64(39.01003458502711),\n   np.float64(49.60245495365883),\n   np.float64(35.871769270377904),\n   np.float64(38.85351117135179),\n   np.float64(27.51707012077237),\n   np.float64(31.33367391430253),\n   np.float64(28.36408004967734),\n   np.float64(29.366563622380937),\n   np.float64(34.37174462753763),\n   np.float64(34.31387929866005),\n   np.float64(39.65910959428828),\n   np.float64(28.67287235804085),\n   np.float64(36.14949996049669),\n   np.float64(35.003998880374276),\n   np.float64(31.210336232447126),\n   np.float64(38.62804143067871),\n   np.float64(30.871167832261097),\n   np.float64(35.068567969663796),\n   np.float64(31.016472760568814),\n   np.float64(33.357089129085075),\n   np.float64(34.7323825890732),\n   np.float64(25.607962170033826),\n   np.float64(34.508919535827516),\n   np.float64(32.85430407594892),\n   np.float64(33.45305600220985),\n   np.float64(33.88381267219738),\n   np.float64(36.028007525342375),\n   np.float64(34.77484684690255),\n   np.float64(32.87183362028448),\n   np.float64(38.07239677450928),\n   np.float64(28.81615441925318),\n   np.float64(34.57761353309666),\n   np.float64(35.106807697296155),\n   np.float64(36.18180792181568),\n   np.float64(36.18625318004138),\n   np.float64(30.310517325131535),\n   np.float64(27.38038053069119),\n   np.float64(34.87255735943728),\n   np.float64(33.28417103841909),\n   np.float64(36.35583222760515),\n   np.float64(33.483923080755346),\n   np.float64(34.36825255839155),\n   np.float64(24.904539255149572),\n   np.float64(23.38499393183148),\n   np.float64(31.11327334046227),\n   np.float64(31.60745702974435),\n   np.float64(32.63033300788813),\n   np.float64(40.74925753280106)],\n  1: [np.float64(30.876570903011427),\n   np.float64(32.1784662568783),\n   np.float64(39.01003458502711),\n   np.float64(51.43569752757211),\n   np.float64(33.875905926865336),\n   np.float64(44.57111338323776),\n   np.float64(28.54636507527024),\n   np.float64(31.412645524273685),\n   np.float64(28.988449964758594),\n   np.float64(28.164583365706367),\n   np.float64(34.37174462753763),\n   np.float64(33.815208003506164),\n   np.float64(39.65910959428828),\n   np.float64(27.800266819685106),\n   np.float64(36.14949996049669),\n   np.float64(35.3581919951589),\n   np.float64(31.210336232447126),\n   np.float64(38.62804143067871),\n   np.float64(31.029744603278168),\n   np.float64(34.78161716268649),\n   np.float64(31.016472760568814),\n   np.float64(33.158284202090556),\n   np.float64(34.7323825890732),\n   np.float64(25.462070815879947),\n   np.float64(34.48647921519453),\n   np.float64(32.91136472646612),\n   np.float64(33.45305600220985),\n   np.float64(34.597414975828016),\n   np.float64(35.31155438812947),\n   np.float64(34.829703964805915),\n   np.float64(33.32987707076689),\n   np.float64(37.218117033318975),\n   np.float64(26.5676363078456),\n   np.float64(34.57761353309666),\n   np.float64(42.69913563834003),\n   np.float64(36.18180792181568),\n   np.float64(37.18651716564281),\n   np.float64(30.198476708961024),\n   np.float64(26.24773915399576),\n   np.float64(34.808277565458944),\n   np.float64(32.132996470589084),\n   np.float64(36.35583222760515),\n   np.float64(33.483923080755346),\n   np.float64(34.36825255839155),\n   np.float64(24.904539255149572),\n   np.float64(23.71036649665504),\n   np.float64(31.11327334046227),\n   np.float64(31.99260425039479),\n   np.float64(32.63033300788813),\n   np.float64(36.39116476909838)],\n  'Tree val': [np.float64(23.32089624274209),\n   np.float64(27.362377665570552),\n   np.float64(32.25130300206977),\n   np.float64(42.13391181284332),\n   np.float64(35.15107134525169),\n   np.float64(34.995734082573364),\n   np.float64(24.671181554829708),\n   np.float64(29.86851030225484),\n   np.float64(26.026694837528822),\n   np.float64(25.85765647109406),\n   np.float64(26.281374805369314),\n   np.float64(26.49598742434549),\n   np.float64(34.36802723711297),\n   np.float64(26.53298313130815),\n   np.float64(35.523299598494624),\n   np.float64(33.723203557176305),\n   np.float64(29.50063911867586),\n   np.float64(32.78196461556521),\n   np.float64(28.731669651648826),\n   np.float64(29.175381932891955),\n   np.float64(27.40184264386492),\n   np.float64(30.278410279406856),\n   np.float64(33.470060181183406),\n   np.float64(22.297145121526228),\n   np.float64(30.456421340590374),\n   np.float64(27.401807967127546),\n   np.float64(29.19299610055201),\n   np.float64(30.32124845555028),\n   np.float64(31.713962857264406),\n   np.float64(34.812562171905824),\n   np.float64(31.057223567887405),\n   np.float64(34.783234130397794),\n   np.float64(26.253377222510238),\n   np.float64(27.05384437525707),\n   np.float64(32.56218829815348),\n   np.float64(32.834202483451634),\n   np.float64(29.60030876979248),\n   np.float64(27.36118556666825),\n   np.float64(25.513620490263353),\n   np.float64(29.38820842038475),\n   np.float64(30.98598653549532),\n   np.float64(31.035192125551326),\n   np.float64(28.114234978835476),\n   np.float64(26.601716330765488),\n   np.float64(22.021078140338787),\n   np.float64(19.570167662592606),\n   np.float64(27.143279234921216),\n   np.float64(30.53569932762709),\n   np.float64(29.99800231638204),\n   np.float64(34.82593999490352)],\n  'Naive': [np.float64(23.32089624274209),\n   np.float64(27.362377665570552),\n   np.float64(32.25130300206977),\n   np.float64(42.13391181284332),\n   np.float64(35.15107134525169),\n   np.float64(34.995734082573364),\n   np.float64(24.671181554829708),\n   np.float64(29.86851030225484),\n   np.float64(26.026694837528822),\n   np.float64(25.85765647109406),\n   np.float64(26.281374805369314),\n   np.float64(26.49598742434549),\n   np.float64(34.36802723711297),\n   np.float64(26.53298313130815),\n   np.float64(35.523299598494624),\n   np.float64(33.723203557176305),\n   np.float64(29.50063911867586),\n   np.float64(32.78196461556521),\n   np.float64(28.731669651648826),\n   np.float64(29.175381932891955),\n   np.float64(27.40184264386492),\n   np.float64(30.278410279406856),\n   np.float64(33.470060181183406),\n   np.float64(22.297145121526228),\n   np.float64(30.456421340590374),\n   np.float64(27.401807967127546),\n   np.float64(29.19299610055201),\n   np.float64(30.32124845555028),\n   np.float64(31.713962857264406),\n   np.float64(34.812562171905824),\n   np.float64(31.057223567887405),\n   np.float64(34.783234130397794),\n   np.float64(26.253377222510238),\n   np.float64(27.05384437525707),\n   np.float64(32.56218829815348),\n   np.float64(32.834202483451634),\n   np.float64(29.60030876979248),\n   np.float64(27.36118556666825),\n   np.float64(25.513620490263353),\n   np.float64(29.38820842038475),\n   np.float64(30.98598653549532),\n   np.float64(31.035192125551326),\n   np.float64(28.114234978835476),\n   np.float64(26.601716330765488),\n   np.float64(22.021078140338787),\n   np.float64(19.570167662592606),\n   np.float64(27.143279234921216),\n   np.float64(30.53569932762709),\n   np.float64(29.99800231638204),\n   np.float64(34.82593999490352)]})"
     },
     "execution_count": 28,
     "metadata": {},
     "output_type": "execute_result"
    }
   ],
   "source": [
    "coverage_dict, length_dict, MSE_dict"
   ],
   "metadata": {
    "collapsed": false,
    "ExecuteTime": {
     "end_time": "2024-10-25T00:43:03.907581Z",
     "start_time": "2024-10-25T00:43:03.900410Z"
    }
   },
   "id": "d49f532402ac942a"
  },
  {
   "cell_type": "code",
   "execution_count": 29,
   "outputs": [],
   "source": [
    "noise_sd_list = [0.5, 1, 2, 5] + [\"Tree val\", \"Naive\"]"
   ],
   "metadata": {
    "collapsed": false,
    "ExecuteTime": {
     "end_time": "2024-10-25T00:43:04.737843Z",
     "start_time": "2024-10-25T00:43:04.732216Z"
    }
   },
   "id": "234165b0eb5b4a02"
  },
  {
   "cell_type": "code",
   "execution_count": 30,
   "outputs": [
    {
     "data": {
      "text/plain": "[0.5, 1, 2, 5, 'Tree val', 'Naive']"
     },
     "execution_count": 30,
     "metadata": {},
     "output_type": "execute_result"
    }
   ],
   "source": [
    "noise_sd_list"
   ],
   "metadata": {
    "collapsed": false,
    "ExecuteTime": {
     "end_time": "2024-10-25T00:43:06.066614Z",
     "start_time": "2024-10-25T00:43:06.043366Z"
    }
   },
   "id": "f5a3cd1adf4fab3e"
  },
  {
   "cell_type": "code",
   "execution_count": 30,
   "outputs": [],
   "source": [],
   "metadata": {
    "collapsed": false,
    "ExecuteTime": {
     "end_time": "2024-10-25T00:43:06.071797Z",
     "start_time": "2024-10-25T00:43:06.062781Z"
    }
   },
   "id": "bce0a5016022c22b"
  },
  {
   "cell_type": "code",
   "execution_count": 31,
   "outputs": [],
   "source": [
    "import seaborn as sns\n",
    "def boxplots(dfs, metrics):\n",
    "    # Set up the subplots: one for each metric\n",
    "    fig, axes = plt.subplots(1, 3, figsize=(15, 6))\n",
    "    \n",
    "    # Iterate over the dataframes and create a boxplot for each\n",
    "    for i, (df, metric) in enumerate(zip(dfs, metrics)):\n",
    "        sns.boxplot(data=df, ax=axes[i])\n",
    "        axes[i].set_title(f'Boxplot for {metric}')\n",
    "        axes[i].set_xlabel('Method')\n",
    "        axes[i].set_ylabel('Value')\n",
    "        # Add triangles for the mean values\n",
    "        means = df.mean()  # Calculate mean for each method (column)\n",
    "        print(metric,\":\\n\",means.T)\n",
    "        for j, mean in enumerate(means):\n",
    "            axes[i].plot(j, mean, marker='^', color='red', markersize=10)  # Add a red triangle for the mean\n",
    "        if metric == \"Coverage\":\n",
    "            axes[i].set_ylim(0,1)\n",
    "        elif metric == \"Length\":\n",
    "            axes[i].set_ylim(0,100)\n",
    "        elif metric == \"MSE\":\n",
    "            axes[i].set_ylim(0,50)\n",
    "    \n",
    "    # Show the plots\n",
    "    plt.tight_layout()\n",
    "    plt.show()"
   ],
   "metadata": {
    "collapsed": false,
    "ExecuteTime": {
     "end_time": "2024-10-25T00:43:06.791463Z",
     "start_time": "2024-10-25T00:43:06.789663Z"
    }
   },
   "id": "5068cbe9df1c79f2"
  },
  {
   "cell_type": "code",
   "execution_count": 32,
   "outputs": [
    {
     "name": "stdout",
     "output_type": "stream",
     "text": [
      "Coverage :\n",
      " 0.5         0.968929\n",
      "1           0.944881\n",
      "Tree val    0.926667\n",
      "Naive       0.433333\n",
      "dtype: float64\n",
      "Length :\n",
      " 0.5         63.752417\n",
      "1           44.514920\n",
      "Tree val    21.634279\n",
      "Naive        3.756418\n",
      "dtype: float64\n",
      "MSE :\n",
      " 0.5         33.584695\n",
      "1           33.558417\n",
      "Tree val    29.586780\n",
      "Naive       29.586780\n",
      "dtype: float64\n"
     ]
    },
    {
     "data": {
      "text/plain": "<Figure size 1500x600 with 3 Axes>",
      "image/png": "[encoded data removed]"
     },
     "metadata": {},
     "output_type": "display_data"
    }
   ],
   "source": [
    "import pandas as pd\n",
    "boxplots(dfs=[pd.DataFrame(coverage_dict), \n",
    "              pd.DataFrame(length_dict), \n",
    "              pd.DataFrame(MSE_dict)], \n",
    "         metrics=[\"Coverage\", \"Length\", \"MSE\"])"
   ],
   "metadata": {
    "collapsed": false,
    "ExecuteTime": {
     "end_time": "2024-10-25T00:43:07.564388Z",
     "start_time": "2024-10-25T00:43:07.205918Z"
    }
   },
   "id": "f6b2b82fc19184ea"
  },
  {
   "cell_type": "code",
   "execution_count": null,
   "outputs": [],
   "source": [],
   "metadata": {
    "collapsed": false
   },
   "id": "5d1c10df63cfec09"
  }
 ],
 "metadata": {
  "kernelspec": {
   "display_name": "Python 3",
   "language": "python",
   "name": "python3"
  },
  "language_info": {
   "codemirror_mode": {
    "name": "ipython",
    "version": 2
   },
   "file_extension": ".py",
   "mimetype": "text/x-python",
   "name": "python",
   "nbconvert_exporter": "python",
   "pygments_lexer": "ipython2",
   "version": "2.7.6"
  }
 },
 "nbformat": 4,
 "nbformat_minor": 5
}
