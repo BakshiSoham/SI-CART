{
 "cells": [
  {
   "cell_type": "code",
   "execution_count": 1,
   "id": "initial_id",
   "metadata": {
    "collapsed": true,
    "ExecuteTime": {
     "end_time": "2024-10-30T02:01:09.203432Z",
     "start_time": "2024-10-30T02:01:07.625332Z"
    }
   },
   "outputs": [],
   "source": [
    "import time\n",
    "\n",
    "import numpy as np\n",
    "import pandas as pd\n",
    "\n",
    "from Utils.discrete_family import discrete_family\n",
    "from Utils.barrier_affine import solve_barrier_tree, solve_barrier_tree_nonneg, solve_barrier_tree_box_PGD\n",
    "from CART import RegressionTree\n",
    "from scipy.interpolate import interp1d\n",
    "from scipy.stats import multivariate_normal as mvn\n",
    "from Utils.plotting import  *\n",
    "from Utils.simulation_helpers import *\n",
    "from scipy.stats import norm as ndist\n",
    "\n",
    "# For tree-values\n",
    "import rpy2.robjects.packages as rpackages\n",
    "from rpy2.robjects.vectors import StrVector\n",
    "\n",
    "# Select a CRAN mirror to download from\n",
    "utils = rpackages.importr('utils')\n",
    "utils.chooseCRANmirror(ind=1)  # Select the first mirror\n",
    "\n",
    "# Install 'remotes' if it's not already installed\n",
    "if not rpackages.isinstalled('remotes'):\n",
    "    utils.install_packages(StrVector(('remotes',)))\n",
    "\n",
    "import rpy2.robjects as ro\n",
    "\n",
    "from rpy2.robjects.packages import importr\n",
    "from rpy2.robjects import pandas2ri\n",
    "from rpy2.robjects import numpy2ri\n",
    "%load_ext rpy2.ipython"
   ]
  },
  {
   "cell_type": "markdown",
   "source": [
    "# Main ideas\n",
    "1. Generate data from the tree-values setting:\n",
    "> We simulate $X \\in \\mathbb{R}^{n \\times p}$ with $n=200, p=10, X_{i j} \\stackrel{i . i . d .}{\\sim} N(0,1)$, and $y \\sim N_n\\left(\\mu, \\sigma^2 I_n\\right)$ with $\\sigma=5$ and $\\mu_i=b \\times\\left[1_{\\left(x_{i, 1} \\leq 0\\right)} \\times\\left\\{1+a 1_{\\left(x_{i, 2}>0\\right)}+1_{\\left(x_{i, 3} \\times x_{i, 2}>0\\right)}\\right\\}\\right]$. \n",
    "2. Fix a maximum depth $max\\_depth$, e.g. $5$.\n",
    "3. Use naive inference, tree-values, and our proposed method to fit the tree.\n",
    "4. Coverage rate comparison: compare the average coverage rate over CIs for terminal nodes in each simulation.\n",
    "5. Average length comparison: compare the average CIs lengths for terminal nodes in each simulation.\n",
    "6. Selection quality comparison: \n",
    "a. generate the same dataset with same $X, \\mu$ but new $\\epsilon$,\n",
    "b. generate new $X, \\mu$, \\epsilon$ using the same parameters,\n",
    "compare the MSE of fitted trees on this test set."
   ],
   "metadata": {
    "collapsed": false
   },
   "id": "a826a2a406801d23"
  },
  {
   "cell_type": "code",
   "execution_count": 8,
   "outputs": [],
   "source": [
    "# Activate automatic conversion between pandas and R data frames\n",
    "pandas2ri.activate()\n",
    "\n",
    "# Import R libraries\n",
    "treevalues = importr('treevalues')\n",
    "rpart = importr('rpart')\n",
    "\n",
    "def tree_values_inference(X, y, mu, sd_y, max_depth=5, level=0.1,\n",
    "                          X_test=None):\n",
    "    # Convert the NumPy matrix to an R matrix\n",
    "    X_r = numpy2ri.py2rpy(X)\n",
    "    y_r = numpy2ri.py2rpy(y)\n",
    "    \n",
    "    # Assign the R matrix to a variable in the R environment (optional)\n",
    "    ro.globalenv['X_r'] = X_r\n",
    "    ro.globalenv['y_r'] = y_r\n",
    "    ro.globalenv['p'] = X.shape[1]\n",
    "    \n",
    "    # Construct dataset\n",
    "    ro.r('data <- cbind(y_r, X_r)')\n",
    "    # Set the column names to \"y\", \"x1\", \"x2\", ..., \"x10\"\n",
    "    ro.r('colnames(data) <- c(\"y\", paste0(\"x\", 1:p))')\n",
    "    ro.r('data = data.frame(data)')\n",
    "    \n",
    "    # Define the rpart tree model\n",
    "    tree_cmd = ('bls.tree <- rpart(y ~ ., data=data, model = TRUE, ' + \n",
    "                'control = rpart.control(cp=0.00, minsplit = 15, minbucket = 5, maxdepth=') + str(max_depth) + '))'\n",
    "    ro.r(tree_cmd)\n",
    "    bls_tree = ro.r('bls.tree')\n",
    "    # Plot the tree values (this will plot directly if you have a plotting backend set up)\n",
    "    #ro.r('treeval.plot(bls.tree, inferenceType=0)')\n",
    "    \n",
    "    #ro.r('print(row.names(bls.tree$frame)[bls.tree$frame$var == \"<leaf>\"])')\n",
    "    ro.r('leaf_idx <- (row.names(bls.tree$frame)[bls.tree$frame$var == \"<leaf>\"])')\n",
    "    leaf_idx = ro.r['leaf_idx']\n",
    "    \n",
    "    # Get node mapping\n",
    "    ro.r('idx_full <- 1:nrow(bls.tree$frame)')\n",
    "    ro.r('mapped_idx <- idx_full[bls.tree$frame$var == \"<leaf>\"]')\n",
    "    \n",
    "    len = []\n",
    "    coverage = []\n",
    "    len_naive = []\n",
    "    coverage_naive = []\n",
    "    \n",
    "    for i,idx in enumerate(leaf_idx):\n",
    "        # Get the branch information for a specific branch in the tree\n",
    "        command = 'branch <- getBranch(bls.tree, ' + str(idx) + ')'\n",
    "        ro.r(command)\n",
    "        # Perform branch inference\n",
    "        ro.r('result <- branchInference(bls.tree, branch, type=\"reg\", alpha = 0.10)')\n",
    "        # Get confidence intervals\n",
    "        confint = ro.r('result$confint')\n",
    "        len.append(confint[1] - confint[0])\n",
    "    \n",
    "        target_cmd = \"contrast <- (bls.tree$where == mapped_idx[\" + str(i+1) + \"])\"\n",
    "        ro.r(target_cmd)\n",
    "        contrast = ro.r('contrast')\n",
    "        contrast = np.array(contrast)\n",
    "        \n",
    "        contrast = np.array(contrast * 1 / np.sum(contrast))\n",
    "        \n",
    "        target = contrast.dot(mu)\n",
    "        coverage.append(target >= confint[0] and target <= confint[1])\n",
    "        \n",
    "        # Naive after tree value\n",
    "        # Confidence intervals\n",
    "        naive_CI = [contrast.dot(y) - \n",
    "                    np.linalg.norm(contrast) * sd_y * ndist.ppf(1 - level / 2),\n",
    "                    contrast.dot(y) + \n",
    "                    np.linalg.norm(contrast) * sd_y * ndist.ppf(1 - level / 2)]\n",
    "        coverage_naive.append((target >= naive_CI[0] and target <= naive_CI[1]))\n",
    "        len_naive.append(naive_CI[1] - naive_CI[0])\n",
    "    \n",
    "    if X_test is not None:\n",
    "        X_test_r = numpy2ri.py2rpy(X_test)\n",
    "        ro.globalenv['X_test_r'] = X_test_r\n",
    "        ro.r('pred <- predict(bls.tree, data = X_test_r)')\n",
    "        pred = ro.r['pred']\n",
    "    else:\n",
    "        pred = None\n",
    "        \n",
    "    return (np.mean(coverage), np.mean(len), \n",
    "            np.mean(coverage_naive), np.mean(len_naive), pred) "
   ],
   "metadata": {
    "collapsed": false,
    "ExecuteTime": {
     "end_time": "2024-10-30T02:01:42.198042Z",
     "start_time": "2024-10-30T02:01:42.087675Z"
    }
   },
   "id": "4cd98f0c2b71ea1a"
  },
  {
   "cell_type": "code",
   "execution_count": 9,
   "outputs": [],
   "source": [
    "def generate_test(mu, sd_y):\n",
    "    n = mu.shape[0]\n",
    "    return mu + np.random.normal(size=(n,), scale=sd_y)"
   ],
   "metadata": {
    "collapsed": false,
    "ExecuteTime": {
     "end_time": "2024-10-30T02:01:42.305223Z",
     "start_time": "2024-10-30T02:01:42.300753Z"
    }
   },
   "id": "97816fc89d968b4b"
  },
  {
   "cell_type": "code",
   "execution_count": 10,
   "outputs": [],
   "source": [
    "def randomized_inference(reg_tree, sd_y, y, mu, level=0.1):\n",
    "    #print(reg_tree.terminal_nodes)\n",
    "    coverage_i = []\n",
    "    lengths_i = []\n",
    "    \n",
    "    for node in reg_tree.terminal_nodes:\n",
    "        pval, dist, contrast, norm_contrast, obs_tar, logW, suff, sel_probs \\\n",
    "            = (reg_tree.condl_node_inference(node=node, \n",
    "                                             ngrid=10000,\n",
    "                                             ncoarse=30,\n",
    "                                             grid_w_const=3,\n",
    "                                             reduced_dim=1,\n",
    "                                             sd=sd_y,\n",
    "                                             use_cvxpy=True))\n",
    "        target = contrast.dot(mu)\n",
    "        \n",
    "        # This is an interval for\n",
    "        # eta_*'mu = eta'mu / (norm(eta) * sd_y)\n",
    "        selective_CI = (dist.equal_tailed_interval(observed=norm_contrast.dot(y),\n",
    "                                                   alpha=level))\n",
    "        selective_CI = np.array(selective_CI)\n",
    "        selective_CI *= np.linalg.norm(contrast) * sd_y\n",
    "        coverage_i.append((target >= selective_CI[0] and target <= selective_CI[1]))\n",
    "        lengths_i.append(selective_CI[1] - selective_CI[0])\n",
    "        \n",
    "    return coverage_i, lengths_i"
   ],
   "metadata": {
    "collapsed": false,
    "ExecuteTime": {
     "end_time": "2024-10-30T02:01:42.652438Z",
     "start_time": "2024-10-30T02:01:42.648771Z"
    }
   },
   "id": "2971903d7397ed9c"
  },
  {
   "cell_type": "code",
   "execution_count": 11,
   "outputs": [],
   "source": [
    "def UV_decomposition(X, y, mu, sd_y, \n",
    "                     max_depth=5, min_prop=0, min_sample=10, min_bucket=5,\n",
    "                     level=0.1, gamma=1,\n",
    "                     X_test=None):\n",
    "    n = X.shape[0]\n",
    "    W = np.random.normal(loc=0, scale=sd_y*np.sqrt(gamma), size=(n,))\n",
    "    U = y + W\n",
    "    V = y - W/gamma\n",
    "    sd_V = sd_y * np.sqrt(1 + 1/gamma)\n",
    "    reg_tree = RegressionTree(min_samples_split=min_sample, max_depth=max_depth,\n",
    "                              min_proportion=min_prop, min_bucket=min_bucket)\n",
    "    reg_tree.fit(X, U, sd = 0)\n",
    "    \n",
    "    coverage = []\n",
    "    lengths = []\n",
    "    \n",
    "    for node in reg_tree.terminal_nodes:\n",
    "        contrast = node.membership\n",
    "        \n",
    "        contrast = np.array(contrast * 1 / np.sum(contrast))\n",
    "        \n",
    "        target = contrast.dot(mu)\n",
    "        \n",
    "        # Naive after tree value\n",
    "        # Confidence intervals\n",
    "        CI = [contrast.dot(V) - \n",
    "              np.linalg.norm(contrast) * sd_V * ndist.ppf(1 - level / 2),\n",
    "              contrast.dot(V) + \n",
    "              np.linalg.norm(contrast) * sd_V * ndist.ppf(1 - level / 2)]\n",
    "        coverage.append((target >= CI[0] and target <= CI[1]))\n",
    "        lengths.append(CI[1] - CI[0])\n",
    "        \n",
    "    if X_test is not None:\n",
    "        pred = reg_tree.predict(X_test)\n",
    "    else:\n",
    "        pred = None\n",
    "        \n",
    "    return coverage, lengths, pred"
   ],
   "metadata": {
    "collapsed": false,
    "ExecuteTime": {
     "end_time": "2024-10-30T02:01:42.870524Z",
     "start_time": "2024-10-30T02:01:42.854066Z"
    }
   },
   "id": "c0ae5e9347790eac"
  },
  {
   "cell_type": "code",
   "execution_count": 12,
   "outputs": [],
   "source": [
    "def terminal_inference_sim(n = 50, p = 5, a = 0.1, b = 0.1, \n",
    "                           sd_y = 1, noise_sd_list = [0.5, 1, 2, 5], \n",
    "                           start=0, end=100,\n",
    "                           level=0.1):\n",
    "    coverage_dict = {m: [] for m in noise_sd_list + [\"Tree val\", \"Naive\", \"UV\"]}\n",
    "    length_dict = {m: [] for m in noise_sd_list + [\"Tree val\", \"Naive\", \"UV\"]}\n",
    "    MSE_dict = {m: [] for m in noise_sd_list + [\"Tree val\", \"Naive\", \"UV\"]}\n",
    "    \n",
    "    for i in range(start, end):\n",
    "        print(i, \"th simulation\")\n",
    "        np.random.seed(i + 48105)\n",
    "        X = np.random.normal(size=(n, p))\n",
    "\n",
    "        mu = b * ((X[:, 0] <= 0) * (1 + a * (X[:, 1] > 0) + (X[:, 2] * X[:, 1] <= 0)))\n",
    "        y = mu + np.random.normal(size=(n,), scale=sd_y)\n",
    "        y_test = generate_test(mu, sd_y)\n",
    "        \n",
    "        for noise_sd in noise_sd_list:\n",
    "            # Create and train the regression tree\n",
    "            reg_tree = RegressionTree(min_samples_split=15, max_depth=3,\n",
    "                                      min_proportion=0., min_bucket=5)\n",
    "            reg_tree.fit(X, y, sd = noise_sd * sd_y)\n",
    "            \n",
    "            coverage_i, lengths_i = randomized_inference(reg_tree=reg_tree, \n",
    "                                                         y=y, sd_y=sd_y, mu=mu, \n",
    "                                                         level=level)\n",
    "            pred_test = reg_tree.predict(X)\n",
    "            MSE_test = (np.mean((y_test - pred_test) ** 2))\n",
    "            # Record results\n",
    "            coverage_dict[noise_sd].append(np.mean(coverage_i))\n",
    "            length_dict[noise_sd].append(np.mean(lengths_i))\n",
    "            MSE_dict[noise_sd].append(MSE_test)\n",
    "        \n",
    "        # Tree value & naive inference & prediction\n",
    "        (coverage_treeval, avg_len_treeval, \n",
    "         coverage_treeval_naive, avg_len_treeval_naive,\n",
    "         pred_test_treeval) = tree_values_inference(X, y, mu, sd_y=sd_y, \n",
    "                                                    X_test=X, max_depth=3)\n",
    "        MSE_test_treeval = (np.mean((y_test - pred_test_treeval) ** 2))\n",
    "        \n",
    "        # UV decomposition\n",
    "        coverage_UV, len_UV, pred_UV = UV_decomposition(X, y, mu, sd_y, X_test=X,\n",
    "                                                        min_prop=0., max_depth=3,\n",
    "                                                        min_sample=15, min_bucket=5,\n",
    "                                                        gamma=0.5)\n",
    "        MSE_UV = (np.mean((y_test - pred_UV) ** 2))\n",
    "\n",
    "        coverage_dict[\"Tree val\"].append(coverage_treeval)\n",
    "        length_dict[\"Tree val\"].append(avg_len_treeval)\n",
    "        MSE_dict[\"Tree val\"].append(MSE_test_treeval)\n",
    "        coverage_dict[\"Naive\"].append(coverage_treeval_naive)\n",
    "        length_dict[\"Naive\"].append(avg_len_treeval_naive)\n",
    "        MSE_dict[\"Naive\"].append(MSE_test_treeval)\n",
    "        coverage_dict[\"UV\"].append(np.mean(coverage_UV))\n",
    "        length_dict[\"UV\"].append(np.mean(len_UV))\n",
    "        MSE_dict[\"UV\"].append(MSE_UV)\n",
    "        \n",
    "    return coverage_dict, length_dict, MSE_dict"
   ],
   "metadata": {
    "collapsed": false,
    "ExecuteTime": {
     "end_time": "2024-10-30T02:01:43.057740Z",
     "start_time": "2024-10-30T02:01:43.051899Z"
    }
   },
   "id": "8b715a0214918be8"
  },
  {
   "cell_type": "code",
   "execution_count": 13,
   "outputs": [
    {
     "name": "stdout",
     "output_type": "stream",
     "text": [
      "0 th simulation\n",
      "1 th simulation\n",
      "2 th simulation\n",
      "3 th simulation\n",
      "4 th simulation\n",
      "5 th simulation\n",
      "6 th simulation\n",
      "7 th simulation\n",
      "8 th simulation\n",
      "9 th simulation\n",
      "10 th simulation\n",
      "11 th simulation\n",
      "12 th simulation\n",
      "13 th simulation\n",
      "14 th simulation\n",
      "15 th simulation\n",
      "16 th simulation\n",
      "17 th simulation\n",
      "18 th simulation\n",
      "19 th simulation\n",
      "20 th simulation\n",
      "21 th simulation\n",
      "22 th simulation\n",
      "23 th simulation\n",
      "24 th simulation\n",
      "25 th simulation\n",
      "26 th simulation\n",
      "27 th simulation\n",
      "28 th simulation\n",
      "29 th simulation\n"
     ]
    }
   ],
   "source": [
    "(coverage_dict, length_dict, MSE_dict) \\\n",
    "    = terminal_inference_sim(start=0, end=30, n=100, p=5, sd_y=2, \n",
    "                             noise_sd_list=[5, 10, 20], \n",
    "                             a=1,b=1, level=0.1)"
   ],
   "metadata": {
    "collapsed": false,
    "ExecuteTime": {
     "end_time": "2024-10-30T02:10:21.136617Z",
     "start_time": "2024-10-30T02:01:43.580421Z"
    }
   },
   "id": "84374f89cc216b20"
  },
  {
   "cell_type": "code",
   "execution_count": 14,
   "outputs": [],
   "source": [
    "noise_sd_list = [0.5, 1, 2, 5] + [\"Tree val\", \"Naive\"]"
   ],
   "metadata": {
    "collapsed": false,
    "ExecuteTime": {
     "end_time": "2024-10-30T02:10:46.642302Z",
     "start_time": "2024-10-30T02:10:46.627528Z"
    }
   },
   "id": "234165b0eb5b4a02"
  },
  {
   "cell_type": "code",
   "execution_count": 15,
   "outputs": [
    {
     "data": {
      "text/plain": "({5: [np.float64(0.7142857142857143),\n   np.float64(0.8571428571428571),\n   np.float64(1.0),\n   np.float64(0.75),\n   np.float64(0.6666666666666666),\n   np.float64(1.0),\n   np.float64(0.5),\n   np.float64(1.0),\n   np.float64(0.875),\n   np.float64(1.0),\n   np.float64(0.8571428571428571),\n   np.float64(0.8571428571428571),\n   np.float64(0.625),\n   np.float64(1.0),\n   np.float64(0.8333333333333334),\n   np.float64(0.8571428571428571),\n   np.float64(1.0),\n   np.float64(0.75),\n   np.float64(0.7142857142857143),\n   np.float64(0.7142857142857143),\n   np.float64(0.7142857142857143),\n   np.float64(0.8571428571428571),\n   np.float64(1.0),\n   np.float64(0.5714285714285714),\n   np.float64(1.0),\n   np.float64(0.6666666666666666),\n   np.float64(1.0),\n   np.float64(1.0),\n   np.float64(0.7142857142857143),\n   np.float64(0.875)],\n  10: [np.float64(0.8571428571428571),\n   np.float64(0.8333333333333334),\n   np.float64(0.875),\n   np.float64(0.6),\n   np.float64(0.875),\n   np.float64(0.8571428571428571),\n   np.float64(0.7142857142857143),\n   np.float64(0.8333333333333334),\n   np.float64(0.875),\n   np.float64(0.8571428571428571),\n   np.float64(0.6666666666666666),\n   np.float64(0.875),\n   np.float64(0.8571428571428571),\n   np.float64(0.875),\n   np.float64(0.8571428571428571),\n   np.float64(0.75),\n   np.float64(0.6666666666666666),\n   np.float64(0.75),\n   np.float64(1.0),\n   np.float64(0.8571428571428571),\n   np.float64(0.8571428571428571),\n   np.float64(0.875),\n   np.float64(0.7142857142857143),\n   np.float64(1.0),\n   np.float64(0.8571428571428571),\n   np.float64(1.0),\n   np.float64(1.0),\n   np.float64(1.0),\n   np.float64(0.75),\n   np.float64(0.8333333333333334)],\n  20: [np.float64(1.0),\n   np.float64(1.0),\n   np.float64(1.0),\n   np.float64(0.8),\n   np.float64(0.6666666666666666),\n   np.float64(1.0),\n   np.float64(0.875),\n   np.float64(0.7142857142857143),\n   np.float64(0.7142857142857143),\n   np.float64(0.8333333333333334),\n   np.float64(0.5),\n   np.float64(0.75),\n   np.float64(0.8333333333333334),\n   np.float64(0.8571428571428571),\n   np.float64(0.8571428571428571),\n   np.float64(0.8571428571428571),\n   np.float64(0.7142857142857143),\n   np.float64(0.5714285714285714),\n   np.float64(0.8571428571428571),\n   np.float64(0.8571428571428571),\n   np.float64(0.8571428571428571),\n   np.float64(0.8571428571428571),\n   np.float64(0.8333333333333334),\n   np.float64(1.0),\n   np.float64(0.6666666666666666),\n   np.float64(0.875),\n   np.float64(0.8571428571428571),\n   np.float64(1.0),\n   np.float64(0.8571428571428571),\n   np.float64(0.8333333333333334)],\n  'Tree val': [np.float64(1.0),\n   np.float64(1.0),\n   np.float64(1.0),\n   np.float64(1.0),\n   np.float64(1.0),\n   np.float64(0.5714285714285714),\n   np.float64(0.8571428571428571),\n   np.float64(1.0),\n   np.float64(0.875),\n   np.float64(1.0),\n   np.float64(1.0),\n   np.float64(0.6666666666666666),\n   np.float64(1.0),\n   np.float64(0.8571428571428571),\n   np.float64(1.0),\n   np.float64(1.0),\n   np.float64(1.0),\n   np.float64(0.7142857142857143),\n   np.float64(1.0),\n   np.float64(1.0),\n   np.float64(0.8571428571428571),\n   np.float64(1.0),\n   np.float64(1.0),\n   np.float64(0.8333333333333334),\n   np.float64(0.8571428571428571),\n   np.float64(0.6666666666666666),\n   np.float64(0.75),\n   np.float64(1.0),\n   np.float64(0.8571428571428571),\n   np.float64(0.7142857142857143)],\n  'Naive': [np.float64(0.3333333333333333),\n   np.float64(0.3333333333333333),\n   np.float64(0.42857142857142855),\n   np.float64(0.4),\n   np.float64(0.5714285714285714),\n   np.float64(0.5714285714285714),\n   np.float64(0.2857142857142857),\n   np.float64(0.3333333333333333),\n   np.float64(0.625),\n   np.float64(0.5),\n   np.float64(0.4),\n   np.float64(0.3333333333333333),\n   np.float64(0.625),\n   np.float64(0.5714285714285714),\n   np.float64(0.16666666666666666),\n   np.float64(0.3333333333333333),\n   np.float64(0.4),\n   np.float64(0.42857142857142855),\n   np.float64(0.75),\n   np.float64(0.5714285714285714),\n   np.float64(0.5714285714285714),\n   np.float64(0.5714285714285714),\n   np.float64(0.42857142857142855),\n   np.float64(0.5),\n   np.float64(0.5714285714285714),\n   np.float64(0.5),\n   np.float64(0.5),\n   np.float64(0.5),\n   np.float64(0.42857142857142855),\n   np.float64(0.5714285714285714)],\n  'UV': [np.float64(0.875),\n   np.float64(1.0),\n   np.float64(0.8571428571428571),\n   np.float64(1.0),\n   np.float64(0.8333333333333334),\n   np.float64(1.0),\n   np.float64(1.0),\n   np.float64(0.8571428571428571),\n   np.float64(0.8571428571428571),\n   np.float64(1.0),\n   np.float64(1.0),\n   np.float64(0.875),\n   np.float64(1.0),\n   np.float64(1.0),\n   np.float64(1.0),\n   np.float64(0.875),\n   np.float64(1.0),\n   np.float64(1.0),\n   np.float64(1.0),\n   np.float64(1.0),\n   np.float64(0.7142857142857143),\n   np.float64(0.8571428571428571),\n   np.float64(0.8571428571428571),\n   np.float64(1.0),\n   np.float64(1.0),\n   np.float64(1.0),\n   np.float64(0.75),\n   np.float64(0.875),\n   np.float64(1.0),\n   np.float64(1.0)]},\n {5: [np.float64(17.862426444481947),\n   np.float64(10.802656675043005),\n   np.float64(3.598366083607509),\n   np.float64(2.4712067828701603),\n   np.float64(2.326409369069729),\n   np.float64(2.9550699971380645),\n   np.float64(3.084883644957893),\n   np.float64(2.990593451345361),\n   np.float64(2.891189868486685),\n   np.float64(2.7572064623214065),\n   np.float64(62.88093178636069),\n   np.float64(3.5314914447551686),\n   np.float64(2.8835068147408363),\n   np.float64(3.085905188735141),\n   np.float64(9.528944063043326),\n   np.float64(3.0476669906862583),\n   np.float64(3.28472279322533),\n   np.float64(3.4332500245637236),\n   np.float64(2.833184713807848),\n   np.float64(3.1958368914451065),\n   np.float64(4.853763942099465),\n   np.float64(3.4512320619493058),\n   np.float64(6.824567357598158),\n   np.float64(5.748977657051597),\n   np.float64(2.2709044058768435),\n   np.float64(2.5042693608416347),\n   np.float64(3.2444643451246167),\n   np.float64(5.745314713287696),\n   np.float64(3.0624477188809034),\n   np.float64(3.1598433092422167)],\n  10: [np.float64(2.4826447149946036),\n   np.float64(5.114682629333619),\n   np.float64(2.4329966275926234),\n   np.float64(1.7655629649714952),\n   np.float64(2.506772013960719),\n   np.float64(3.3540911275142387),\n   np.float64(2.0878997779789197),\n   np.float64(1.903600092353375),\n   np.float64(2.3802313144964744),\n   np.float64(2.447427575823389),\n   np.float64(2.3398583740084695),\n   np.float64(2.4194469226544704),\n   np.float64(2.158186392526502),\n   np.float64(2.482780586785096),\n   np.float64(2.8591501031760385),\n   np.float64(28.500497895014096),\n   np.float64(2.286084307661813),\n   np.float64(2.28263590783698),\n   np.float64(2.4121548389433465),\n   np.float64(5.38251543107996),\n   np.float64(3.3385012331854034),\n   np.float64(2.5848913864394802),\n   np.float64(2.7048867075454246),\n   np.float64(70.20560033215652),\n   np.float64(3.013749415323184),\n   np.float64(2.275972528652264),\n   np.float64(2.81611465630514),\n   np.float64(3.040536464688355),\n   np.float64(3.545989502509684),\n   np.float64(2.073489214768625)],\n  20: [np.float64(5.100322518409483),\n   np.float64(2.3165486540402256),\n   np.float64(10.398039840939571),\n   np.float64(1.7593101900192376),\n   np.float64(1.8822743227683232),\n   np.float64(4.675680514999224),\n   np.float64(2.5028955277214013),\n   np.float64(5.22350453191397),\n   np.float64(2.4751424325651428),\n   np.float64(1.9271934608225614),\n   np.float64(1.965888431399783),\n   np.float64(4.685169486738182),\n   np.float64(2.74262777485414),\n   np.float64(2.1164373604545257),\n   np.float64(4.542682740566492),\n   np.float64(6.6010871595791745),\n   np.float64(88.03373097567587),\n   np.float64(5.542824639598805),\n   np.float64(4.856412850460598),\n   np.float64(2.0321806045032216),\n   np.float64(2.1580232166822704),\n   np.float64(3.7011178158927693),\n   np.float64(2.0980992872608564),\n   np.float64(2.672858340236995),\n   np.float64(2.0953785897350463),\n   np.float64(3.558770903137457),\n   np.float64(2.7594488438576255),\n   np.float64(4.003464396370205),\n   np.float64(2.247181002251303),\n   np.float64(1.796236324058005)],\n  'Tree val': [np.float64(6.429984395476887),\n   np.float64(32.366671558598306),\n   np.float64(11.802204537423616),\n   np.float64(16.425583475538573),\n   np.float64(15.732485455039589),\n   np.float64(55.846535675282375),\n   np.float64(23.301118139320756),\n   np.float64(9.718673733933795),\n   np.float64(10.248389419921761),\n   np.float64(16.506362911639933),\n   np.float64(16.641362329111594),\n   np.float64(2761.8326312834647),\n   np.float64(18.166940412074965),\n   np.float64(60.89646305170514),\n   np.float64(6.982313966371385),\n   np.float64(9.598241893037054),\n   np.float64(22.230670779921674),\n   np.float64(218.94490929050275),\n   np.float64(35.98049762993348),\n   np.float64(13.890646980676255),\n   np.float64(37.01148140907558),\n   np.float64(12.055967962230339),\n   np.float64(21.65020869822494),\n   np.float64(49.123005452898695),\n   np.float64(26.015630364501167),\n   np.float64(37.419657843470425),\n   np.float64(103.24496371595644),\n   np.float64(10.05531423211569),\n   np.float64(18.37385919921666),\n   np.float64(56.156990499872165)],\n  'Naive': [np.float64(2.0801190509538747),\n   np.float64(1.9467979790315022),\n   np.float64(1.9968748044323952),\n   np.float64(1.8445144071017772),\n   np.float64(2.032563192703074),\n   np.float64(2.101200130483069),\n   np.float64(2.1116962614029076),\n   np.float64(1.9688026453046266),\n   np.float64(1.94944085086347),\n   np.float64(1.919232095080188),\n   np.float64(1.801813192431153),\n   np.float64(1.8708631427677354),\n   np.float64(2.075113489049109),\n   np.float64(1.9881642105738269),\n   np.float64(1.9883544216361255),\n   np.float64(1.866562896016844),\n   np.float64(1.8946290216282258),\n   np.float64(2.084006229927062),\n   np.float64(2.2449106866997277),\n   np.float64(2.0242510588901466),\n   np.float64(1.8570688650741154),\n   np.float64(2.022279595301376),\n   np.float64(2.136492938229826),\n   np.float64(1.8760388314245198),\n   np.float64(2.012331272035332),\n   np.float64(1.8385489724134263),\n   np.float64(2.025838889009028),\n   np.float64(2.039350591463573),\n   np.float64(1.8542074300941722),\n   np.float64(1.8241117708820818)],\n  'UV': [np.float64(3.461271570776835),\n   np.float64(3.2202024316711153),\n   np.float64(3.3804823596533096),\n   np.float64(3.6838927538473136),\n   np.float64(3.3262629281365625),\n   np.float64(3.152584639648001),\n   np.float64(3.505578641877778),\n   np.float64(3.2448291046574487),\n   np.float64(3.43749205910015),\n   np.float64(3.091452970443026),\n   np.float64(3.265241835986193),\n   np.float64(3.3496391051501577),\n   np.float64(3.517445142072265),\n   np.float64(3.2049439996129636),\n   np.float64(3.416287852136044),\n   np.float64(3.4650241773077943),\n   np.float64(3.379291060673271),\n   np.float64(3.29488186024555),\n   np.float64(3.262695083829034),\n   np.float64(3.520178532566086),\n   np.float64(3.4233273931937047),\n   np.float64(3.4088220406581238),\n   np.float64(3.295331152201997),\n   np.float64(3.2067219883373306),\n   np.float64(3.0612453148149377),\n   np.float64(3.227684056774359),\n   np.float64(3.5835900280159496),\n   np.float64(3.4312870351627294),\n   np.float64(3.4053990532860867),\n   np.float64(3.441301942509784)]},\n {5: [np.float64(4.057980006005282),\n   np.float64(5.4700926625883985),\n   np.float64(5.922226520088727),\n   np.float64(7.502635513326367),\n   np.float64(5.741548654154244),\n   np.float64(5.955275530142916),\n   np.float64(3.6439168858264823),\n   np.float64(5.482076118975957),\n   np.float64(4.080962423109802),\n   np.float64(4.509556162895862),\n   np.float64(5.015861946735087),\n   np.float64(5.250226657932009),\n   np.float64(6.5420881835675395),\n   np.float64(3.7662751590770593),\n   np.float64(5.3381275557806624),\n   np.float64(5.030438354944999),\n   np.float64(5.240643204412793),\n   np.float64(4.5773581014135605),\n   np.float64(4.455061287550962),\n   np.float64(4.949830038940465),\n   np.float64(4.9505188858858595),\n   np.float64(5.016070953345467),\n   np.float64(5.8330206406633645),\n   np.float64(3.494092284769834),\n   np.float64(5.116608764436039),\n   np.float64(4.884727354002441),\n   np.float64(5.646507572730968),\n   np.float64(5.3052256586750035),\n   np.float64(5.415217871443506),\n   np.float64(5.016849251533075)],\n  10: [np.float64(3.7523193391141882),\n   np.float64(4.467680807043905),\n   np.float64(5.624782974142135),\n   np.float64(6.76536064695158),\n   np.float64(5.367072089770662),\n   np.float64(5.453347217754511),\n   np.float64(4.277114269959481),\n   np.float64(5.330676880778459),\n   np.float64(4.5131630846011435),\n   np.float64(4.454119768610971),\n   np.float64(4.817318018630926),\n   np.float64(4.2175560311192815),\n   np.float64(5.646487831954392),\n   np.float64(4.490623397720025),\n   np.float64(5.582376426129863),\n   np.float64(5.539770277944843),\n   np.float64(5.021819556768471),\n   np.float64(4.86366462417391),\n   np.float64(4.422511103696224),\n   np.float64(4.368836219927992),\n   np.float64(4.911690943025887),\n   np.float64(4.628819076460519),\n   np.float64(6.134964796343804),\n   np.float64(3.1413786534976045),\n   np.float64(4.600435496313418),\n   np.float64(4.291744776570393),\n   np.float64(5.27511808797742),\n   np.float64(4.966950041390016),\n   np.float64(4.462071911405903),\n   np.float64(4.439433684638345)],\n  20: [np.float64(3.290127030276576),\n   np.float64(4.439652896115402),\n   np.float64(4.801687935398095),\n   np.float64(6.963664648095132),\n   np.float64(5.594817868128814),\n   np.float64(6.1758882647787505),\n   np.float64(3.519004795475244),\n   np.float64(4.752364485878889),\n   np.float64(4.581522545394085),\n   np.float64(4.485342370236214),\n   np.float64(5.825702224130622),\n   np.float64(4.6062687847240875),\n   np.float64(5.138025433400379),\n   np.float64(4.136922732199273),\n   np.float64(5.200319453510268),\n   np.float64(5.670789009934321),\n   np.float64(5.184523390873158),\n   np.float64(4.7574844249009045),\n   np.float64(4.630934769716749),\n   np.float64(4.453146441386247),\n   np.float64(5.198667120132516),\n   np.float64(4.605165886239976),\n   np.float64(5.820518853106494),\n   np.float64(3.523521386893872),\n   np.float64(5.81925568379907),\n   np.float64(5.4789144134879795),\n   np.float64(5.011610059165537),\n   np.float64(4.989215911287229),\n   np.float64(4.637074152131067),\n   np.float64(5.265265402495766)],\n  'Tree val': [np.float64(4.648426540777198),\n   np.float64(6.0747877210333305),\n   np.float64(6.310323846557915),\n   np.float64(8.051589619594338),\n   np.float64(6.150252790380708),\n   np.float64(6.621219547983749),\n   np.float64(4.507204243777795),\n   np.float64(5.665993436784176),\n   np.float64(4.84354455037691),\n   np.float64(4.75164362520085),\n   np.float64(4.692163455341341),\n   np.float64(5.090023137303381),\n   np.float64(6.102494075568577),\n   np.float64(4.531420791947482),\n   np.float64(5.887708495562489),\n   np.float64(5.653929667200007),\n   np.float64(5.819449114343286),\n   np.float64(5.0574746156062025),\n   np.float64(4.20724153975864),\n   np.float64(5.168451289279184),\n   np.float64(5.149128138488072),\n   np.float64(4.544742809114381),\n   np.float64(5.764492402550926),\n   np.float64(3.8337421362173636),\n   np.float64(5.228685275498347),\n   np.float64(5.350418335910053),\n   np.float64(6.136930824694049),\n   np.float64(5.444157063505693),\n   np.float64(5.925706400576156),\n   np.float64(5.152557208613587)],\n  'Naive': [np.float64(4.648426540777198),\n   np.float64(6.0747877210333305),\n   np.float64(6.310323846557915),\n   np.float64(8.051589619594338),\n   np.float64(6.150252790380708),\n   np.float64(6.621219547983749),\n   np.float64(4.507204243777795),\n   np.float64(5.665993436784176),\n   np.float64(4.84354455037691),\n   np.float64(4.75164362520085),\n   np.float64(4.692163455341341),\n   np.float64(5.090023137303381),\n   np.float64(6.102494075568577),\n   np.float64(4.531420791947482),\n   np.float64(5.887708495562489),\n   np.float64(5.653929667200007),\n   np.float64(5.819449114343286),\n   np.float64(5.0574746156062025),\n   np.float64(4.20724153975864),\n   np.float64(5.168451289279184),\n   np.float64(5.149128138488072),\n   np.float64(4.544742809114381),\n   np.float64(5.764492402550926),\n   np.float64(3.8337421362173636),\n   np.float64(5.228685275498347),\n   np.float64(5.350418335910053),\n   np.float64(6.136930824694049),\n   np.float64(5.444157063505693),\n   np.float64(5.925706400576156),\n   np.float64(5.152557208613587)],\n  'UV': [np.float64(5.083438670199865),\n   np.float64(6.154497661994323),\n   np.float64(5.8788735193754205),\n   np.float64(7.092565033982246),\n   np.float64(5.697898050400126),\n   np.float64(6.035926943449624),\n   np.float64(5.306314424877224),\n   np.float64(7.123942452823509),\n   np.float64(5.587045711020802),\n   np.float64(6.040160064413674),\n   np.float64(5.633212279756731),\n   np.float64(4.283842114855548),\n   np.float64(7.5479446422763115),\n   np.float64(4.583293816286477),\n   np.float64(6.301951931192207),\n   np.float64(6.5698111974484625),\n   np.float64(5.934444767534578),\n   np.float64(5.191654555687231),\n   np.float64(5.337157956805572),\n   np.float64(5.549431665424968),\n   np.float64(6.572474377014303),\n   np.float64(5.618591725949552),\n   np.float64(6.2829762879160125),\n   np.float64(4.148679267939696),\n   np.float64(7.297725821814515),\n   np.float64(4.957616536674694),\n   np.float64(6.45892042143376),\n   np.float64(4.951373377040236),\n   np.float64(5.3541029674003076),\n   np.float64(6.034353398179563)]})"
     },
     "execution_count": 15,
     "metadata": {},
     "output_type": "execute_result"
    }
   ],
   "source": [
    "coverage_dict, length_dict, MSE_dict"
   ],
   "metadata": {
    "collapsed": false,
    "ExecuteTime": {
     "end_time": "2024-10-30T02:10:46.890685Z",
     "start_time": "2024-10-30T02:10:46.884764Z"
    }
   },
   "id": "d49f532402ac942a"
  },
  {
   "cell_type": "code",
   "execution_count": 16,
   "outputs": [
    {
     "data": {
      "text/plain": "[0.5, 1, 2, 5, 'Tree val', 'Naive']"
     },
     "execution_count": 16,
     "metadata": {},
     "output_type": "execute_result"
    }
   ],
   "source": [
    "noise_sd_list"
   ],
   "metadata": {
    "collapsed": false,
    "ExecuteTime": {
     "end_time": "2024-10-30T02:10:47.070842Z",
     "start_time": "2024-10-30T02:10:47.068432Z"
    }
   },
   "id": "f5a3cd1adf4fab3e"
  },
  {
   "cell_type": "code",
   "execution_count": 16,
   "outputs": [],
   "source": [],
   "metadata": {
    "collapsed": false,
    "ExecuteTime": {
     "end_time": "2024-10-30T02:10:47.263805Z",
     "start_time": "2024-10-30T02:10:47.257991Z"
    }
   },
   "id": "bce0a5016022c22b"
  },
  {
   "cell_type": "code",
   "execution_count": 17,
   "outputs": [],
   "source": [
    "import seaborn as sns\n",
    "def boxplots(dfs, metrics):\n",
    "    # Set up the subplots: one for each metric\n",
    "    fig, axes = plt.subplots(1, 3, figsize=(15, 6))\n",
    "    \n",
    "    # Iterate over the dataframes and create a boxplot for each\n",
    "    for i, (df, metric) in enumerate(zip(dfs, metrics)):\n",
    "        sns.boxplot(data=df, ax=axes[i])\n",
    "        axes[i].set_title(f'Boxplot for {metric}')\n",
    "        axes[i].set_xlabel('Method')\n",
    "        axes[i].set_ylabel('Value')\n",
    "        # Add triangles for the mean values\n",
    "        means = df.mean()  # Calculate mean for each method (column)\n",
    "        print(metric,\":\\n\",means.T)\n",
    "        for j, mean in enumerate(means):\n",
    "            axes[i].plot(j, mean, marker='^', color='red', markersize=10)  # Add a red triangle for the mean\n",
    "        if metric == \"Coverage\":\n",
    "            axes[i].set_ylim(0,1)\n",
    "        elif metric == \"Length\":\n",
    "            axes[i].set_ylim(0,100)\n",
    "        elif metric == \"MSE\":\n",
    "            axes[i].set_ylim(0,18)\n",
    "    \n",
    "    # Show the plots\n",
    "    plt.tight_layout()\n",
    "    plt.show()"
   ],
   "metadata": {
    "collapsed": false,
    "ExecuteTime": {
     "end_time": "2024-10-30T02:10:47.524689Z",
     "start_time": "2024-10-30T02:10:47.520324Z"
    }
   },
   "id": "5068cbe9df1c79f2"
  },
  {
   "cell_type": "code",
   "execution_count": 18,
   "outputs": [
    {
     "name": "stdout",
     "output_type": "stream",
     "text": [
      "Coverage :\n",
      " 5           0.832341\n",
      "10          0.840635\n",
      "20          0.829841\n",
      "Tree val    0.902579\n",
      "Naive       0.470159\n",
      "UV          0.936111\n",
      "dtype: float64\n",
      "Length :\n",
      " 5             6.343708\n",
      "10            5.839965\n",
      "20            6.282351\n",
      "Tree val    124.488326\n",
      "Naive         1.975873\n",
      "UV            3.355480\n",
      "dtype: float64\n",
      "MSE :\n",
      " 5           5.107034\n",
      "10          4.860974\n",
      "20          4.951913\n",
      "Tree val    5.412197\n",
      "Naive       5.412197\n",
      "UV          5.820341\n",
      "dtype: float64\n"
     ]
    },
    {
     "data": {
      "text/plain": "<Figure size 1500x600 with 3 Axes>",
      "image/png": "[encoded data removed]"
     },
     "metadata": {},
     "output_type": "display_data"
    }
   ],
   "source": [
    "import pandas as pd\n",
    "boxplots(dfs=[pd.DataFrame(coverage_dict), \n",
    "              pd.DataFrame(length_dict), \n",
    "              pd.DataFrame(MSE_dict)], \n",
    "         metrics=[\"Coverage\", \"Length\", \"MSE\"])"
   ],
   "metadata": {
    "collapsed": false,
    "ExecuteTime": {
     "end_time": "2024-10-30T02:10:48.084994Z",
     "start_time": "2024-10-30T02:10:47.726744Z"
    }
   },
   "id": "f6b2b82fc19184ea"
  },
  {
   "cell_type": "code",
   "execution_count": null,
   "outputs": [],
   "source": [],
   "metadata": {
    "collapsed": false
   },
   "id": "5d1c10df63cfec09"
  }
 ],
 "metadata": {
  "kernelspec": {
   "display_name": "Python 3",
   "language": "python",
   "name": "python3"
  },
  "language_info": {
   "codemirror_mode": {
    "name": "ipython",
    "version": 2
   },
   "file_extension": ".py",
   "mimetype": "text/x-python",
   "name": "python",
   "nbconvert_exporter": "python",
   "pygments_lexer": "ipython2",
   "version": "2.7.6"
  }
 },
 "nbformat": 4,
 "nbformat_minor": 5
}
