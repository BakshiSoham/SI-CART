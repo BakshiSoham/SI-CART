{
 "cells": [
  {
   "cell_type": "code",
   "execution_count": 1,
   "id": "initial_id",
   "metadata": {
    "collapsed": true,
    "ExecuteTime": {
     "end_time": "2024-10-25T12:50:32.385950Z",
     "start_time": "2024-10-25T12:50:29.822367Z"
    }
   },
   "outputs": [],
   "source": [
    "import time\n",
    "\n",
    "import numpy as np\n",
    "import pandas as pd\n",
    "\n",
    "from Utils.discrete_family import discrete_family\n",
    "from Utils.barrier_affine import solve_barrier_tree, solve_barrier_tree_nonneg, solve_barrier_tree_box_PGD\n",
    "from CART import RegressionTree\n",
    "from scipy.interpolate import interp1d\n",
    "from scipy.stats import multivariate_normal as mvn\n",
    "from Utils.plotting import  *\n",
    "from Utils.simulation_helpers import *\n",
    "from scipy.stats import norm as ndist\n",
    "\n",
    "# For tree-values\n",
    "import rpy2.robjects.packages as rpackages\n",
    "from rpy2.robjects.vectors import StrVector\n",
    "\n",
    "# Select a CRAN mirror to download from\n",
    "utils = rpackages.importr('utils')\n",
    "utils.chooseCRANmirror(ind=1)  # Select the first mirror\n",
    "\n",
    "# Install 'remotes' if it's not already installed\n",
    "if not rpackages.isinstalled('remotes'):\n",
    "    utils.install_packages(StrVector(('remotes',)))\n",
    "\n",
    "import rpy2.robjects as ro\n",
    "\n",
    "from rpy2.robjects.packages import importr\n",
    "from rpy2.robjects import pandas2ri\n",
    "from rpy2.robjects import numpy2ri\n",
    "%load_ext rpy2.ipython"
   ]
  },
  {
   "cell_type": "markdown",
   "source": [
    "# Main ideas\n",
    "1. Generate data from the tree-values setting:\n",
    "> We simulate $X \\in \\mathbb{R}^{n \\times p}$ with $n=200, p=10, X_{i j} \\stackrel{i . i . d .}{\\sim} N(0,1)$, and $y \\sim N_n\\left(\\mu, \\sigma^2 I_n\\right)$ with $\\sigma=5$ and $\\mu_i=b \\times\\left[1_{\\left(x_{i, 1} \\leq 0\\right)} \\times\\left\\{1+a 1_{\\left(x_{i, 2}>0\\right)}+1_{\\left(x_{i, 3} \\times x_{i, 2}>0\\right)}\\right\\}\\right]$. \n",
    "2. Fix a maximum depth $max\\_depth$, e.g. $5$.\n",
    "3. Use naive inference, tree-values, and our proposed method to fit the tree.\n",
    "4. Coverage rate comparison: compare the average coverage rate over CIs for terminal nodes in each simulation.\n",
    "5. Average length comparison: compare the average CIs lengths for terminal nodes in each simulation.\n",
    "6. Selection quality comparison: \n",
    "a. generate the same dataset with same $X, \\mu$ but new $\\epsilon$,\n",
    "b. generate new $X, \\mu$, \\epsilon$ using the same parameters,\n",
    "compare the MSE of fitted trees on this test set."
   ],
   "metadata": {
    "collapsed": false
   },
   "id": "a826a2a406801d23"
  },
  {
   "cell_type": "code",
   "execution_count": 2,
   "outputs": [],
   "source": [
    "# Activate automatic conversion between pandas and R data frames\n",
    "pandas2ri.activate()\n",
    "\n",
    "# Import R libraries\n",
    "treevalues = importr('treevalues')\n",
    "rpart = importr('rpart')\n",
    "\n",
    "def tree_values_inference(X, y, mu, sd_y, max_depth=5, level=0.1,\n",
    "                          X_test=None):\n",
    "    # Convert the NumPy matrix to an R matrix\n",
    "    X_r = numpy2ri.py2rpy(X)\n",
    "    y_r = numpy2ri.py2rpy(y)\n",
    "    \n",
    "    # Assign the R matrix to a variable in the R environment (optional)\n",
    "    ro.globalenv['X_r'] = X_r\n",
    "    ro.globalenv['y_r'] = y_r\n",
    "    ro.globalenv['p'] = X.shape[1]\n",
    "    \n",
    "    # Construct dataset\n",
    "    ro.r('data <- cbind(y_r, X_r)')\n",
    "    # Set the column names to \"y\", \"x1\", \"x2\", ..., \"x10\"\n",
    "    ro.r('colnames(data) <- c(\"y\", paste0(\"x\", 1:p))')\n",
    "    ro.r('data = data.frame(data)')\n",
    "    \n",
    "    # Define the rpart tree model\n",
    "    tree_cmd = 'bls.tree <- rpart(y ~ ., data=data, model = TRUE, cp=0.00, maxdepth=' + str(max_depth) + ')'\n",
    "    ro.r(tree_cmd)\n",
    "    bls_tree = ro.r('bls.tree')\n",
    "    # Plot the tree values (this will plot directly if you have a plotting backend set up)\n",
    "    #ro.r('treeval.plot(bls.tree, inferenceType=0)')\n",
    "    \n",
    "    #ro.r('print(row.names(bls.tree$frame)[bls.tree$frame$var == \"<leaf>\"])')\n",
    "    ro.r('leaf_idx <- (row.names(bls.tree$frame)[bls.tree$frame$var == \"<leaf>\"])')\n",
    "    leaf_idx = ro.r['leaf_idx']\n",
    "    \n",
    "    # Get node mapping\n",
    "    ro.r('idx_full <- 1:nrow(bls.tree$frame)')\n",
    "    ro.r('mapped_idx <- idx_full[bls.tree$frame$var == \"<leaf>\"]')\n",
    "    \n",
    "    len = []\n",
    "    coverage = []\n",
    "    len_naive = []\n",
    "    coverage_naive = []\n",
    "    \n",
    "    for i,idx in enumerate(leaf_idx):\n",
    "        # Get the branch information for a specific branch in the tree\n",
    "        command = 'branch <- getBranch(bls.tree, ' + str(idx) + ')'\n",
    "        ro.r(command)\n",
    "        # Perform branch inference\n",
    "        ro.r('result <- branchInference(bls.tree, branch, type=\"reg\", alpha = 0.10)')\n",
    "        # Get confidence intervals\n",
    "        confint = ro.r('result$confint')\n",
    "        len.append(confint[1] - confint[0])\n",
    "    \n",
    "        target_cmd = \"contrast <- (bls.tree$where == mapped_idx[\" + str(i+1) + \"])\"\n",
    "        ro.r(target_cmd)\n",
    "        contrast = ro.r('contrast')\n",
    "        contrast = np.array(contrast)\n",
    "        \n",
    "        contrast = np.array(contrast * 1 / np.sum(contrast))\n",
    "        \n",
    "        target = contrast.dot(mu)\n",
    "        coverage.append(target >= confint[0] and target <= confint[1])\n",
    "        \n",
    "        # Naive after tree value\n",
    "        # Confidence intervals\n",
    "        naive_CI = [contrast.dot(y) - \n",
    "                    np.linalg.norm(contrast) * sd_y * ndist.ppf(1 - level / 2),\n",
    "                    contrast.dot(y) + \n",
    "                    np.linalg.norm(contrast) * sd_y * ndist.ppf(1 - level / 2)]\n",
    "        coverage_naive.append((target >= naive_CI[0] and target <= naive_CI[1]))\n",
    "        len_naive.append(naive_CI[1] - naive_CI[0])\n",
    "    \n",
    "    if X_test is not None:\n",
    "        X_test_r = numpy2ri.py2rpy(X_test)\n",
    "        ro.globalenv['X_test_r'] = X_test_r\n",
    "        ro.r('pred <- predict(bls.tree, data = X_test_r)')\n",
    "        pred = ro.r['pred']\n",
    "    else:\n",
    "        pred = None\n",
    "        \n",
    "    return (np.mean(coverage), np.mean(len), \n",
    "            np.mean(coverage_naive), np.mean(len_naive), pred) "
   ],
   "metadata": {
    "collapsed": false,
    "ExecuteTime": {
     "end_time": "2024-10-25T12:50:32.683266Z",
     "start_time": "2024-10-25T12:50:32.393324Z"
    }
   },
   "id": "4cd98f0c2b71ea1a"
  },
  {
   "cell_type": "code",
   "execution_count": 3,
   "outputs": [],
   "source": [
    "def generate_test(mu, sd_y):\n",
    "    n = mu.shape[0]\n",
    "    return mu + np.random.normal(size=(n,), scale=sd_y)"
   ],
   "metadata": {
    "collapsed": false,
    "ExecuteTime": {
     "end_time": "2024-10-25T12:50:32.689835Z",
     "start_time": "2024-10-25T12:50:32.684393Z"
    }
   },
   "id": "97816fc89d968b4b"
  },
  {
   "cell_type": "code",
   "execution_count": 4,
   "outputs": [],
   "source": [
    "def randomized_inference(reg_tree, sd_y, y, mu, level=0.1):\n",
    "    #print(reg_tree.terminal_nodes)\n",
    "    coverage_i = []\n",
    "    lengths_i = []\n",
    "    \n",
    "    for node in reg_tree.terminal_nodes:\n",
    "        pval, dist, contrast, norm_contrast, obs_tar, logW, suff, sel_probs \\\n",
    "            = (reg_tree.condl_node_inference(node=node, \n",
    "                                             ngrid=10000,\n",
    "                                             ncoarse=200,\n",
    "                                             grid_w_const=3,\n",
    "                                             reduced_dim=1,\n",
    "                                             sd=sd_y,\n",
    "                                             use_cvxpy=True))\n",
    "        target = contrast.dot(mu)\n",
    "        \n",
    "        # This is an interval for\n",
    "        # eta_*'mu = eta'mu / (norm(eta) * sd_y)\n",
    "        selective_CI = (dist.equal_tailed_interval(observed=norm_contrast.dot(y),\n",
    "                                                   alpha=level))\n",
    "        selective_CI = np.array(selective_CI)\n",
    "        selective_CI *= np.linalg.norm(contrast) * sd_y\n",
    "        coverage_i.append((target >= selective_CI[0] and target <= selective_CI[1]))\n",
    "        lengths_i.append(selective_CI[1] - selective_CI[0])\n",
    "        \n",
    "    return coverage_i, lengths_i"
   ],
   "metadata": {
    "collapsed": false,
    "ExecuteTime": {
     "end_time": "2024-10-25T12:50:32.691304Z",
     "start_time": "2024-10-25T12:50:32.688531Z"
    }
   },
   "id": "2971903d7397ed9c"
  },
  {
   "cell_type": "code",
   "execution_count": 5,
   "outputs": [],
   "source": [
    "def terminal_inference_sim(n = 50, p = 5, a = 0.1, b = 0.1, \n",
    "                           sd_y = 1, noise_sd_list = [0.5, 1, 2, 5], \n",
    "                           start=0, end=100,\n",
    "                           level=0.1):\n",
    "    coverage_dict = {m: [] for m in noise_sd_list + [\"Tree val\", \"Naive\"]}\n",
    "    length_dict = {m: [] for m in noise_sd_list + [\"Tree val\", \"Naive\"]}\n",
    "    MSE_dict = {m: [] for m in noise_sd_list + [\"Tree val\", \"Naive\"]}\n",
    "    \n",
    "    for i in range(start, end):\n",
    "        print(i, \"th simulation\")\n",
    "        np.random.seed(i + 48105)\n",
    "        X = np.random.normal(size=(n, p))\n",
    "\n",
    "        mu = b * ((X[:, 0] <= 0) * (1 + a * (X[:, 1] > 0) + (X[:, 2] * X[:, 1] <= 0)))\n",
    "        y = mu + np.random.normal(size=(n,), scale=sd_y)\n",
    "        y_test = generate_test(mu, sd_y)\n",
    "        \n",
    "        for noise_sd in noise_sd_list:\n",
    "            # Create and train the regression tree\n",
    "            reg_tree = RegressionTree(min_samples_split=10, max_depth=3,\n",
    "                                      min_proportion=0.1)\n",
    "            reg_tree.fit(X, y, sd = noise_sd * sd_y)\n",
    "            \n",
    "            coverage_i, lengths_i = randomized_inference(reg_tree=reg_tree, \n",
    "                                                         y=y, sd_y=sd_y, mu=mu, level=level)\n",
    "            pred_test = reg_tree.predict(X)\n",
    "            MSE_test = (np.mean((y_test - pred_test) ** 2))\n",
    "            # Record results\n",
    "            coverage_dict[noise_sd].append(np.mean(coverage_i))\n",
    "            length_dict[noise_sd].append(np.mean(lengths_i))\n",
    "            MSE_dict[noise_sd].append(MSE_test)\n",
    "        \n",
    "        # Tree value & naive inference & prediction\n",
    "        (coverage_treeval, avg_len_treeval, \n",
    "         coverage_treeval_naive, avg_len_treeval_naive,\n",
    "         pred_test_treeval) = tree_values_inference(X, y, mu, sd_y=sd_y, \n",
    "                                                    X_test=X, max_depth=2)\n",
    "\n",
    "        MSE_test_treeval = (np.mean((y_test - pred_test_treeval) ** 2))\n",
    "        coverage_dict[\"Tree val\"].append(coverage_treeval)\n",
    "        length_dict[\"Tree val\"].append(avg_len_treeval)\n",
    "        MSE_dict[\"Tree val\"].append(MSE_test_treeval)\n",
    "        coverage_dict[\"Naive\"].append(coverage_treeval_naive)\n",
    "        length_dict[\"Naive\"].append(avg_len_treeval_naive)\n",
    "        MSE_dict[\"Naive\"].append(MSE_test_treeval)\n",
    "        \n",
    "    return coverage_dict, length_dict, MSE_dict"
   ],
   "metadata": {
    "collapsed": false,
    "ExecuteTime": {
     "end_time": "2024-10-25T12:50:32.697779Z",
     "start_time": "2024-10-25T12:50:32.695450Z"
    }
   },
   "id": "8b715a0214918be8"
  },
  {
   "cell_type": "code",
   "execution_count": 7,
   "outputs": [
    {
     "name": "stdout",
     "output_type": "stream",
     "text": [
      "0 th simulation\n",
      "1 th simulation\n",
      "2 th simulation\n",
      "3 th simulation\n",
      "4 th simulation\n",
      "5 th simulation\n",
      "6 th simulation\n",
      "7 th simulation\n",
      "8 th simulation\n",
      "9 th simulation\n",
      "10 th simulation\n",
      "11 th simulation\n",
      "12 th simulation\n",
      "13 th simulation\n",
      "14 th simulation\n",
      "15 th simulation\n",
      "16 th simulation\n",
      "17 th simulation\n",
      "18 th simulation\n",
      "19 th simulation\n",
      "20 th simulation\n",
      "21 th simulation\n",
      "22 th simulation\n",
      "23 th simulation\n",
      "24 th simulation\n",
      "25 th simulation\n",
      "26 th simulation\n",
      "27 th simulation\n",
      "28 th simulation\n",
      "29 th simulation\n",
      "30 th simulation\n",
      "31 th simulation\n",
      "32 th simulation\n",
      "33 th simulation\n",
      "34 th simulation\n",
      "35 th simulation\n",
      "36 th simulation\n",
      "37 th simulation\n",
      "38 th simulation\n",
      "39 th simulation\n",
      "40 th simulation\n",
      "41 th simulation\n",
      "42 th simulation\n",
      "43 th simulation\n",
      "44 th simulation\n",
      "45 th simulation\n",
      "46 th simulation\n",
      "47 th simulation\n",
      "48 th simulation\n",
      "49 th simulation\n"
     ]
    }
   ],
   "source": [
    "(coverage_dict, length_dict, MSE_dict) \\\n",
    "    = terminal_inference_sim(start=0, end=50, n=100, p=5, sd_y=5, \n",
    "                             noise_sd_list=[10], \n",
    "                             a=1,b=1, level=0.1)"
   ],
   "metadata": {
    "collapsed": false,
    "ExecuteTime": {
     "end_time": "2024-10-25T13:17:43.011280Z",
     "start_time": "2024-10-25T12:51:49.084942Z"
    }
   },
   "id": "84374f89cc216b20"
  },
  {
   "cell_type": "code",
   "execution_count": 8,
   "outputs": [
    {
     "data": {
      "text/plain": "({10: [np.float64(0.625),\n   np.float64(0.7142857142857143),\n   np.float64(0.8571428571428571),\n   np.float64(0.5),\n   np.float64(1.0),\n   np.float64(0.75),\n   np.float64(0.6666666666666666),\n   np.float64(0.7142857142857143),\n   np.float64(0.625),\n   np.float64(0.625),\n   np.float64(0.7142857142857143),\n   np.float64(0.7142857142857143),\n   np.float64(0.7142857142857143),\n   np.float64(0.75),\n   np.float64(1.0),\n   np.float64(0.625),\n   np.float64(1.0),\n   np.float64(1.0),\n   np.float64(1.0),\n   np.float64(0.875),\n   np.float64(1.0),\n   np.float64(1.0),\n   np.float64(1.0),\n   np.float64(0.875),\n   np.float64(0.8333333333333334),\n   np.float64(0.8571428571428571),\n   np.float64(0.7142857142857143),\n   np.float64(0.7142857142857143),\n   np.float64(0.8571428571428571),\n   np.float64(0.5714285714285714),\n   np.float64(1.0),\n   np.float64(0.6666666666666666),\n   np.float64(0.8571428571428571),\n   np.float64(0.8571428571428571),\n   np.float64(0.75),\n   np.float64(1.0),\n   np.float64(0.75),\n   np.float64(0.875),\n   np.float64(1.0),\n   np.float64(0.8571428571428571),\n   np.float64(0.875),\n   np.float64(0.75),\n   np.float64(0.875),\n   np.float64(1.0),\n   np.float64(1.0),\n   np.float64(0.8333333333333334),\n   np.float64(0.875),\n   np.float64(0.8571428571428571),\n   np.float64(0.8333333333333334),\n   np.float64(1.0)],\n  'Tree val': [np.float64(1.0),\n   np.float64(0.6666666666666666),\n   np.float64(1.0),\n   np.float64(1.0),\n   np.float64(1.0),\n   np.float64(1.0),\n   np.float64(1.0),\n   np.float64(0.5),\n   np.float64(0.75),\n   np.float64(0.75),\n   np.float64(0.6666666666666666),\n   np.float64(1.0),\n   np.float64(1.0),\n   np.float64(1.0),\n   np.float64(1.0),\n   np.float64(1.0),\n   np.float64(1.0),\n   np.float64(1.0),\n   np.float64(1.0),\n   np.float64(1.0),\n   np.float64(1.0),\n   np.float64(1.0),\n   np.float64(1.0),\n   np.float64(0.75),\n   np.float64(1.0),\n   np.float64(1.0),\n   np.float64(0.3333333333333333),\n   np.float64(1.0),\n   np.float64(1.0),\n   np.float64(1.0),\n   np.float64(1.0),\n   np.float64(1.0),\n   np.float64(1.0),\n   np.float64(1.0),\n   np.float64(1.0),\n   np.float64(1.0),\n   np.float64(0.75),\n   np.float64(1.0),\n   np.float64(1.0),\n   np.float64(1.0),\n   np.float64(0.75),\n   np.float64(1.0),\n   np.float64(1.0),\n   np.float64(0.6666666666666666),\n   np.float64(1.0),\n   np.float64(1.0),\n   np.float64(0.75),\n   np.float64(1.0),\n   np.float64(1.0),\n   np.float64(1.0)],\n  'Naive': [np.float64(0.75),\n   np.float64(0.3333333333333333),\n   np.float64(0.75),\n   np.float64(0.3333333333333333),\n   np.float64(0.75),\n   np.float64(0.6666666666666666),\n   np.float64(0.6666666666666666),\n   np.float64(0.25),\n   np.float64(0.25),\n   np.float64(0.25),\n   np.float64(0.0),\n   np.float64(0.5),\n   np.float64(0.0),\n   np.float64(0.3333333333333333),\n   np.float64(0.3333333333333333),\n   np.float64(0.5),\n   np.float64(0.3333333333333333),\n   np.float64(0.5),\n   np.float64(0.5),\n   np.float64(0.5),\n   np.float64(0.75),\n   np.float64(0.3333333333333333),\n   np.float64(0.25),\n   np.float64(0.75),\n   np.float64(0.3333333333333333),\n   np.float64(0.6666666666666666),\n   np.float64(0.3333333333333333),\n   np.float64(0.3333333333333333),\n   np.float64(0.25),\n   np.float64(0.5),\n   np.float64(0.25),\n   np.float64(0.0),\n   np.float64(0.6666666666666666),\n   np.float64(0.5),\n   np.float64(0.5),\n   np.float64(0.5),\n   np.float64(0.25),\n   np.float64(0.5),\n   np.float64(0.5),\n   np.float64(0.3333333333333333),\n   np.float64(0.5),\n   np.float64(0.5),\n   np.float64(0.5),\n   np.float64(0.3333333333333333),\n   np.float64(0.6666666666666666),\n   np.float64(0.6666666666666666),\n   np.float64(0.75),\n   np.float64(0.0),\n   np.float64(0.5),\n   np.float64(0.25)]},\n {10: [np.float64(7.779594544428162),\n   np.float64(7.085807646119408),\n   np.float64(9.250142569195257),\n   np.float64(7.715944689151822),\n   np.float64(11.925710328461887),\n   np.float64(9.892186314131216),\n   np.float64(8.219284615739095),\n   np.float64(6.256436426760044),\n   np.float64(8.094381874015756),\n   np.float64(8.731912385019207),\n   np.float64(8.999697280003765),\n   np.float64(6.272413840743511),\n   np.float64(7.311275638363412),\n   np.float64(11.772978953604092),\n   np.float64(8.142600685424345),\n   np.float64(9.338544987896455),\n   np.float64(8.341282506100091),\n   np.float64(8.567472602505516),\n   np.float64(7.793886189934447),\n   np.float64(8.495368519568249),\n   np.float64(9.29113225743092),\n   np.float64(7.0821386849164725),\n   np.float64(7.386654299475763),\n   np.float64(28.5257002710006),\n   np.float64(8.18613016000962),\n   np.float64(13.102094110949187),\n   np.float64(16.9852815647326),\n   np.float64(7.642998251123082),\n   np.float64(8.602694862570642),\n   np.float64(7.265612530466263),\n   np.float64(8.915797714014856),\n   np.float64(6.68232618538471),\n   np.float64(11.206859871476949),\n   np.float64(8.09182577013397),\n   np.float64(34.431467283183885),\n   np.float64(7.253284092971295),\n   np.float64(9.183030415480173),\n   np.float64(8.29579148509936),\n   np.float64(7.7622538456448185),\n   np.float64(7.010015547407199),\n   np.float64(8.797259408490731),\n   np.float64(8.145542075240332),\n   np.float64(8.15557532326252),\n   np.float64(8.920696335647824),\n   np.float64(12.741419868452104),\n   np.float64(6.406898433015409),\n   np.float64(9.54339490609011),\n   np.float64(13.592222637998134),\n   np.float64(6.817383951798541),\n   np.float64(309.23067111730876)],\n  'Tree val': [np.float64(23.116894064928495),\n   np.float64(136.4840373938882),\n   np.float64(23.603416615574005),\n   np.float64(11.08424095582592),\n   np.float64(8.504490952807965),\n   np.float64(22.73805906816473),\n   np.float64(12.860730881225246),\n   np.float64(6.98888661577306),\n   np.float64(4.569867057169281),\n   np.float64(32.79410963017942),\n   np.float64(7.801196595788593),\n   np.float64(12.696735361544606),\n   np.float64(11.92960201774128),\n   np.float64(8.3075323367286),\n   np.float64(119.8473586967782),\n   np.float64(11.08258151083136),\n   np.float64(28.21837379798779),\n   np.float64(7.241251054783138),\n   np.float64(13.771500781437704),\n   np.float64(10.16718171543339),\n   np.float64(38.384595942563706),\n   np.float64(66.50109436445995),\n   np.float64(7.019225876668766),\n   np.float64(10.306784583318844),\n   np.float64(12.986525239635894),\n   np.float64(21.6665027932186),\n   np.float64(57.57836984175882),\n   np.float64(16.121163358680665),\n   np.float64(11.907890728013093),\n   np.float64(22.996275483489413),\n   np.float64(9.462684835400568),\n   np.float64(19.629524127424506),\n   np.float64(10.110003349328965),\n   np.float64(7.30649883937351),\n   np.float64(26.71128719079867),\n   np.float64(7.276054283294444),\n   np.float64(9.853373091625285),\n   np.float64(12.26733628277859),\n   np.float64(13.316188926490186),\n   np.float64(13.500498590003298),\n   np.float64(23.991330013488895),\n   np.float64(10.71791006929933),\n   np.float64(24.792927840752533),\n   np.float64(18.767345392650245),\n   np.float64(12.261336271748208),\n   np.float64(14.365886106516522),\n   np.float64(10.212293701081945),\n   np.float64(19.289344586781016),\n   np.float64(29.607892116257215),\n   np.float64(8.997745267084161)],\n  'Naive': [np.float64(3.9582927696359045),\n   np.float64(3.7316256773333216),\n   np.float64(3.914593843327743),\n   np.float64(4.605497454319987),\n   np.float64(4.077362766229138),\n   np.float64(3.753390954220151),\n   np.float64(4.06786036181671),\n   np.float64(4.099297771377038),\n   np.float64(3.5431771350991976),\n   np.float64(3.881050224287433),\n   np.float64(3.542073110139043),\n   np.float64(3.423229025386726),\n   np.float64(3.2639275827822476),\n   np.float64(3.68047743648263),\n   np.float64(3.969092852552324),\n   np.float64(4.083146510436407),\n   np.float64(3.901368387346281),\n   np.float64(3.8035411470694385),\n   np.float64(3.7275983885657764),\n   np.float64(3.499080185537353),\n   np.float64(3.78174636326108),\n   np.float64(4.108795377320498),\n   np.float64(3.863862763122014),\n   np.float64(4.092222782907251),\n   np.float64(3.3402570133909752),\n   np.float64(3.443411393351951),\n   np.float64(3.302167678184006),\n   np.float64(3.414489455995998),\n   np.float64(3.3669998874652176),\n   np.float64(3.8091957113165433),\n   np.float64(4.432794795432152),\n   np.float64(3.802733314933313),\n   np.float64(3.6067251434131578),\n   np.float64(3.4460830900321446),\n   np.float64(3.3669998874652176),\n   np.float64(3.7087743466341547),\n   np.float64(3.4374902248232497),\n   np.float64(3.9775169178076295),\n   np.float64(3.525087973330244),\n   np.float64(3.473655318973389),\n   np.float64(3.8093597133416313),\n   np.float64(3.9078187712634866),\n   np.float64(4.031615510734851),\n   np.float64(3.9013683873462814),\n   np.float64(3.2579399101808257),\n   np.float64(3.7010624833891845),\n   np.float64(3.5550420539769494),\n   np.float64(3.696399453133702),\n   np.float64(4.286482297882686),\n   np.float64(3.847107378596171)]},\n {10: [np.float64(29.627279894975196),\n   np.float64(34.64561916283244),\n   np.float64(39.437048611143744),\n   np.float64(48.40990436031949),\n   np.float64(32.305329511689514),\n   np.float64(39.19635140478268),\n   np.float64(26.606052221458977),\n   np.float64(29.79705064374905),\n   np.float64(28.15744908985357),\n   np.float64(29.305544217525277),\n   np.float64(36.787873778838836),\n   np.float64(33.38172644053645),\n   np.float64(38.22401041549417),\n   np.float64(24.18411709221719),\n   np.float64(36.292040245698246),\n   np.float64(35.493461667746615),\n   np.float64(30.836866199402753),\n   np.float64(38.83251619009845),\n   np.float64(27.088149235745753),\n   np.float64(34.50743326966731),\n   np.float64(31.71636548386462),\n   np.float64(28.971124674366774),\n   np.float64(33.16723886012326),\n   np.float64(23.820657872112005),\n   np.float64(33.04688644902447),\n   np.float64(30.267417362427786),\n   np.float64(30.816477932440158),\n   np.float64(26.72483907605963),\n   np.float64(30.950677955414704),\n   np.float64(33.37619421457166),\n   np.float64(28.04865210272107),\n   np.float64(41.81415168641066),\n   np.float64(25.07046672411937),\n   np.float64(29.49535928392406),\n   np.float64(35.134269345712454),\n   np.float64(35.117708915798026),\n   np.float64(31.08382285583968),\n   np.float64(28.94641389359934),\n   np.float64(29.152244959316846),\n   np.float64(33.4207398325903),\n   np.float64(32.072785115785244),\n   np.float64(30.255408398574737),\n   np.float64(29.740540371088677),\n   np.float64(27.902641743898194),\n   np.float64(25.33347948312948),\n   np.float64(18.889331858248436),\n   np.float64(28.127249048510443),\n   np.float64(32.518684821628355),\n   np.float64(30.229678675670435),\n   np.float64(36.88433478080951)],\n  'Tree val': [np.float64(23.32089624274209),\n   np.float64(27.362377665570552),\n   np.float64(32.25130300206977),\n   np.float64(42.13391181284332),\n   np.float64(35.15107134525169),\n   np.float64(34.995734082573364),\n   np.float64(24.671181554829708),\n   np.float64(29.86851030225484),\n   np.float64(26.026694837528822),\n   np.float64(25.85765647109406),\n   np.float64(26.281374805369314),\n   np.float64(26.49598742434549),\n   np.float64(34.36802723711297),\n   np.float64(26.53298313130815),\n   np.float64(35.523299598494624),\n   np.float64(33.723203557176305),\n   np.float64(29.50063911867586),\n   np.float64(32.78196461556521),\n   np.float64(28.731669651648826),\n   np.float64(29.175381932891955),\n   np.float64(27.40184264386492),\n   np.float64(30.278410279406856),\n   np.float64(33.470060181183406),\n   np.float64(22.297145121526228),\n   np.float64(30.456421340590374),\n   np.float64(27.401807967127546),\n   np.float64(29.19299610055201),\n   np.float64(30.32124845555028),\n   np.float64(31.713962857264406),\n   np.float64(34.812562171905824),\n   np.float64(31.057223567887405),\n   np.float64(34.783234130397794),\n   np.float64(26.253377222510238),\n   np.float64(27.05384437525707),\n   np.float64(32.56218829815348),\n   np.float64(32.834202483451634),\n   np.float64(29.60030876979248),\n   np.float64(27.36118556666825),\n   np.float64(25.513620490263353),\n   np.float64(29.38820842038475),\n   np.float64(30.98598653549532),\n   np.float64(31.035192125551326),\n   np.float64(28.114234978835476),\n   np.float64(26.601716330765488),\n   np.float64(22.021078140338787),\n   np.float64(19.570167662592606),\n   np.float64(27.143279234921216),\n   np.float64(30.53569932762709),\n   np.float64(29.99800231638204),\n   np.float64(34.82593999490352)],\n  'Naive': [np.float64(23.32089624274209),\n   np.float64(27.362377665570552),\n   np.float64(32.25130300206977),\n   np.float64(42.13391181284332),\n   np.float64(35.15107134525169),\n   np.float64(34.995734082573364),\n   np.float64(24.671181554829708),\n   np.float64(29.86851030225484),\n   np.float64(26.026694837528822),\n   np.float64(25.85765647109406),\n   np.float64(26.281374805369314),\n   np.float64(26.49598742434549),\n   np.float64(34.36802723711297),\n   np.float64(26.53298313130815),\n   np.float64(35.523299598494624),\n   np.float64(33.723203557176305),\n   np.float64(29.50063911867586),\n   np.float64(32.78196461556521),\n   np.float64(28.731669651648826),\n   np.float64(29.175381932891955),\n   np.float64(27.40184264386492),\n   np.float64(30.278410279406856),\n   np.float64(33.470060181183406),\n   np.float64(22.297145121526228),\n   np.float64(30.456421340590374),\n   np.float64(27.401807967127546),\n   np.float64(29.19299610055201),\n   np.float64(30.32124845555028),\n   np.float64(31.713962857264406),\n   np.float64(34.812562171905824),\n   np.float64(31.057223567887405),\n   np.float64(34.783234130397794),\n   np.float64(26.253377222510238),\n   np.float64(27.05384437525707),\n   np.float64(32.56218829815348),\n   np.float64(32.834202483451634),\n   np.float64(29.60030876979248),\n   np.float64(27.36118556666825),\n   np.float64(25.513620490263353),\n   np.float64(29.38820842038475),\n   np.float64(30.98598653549532),\n   np.float64(31.035192125551326),\n   np.float64(28.114234978835476),\n   np.float64(26.601716330765488),\n   np.float64(22.021078140338787),\n   np.float64(19.570167662592606),\n   np.float64(27.143279234921216),\n   np.float64(30.53569932762709),\n   np.float64(29.99800231638204),\n   np.float64(34.82593999490352)]})"
     },
     "execution_count": 8,
     "metadata": {},
     "output_type": "execute_result"
    }
   ],
   "source": [
    "coverage_dict, length_dict, MSE_dict"
   ],
   "metadata": {
    "collapsed": false,
    "ExecuteTime": {
     "end_time": "2024-10-25T13:17:44.205721Z",
     "start_time": "2024-10-25T13:17:44.196276Z"
    }
   },
   "id": "d49f532402ac942a"
  },
  {
   "cell_type": "code",
   "execution_count": 9,
   "outputs": [],
   "source": [
    "noise_sd_list = [0.5, 1, 2, 5] + [\"Tree val\", \"Naive\"]"
   ],
   "metadata": {
    "collapsed": false,
    "ExecuteTime": {
     "end_time": "2024-10-25T13:17:44.828241Z",
     "start_time": "2024-10-25T13:17:44.822920Z"
    }
   },
   "id": "234165b0eb5b4a02"
  },
  {
   "cell_type": "code",
   "execution_count": 10,
   "outputs": [
    {
     "data": {
      "text/plain": "[0.5, 1, 2, 5, 'Tree val', 'Naive']"
     },
     "execution_count": 10,
     "metadata": {},
     "output_type": "execute_result"
    }
   ],
   "source": [
    "noise_sd_list"
   ],
   "metadata": {
    "collapsed": false,
    "ExecuteTime": {
     "end_time": "2024-10-25T13:17:45.378048Z",
     "start_time": "2024-10-25T13:17:45.370234Z"
    }
   },
   "id": "f5a3cd1adf4fab3e"
  },
  {
   "cell_type": "code",
   "execution_count": 10,
   "outputs": [],
   "source": [],
   "metadata": {
    "collapsed": false,
    "ExecuteTime": {
     "end_time": "2024-10-25T13:17:46.014296Z",
     "start_time": "2024-10-25T13:17:46.007165Z"
    }
   },
   "id": "bce0a5016022c22b"
  },
  {
   "cell_type": "code",
   "execution_count": 11,
   "outputs": [],
   "source": [
    "import seaborn as sns\n",
    "def boxplots(dfs, metrics):\n",
    "    # Set up the subplots: one for each metric\n",
    "    fig, axes = plt.subplots(1, 3, figsize=(15, 6))\n",
    "    \n",
    "    # Iterate over the dataframes and create a boxplot for each\n",
    "    for i, (df, metric) in enumerate(zip(dfs, metrics)):\n",
    "        sns.boxplot(data=df, ax=axes[i])\n",
    "        axes[i].set_title(f'Boxplot for {metric}')\n",
    "        axes[i].set_xlabel('Method')\n",
    "        axes[i].set_ylabel('Value')\n",
    "        # Add triangles for the mean values\n",
    "        means = df.mean()  # Calculate mean for each method (column)\n",
    "        print(metric,\":\\n\",means.T)\n",
    "        for j, mean in enumerate(means):\n",
    "            axes[i].plot(j, mean, marker='^', color='red', markersize=10)  # Add a red triangle for the mean\n",
    "        if metric == \"Coverage\":\n",
    "            axes[i].set_ylim(0,1)\n",
    "        elif metric == \"Length\":\n",
    "            axes[i].set_ylim(0,100)\n",
    "        elif metric == \"MSE\":\n",
    "            axes[i].set_ylim(0,50)\n",
    "    \n",
    "    # Show the plots\n",
    "    plt.tight_layout()\n",
    "    plt.show()"
   ],
   "metadata": {
    "collapsed": false,
    "ExecuteTime": {
     "end_time": "2024-10-25T13:17:46.451678Z",
     "start_time": "2024-10-25T13:17:46.447997Z"
    }
   },
   "id": "5068cbe9df1c79f2"
  },
  {
   "cell_type": "code",
   "execution_count": 12,
   "outputs": [
    {
     "name": "stdout",
     "output_type": "stream",
     "text": [
      "Coverage :\n",
      " 10          0.828095\n",
      "Tree val    0.926667\n",
      "Naive       0.433333\n",
      "dtype: float64\n",
      "Length :\n",
      " 10          15.704822\n",
      "Tree val    21.634279\n",
      "Naive        3.756418\n",
      "dtype: float64\n",
      "MSE :\n",
      " 10          31.704233\n",
      "Tree val    29.586780\n",
      "Naive       29.586780\n",
      "dtype: float64\n"
     ]
    },
    {
     "data": {
      "text/plain": "<Figure size 1500x600 with 3 Axes>",
      "image/png": "[encoded data removed]"
     },
     "metadata": {},
     "output_type": "display_data"
    }
   ],
   "source": [
    "import pandas as pd\n",
    "boxplots(dfs=[pd.DataFrame(coverage_dict), \n",
    "              pd.DataFrame(length_dict), \n",
    "              pd.DataFrame(MSE_dict)], \n",
    "         metrics=[\"Coverage\", \"Length\", \"MSE\"])"
   ],
   "metadata": {
    "collapsed": false,
    "ExecuteTime": {
     "end_time": "2024-10-25T13:17:47.316335Z",
     "start_time": "2024-10-25T13:17:47.027191Z"
    }
   },
   "id": "f6b2b82fc19184ea"
  },
  {
   "cell_type": "code",
   "execution_count": null,
   "outputs": [],
   "source": [],
   "metadata": {
    "collapsed": false
   },
   "id": "5d1c10df63cfec09"
  }
 ],
 "metadata": {
  "kernelspec": {
   "display_name": "Python 3",
   "language": "python",
   "name": "python3"
  },
  "language_info": {
   "codemirror_mode": {
    "name": "ipython",
    "version": 2
   },
   "file_extension": ".py",
   "mimetype": "text/x-python",
   "name": "python",
   "nbconvert_exporter": "python",
   "pygments_lexer": "ipython2",
   "version": "2.7.6"
  }
 },
 "nbformat": 4,
 "nbformat_minor": 5
}
